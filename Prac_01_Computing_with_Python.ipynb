{
  "cells": [
    {
      "cell_type": "markdown",
      "metadata": {
        "colab_type": "text",
        "id": "view-in-github"
      },
      "source": [
        "<a href=\"https://colab.research.google.com/github/JuanZapa7a/AINavalEngineering/blob/main/Prac_01_Computing_with_Python.ipynb\" target=\"_parent\"><img src=\"https://colab.research.google.com/assets/colab-badge.svg\" alt=\"Open In Colab\"/></a>"
      ]
    },
    {
      "cell_type": "markdown",
      "metadata": {
        "id": "lW2nk0GN5xaq"
      },
      "source": [
        "# Chapter 1: Computing with Python"
      ]
    },
    {
      "cell_type": "markdown",
      "metadata": {
        "id": "vOn3DJSG5xar"
      },
      "source": [
        "This notebook are based on code provided by Robert Johansson - [Numerical Python - A Practical Techniques Approach for Industry](http://www.apress.com/9781484205549) (ISBN 978-1-484205-54-9)."
      ]
    },
    {
      "cell_type": "markdown",
      "metadata": {
        "id": "tDcKThbY5xar"
      },
      "source": [
        "## **Interpreter**\n",
        "\n",
        "The standard way to execute Python code is to run the program directly through the\n",
        "`Python interpreter`. On most systems, the Python interpreter is invoked using the python\n",
        "command. When a Python source file is passed as an argument to this command, the\n",
        "Python code in the file is executed."
      ]
    },
    {
      "cell_type": "markdown",
      "metadata": {
        "id": "3KOJsrmH5xar"
      },
      "source": [
        "**Explanation of the Code Cell**\n",
        "\n",
        "This code cell demonstrates how to create, write, and execute a Python script using Google Colab. Here's a breakdown of each command:\n",
        "```python\n",
        "%%writefile hello.py\n",
        "print(\"Hello from Python!\")\n",
        "\n",
        "!python hello.py\n",
        "\n",
        "!python --version\n",
        "\n",
        "```\n",
        "\n",
        "\n",
        "**1. `%%writefile hello.py`**\n",
        "- This is a **magic command** in Google Colab that creates a new file named `hello.py` and writes the following lines of code into it.  \n",
        "- The `%%writefile` command is specific to Jupyter Notebooks and Google Colab, allowing you to save code directly into a file.  \n",
        "- In this case, it creates a Python script named `hello.py` with the content:  \n",
        "  ```python\n",
        "  print(\"Hello from Python!\")"
      ]
    },
    {
      "cell_type": "markdown",
      "metadata": {
        "id": "8y96cb1u5xas"
      },
      "source": [
        "\n",
        "\n",
        "\n",
        "\n",
        "**2. `!python hello.py`**\n",
        "- The `!` symbol is used in Google Colab to execute **shell commands** directly from the notebook.  \n",
        "- This command runs the `hello.py` script using the Python interpreter.  \n",
        "- When executed, it prints the output:  \n",
        "  ```\n",
        "  Hello from Python!\n",
        "  ```\n",
        "\n"
      ]
    },
    {
      "cell_type": "markdown",
      "metadata": {
        "id": "DNZN28Py5xas"
      },
      "source": [
        "\n",
        "**3. `!python --version`**\n",
        "- This command checks the **version of Python** installed in the current environment.  \n",
        "- The `--version` flag is a standard Python command-line argument that displays the Python version.  \n",
        "- For example, it might output (depend on actual version):  \n",
        "  ```\n",
        "  Python 3.11.11\n",
        "  ```\n",
        "\n"
      ]
    },
    {
      "cell_type": "code",
      "execution_count": null,
      "metadata": {
        "colab": {
          "base_uri": "https://localhost:8080/"
        },
        "id": "FTnDC6hH5xas",
        "outputId": "d954f192-c9bf-4595-9f13-63784c188614"
      },
      "outputs": [
        {
          "name": "stdout",
          "output_type": "stream",
          "text": [
            "Overwriting hello.py\n"
          ]
        }
      ],
      "source": [
        "%%writefile hello.py\n",
        "print(\"Hello from Python!\")"
      ]
    },
    {
      "cell_type": "code",
      "execution_count": 2,
      "metadata": {
        "colab": {
          "base_uri": "https://localhost:8080/"
        },
        "id": "m3kgdayw5xas",
        "outputId": "0706761f-2804-4beb-95a8-132212124a7f"
      },
      "outputs": [
        {
          "name": "stdout",
          "output_type": "stream",
          "text": [
            "Hello from Python!\n"
          ]
        }
      ],
      "source": [
        "!python hello.py"
      ]
    },
    {
      "cell_type": "code",
      "execution_count": 3,
      "metadata": {
        "colab": {
          "base_uri": "https://localhost:8080/"
        },
        "id": "KMnA8ieT5xat",
        "outputId": "b753e18b-4afd-4e9c-f767-382e57f6cf38"
      },
      "outputs": [
        {
          "name": "stdout",
          "output_type": "stream",
          "text": [
            "Python 3.11.11\n"
          ]
        }
      ],
      "source": [
        "!python --version"
      ]
    },
    {
      "cell_type": "markdown",
      "metadata": {
        "id": "MgAw8JTR5xat"
      },
      "source": [
        "## Input and output caching\n",
        "\n",
        "In the IPython console (google colab code cell for us), the input prompt is denoted as `In [1]:` and the corresponding\n",
        "output is denoted as `Out [1]:`, where the numbers within the square brackets are\n",
        "incremented for each new input and output. These inputs and outputs are called cells in\n",
        "`IPython`. Both the input and the output of previous cells can later be accessed through the `In` and `Out` variables that are automatically created by IPython. The `In` and `Out`\n",
        "variables are a [list](https://www.geeksforgeeks.org/python-lists/) and a [dictionary](https://www.geeksforgeeks.org/python-dictionary/), respectively, that can be indexed with a cell number.\n",
        "For instance, consider the following IPython session:"
      ]
    },
    {
      "cell_type": "code",
      "execution_count": 4,
      "metadata": {
        "colab": {
          "base_uri": "https://localhost:8080/"
        },
        "id": "Qpipmusk5xat",
        "outputId": "01f20dc5-5e27-4ae0-d137-505319f58b67"
      },
      "outputs": [
        {
          "data": {
            "text/plain": [
              "9"
            ]
          },
          "execution_count": 4,
          "metadata": {},
          "output_type": "execute_result"
        }
      ],
      "source": [
        "3 * 3"
      ]
    },
    {
      "cell_type": "code",
      "execution_count": 6,
      "metadata": {
        "colab": {
          "base_uri": "https://localhost:8080/",
          "height": 35
        },
        "id": "Ki4g9NT85xat",
        "outputId": "8ac9b895-3e7d-4866-9fc2-23ebc67afb96"
      },
      "outputs": [
        {
          "data": {
            "application/vnd.google.colaboratory.intrinsic+json": {
              "type": "string"
            },
            "text/plain": [
              "'3 * 3'"
            ]
          },
          "execution_count": 6,
          "metadata": {},
          "output_type": "execute_result"
        }
      ],
      "source": [
        "In[4]"
      ]
    },
    {
      "cell_type": "code",
      "execution_count": 7,
      "metadata": {
        "colab": {
          "base_uri": "https://localhost:8080/"
        },
        "id": "N4i4Ri5X5xat",
        "outputId": "cc21a5fa-f9a0-4c9a-cc4d-dd9b4979e845"
      },
      "outputs": [
        {
          "data": {
            "text/plain": [
              "9"
            ]
          },
          "execution_count": 7,
          "metadata": {},
          "output_type": "execute_result"
        }
      ],
      "source": [
        "Out[4]"
      ]
    },
    {
      "cell_type": "code",
      "execution_count": null,
      "metadata": {
        "colab": {
          "base_uri": "https://localhost:8080/"
        },
        "id": "FnvcTYxR5xat",
        "outputId": "d4aa0ccf-9a18-435c-fb91-0fe89adadc20"
      },
      "outputs": [
        {
          "data": {
            "text/plain": [
              "['',\n",
              " 'get_ipython().run_cell_magic(\\'writefile\\', \\'hello.py\\', \\'print(\"Hello from Python!\")\\\\n\\')',\n",
              " 'get_ipython().run_cell_magic(\\'writefile\\', \\'hello.py\\', \\'print(\"Hello from Python!\")\\\\n\\')',\n",
              " \"get_ipython().system('python hello.py')\",\n",
              " \"get_ipython().system('python --version')\",\n",
              " \"get_ipython().system('python hello.py')\",\n",
              " '3 * 3',\n",
              " 'In[1]',\n",
              " 'In[6]',\n",
              " 'Out[6]',\n",
              " 'In']"
            ]
          },
          "execution_count": 10,
          "metadata": {},
          "output_type": "execute_result"
        }
      ],
      "source": [
        "In"
      ]
    },
    {
      "cell_type": "code",
      "execution_count": null,
      "metadata": {
        "colab": {
          "base_uri": "https://localhost:8080/"
        },
        "id": "d0GyNq9o5xat",
        "outputId": "f7d9a142-77ba-4624-9024-18d6dd58efb0"
      },
      "outputs": [
        {
          "data": {
            "text/plain": [
              "{6: 9,\n",
              " 7: 'get_ipython().run_cell_magic(\\'writefile\\', \\'hello.py\\', \\'print(\"Hello from Python!\")\\\\n\\')',\n",
              " 8: '3 * 3',\n",
              " 9: 9,\n",
              " 10: ['',\n",
              "  'get_ipython().run_cell_magic(\\'writefile\\', \\'hello.py\\', \\'print(\"Hello from Python!\")\\\\n\\')',\n",
              "  'get_ipython().run_cell_magic(\\'writefile\\', \\'hello.py\\', \\'print(\"Hello from Python!\")\\\\n\\')',\n",
              "  \"get_ipython().system('python hello.py')\",\n",
              "  \"get_ipython().system('python --version')\",\n",
              "  \"get_ipython().system('python hello.py')\",\n",
              "  '3 * 3',\n",
              "  'In[1]',\n",
              "  'In[6]',\n",
              "  'Out[6]',\n",
              "  'In',\n",
              "  'Out']}"
            ]
          },
          "execution_count": 11,
          "metadata": {},
          "output_type": "execute_result"
        }
      ],
      "source": [
        "Out"
      ]
    },
    {
      "cell_type": "markdown",
      "metadata": {
        "id": "Uc6FAyle-ZA5"
      },
      "source": [
        "The output can be suppressed by\n",
        "ending the statement with a semicolon:"
      ]
    },
    {
      "cell_type": "code",
      "execution_count": null,
      "metadata": {
        "colab": {
          "base_uri": "https://localhost:8080/"
        },
        "id": "KE4NABd85xat",
        "outputId": "e06a6d3a-5f3a-4e0e-c3da-0d726e72519d"
      },
      "outputs": [
        {
          "data": {
            "text/plain": [
              "3"
            ]
          },
          "execution_count": 12,
          "metadata": {},
          "output_type": "execute_result"
        }
      ],
      "source": [
        "1+2"
      ]
    },
    {
      "cell_type": "code",
      "execution_count": null,
      "metadata": {
        "id": "8oPAD98h5xat"
      },
      "outputs": [],
      "source": [
        "1+2;"
      ]
    },
    {
      "cell_type": "code",
      "execution_count": null,
      "metadata": {
        "id": "c9m5Q7hT5xat"
      },
      "outputs": [],
      "source": [
        "x = 1"
      ]
    },
    {
      "cell_type": "code",
      "execution_count": null,
      "metadata": {
        "colab": {
          "base_uri": "https://localhost:8080/"
        },
        "id": "M9gh87QR5xau",
        "outputId": "3c2bde2e-0a41-4333-b15c-9337bbf3ccd3"
      },
      "outputs": [
        {
          "data": {
            "text/plain": [
              "2"
            ]
          },
          "execution_count": 15,
          "metadata": {},
          "output_type": "execute_result"
        }
      ],
      "source": [
        "x = 2; x"
      ]
    },
    {
      "cell_type": "markdown",
      "metadata": {
        "id": "vYQEmo2p5xau"
      },
      "source": [
        "## Autocompletion and Object Introspection\n",
        "\n",
        "In IPython, pressing the `TAB key` activates **autocompletion**, which displays a list of\n",
        "symbols (variables, functions, classes, etc.) with names that are valid completions of\n",
        "what has already been typed. The autocompletion in IPython is contextual, and it will\n",
        "look for matching variables and functions in the current namespace or among the\n",
        "attributes and methods of a class when invoked after the name of a class instance."
      ]
    },
    {
      "cell_type": "code",
      "execution_count": null,
      "metadata": {
        "id": "lc3foHRb5xau"
      },
      "outputs": [],
      "source": [
        "import os"
      ]
    },
    {
      "cell_type": "code",
      "execution_count": null,
      "metadata": {
        "id": "_BlJ7X7b5xau"
      },
      "outputs": [],
      "source": [
        "# try os.w<TAB>\n"
      ]
    },
    {
      "cell_type": "markdown",
      "metadata": {
        "id": "ZisiBDoG_F-7"
      },
      "source": [
        "## Documentation\n",
        "\n",
        "Object introspection is convenient for exploring the API of a module and its member\n",
        "classes and functions, and together with the documentation strings, or “docstrings”, that\n",
        "are commonly provided in Python code, it provides a built-in dynamic reference manual\n",
        "for almost any Python module that is installed and can be imported. A Python object\n",
        "followed by a question mark displays the documentation string for the object. This is\n",
        "similar to the Python function help. An object can also be followed by two question\n",
        "marks, in which case IPython tries to display more detailed documentation, including\n",
        "the Python source code if available."
      ]
    },
    {
      "cell_type": "code",
      "execution_count": null,
      "metadata": {
        "id": "KNP5mYSa5xau"
      },
      "outputs": [],
      "source": [
        "import math"
      ]
    },
    {
      "cell_type": "code",
      "execution_count": null,
      "metadata": {
        "id": "fYgVs6Ho5xau"
      },
      "outputs": [],
      "source": [
        "math.cos?"
      ]
    },
    {
      "cell_type": "markdown",
      "metadata": {
        "id": "bXdau7r65xau"
      },
      "source": [
        "## Interaction with System Shell\n",
        "\n",
        "IPython also `provides extensions` to the Python language that makes it convenient\n",
        "to interact with the underlying system. Anything that follows an exclamation mark\n",
        "is evaluated using the system shell (such as bash shell). For example, on a UNIX-like\n",
        "system, such as Linux or Mac OS X, listing files in the current directory can be done using `ls`"
      ]
    },
    {
      "cell_type": "code",
      "execution_count": null,
      "metadata": {
        "id": "SNtUjd5d5xau"
      },
      "outputs": [],
      "source": [
        "# First write three .py files wuith using UNIX touch\n",
        "!touch file1.py file2.py file3.py"
      ]
    },
    {
      "cell_type": "code",
      "execution_count": null,
      "metadata": {
        "colab": {
          "base_uri": "https://localhost:8080/"
        },
        "id": "pjnYVnah5xau",
        "outputId": "57e05ef8-67b6-42ee-eea7-1283ace69e44"
      },
      "outputs": [
        {
          "name": "stdout",
          "output_type": "stream",
          "text": [
            "file1.py  file2.py  file3.py\n"
          ]
        }
      ],
      "source": [
        "!ls file*"
      ]
    },
    {
      "cell_type": "markdown",
      "metadata": {
        "id": "TvHj9QojA32g"
      },
      "source": [
        "On Microsoft Windows, the equivalent command would be `!dir`. This method for\n",
        "interacting with the OS is a very powerful feature that makes it easy to navigate the file\n",
        "system and to use the IPython console as a system shell. The output generated by a\n",
        "command following an exclamation mark can easily be captured in a Python variable."
      ]
    },
    {
      "cell_type": "code",
      "execution_count": null,
      "metadata": {
        "id": "lOhoTyXS5xau"
      },
      "outputs": [],
      "source": [
        "files = !ls file* # or files= !dir file*"
      ]
    },
    {
      "cell_type": "code",
      "execution_count": null,
      "metadata": {
        "colab": {
          "base_uri": "https://localhost:8080/"
        },
        "id": "DoS1zS5c5xau",
        "outputId": "1ecbecc8-3123-4635-ac2c-e9804cf17c50"
      },
      "outputs": [
        {
          "data": {
            "text/plain": [
              "1"
            ]
          },
          "execution_count": 27,
          "metadata": {},
          "output_type": "execute_result"
        }
      ],
      "source": [
        "len(files)"
      ]
    },
    {
      "cell_type": "code",
      "execution_count": null,
      "metadata": {
        "colab": {
          "base_uri": "https://localhost:8080/"
        },
        "id": "Dst8Tv5l5xau",
        "outputId": "05edeea4-3e08-41a5-ae68-6e4deacfbbf7"
      },
      "outputs": [
        {
          "data": {
            "text/plain": [
              "['file1.py  file2.py  file3.py']"
            ]
          },
          "execution_count": 28,
          "metadata": {},
          "output_type": "execute_result"
        }
      ],
      "source": [
        "files"
      ]
    },
    {
      "cell_type": "markdown",
      "metadata": {
        "id": "-b0NJ7V5BZ1s"
      },
      "source": [
        "Likewise, we can pass the values of Python variables to shell commands by prefixing\n",
        "the variable name with a `$ sign`:"
      ]
    },
    {
      "cell_type": "code",
      "execution_count": null,
      "metadata": {
        "id": "0w_7HINU5xau"
      },
      "outputs": [],
      "source": [
        "file = \"file1.py\""
      ]
    },
    {
      "cell_type": "code",
      "execution_count": null,
      "metadata": {
        "colab": {
          "base_uri": "https://localhost:8080/"
        },
        "id": "2W96JM6P5xau",
        "outputId": "a4fc0edd-c8d7-4273-f11c-620bd359b9e6"
      },
      "outputs": [
        {
          "name": "stdout",
          "output_type": "stream",
          "text": [
            "-rw-r--r-- 1 root root 0 Feb 12 16:32 file1.py\n"
          ]
        }
      ],
      "source": [
        "!ls -l $file"
      ]
    },
    {
      "cell_type": "markdown",
      "metadata": {
        "id": "TBK_LtI2Bpya"
      },
      "source": [
        "## IPython Extensions\n",
        "IPython provides extension commands that are called magic functions in IPython\n",
        "terminology. These commands all start with one or two `% signs`. `A single %` sign is used\n",
        "for one-line commands, and `two % signs` are used for commands that operate on cells\n",
        "(multiple lines). For a complete list of available extension commands, type `%lsmagic`,\n",
        "and the documentation for each command can be obtained by typing the magic\n",
        "command followed by a question mark `?`:"
      ]
    },
    {
      "cell_type": "code",
      "execution_count": null,
      "metadata": {
        "id": "Ghw-OIMfCG4b"
      },
      "outputs": [],
      "source": [
        "%lsmagic"
      ]
    },
    {
      "cell_type": "code",
      "execution_count": null,
      "metadata": {
        "id": "6laeq2gaCRKd"
      },
      "outputs": [],
      "source": [
        "%cp?"
      ]
    },
    {
      "cell_type": "markdown",
      "metadata": {
        "id": "U21zJgrr5xau"
      },
      "source": [
        "## Running scripts from the IPython console\n",
        "\n",
        "The command `%run` is an important and useful extension, perhaps one of the most\n",
        "important features of the IPython console. With this command, an external Python\n",
        "source code file can be executed within an interactive IPython session. Keeping a session\n",
        "active between multiple runs of a script makes it possible to explore the variables and\n",
        "functions defined in a script interactively after the execution of the script has finished.\n",
        "To demonstrate this functionality, consider a script file `fib.py` that contains the\n",
        "following code:"
      ]
    },
    {
      "cell_type": "code",
      "execution_count": null,
      "metadata": {
        "colab": {
          "base_uri": "https://localhost:8080/"
        },
        "id": "4pX2Yx9G5xau",
        "outputId": "a35261bf-31ad-4c9b-8116-0a8cbb3ae2af"
      },
      "outputs": [
        {
          "name": "stdout",
          "output_type": "stream",
          "text": [
            "Writing fib.py\n"
          ]
        }
      ],
      "source": [
        "%%writefile fib.py\n",
        "\n",
        "def fib(N):\n",
        "    \"\"\"\n",
        "    Return a list of the first N Fibonacci numbers.\n",
        "    \"\"\"\n",
        "    f0, f1 = 0, 1\n",
        "    f = [1] * N\n",
        "    for n in range(1, N):\n",
        "        f[n] = f0 + f1\n",
        "        f0, f1 = f1, f[n]\n",
        "\n",
        "    return f\n",
        "\n",
        "print(fib(10))"
      ]
    },
    {
      "cell_type": "markdown",
      "metadata": {
        "id": "d8imnmBeFCNO"
      },
      "source": [
        "It defines a function that generates a sequence of n Fibonacci numbers and prints\n",
        "the result for n = 10 to the standard output. It can be run from the system terminal using\n",
        "the `standard Python interpreter`:"
      ]
    },
    {
      "cell_type": "code",
      "execution_count": null,
      "metadata": {
        "colab": {
          "base_uri": "https://localhost:8080/"
        },
        "id": "J8r55RFY5xau",
        "outputId": "53248a4a-12a9-4eb1-874a-8db4bc164415"
      },
      "outputs": [
        {
          "name": "stdout",
          "output_type": "stream",
          "text": [
            "[1, 1, 2, 3, 5, 8, 13, 21, 34, 55]\n"
          ]
        }
      ],
      "source": [
        "!python fib.py"
      ]
    },
    {
      "cell_type": "markdown",
      "metadata": {
        "id": "uea9z5c_FScn"
      },
      "source": [
        "It can also be run from an `interactive IPython interpreter`, which produces the\n",
        "same output, but also `adds` the symbols defined in the file to the local namespace,\n",
        "so that the fib function is available in the interactive session after the `%run` command\n",
        "has been issued."
      ]
    },
    {
      "cell_type": "code",
      "execution_count": null,
      "metadata": {
        "colab": {
          "base_uri": "https://localhost:8080/"
        },
        "id": "kNx3q6PT5xav",
        "outputId": "6a60bfa3-ba37-422d-9376-ab7ba2a0140d"
      },
      "outputs": [
        {
          "name": "stdout",
          "output_type": "stream",
          "text": [
            "[1, 1, 2, 3, 5, 8, 13, 21, 34, 55]\n"
          ]
        }
      ],
      "source": [
        "%run fib.py"
      ]
    },
    {
      "cell_type": "code",
      "execution_count": null,
      "metadata": {
        "colab": {
          "base_uri": "https://localhost:8080/"
        },
        "id": "AWQUJBTH5xav",
        "outputId": "b8dbd926-aad2-4ee5-9c92-c6da766a626c"
      },
      "outputs": [
        {
          "data": {
            "text/plain": [
              "[1, 1, 2, 3, 5, 8, 13, 21, 34, 55, 89, 144, 233, 377, 610]"
            ]
          },
          "execution_count": 60,
          "metadata": {},
          "output_type": "execute_result"
        }
      ],
      "source": [
        "fib(15)"
      ]
    },
    {
      "cell_type": "markdown",
      "metadata": {
        "id": "hBRa-bAqF3NM"
      },
      "source": [
        "We also made use of the `%who` command, which lists\n",
        "all defined symbols (variables and functions). The `%whos` command is similar, but\n",
        "also gives more detailed information about the type and value of each symbol, when\n",
        "applicable."
      ]
    },
    {
      "cell_type": "code",
      "execution_count": null,
      "metadata": {
        "colab": {
          "base_uri": "https://localhost:8080/"
        },
        "id": "b2rVorFhF8b4",
        "outputId": "be03d5bf-4cfe-4419-b8d3-603d3c0d4246"
      },
      "outputs": [
        {
          "name": "stdout",
          "output_type": "stream",
          "text": [
            "fib\t file\t files\t math\t os\t x\t \n"
          ]
        }
      ],
      "source": [
        "%who"
      ]
    },
    {
      "cell_type": "code",
      "execution_count": null,
      "metadata": {
        "colab": {
          "base_uri": "https://localhost:8080/"
        },
        "id": "mDytr5zaGKkX",
        "outputId": "54032970-b637-4556-d035-5c9244bb6317"
      },
      "outputs": [
        {
          "name": "stdout",
          "output_type": "stream",
          "text": [
            "Variable   Type        Data/Info\n",
            "--------------------------------\n",
            "fib        function    <function fib at 0x79456e563c40>\n",
            "file       str         file1.py\n",
            "files      SList       ['file1.py  file2.py  file3.py']\n",
            "math       module      <module 'math' (built-in)>\n",
            "os         module      <module 'os' (frozen)>\n",
            "x          int         2\n"
          ]
        }
      ],
      "source": [
        "%whos"
      ]
    },
    {
      "cell_type": "markdown",
      "metadata": {
        "id": "QTw6Vs2n5xav"
      },
      "source": [
        "## Debugger"
      ]
    },
    {
      "cell_type": "markdown",
      "metadata": {
        "id": "arIF5y0VGU-O"
      },
      "source": [
        "IPython includes a handy debugger mode, which can be invoked postmortem after\n",
        "a Python exception (error) has been raised. After the traceback of an unintercepted\n",
        "exception has been printed to the IPython console, it is possible to step directly into the\n",
        "Python debugger using the IPython command %debug. This possibility can eliminate\n",
        "the need to rerun the program from the beginning using the debugger or after having\n",
        "employed the common debugging method of sprinkling print statements into the code.\n",
        "If the exception was unexpected and happened late in a time-consuming computation,\n",
        "this can be a big time-saver."
      ]
    },
    {
      "cell_type": "code",
      "execution_count": null,
      "metadata": {
        "colab": {
          "base_uri": "https://localhost:8080/",
          "height": 280
        },
        "id": "nvxtjHlF5xav",
        "outputId": "95e45007-ee74-4e62-cdf0-1edd44f4fd83"
      },
      "outputs": [
        {
          "ename": "TypeError",
          "evalue": "can't multiply sequence by non-int of type 'float'",
          "output_type": "error",
          "traceback": [
            "\u001b[0;31m---------------------------------------------------------------------------\u001b[0m",
            "\u001b[0;31mTypeError\u001b[0m                                 Traceback (most recent call last)",
            "\u001b[0;32m<ipython-input-63-5697359205dc>\u001b[0m in \u001b[0;36m<cell line: 0>\u001b[0;34m()\u001b[0m\n\u001b[1;32m      1\u001b[0m \u001b[0;31m# This sentence is incorrect because fib expects an integer\u001b[0m\u001b[0;34m\u001b[0m\u001b[0;34m\u001b[0m\u001b[0m\n\u001b[0;32m----> 2\u001b[0;31m \u001b[0mfib\u001b[0m\u001b[0;34m(\u001b[0m\u001b[0;36m1.0\u001b[0m\u001b[0;34m)\u001b[0m\u001b[0;34m\u001b[0m\u001b[0;34m\u001b[0m\u001b[0m\n\u001b[0m",
            "\u001b[0;32m/content/fib.py\u001b[0m in \u001b[0;36mfib\u001b[0;34m(N)\u001b[0m\n\u001b[1;32m      5\u001b[0m     \"\"\" \n\u001b[1;32m      6\u001b[0m     \u001b[0mf0\u001b[0m\u001b[0;34m,\u001b[0m \u001b[0mf1\u001b[0m \u001b[0;34m=\u001b[0m \u001b[0;36m0\u001b[0m\u001b[0;34m,\u001b[0m \u001b[0;36m1\u001b[0m\u001b[0;34m\u001b[0m\u001b[0;34m\u001b[0m\u001b[0m\n\u001b[0;32m----> 7\u001b[0;31m     \u001b[0mf\u001b[0m \u001b[0;34m=\u001b[0m \u001b[0;34m[\u001b[0m\u001b[0;36m1\u001b[0m\u001b[0;34m]\u001b[0m \u001b[0;34m*\u001b[0m \u001b[0mN\u001b[0m\u001b[0;34m\u001b[0m\u001b[0;34m\u001b[0m\u001b[0m\n\u001b[0m\u001b[1;32m      8\u001b[0m     \u001b[0;32mfor\u001b[0m \u001b[0mn\u001b[0m \u001b[0;32min\u001b[0m \u001b[0mrange\u001b[0m\u001b[0;34m(\u001b[0m\u001b[0;36m1\u001b[0m\u001b[0;34m,\u001b[0m \u001b[0mN\u001b[0m\u001b[0;34m)\u001b[0m\u001b[0;34m:\u001b[0m\u001b[0;34m\u001b[0m\u001b[0;34m\u001b[0m\u001b[0m\n\u001b[1;32m      9\u001b[0m         \u001b[0mf\u001b[0m\u001b[0;34m[\u001b[0m\u001b[0mn\u001b[0m\u001b[0;34m]\u001b[0m \u001b[0;34m=\u001b[0m \u001b[0mf0\u001b[0m \u001b[0;34m+\u001b[0m \u001b[0mf1\u001b[0m\u001b[0;34m\u001b[0m\u001b[0;34m\u001b[0m\u001b[0m\n",
            "\u001b[0;31mTypeError\u001b[0m: can't multiply sequence by non-int of type 'float'"
          ]
        }
      ],
      "source": [
        "# This sentence is incorrect because fib expects an integer\n",
        "fib(1.0)"
      ]
    },
    {
      "cell_type": "markdown",
      "metadata": {
        "id": "Cy5ap_f8HFfQ"
      },
      "source": [
        "On line 7 the code runs into a type error, and the Python\n",
        "interpreter raises an exception of the type `TypeError`. IPython catches the exception and prints out a useful traceback of the call sequence on the console\n",
        "\n",
        "If we are clueless as\n",
        "to why the code on line 7 contains an error, it could be useful to enter the debugger by\n",
        "typing `%debug` in the IPython console. We then get access to the local namespace at\n",
        "the source of the exception, which can allow us to explore in more detail why the\n",
        "exception was raised.\n",
        "\n",
        "Type a question mark `?` at the debugger prompt to show a help menu that\n",
        "lists available commands:"
      ]
    },
    {
      "cell_type": "code",
      "execution_count": null,
      "metadata": {
        "colab": {
          "base_uri": "https://localhost:8080/"
        },
        "id": "jEM2XvVr5xav",
        "outputId": "772ce004-5ef4-4367-dbd2-986da34291ed"
      },
      "outputs": [
        {
          "name": "stdout",
          "output_type": "stream",
          "text": [
            "> \u001b[0;32m/content/fib.py\u001b[0m(7)\u001b[0;36mfib\u001b[0;34m()\u001b[0m\n",
            "\u001b[0;32m      5 \u001b[0;31m    \"\"\" \n",
            "\u001b[0m\u001b[0;32m      6 \u001b[0;31m    \u001b[0mf0\u001b[0m\u001b[0;34m,\u001b[0m \u001b[0mf1\u001b[0m \u001b[0;34m=\u001b[0m \u001b[0;36m0\u001b[0m\u001b[0;34m,\u001b[0m \u001b[0;36m1\u001b[0m\u001b[0;34m\u001b[0m\u001b[0;34m\u001b[0m\u001b[0m\n",
            "\u001b[0m\u001b[0;32m----> 7 \u001b[0;31m    \u001b[0mf\u001b[0m \u001b[0;34m=\u001b[0m \u001b[0;34m[\u001b[0m\u001b[0;36m1\u001b[0m\u001b[0;34m]\u001b[0m \u001b[0;34m*\u001b[0m \u001b[0mN\u001b[0m\u001b[0;34m\u001b[0m\u001b[0;34m\u001b[0m\u001b[0m\n",
            "\u001b[0m\u001b[0;32m      8 \u001b[0;31m    \u001b[0;32mfor\u001b[0m \u001b[0mn\u001b[0m \u001b[0;32min\u001b[0m \u001b[0mrange\u001b[0m\u001b[0;34m(\u001b[0m\u001b[0;36m1\u001b[0m\u001b[0;34m,\u001b[0m \u001b[0mN\u001b[0m\u001b[0;34m)\u001b[0m\u001b[0;34m:\u001b[0m\u001b[0;34m\u001b[0m\u001b[0;34m\u001b[0m\u001b[0m\n",
            "\u001b[0m\u001b[0;32m      9 \u001b[0;31m        \u001b[0mf\u001b[0m\u001b[0;34m[\u001b[0m\u001b[0mn\u001b[0m\u001b[0;34m]\u001b[0m \u001b[0;34m=\u001b[0m \u001b[0mf0\u001b[0m \u001b[0;34m+\u001b[0m \u001b[0mf1\u001b[0m\u001b[0;34m\u001b[0m\u001b[0;34m\u001b[0m\u001b[0m\n",
            "\u001b[0m\n",
            "ipdb> print(N)\n",
            "1.0\n",
            "ipdb> ?\n",
            "\n",
            "Documented commands (type help <topic>):\n",
            "========================================\n",
            "EOF    commands   enable    ll        pp       s                until \n",
            "a      condition  exit      longlist  psource  skip_hidden      up    \n",
            "alias  cont       h         n         q        skip_predicates  w     \n",
            "args   context    help      next      quit     source           whatis\n",
            "b      continue   ignore    p         r        step             where \n",
            "break  d          interact  pdef      restart  tbreak         \n",
            "bt     debug      j         pdoc      return   u              \n",
            "c      disable    jump      pfile     retval   unalias        \n",
            "cl     display    l         pinfo     run      undisplay      \n",
            "clear  down       list      pinfo2    rv       unt            \n",
            "\n",
            "Miscellaneous help topics:\n",
            "==========================\n",
            "exec  pdb\n",
            "\n"
          ]
        },
        {
          "name": "stderr",
          "output_type": "stream",
          "text": [
            "\n",
            "PYDEV DEBUGGER WARNING:\n",
            "sys.settrace() should not be used when the debugger is being used.\n",
            "This may cause the debugger to stop working correctly.\n",
            "If this is needed, please check: \n",
            "http://pydev.blogspot.com/2007/06/why-cant-pydev-debugger-work-with.html\n",
            "to see how to restore the debug tracing back correctly.\n",
            "Call Location:\n",
            "  File \"/usr/lib/python3.11/bdb.py\", line 361, in set_quit\n",
            "    sys.settrace(None)\n",
            "\n",
            "\n",
            "PYDEV DEBUGGER WARNING:\n",
            "sys.settrace() should not be used when the debugger is being used.\n",
            "This may cause the debugger to stop working correctly.\n",
            "If this is needed, please check: \n",
            "http://pydev.blogspot.com/2007/06/why-cant-pydev-debugger-work-with.html\n",
            "to see how to restore the debug tracing back correctly.\n",
            "Call Location:\n",
            "  File \"/usr/local/lib/python3.11/dist-packages/IPython/core/debugger.py\", line 1075, in cmdloop\n",
            "    sys.settrace(None)\n",
            "\n"
          ]
        },
        {
          "name": "stdout",
          "output_type": "stream",
          "text": [
            "--KeyboardInterrupt--\n",
            "\n",
            "KeyboardInterrupt: Interrupted by user\n"
          ]
        }
      ],
      "source": [
        "%debug"
      ]
    },
    {
      "cell_type": "markdown",
      "metadata": {
        "id": "2XJBLdzbIENT"
      },
      "source": [
        "## Reset\n",
        "\n",
        "Resetting the namespace of an IPython session is often useful to ensure that a program\n",
        "is run in a pristine environment, uncluttered by existing variables and functions. The\n",
        "`%reset` command provides this functionality (use the flag –f to force the reset).\n",
        "\n",
        "\n",
        "Although it is necessary to reimport modules after the `%reset` command has\n",
        "been used, it is important to know that even if the modules have changed since the last\n",
        "import, a new import after a `%reset` will not import the new module but rather reenable\n",
        "a cached version of the module from the previous import.\n",
        "\n",
        "\n"
      ]
    },
    {
      "cell_type": "code",
      "execution_count": null,
      "metadata": {
        "id": "XTX2LOdtIrcD"
      },
      "outputs": [],
      "source": [
        "%reset -f"
      ]
    },
    {
      "cell_type": "markdown",
      "metadata": {
        "id": "hg2r5jx75xav"
      },
      "source": [
        "## Timing and profiling code\n",
        "\n",
        "The `%timeit` and `%time` commands provide simple benchmarking facilities that are\n",
        "useful when looking for bottlenecks and attempting to optimize code.\n",
        "\n",
        "The `%timeit`\n",
        "command runs a Python statement a number of times and gives an estimate of the\n",
        "runtime (use `%%timeit` to do the same for a multiline cell). The exact number of times\n",
        "the statement is ran is determined heuristically, unless explicitly set using the `–n` and `–r`\n",
        "flags."
      ]
    },
    {
      "cell_type": "code",
      "execution_count": null,
      "metadata": {
        "colab": {
          "base_uri": "https://localhost:8080/",
          "height": 373
        },
        "id": "YVGePXf05xav",
        "outputId": "e106ef0a-55f7-4e33-a989-18be8d1c8aef"
      },
      "outputs": [
        {
          "ename": "NameError",
          "evalue": "name 'fib' is not defined",
          "output_type": "error",
          "traceback": [
            "\u001b[0;31m---------------------------------------------------------------------------\u001b[0m",
            "\u001b[0;31mNameError\u001b[0m                                 Traceback (most recent call last)",
            "\u001b[0;32m<ipython-input-66-26eec41b3031>\u001b[0m in \u001b[0;36m<cell line: 0>\u001b[0;34m()\u001b[0m\n\u001b[0;32m----> 1\u001b[0;31m \u001b[0mget_ipython\u001b[0m\u001b[0;34m(\u001b[0m\u001b[0;34m)\u001b[0m\u001b[0;34m.\u001b[0m\u001b[0mrun_line_magic\u001b[0m\u001b[0;34m(\u001b[0m\u001b[0;34m'timeit'\u001b[0m\u001b[0;34m,\u001b[0m \u001b[0;34m'fib(100)'\u001b[0m\u001b[0;34m)\u001b[0m\u001b[0;34m\u001b[0m\u001b[0;34m\u001b[0m\u001b[0m\n\u001b[0m",
            "\u001b[0;32m/usr/local/lib/python3.11/dist-packages/IPython/core/interactiveshell.py\u001b[0m in \u001b[0;36mrun_line_magic\u001b[0;34m(self, magic_name, line, _stack_depth)\u001b[0m\n\u001b[1;32m   2416\u001b[0m                 \u001b[0mkwargs\u001b[0m\u001b[0;34m[\u001b[0m\u001b[0;34m'local_ns'\u001b[0m\u001b[0;34m]\u001b[0m \u001b[0;34m=\u001b[0m \u001b[0mself\u001b[0m\u001b[0;34m.\u001b[0m\u001b[0mget_local_scope\u001b[0m\u001b[0;34m(\u001b[0m\u001b[0mstack_depth\u001b[0m\u001b[0;34m)\u001b[0m\u001b[0;34m\u001b[0m\u001b[0;34m\u001b[0m\u001b[0m\n\u001b[1;32m   2417\u001b[0m             \u001b[0;32mwith\u001b[0m \u001b[0mself\u001b[0m\u001b[0;34m.\u001b[0m\u001b[0mbuiltin_trap\u001b[0m\u001b[0;34m:\u001b[0m\u001b[0;34m\u001b[0m\u001b[0;34m\u001b[0m\u001b[0m\n\u001b[0;32m-> 2418\u001b[0;31m                 \u001b[0mresult\u001b[0m \u001b[0;34m=\u001b[0m \u001b[0mfn\u001b[0m\u001b[0;34m(\u001b[0m\u001b[0;34m*\u001b[0m\u001b[0margs\u001b[0m\u001b[0;34m,\u001b[0m \u001b[0;34m**\u001b[0m\u001b[0mkwargs\u001b[0m\u001b[0;34m)\u001b[0m\u001b[0;34m\u001b[0m\u001b[0;34m\u001b[0m\u001b[0m\n\u001b[0m\u001b[1;32m   2419\u001b[0m             \u001b[0;32mreturn\u001b[0m \u001b[0mresult\u001b[0m\u001b[0;34m\u001b[0m\u001b[0;34m\u001b[0m\u001b[0m\n\u001b[1;32m   2420\u001b[0m \u001b[0;34m\u001b[0m\u001b[0m\n",
            "\u001b[0;32m<decorator-gen-53>\u001b[0m in \u001b[0;36mtimeit\u001b[0;34m(self, line, cell, local_ns)\u001b[0m\n",
            "\u001b[0;32m/usr/local/lib/python3.11/dist-packages/IPython/core/magic.py\u001b[0m in \u001b[0;36m<lambda>\u001b[0;34m(f, *a, **k)\u001b[0m\n\u001b[1;32m    185\u001b[0m     \u001b[0;31m# but it's overkill for just that one bit of state.\u001b[0m\u001b[0;34m\u001b[0m\u001b[0;34m\u001b[0m\u001b[0m\n\u001b[1;32m    186\u001b[0m     \u001b[0;32mdef\u001b[0m \u001b[0mmagic_deco\u001b[0m\u001b[0;34m(\u001b[0m\u001b[0marg\u001b[0m\u001b[0;34m)\u001b[0m\u001b[0;34m:\u001b[0m\u001b[0;34m\u001b[0m\u001b[0;34m\u001b[0m\u001b[0m\n\u001b[0;32m--> 187\u001b[0;31m         \u001b[0mcall\u001b[0m \u001b[0;34m=\u001b[0m \u001b[0;32mlambda\u001b[0m \u001b[0mf\u001b[0m\u001b[0;34m,\u001b[0m \u001b[0;34m*\u001b[0m\u001b[0ma\u001b[0m\u001b[0;34m,\u001b[0m \u001b[0;34m**\u001b[0m\u001b[0mk\u001b[0m\u001b[0;34m:\u001b[0m \u001b[0mf\u001b[0m\u001b[0;34m(\u001b[0m\u001b[0;34m*\u001b[0m\u001b[0ma\u001b[0m\u001b[0;34m,\u001b[0m \u001b[0;34m**\u001b[0m\u001b[0mk\u001b[0m\u001b[0;34m)\u001b[0m\u001b[0;34m\u001b[0m\u001b[0;34m\u001b[0m\u001b[0m\n\u001b[0m\u001b[1;32m    188\u001b[0m \u001b[0;34m\u001b[0m\u001b[0m\n\u001b[1;32m    189\u001b[0m         \u001b[0;32mif\u001b[0m \u001b[0mcallable\u001b[0m\u001b[0;34m(\u001b[0m\u001b[0marg\u001b[0m\u001b[0;34m)\u001b[0m\u001b[0;34m:\u001b[0m\u001b[0;34m\u001b[0m\u001b[0;34m\u001b[0m\u001b[0m\n",
            "\u001b[0;32m/usr/local/lib/python3.11/dist-packages/IPython/core/magics/execution.py\u001b[0m in \u001b[0;36mtimeit\u001b[0;34m(self, line, cell, local_ns)\u001b[0m\n\u001b[1;32m   1178\u001b[0m             \u001b[0;32mfor\u001b[0m \u001b[0mindex\u001b[0m \u001b[0;32min\u001b[0m \u001b[0mrange\u001b[0m\u001b[0;34m(\u001b[0m\u001b[0;36m0\u001b[0m\u001b[0;34m,\u001b[0m \u001b[0;36m10\u001b[0m\u001b[0;34m)\u001b[0m\u001b[0;34m:\u001b[0m\u001b[0;34m\u001b[0m\u001b[0;34m\u001b[0m\u001b[0m\n\u001b[1;32m   1179\u001b[0m                 \u001b[0mnumber\u001b[0m \u001b[0;34m=\u001b[0m \u001b[0;36m10\u001b[0m \u001b[0;34m**\u001b[0m \u001b[0mindex\u001b[0m\u001b[0;34m\u001b[0m\u001b[0;34m\u001b[0m\u001b[0m\n\u001b[0;32m-> 1180\u001b[0;31m                 \u001b[0mtime_number\u001b[0m \u001b[0;34m=\u001b[0m \u001b[0mtimer\u001b[0m\u001b[0;34m.\u001b[0m\u001b[0mtimeit\u001b[0m\u001b[0;34m(\u001b[0m\u001b[0mnumber\u001b[0m\u001b[0;34m)\u001b[0m\u001b[0;34m\u001b[0m\u001b[0;34m\u001b[0m\u001b[0m\n\u001b[0m\u001b[1;32m   1181\u001b[0m                 \u001b[0;32mif\u001b[0m \u001b[0mtime_number\u001b[0m \u001b[0;34m>=\u001b[0m \u001b[0;36m0.2\u001b[0m\u001b[0;34m:\u001b[0m\u001b[0;34m\u001b[0m\u001b[0;34m\u001b[0m\u001b[0m\n\u001b[1;32m   1182\u001b[0m                     \u001b[0;32mbreak\u001b[0m\u001b[0;34m\u001b[0m\u001b[0;34m\u001b[0m\u001b[0m\n",
            "\u001b[0;32m/usr/local/lib/python3.11/dist-packages/IPython/core/magics/execution.py\u001b[0m in \u001b[0;36mtimeit\u001b[0;34m(self, number)\u001b[0m\n\u001b[1;32m    167\u001b[0m         \u001b[0mgc\u001b[0m\u001b[0;34m.\u001b[0m\u001b[0mdisable\u001b[0m\u001b[0;34m(\u001b[0m\u001b[0;34m)\u001b[0m\u001b[0;34m\u001b[0m\u001b[0;34m\u001b[0m\u001b[0m\n\u001b[1;32m    168\u001b[0m         \u001b[0;32mtry\u001b[0m\u001b[0;34m:\u001b[0m\u001b[0;34m\u001b[0m\u001b[0;34m\u001b[0m\u001b[0m\n\u001b[0;32m--> 169\u001b[0;31m             \u001b[0mtiming\u001b[0m \u001b[0;34m=\u001b[0m \u001b[0mself\u001b[0m\u001b[0;34m.\u001b[0m\u001b[0minner\u001b[0m\u001b[0;34m(\u001b[0m\u001b[0mit\u001b[0m\u001b[0;34m,\u001b[0m \u001b[0mself\u001b[0m\u001b[0;34m.\u001b[0m\u001b[0mtimer\u001b[0m\u001b[0;34m)\u001b[0m\u001b[0;34m\u001b[0m\u001b[0;34m\u001b[0m\u001b[0m\n\u001b[0m\u001b[1;32m    170\u001b[0m         \u001b[0;32mfinally\u001b[0m\u001b[0;34m:\u001b[0m\u001b[0;34m\u001b[0m\u001b[0;34m\u001b[0m\u001b[0m\n\u001b[1;32m    171\u001b[0m             \u001b[0;32mif\u001b[0m \u001b[0mgcold\u001b[0m\u001b[0;34m:\u001b[0m\u001b[0;34m\u001b[0m\u001b[0;34m\u001b[0m\u001b[0m\n",
            "\u001b[0;32m<magic-timeit>\u001b[0m in \u001b[0;36minner\u001b[0;34m(_it, _timer)\u001b[0m\n",
            "\u001b[0;31mNameError\u001b[0m: name 'fib' is not defined"
          ]
        }
      ],
      "source": [
        "%timeit fib(100)"
      ]
    },
    {
      "cell_type": "markdown",
      "metadata": {
        "id": "SBznzl0PKKPn"
      },
      "source": [
        "We have to reload the function since we have done `%reset`"
      ]
    },
    {
      "cell_type": "code",
      "execution_count": null,
      "metadata": {
        "colab": {
          "base_uri": "https://localhost:8080/"
        },
        "id": "lB7zqlQ4KJpg",
        "outputId": "4bdfe669-7e38-4750-a2a6-db8b9bca4fef"
      },
      "outputs": [
        {
          "name": "stdout",
          "output_type": "stream",
          "text": [
            "[1, 1, 2, 3, 5, 8, 13, 21, 34, 55]\n"
          ]
        }
      ],
      "source": [
        "%run fib.py"
      ]
    },
    {
      "cell_type": "code",
      "execution_count": null,
      "metadata": {
        "colab": {
          "base_uri": "https://localhost:8080/"
        },
        "id": "3-ufBYbXKjnC",
        "outputId": "00d00e34-f35f-4760-8786-c896f964ae23"
      },
      "outputs": [
        {
          "name": "stdout",
          "output_type": "stream",
          "text": [
            "6.91 µs ± 1.05 µs per loop (mean ± std. dev. of 7 runs, 100000 loops each)\n"
          ]
        }
      ],
      "source": [
        "%timeit fib(100)"
      ]
    },
    {
      "cell_type": "code",
      "execution_count": null,
      "metadata": {
        "colab": {
          "base_uri": "https://localhost:8080/"
        },
        "id": "Po--kD515xav",
        "outputId": "0da28c4c-77a8-4443-eb83-d656834cfbfd"
      },
      "outputs": [
        {
          "name": "stdout",
          "output_type": "stream",
          "text": [
            "CPU times: user 24 µs, sys: 2 µs, total: 26 µs\n",
            "Wall time: 43.4 µs\n"
          ]
        }
      ],
      "source": [
        "result = %time fib(100)"
      ]
    },
    {
      "cell_type": "code",
      "execution_count": null,
      "metadata": {
        "colab": {
          "base_uri": "https://localhost:8080/"
        },
        "id": "7_ET4P0b5xav",
        "outputId": "a38e66e6-4a2f-46ea-e986-6c8a93a533aa"
      },
      "outputs": [
        {
          "data": {
            "text/plain": [
              "100"
            ]
          },
          "execution_count": 70,
          "metadata": {},
          "output_type": "execute_result"
        }
      ],
      "source": [
        "len(result)"
      ]
    },
    {
      "cell_type": "markdown",
      "metadata": {
        "id": "X5xd9JDLK5wd"
      },
      "source": [
        "`%timeit` and `%time` do not give any detailed information about what part\n",
        "of the computation takes more time. Such analyses require a more sophisticated code\n",
        "profiler, such as the one provided by Python standard library module `cProfile`through he commands `%prun` (for statements)\n",
        "and `%run` with the flag `–p` (for running external script files). The output from the profiler\n",
        "is rather verbose and can be customized using optional flags to the `%prun` and `%run -p`\n",
        "commands (see `%prun?` for a detailed description of the available options).\n",
        "\n",
        "For example, consider a function that simulates N random ships each taking M\n",
        "miles and then calculates the furthest distance from the starting point achieved by any of\n",
        "the random ships:"
      ]
    },
    {
      "cell_type": "code",
      "execution_count": null,
      "metadata": {
        "id": "AOODF73X5xav"
      },
      "outputs": [],
      "source": [
        "import numpy as np\n",
        "\n",
        "def random_ship_max_distance(M, N):\n",
        "    \"\"\"\n",
        "    Simulate N random ships taking M miles, and return the largest distance\n",
        "    from the starting point achieved by any of the random walkers.\n",
        "    \"\"\"\n",
        "    trajectories = [np.random.randn(M).cumsum() for _ in range(N)]\n",
        "    return np.max(np.abs(trajectories))"
      ]
    },
    {
      "cell_type": "code",
      "execution_count": null,
      "metadata": {
        "colab": {
          "base_uri": "https://localhost:8080/"
        },
        "id": "FUbPb6i75xav",
        "outputId": "1b01ed12-3849-4a9b-aaa8-01d92859892e"
      },
      "outputs": [
        {
          "name": "stdout",
          "output_type": "stream",
          "text": [
            " "
          ]
        }
      ],
      "source": [
        "%prun random_ship_max_distance(400, 10000)"
      ]
    },
    {
      "cell_type": "markdown",
      "metadata": {
        "id": "eza7gZL3Mc9Q"
      },
      "source": [
        "Calling this function using the profiler with `%prun` results in the following output,\n",
        "which includes information about how many times each function was called and\n",
        "a breakdown of the total and cumulative time spent in each function.\n",
        "\n",
        "From this\n",
        "information we can conclude that in this simple example, the calls to the function\n",
        "`np.random.randn` consume the bulk of the elapsed computation time."
      ]
    },
    {
      "cell_type": "markdown",
      "metadata": {
        "id": "KxzJV-ta5xav"
      },
      "source": [
        "## Google Colab and Jupyter Notebook\n",
        "\n",
        "Google Colab, short for Colaboratory, is a cloud-based Jupyter Notebook environment provided by Google. It offers a convenient way to create, share, and collaborate on Jupyter Notebook documents without the need for local installation. Users can access Google Colab through their web browser and benefit from its connectivity with Google Drive, allowing for easy saving and loading of notebooks and datasets\n",
        "\n",
        "One of the key differences between Google Colab and Jupyter Notebook is that Google Colab is cloud-based, whereas Jupyter Notebook runs on a local device and files are saved to the device's hard drive, not backed up to the cloud Google Colab provides free access to computing resources, including GPUs and TPUs, which is particularly useful for machine learning and data science projects However, the free GPU plan in Google Colab is limited in power and time\n",
        "\n",
        "Both tools have their advantages and are suitable for different use cases. Google Colab is ideal for users who prefer a cloud-based solution and do not want to install software on their local machine, while Jupyter Notebook offers more control over the local environment and can be integrated with version control tools like Git\n",
        "\n",
        "For tracking changes and collaborating using version control tools like Git, Jupyter Notebook users may find it complicated because notebooks are stored as JSON files Google Colab, on the other hand, integrates seamlessly with Google Drive and provides a straightforward way to save notebooks to GitHub with just one click\n",
        "\n",
        "When deciding between Google Colab and Jupyter Notebook, it's important to consider factors such as the need for local installation, cloud-based access, collaboration features, and the specific requirements of your project"
      ]
    },
    {
      "cell_type": "markdown",
      "metadata": {
        "id": "jxYA67N8Ogfh"
      },
      "source": [
        "## Rich Output Display\n",
        "\n",
        "`Notebooks` features a rich display system that can show media such as\n",
        "equations, figures, and videos as embedded objects in the notebook. It is also possible\n",
        "to create user interface (UI) elements with HTML and JavaScript, using Jupyter’s widget\n",
        "system.\n",
        "\n",
        "The `IPython.display` module provides several classes and\n",
        "functions that make it easy to programmatically render formatted output in a notebook.\n",
        "For example, the Image class provides a way to display images from the local file system\n",
        "or online resources in a notebook.\n",
        "\n",
        "Other useful classes from\n",
        "the same module are HTML, for rendering HTML code, and Math, for rendering [LaTeX](https://www.youtube.com/watch?v=5X07G5edHIE)\n",
        "expressions. The display function can be used to explicitly request an object to be\n",
        "rendered and displayed in the output area."
      ]
    },
    {
      "cell_type": "code",
      "execution_count": null,
      "metadata": {
        "id": "GARuyINe5xav"
      },
      "outputs": [],
      "source": [
        "from IPython.display import display, Image, HTML, Math"
      ]
    },
    {
      "cell_type": "code",
      "execution_count": null,
      "metadata": {
        "colab": {
          "base_uri": "https://localhost:8080/",
          "height": 92
        },
        "id": "bZnxtMC_5xaw",
        "outputId": "77b9f60a-2d35-4271-a8be-2c84fa49fdf8"
      },
      "outputs": [
        {
          "data": {
            "text/html": [
              "<img src=\"http://python.org/images/python-logo.gif\"/>"
            ],
            "text/plain": [
              "<IPython.core.display.Image object>"
            ]
          },
          "execution_count": 78,
          "metadata": {},
          "output_type": "execute_result"
        }
      ],
      "source": [
        "Image(url='http://python.org/images/python-logo.gif')"
      ]
    },
    {
      "cell_type": "markdown",
      "metadata": {
        "id": "tEhsvvcpQLU3"
      },
      "source": [
        "An example of how HTML code can be rendered in the notebook using the HTML class. Here we first construct a string containing `HTML code` for a table\n",
        "with version information for a list of Python libraries.\n",
        "\n",
        "This HTML code is then rendered\n",
        "in the output cell area by creating an instance of the HTML class, and since this statement\n",
        "is the last (and only) statement in the corresponding input cell, Jupyter will render the\n",
        "representation of this object in the output cell area."
      ]
    },
    {
      "cell_type": "code",
      "execution_count": null,
      "metadata": {
        "id": "FSeIGzQR5xaw"
      },
      "outputs": [],
      "source": [
        "import scipy, numpy, matplotlib\n",
        "modules = [numpy, matplotlib, scipy]\n",
        "row = \"<tr> <td>%s</td> <td>%s</td> </tr>\"\n",
        "rows = \"\\n\".join([row % (module.__name__, module.__version__) for module in modules])\n",
        "s = \"<table> <tr><th>Library</th><th>Version</th> </tr> %s</table>\" % rows"
      ]
    },
    {
      "cell_type": "code",
      "execution_count": null,
      "metadata": {
        "colab": {
          "base_uri": "https://localhost:8080/",
          "height": 70
        },
        "id": "6YLnRTK-5xaw",
        "outputId": "0f5f5d09-ce45-4753-a5cf-725f52898e38"
      },
      "outputs": [
        {
          "data": {
            "application/vnd.google.colaboratory.intrinsic+json": {
              "type": "string"
            },
            "text/plain": [
              "'<table> <tr><th>Library</th><th>Version</th> </tr> <tr> <td>numpy</td> <td>1.26.4</td> </tr>\\n<tr> <td>matplotlib</td> <td>3.10.0</td> </tr>\\n<tr> <td>scipy</td> <td>1.13.1</td> </tr></table>'"
            ]
          },
          "execution_count": 80,
          "metadata": {},
          "output_type": "execute_result"
        }
      ],
      "source": [
        "s"
      ]
    },
    {
      "cell_type": "markdown",
      "metadata": {
        "id": "-z-owj1vQjJ5"
      },
      "source": [
        "An HTML table containing module version information can been rendered\n",
        "and displayed using the HTML class."
      ]
    },
    {
      "cell_type": "code",
      "execution_count": null,
      "metadata": {
        "colab": {
          "base_uri": "https://localhost:8080/",
          "height": 103
        },
        "id": "ARg_xZ805xaw",
        "outputId": "abd1f929-8090-44f5-ced1-52b109ef33bd"
      },
      "outputs": [
        {
          "data": {
            "text/html": [
              "<table> <tr><th>Library</th><th>Version</th> </tr> <tr> <td>numpy</td> <td>1.26.4</td> </tr>\n",
              "<tr> <td>matplotlib</td> <td>3.10.0</td> </tr>\n",
              "<tr> <td>scipy</td> <td>1.13.1</td> </tr></table>"
            ],
            "text/plain": [
              "<IPython.core.display.HTML object>"
            ]
          },
          "execution_count": 81,
          "metadata": {},
          "output_type": "execute_result"
        }
      ],
      "source": [
        "HTML(s)"
      ]
    },
    {
      "cell_type": "markdown",
      "metadata": {
        "id": "RwyYQGJ2RBnX"
      },
      "source": [
        "The `Math class`, which uses the `_repr_latex_`\n",
        "method, can be used to render mathematical formulas in the Jupyter Notebook. This is\n",
        "often useful in scientific and technical applications. Examples of how formulas can be\n",
        "rendered using the Math class and the `_repr_latex_` method are shown"
      ]
    },
    {
      "cell_type": "code",
      "execution_count": null,
      "metadata": {
        "colab": {
          "base_uri": "https://localhost:8080/",
          "height": 51
        },
        "id": "z8qb0Gfv5xaw",
        "outputId": "02fc19f8-bff0-4aed-979f-a8ebe526c761"
      },
      "outputs": [
        {
          "data": {
            "text/latex": [
              "$\\displaystyle \\hat{H} = -\\frac{1}{2}\\epsilon \\hat{\\sigma}_z-\\frac{1}{2}\\delta \\hat{\\sigma}_x$"
            ],
            "text/plain": [
              "<IPython.core.display.Math object>"
            ]
          },
          "execution_count": 84,
          "metadata": {},
          "output_type": "execute_result"
        }
      ],
      "source": [
        "Math(r'\\hat{H} = -\\frac{1}{2}\\epsilon \\hat{\\sigma}_z-\\frac{1}{2}\\delta \\hat{\\sigma}_x')"
      ]
    },
    {
      "cell_type": "markdown",
      "metadata": {
        "id": "sQcHJjnZRROE"
      },
      "source": [
        "This same code can be used directly in a markdown cell.\n",
        "```python\n",
        "$$\\hat{H} = -\\frac{1}{2}\\epsilon \\hat{\\sigma}_z-\\frac{1}{2}\\delta \\hat{\\sigma}_x$$\n",
        "```\n",
        "\n",
        "$$\\hat{H} = -\\frac{1}{2}\\epsilon \\hat{\\sigma}_z-\\frac{1}{2}\\delta \\hat{\\sigma}_x$$"
      ]
    },
    {
      "cell_type": "markdown",
      "metadata": {
        "id": "WPB1ydNOSxCx"
      },
      "source": []
    },
    {
      "cell_type": "markdown",
      "metadata": {
        "id": "2C_ck-3OR5ov"
      },
      "source": [
        "Another example of mathematis rendered with $\\LaTeX$\n"
      ]
    },
    {
      "cell_type": "code",
      "execution_count": null,
      "metadata": {
        "id": "H6QmUz1r5xaw"
      },
      "outputs": [],
      "source": [
        "class QubitHamiltonian(object):\n",
        "    def __init__(self, epsilon, delta):\n",
        "        self.epsilon = epsilon\n",
        "        self.delta = delta\n",
        "\n",
        "    def _repr_latex_(self):\n",
        "        return \"$\\hat{H} = -%.2f\\hat{\\sigma}_z-%.2f\\hat{\\sigma}_x$\" % \\\n",
        "            (self.epsilon/2, self.delta/2)"
      ]
    },
    {
      "cell_type": "code",
      "execution_count": null,
      "metadata": {
        "colab": {
          "base_uri": "https://localhost:8080/",
          "height": 38
        },
        "id": "rjWMchSa5xaw",
        "outputId": "e153483c-efe8-4799-ffe0-ecf47aa1f660"
      },
      "outputs": [
        {
          "data": {
            "text/latex": [
              "$\\hat{H} = -0.25\\hat{\\sigma}_z-0.12\\hat{\\sigma}_x$"
            ],
            "text/plain": [
              "<__main__.QubitHamiltonian at 0x79456e5e0450>"
            ]
          },
          "execution_count": 86,
          "metadata": {},
          "output_type": "execute_result"
        }
      ],
      "source": [
        "QubitHamiltonian(0.5, 0.25)"
      ]
    },
    {
      "cell_type": "markdown",
      "metadata": {
        "id": "Ql9h7ZvhTF3k"
      },
      "source": [
        "The possibilities do not stop there: an\n",
        "exciting feature of the Jupyter Notebook is that `interactive applications`, with two-way\n",
        "communication between the frontend and the backend kernel, can be created using, for\n",
        "example, a `library of widgets` (UI components) or directly with `Javascript` and `HTML`.\n",
        "\n",
        "For\n",
        "example, using the interact function from the `ipywidgets library`, we can very easily\n",
        "create an interactive graph that takes an input parameter that is determined from a UI\n",
        "slider"
      ]
    },
    {
      "cell_type": "code",
      "execution_count": null,
      "metadata": {
        "id": "cAoVBkEO5xaw"
      },
      "outputs": [],
      "source": [
        "import matplotlib.pyplot as plt\n",
        "import numpy as np\n",
        "from scipy import stats\n",
        "\n",
        "def f(mu):\n",
        "    X = stats.norm(loc=mu, scale=np.sqrt(mu))\n",
        "    N = stats.poisson(mu)\n",
        "    x = np.linspace(0, X.ppf(0.999))\n",
        "    n = np.arange(0, x[-1])\n",
        "\n",
        "    fig, ax = plt.subplots()\n",
        "    ax.plot(x, X.pdf(x), color='black', lw=2, label=\"Normal($\\mu=%d, \\sigma^2=%d$)\" % (mu, mu))\n",
        "    ax.bar(n, N.pmf(n), align='edge', label=r\"Poisson($\\lambda=%d$)\" % mu)\n",
        "    ax.set_ylim(0, X.pdf(x).max() * 1.25)\n",
        "    ax.legend(loc=2, ncol=2)\n",
        "    plt.close(fig)\n",
        "    return fig"
      ]
    },
    {
      "cell_type": "code",
      "execution_count": null,
      "metadata": {
        "id": "GR4pPW0-5xaw"
      },
      "outputs": [],
      "source": [
        "from ipywidgets import interact\n",
        "import ipywidgets as widgets"
      ]
    },
    {
      "cell_type": "code",
      "execution_count": null,
      "metadata": {
        "colab": {
          "base_uri": "https://localhost:8080/",
          "height": 462,
          "referenced_widgets": [
            "314d7a9ef71041c4baebcc885d4addd1",
            "2ceef2981f09487c9ffc8e6a1e096640",
            "a930f96c12d0464daee9b76718dc34d3",
            "eb2a6bf6c23b4256bd3aac66b44fea6d",
            "11284b9fc12643d3ad81e58a8d5c6f60",
            "d45176ed34f647649498460b69b972c4",
            "ec5e6406a3504aef85d61241782069b9"
          ]
        },
        "id": "HnE-irOp5xaw",
        "outputId": "b655fddf-9903-4f29-9371-bd65b2bd2c95"
      },
      "outputs": [
        {
          "data": {
            "application/vnd.jupyter.widget-view+json": {
              "model_id": "314d7a9ef71041c4baebcc885d4addd1",
              "version_major": 2,
              "version_minor": 0
            },
            "text/plain": [
              "interactive(children=(FloatSlider(value=1.0, description='mu', max=20.0, min=1.0, step=1.0), Output()), _dom_c…"
            ]
          },
          "metadata": {},
          "output_type": "display_data"
        }
      ],
      "source": [
        "interact(f, mu=widgets.FloatSlider(min=1.0, max=20.0, step=1.0));"
      ]
    },
    {
      "cell_type": "markdown",
      "metadata": {
        "id": "blU5hmt05xaw"
      },
      "source": [
        "## Jupyter nbconvert\n",
        "\n",
        "Jupyter Notebooks can be converted to a number of different read-only formats\n",
        "using the `nbconvert` application, which is invoked by passing nbconvert as the first\n",
        "argument to the jupyter command line. Supported formats include, among others,\n",
        "`PDF` and `HTML`.\n",
        "\n",
        "Converting Jupyter Notebooks to PDF or HTML is useful when sharing\n",
        "notebooks with colleagues or when publishing them online, when the reader does\n",
        "not necessarily need to run the code, but primarily view the results contained in the\n",
        "notebooks.\n",
        "\n",
        "First, mount your `google drive`"
      ]
    },
    {
      "cell_type": "code",
      "execution_count": null,
      "metadata": {
        "colab": {
          "base_uri": "https://localhost:8080/"
        },
        "id": "S0G5qa2HVkWR",
        "outputId": "cebd9e35-a908-43ac-b41b-585582a8e219"
      },
      "outputs": [
        {
          "name": "stdout",
          "output_type": "stream",
          "text": [
            "Mounted at /content/drive\n"
          ]
        }
      ],
      "source": [
        "from google.colab import drive\n",
        "drive.mount('/content/drive')"
      ]
    },
    {
      "cell_type": "markdown",
      "metadata": {
        "id": "VlTmc834Vv4d"
      },
      "source": [
        "And then, save the notebook in google drive with the menu archive from `google colab`"
      ]
    },
    {
      "cell_type": "code",
      "execution_count": null,
      "metadata": {
        "colab": {
          "base_uri": "https://localhost:8080/"
        },
        "id": "yrKDQbTt5xax",
        "outputId": "82050ca7-6cd7-4bab-b5e0-51eb4782ef7a"
      },
      "outputs": [
        {
          "name": "stdout",
          "output_type": "stream",
          "text": [
            "[TerminalIPythonApp] WARNING | Subcommand `ipython nbconvert` is deprecated and will be removed in future versions.\n",
            "[TerminalIPythonApp] WARNING | You likely want to use `jupyter nbconvert` in the future\n",
            "[NbConvertApp] Converting notebook /content/drive/MyDrive/Colab Notebooks/Copia de Prac1-code-listing.ipynb to html\n",
            "Traceback (most recent call last):\n",
            "  File \"/usr/local/bin/ipython\", line 10, in <module>\n",
            "    sys.exit(start_ipython())\n",
            "             ^^^^^^^^^^^^^^^\n",
            "  File \"/usr/local/lib/python3.11/dist-packages/IPython/__init__.py\", line 130, in start_ipython\n",
            "    return launch_new_instance(argv=argv, **kwargs)\n",
            "           ^^^^^^^^^^^^^^^^^^^^^^^^^^^^^^^^^^^^^^^^\n",
            "  File \"/usr/local/lib/python3.11/dist-packages/traitlets/config/application.py\", line 992, in launch_instance\n",
            "    app.start()\n",
            "  File \"/usr/local/lib/python3.11/dist-packages/IPython/terminal/ipapp.py\", line 354, in start\n",
            "    return self.subapp.start()\n",
            "           ^^^^^^^^^^^^^^^^^^^\n",
            "  File \"/usr/local/lib/python3.11/dist-packages/nbconvert/nbconvertapp.py\", line 420, in start\n",
            "    self.convert_notebooks()\n",
            "  File \"/usr/local/lib/python3.11/dist-packages/nbconvert/nbconvertapp.py\", line 597, in convert_notebooks\n",
            "    self.convert_single_notebook(notebook_filename)\n",
            "  File \"/usr/local/lib/python3.11/dist-packages/nbconvert/nbconvertapp.py\", line 563, in convert_single_notebook\n",
            "    output, resources = self.export_single_notebook(\n",
            "                        ^^^^^^^^^^^^^^^^^^^^^^^^^^^^\n",
            "  File \"/usr/local/lib/python3.11/dist-packages/nbconvert/nbconvertapp.py\", line 487, in export_single_notebook\n",
            "    output, resources = self.exporter.from_filename(\n",
            "                        ^^^^^^^^^^^^^^^^^^^^^^^^^^^^\n",
            "  File \"/usr/local/lib/python3.11/dist-packages/nbconvert/exporters/templateexporter.py\", line 390, in from_filename\n",
            "    return super().from_filename(filename, resources, **kw)  # type:ignore[return-value]\n",
            "           ^^^^^^^^^^^^^^^^^^^^^^^^^^^^^^^^^^^^^^^^^^^^^^^^\n",
            "  File \"/usr/local/lib/python3.11/dist-packages/nbconvert/exporters/exporter.py\", line 201, in from_filename\n",
            "    return self.from_file(f, resources=resources, **kw)\n",
            "           ^^^^^^^^^^^^^^^^^^^^^^^^^^^^^^^^^^^^^^^^^^^^\n",
            "  File \"/usr/local/lib/python3.11/dist-packages/nbconvert/exporters/templateexporter.py\", line 396, in from_file\n",
            "    return super().from_file(file_stream, resources, **kw)  # type:ignore[return-value]\n",
            "           ^^^^^^^^^^^^^^^^^^^^^^^^^^^^^^^^^^^^^^^^^^^^^^^\n",
            "  File \"/usr/local/lib/python3.11/dist-packages/nbconvert/exporters/exporter.py\", line 220, in from_file\n",
            "    return self.from_notebook_node(\n",
            "           ^^^^^^^^^^^^^^^^^^^^^^^^\n",
            "  File \"/usr/local/lib/python3.11/dist-packages/nbconvert/exporters/html.py\", line 278, in from_notebook_node\n",
            "    html, resources = super().from_notebook_node(nb, resources, **kw)\n",
            "                      ^^^^^^^^^^^^^^^^^^^^^^^^^^^^^^^^^^^^^^^^^^^^^^^\n",
            "  File \"/usr/local/lib/python3.11/dist-packages/nbconvert/exporters/templateexporter.py\", line 429, in from_notebook_node\n",
            "    output = self.template.render(nb=nb_copy, resources=resources)\n",
            "             ^^^^^^^^^^^^^^^^^^^^^^^^^^^^^^^^^^^^^^^^^^^^^^^^^^^^^\n",
            "  File \"/usr/local/lib/python3.11/dist-packages/jinja2/environment.py\", line 1295, in render\n",
            "    self.environment.handle_exception()\n",
            "  File \"/usr/local/lib/python3.11/dist-packages/jinja2/environment.py\", line 942, in handle_exception\n",
            "    raise rewrite_traceback_stack(source=source)\n",
            "  File \"/usr/local/share/jupyter/nbconvert/templates/lab/index.html.j2\", line 4, in top-level template code\n",
            "    {% from 'jupyter_widgets.html.j2' import jupyter_widgets %}\n",
            "    ^^^^^^^^^^^^^^^^^^^^^^^^^\n",
            "  File \"/usr/local/share/jupyter/nbconvert/templates/lab/base.html.j2\", line 3, in top-level template code\n",
            "    {% from 'cell_id_anchor.j2' import cell_id_anchor %}\n",
            "    ^^^^^^^^^^^^^^^^^^^^^^^^^\n",
            "  File \"/usr/local/share/jupyter/nbconvert/templates/base/display_priority.j2\", line 1, in top-level template code\n",
            "    {%- extends 'base/null.j2' -%}\n",
            "    ^^^^^^^^^^^^^^^^^^^^^^^^^\n",
            "  File \"/usr/local/share/jupyter/nbconvert/templates/base/null.j2\", line 26, in top-level template code\n",
            "    {%- block body -%}\n",
            "  File \"/usr/local/share/jupyter/nbconvert/templates/base/null.j2\", line 29, in block 'body'\n",
            "    {%- block body_loop -%}\n",
            "  File \"/usr/local/share/jupyter/nbconvert/templates/base/null.j2\", line 31, in block 'body_loop'\n",
            "    {%- block any_cell scoped -%}\n",
            "    ^^^^^^^^^^^^^^^^^^^^^^^^^\n",
            "  File \"/usr/local/share/jupyter/nbconvert/templates/base/null.j2\", line 34, in block 'any_cell'\n",
            "    {%- block codecell scoped -%}\n",
            "    ^^^^^^^^^^^^^^^^^^^^^^^^^\n",
            "  File \"/usr/local/share/jupyter/nbconvert/templates/lab/base.html.j2\", line 13, in block 'codecell'\n",
            "    {{ super() }}\n",
            "  File \"/usr/local/share/jupyter/nbconvert/templates/base/null.j2\", line 44, in block 'codecell'\n",
            "    {%- block output_group -%}\n",
            "    ^^^^^^^^^^^^^^^^^^^^^^^^^\n",
            "  File \"/usr/local/share/jupyter/nbconvert/templates/lab/base.html.j2\", line 39, in block 'output_group'\n",
            "    {{ super() }}\n",
            "  File \"/usr/local/share/jupyter/nbconvert/templates/base/null.j2\", line 48, in block 'output_group'\n",
            "    {%- block outputs scoped -%}\n",
            "    ^^^^^^^^^^^^^^^^^^^^^^^^^\n",
            "  File \"/usr/local/share/jupyter/nbconvert/templates/lab/base.html.j2\", line 45, in block 'outputs'\n",
            "    {{ super() }}\n",
            "  File \"/usr/local/share/jupyter/nbconvert/templates/base/null.j2\", line 50, in block 'outputs'\n",
            "    {%- block output scoped -%}\n",
            "    ^^^^^^^^^^^^^^^^^^^^^^^^^\n",
            "  File \"/usr/local/share/jupyter/nbconvert/templates/lab/base.html.j2\", line 92, in block 'output'\n",
            "    {{ super() }}\n",
            "  File \"/usr/local/share/jupyter/nbconvert/templates/base/null.j2\", line 52, in block 'output'\n",
            "    {%- block execute_result scoped -%}{%- endblock execute_result -%}\n",
            "    ^^^^^^^^^^^^^^^^^^^^^^^^^\n",
            "  File \"/usr/local/share/jupyter/nbconvert/templates/lab/base.html.j2\", line 130, in block 'execute_result'\n",
            "    {% block data_priority scoped %}\n",
            "    ^^^^^^^^^^^^^^^^^^^^^^^^^\n",
            "  File \"/usr/local/share/jupyter/nbconvert/templates/lab/base.html.j2\", line 131, in block 'data_priority'\n",
            "    {{ super() }}\n",
            "  File \"/usr/local/share/jupyter/nbconvert/templates/base/display_priority.j2\", line 7, in block 'data_priority'\n",
            "    {%- for type in output.data | filter_data_type -%}\n",
            "    ^^^^^^^^^^^^^^^^^^^^^^^^^\n",
            "  File \"/usr/local/lib/python3.11/dist-packages/nbconvert/filters/widgetsdatatypefilter.py\", line 58, in __call__\n",
            "    metadata[\"widgets\"][WIDGET_STATE_MIMETYPE][\"state\"]\n",
            "    ~~~~~~~~~~~~~~~~~~~~~~~~~~~~~~~~~~~~~~~~~~^^^^^^^^^\n",
            "KeyError: 'state'\n",
            "\n",
            "If you suspect this is an IPython 7.34.0 bug, please report it at:\n",
            "    https://github.com/ipython/ipython/issues\n",
            "or send an email to the mailing list at ipython-dev@python.org\n",
            "\n",
            "You can print a more detailed traceback right now with \"%tb\", or use \"%debug\"\n",
            "to interactively debug it.\n",
            "\n",
            "Extra-detailed tracebacks for bug-reporting purposes can be enabled via:\n",
            "    c.Application.verbose_crash=True\n",
            "\n"
          ]
        }
      ],
      "source": [
        "!ipython nbconvert \"/content/drive/MyDrive/Colab Notebooks/Copia de Prac1-code-listing.ipynb\" --to html"
      ]
    },
    {
      "cell_type": "code",
      "execution_count": null,
      "metadata": {
        "colab": {
          "base_uri": "https://localhost:8080/"
        },
        "id": "Y1TkcGfj5xax",
        "outputId": "804af779-8931-4ba9-ec8d-f9c59194d1eb"
      },
      "outputs": [
        {
          "name": "stdout",
          "output_type": "stream",
          "text": [
            "[TerminalIPythonApp] WARNING | Subcommand `ipython nbconvert` is deprecated and will be removed in future versions.\n",
            "[TerminalIPythonApp] WARNING | You likely want to use `jupyter nbconvert` in the future\n",
            "[NbConvertApp] Converting notebook /content/drive/MyDrive/Colab Notebooks/Copia de Prac1-code-listing.ipynb to pdf\n",
            "[NbConvertApp] ERROR | Error while converting '/content/drive/MyDrive/Colab Notebooks/Copia de Prac1-code-listing.ipynb'\n",
            "Traceback (most recent call last):\n",
            "  File \"/usr/local/lib/python3.11/dist-packages/nbconvert/nbconvertapp.py\", line 487, in export_single_notebook\n",
            "    output, resources = self.exporter.from_filename(\n",
            "                        ^^^^^^^^^^^^^^^^^^^^^^^^^^^^\n",
            "  File \"/usr/local/lib/python3.11/dist-packages/nbconvert/exporters/templateexporter.py\", line 390, in from_filename\n",
            "    return super().from_filename(filename, resources, **kw)  # type:ignore[return-value]\n",
            "           ^^^^^^^^^^^^^^^^^^^^^^^^^^^^^^^^^^^^^^^^^^^^^^^^\n",
            "  File \"/usr/local/lib/python3.11/dist-packages/nbconvert/exporters/exporter.py\", line 201, in from_filename\n",
            "    return self.from_file(f, resources=resources, **kw)\n",
            "           ^^^^^^^^^^^^^^^^^^^^^^^^^^^^^^^^^^^^^^^^^^^^\n",
            "  File \"/usr/local/lib/python3.11/dist-packages/nbconvert/exporters/templateexporter.py\", line 396, in from_file\n",
            "    return super().from_file(file_stream, resources, **kw)  # type:ignore[return-value]\n",
            "           ^^^^^^^^^^^^^^^^^^^^^^^^^^^^^^^^^^^^^^^^^^^^^^^\n",
            "  File \"/usr/local/lib/python3.11/dist-packages/nbconvert/exporters/exporter.py\", line 220, in from_file\n",
            "    return self.from_notebook_node(\n",
            "           ^^^^^^^^^^^^^^^^^^^^^^^^\n",
            "  File \"/usr/local/lib/python3.11/dist-packages/nbconvert/exporters/pdf.py\", line 184, in from_notebook_node\n",
            "    latex, resources = super().from_notebook_node(nb, resources=resources, **kw)\n",
            "                       ^^^^^^^^^^^^^^^^^^^^^^^^^^^^^^^^^^^^^^^^^^^^^^^^^^^^^^^^^\n",
            "  File \"/usr/local/lib/python3.11/dist-packages/nbconvert/exporters/latex.py\", line 92, in from_notebook_node\n",
            "    return super().from_notebook_node(nb, resources, **kw)\n",
            "           ^^^^^^^^^^^^^^^^^^^^^^^^^^^^^^^^^^^^^^^^^^^^^^^\n",
            "  File \"/usr/local/lib/python3.11/dist-packages/nbconvert/exporters/templateexporter.py\", line 429, in from_notebook_node\n",
            "    output = self.template.render(nb=nb_copy, resources=resources)\n",
            "             ^^^^^^^^^^^^^^^^^^^^^^^^^^^^^^^^^^^^^^^^^^^^^^^^^^^^^\n",
            "  File \"/usr/local/lib/python3.11/dist-packages/jinja2/environment.py\", line 1295, in render\n",
            "    self.environment.handle_exception()\n",
            "  File \"/usr/local/lib/python3.11/dist-packages/jinja2/environment.py\", line 942, in handle_exception\n",
            "    raise rewrite_traceback_stack(source=source)\n",
            "  File \"/usr/local/share/jupyter/nbconvert/templates/latex/index.tex.j2\", line 8, in top-level template code\n",
            "    ((* extends cell_style *))\n",
            "    ^^^^^^^^^^^^^^^^^^^^^^^^^\n",
            "  File \"/usr/local/share/jupyter/nbconvert/templates/latex/style_jupyter.tex.j2\", line 176, in top-level template code\n",
            "    \\prompt{(((prompt)))}{(((prompt_color)))}{(((execution_count)))}{(((extra_space)))}\n",
            "    ^^^^^^^^^^^^^^^^^^^^^^^^^\n",
            "  File \"/usr/local/share/jupyter/nbconvert/templates/latex/base.tex.j2\", line 7, in top-level template code\n",
            "    ((*- extends 'document_contents.tex.j2' -*))\n",
            "    ^^^^^^^^^^^^^^^^^^^^^^^^^\n",
            "  File \"/usr/local/share/jupyter/nbconvert/templates/latex/document_contents.tex.j2\", line 51, in top-level template code\n",
            "    ((*- block figure scoped -*))\n",
            "    ^^^^^^^^^^^^^^^^^^^^^^^^^\n",
            "  File \"/usr/local/share/jupyter/nbconvert/templates/latex/display_priority.j2\", line 5, in top-level template code\n",
            "    ((*- extends 'null.j2' -*))\n",
            "    ^^^^^^^^^^^^^^^^^^^^^^^^^\n",
            "  File \"/usr/local/share/jupyter/nbconvert/templates/latex/null.j2\", line 30, in top-level template code\n",
            "    ((*- block body -*))\n",
            "  File \"/usr/local/share/jupyter/nbconvert/templates/latex/base.tex.j2\", line 241, in block 'body'\n",
            "    ((( super() )))\n",
            "  File \"/usr/local/share/jupyter/nbconvert/templates/latex/null.j2\", line 32, in block 'body'\n",
            "    ((*- block any_cell scoped -*))\n",
            "    ^^^^^^^^^^^^^^^^^^^^^^^^^\n",
            "  File \"/usr/local/share/jupyter/nbconvert/templates/latex/null.j2\", line 85, in block 'any_cell'\n",
            "    ((*- block markdowncell scoped-*)) ((*- endblock markdowncell -*))\n",
            "    ^^^^^^^^^^^^^^^^^^^^^^^^^\n",
            "  File \"/usr/local/share/jupyter/nbconvert/templates/latex/document_contents.tex.j2\", line 68, in block 'markdowncell'\n",
            "    ((( cell.source | citation2latex | strip_files_prefix | convert_pandoc('markdown+tex_math_double_backslash', 'json',extra_args=[]) | resolve_references | convert_explicitly_relative_paths | convert_pandoc('json','latex'))))\n",
            "    ^^^^^^^^^^^^^^^^^^^^^^^^^\n",
            "  File \"/usr/local/lib/python3.11/dist-packages/nbconvert/filters/pandoc.py\", line 36, in convert_pandoc\n",
            "    return pandoc(source, from_format, to_format, extra_args=extra_args)\n",
            "           ^^^^^^^^^^^^^^^^^^^^^^^^^^^^^^^^^^^^^^^^^^^^^^^^^^^^^^^^^^^^^\n",
            "  File \"/usr/local/lib/python3.11/dist-packages/nbconvert/utils/pandoc.py\", line 50, in pandoc\n",
            "    check_pandoc_version()\n",
            "  File \"/usr/local/lib/python3.11/dist-packages/nbconvert/utils/pandoc.py\", line 98, in check_pandoc_version\n",
            "    v = get_pandoc_version()\n",
            "        ^^^^^^^^^^^^^^^^^^^^\n",
            "  File \"/usr/local/lib/python3.11/dist-packages/nbconvert/utils/pandoc.py\", line 75, in get_pandoc_version\n",
            "    raise PandocMissing()\n",
            "nbconvert.utils.pandoc.PandocMissing: Pandoc wasn't found.\n",
            "Please check that pandoc is installed:\n",
            "https://pandoc.org/installing.html\n"
          ]
        }
      ],
      "source": [
        "!ipython nbconvert \"/content/drive/MyDrive/Colab Notebooks/Copia de Prac1-code-listing.ipynb\" --to pdf"
      ]
    },
    {
      "cell_type": "code",
      "execution_count": null,
      "metadata": {
        "colab": {
          "base_uri": "https://localhost:8080/"
        },
        "id": "LaZMbb7E5xax",
        "outputId": "21668d9b-8d70-4336-ba85-52b9b4a4e28a"
      },
      "outputs": [
        {
          "name": "stdout",
          "output_type": "stream",
          "text": [
            "Overwriting custom_template.tplx\n"
          ]
        }
      ],
      "source": [
        "%%writefile custom_template.tplx\n",
        "((*- extends 'article.tplx' -*))\n",
        "\n",
        "((* block title *)) \\title{Document title} ((* endblock title *))\n",
        "((* block author *)) \\author{Author's Name} ((* endblock author *))"
      ]
    },
    {
      "cell_type": "code",
      "execution_count": null,
      "metadata": {
        "colab": {
          "base_uri": "https://localhost:8080/"
        },
        "id": "hizff2m85xax",
        "outputId": "88d1a54a-1d3e-415d-ac8b-1375f6df960a"
      },
      "outputs": [
        {
          "name": "stdout",
          "output_type": "stream",
          "text": [
            "[TerminalIPythonApp] WARNING | Subcommand `ipython nbconvert` is deprecated and will be removed in future versions.\n",
            "[TerminalIPythonApp] WARNING | You likely want to use `jupyter nbconvert` in the future\n",
            "[NbConvertApp] WARNING | pattern 'ch01-code-listing.ipynb' matched no files\n",
            "This application is used to convert notebook files (*.ipynb)\n",
            "        to various other formats.\n",
            "\n",
            "        WARNING: THE COMMANDLINE INTERFACE MAY CHANGE IN FUTURE RELEASES.\n",
            "\n",
            "Options\n",
            "=======\n",
            "The options below are convenience aliases to configurable class-options,\n",
            "as listed in the \"Equivalent to\" description-line of the aliases.\n",
            "To see all configurable class-options for some <cmd>, use:\n",
            "    <cmd> --help-all\n",
            "\n",
            "--debug\n",
            "    set log level to logging.DEBUG (maximize logging output)\n",
            "    Equivalent to: [--Application.log_level=10]\n",
            "--show-config\n",
            "    Show the application's configuration (human-readable format)\n",
            "    Equivalent to: [--Application.show_config=True]\n",
            "--show-config-json\n",
            "    Show the application's configuration (json format)\n",
            "    Equivalent to: [--Application.show_config_json=True]\n",
            "--generate-config\n",
            "    generate default config file\n",
            "    Equivalent to: [--JupyterApp.generate_config=True]\n",
            "-y\n",
            "    Answer yes to any questions instead of prompting.\n",
            "    Equivalent to: [--JupyterApp.answer_yes=True]\n",
            "--execute\n",
            "    Execute the notebook prior to export.\n",
            "    Equivalent to: [--ExecutePreprocessor.enabled=True]\n",
            "--allow-errors\n",
            "    Continue notebook execution even if one of the cells throws an error and include the error message in the cell output (the default behaviour is to abort conversion). This flag is only relevant if '--execute' was specified, too.\n",
            "    Equivalent to: [--ExecutePreprocessor.allow_errors=True]\n",
            "--stdin\n",
            "    read a single notebook file from stdin. Write the resulting notebook with default basename 'notebook.*'\n",
            "    Equivalent to: [--NbConvertApp.from_stdin=True]\n",
            "--stdout\n",
            "    Write notebook output to stdout instead of files.\n",
            "    Equivalent to: [--NbConvertApp.writer_class=StdoutWriter]\n",
            "--inplace\n",
            "    Run nbconvert in place, overwriting the existing notebook (only\n",
            "            relevant when converting to notebook format)\n",
            "    Equivalent to: [--NbConvertApp.use_output_suffix=False --NbConvertApp.export_format=notebook --FilesWriter.build_directory=]\n",
            "--clear-output\n",
            "    Clear output of current file and save in place,\n",
            "            overwriting the existing notebook.\n",
            "    Equivalent to: [--NbConvertApp.use_output_suffix=False --NbConvertApp.export_format=notebook --FilesWriter.build_directory= --ClearOutputPreprocessor.enabled=True]\n",
            "--coalesce-streams\n",
            "    Coalesce consecutive stdout and stderr outputs into one stream (within each cell).\n",
            "    Equivalent to: [--NbConvertApp.use_output_suffix=False --NbConvertApp.export_format=notebook --FilesWriter.build_directory= --CoalesceStreamsPreprocessor.enabled=True]\n",
            "--no-prompt\n",
            "    Exclude input and output prompts from converted document.\n",
            "    Equivalent to: [--TemplateExporter.exclude_input_prompt=True --TemplateExporter.exclude_output_prompt=True]\n",
            "--no-input\n",
            "    Exclude input cells and output prompts from converted document.\n",
            "            This mode is ideal for generating code-free reports.\n",
            "    Equivalent to: [--TemplateExporter.exclude_output_prompt=True --TemplateExporter.exclude_input=True --TemplateExporter.exclude_input_prompt=True]\n",
            "--allow-chromium-download\n",
            "    Whether to allow downloading chromium if no suitable version is found on the system.\n",
            "    Equivalent to: [--WebPDFExporter.allow_chromium_download=True]\n",
            "--disable-chromium-sandbox\n",
            "    Disable chromium security sandbox when converting to PDF..\n",
            "    Equivalent to: [--WebPDFExporter.disable_sandbox=True]\n",
            "--show-input\n",
            "    Shows code input. This flag is only useful for dejavu users.\n",
            "    Equivalent to: [--TemplateExporter.exclude_input=False]\n",
            "--embed-images\n",
            "    Embed the images as base64 dataurls in the output. This flag is only useful for the HTML/WebPDF/Slides exports.\n",
            "    Equivalent to: [--HTMLExporter.embed_images=True]\n",
            "--sanitize-html\n",
            "    Whether the HTML in Markdown cells and cell outputs should be sanitized..\n",
            "    Equivalent to: [--HTMLExporter.sanitize_html=True]\n",
            "--log-level=<Enum>\n",
            "    Set the log level by value or name.\n",
            "    Choices: any of [0, 10, 20, 30, 40, 50, 'DEBUG', 'INFO', 'WARN', 'ERROR', 'CRITICAL']\n",
            "    Default: 30\n",
            "    Equivalent to: [--Application.log_level]\n",
            "--config=<Unicode>\n",
            "    Full path of a config file.\n",
            "    Default: ''\n",
            "    Equivalent to: [--JupyterApp.config_file]\n",
            "--to=<Unicode>\n",
            "    The export format to be used, either one of the built-in formats\n",
            "            ['asciidoc', 'custom', 'html', 'latex', 'markdown', 'notebook', 'pdf', 'python', 'qtpdf', 'qtpng', 'rst', 'script', 'slides', 'webpdf']\n",
            "            or a dotted object name that represents the import path for an\n",
            "            ``Exporter`` class\n",
            "    Default: ''\n",
            "    Equivalent to: [--NbConvertApp.export_format]\n",
            "--template=<Unicode>\n",
            "    Name of the template to use\n",
            "    Default: ''\n",
            "    Equivalent to: [--TemplateExporter.template_name]\n",
            "--template-file=<Unicode>\n",
            "    Name of the template file to use\n",
            "    Default: None\n",
            "    Equivalent to: [--TemplateExporter.template_file]\n",
            "--theme=<Unicode>\n",
            "    Template specific theme(e.g. the name of a JupyterLab CSS theme distributed\n",
            "    as prebuilt extension for the lab template)\n",
            "    Default: 'light'\n",
            "    Equivalent to: [--HTMLExporter.theme]\n",
            "--sanitize_html=<Bool>\n",
            "    Whether the HTML in Markdown cells and cell outputs should be sanitized.This\n",
            "    should be set to True by nbviewer or similar tools.\n",
            "    Default: False\n",
            "    Equivalent to: [--HTMLExporter.sanitize_html]\n",
            "--writer=<DottedObjectName>\n",
            "    Writer class used to write the\n",
            "                                        results of the conversion\n",
            "    Default: 'FilesWriter'\n",
            "    Equivalent to: [--NbConvertApp.writer_class]\n",
            "--post=<DottedOrNone>\n",
            "    PostProcessor class used to write the\n",
            "                                        results of the conversion\n",
            "    Default: ''\n",
            "    Equivalent to: [--NbConvertApp.postprocessor_class]\n",
            "--output=<Unicode>\n",
            "    Overwrite base name use for output files.\n",
            "                Supports pattern replacements '{notebook_name}'.\n",
            "    Default: '{notebook_name}'\n",
            "    Equivalent to: [--NbConvertApp.output_base]\n",
            "--output-dir=<Unicode>\n",
            "    Directory to write output(s) to. Defaults\n",
            "                                  to output to the directory of each notebook. To recover\n",
            "                                  previous default behaviour (outputting to the current\n",
            "                                  working directory) use . as the flag value.\n",
            "    Default: ''\n",
            "    Equivalent to: [--FilesWriter.build_directory]\n",
            "--reveal-prefix=<Unicode>\n",
            "    The URL prefix for reveal.js (version 3.x).\n",
            "            This defaults to the reveal CDN, but can be any url pointing to a copy\n",
            "            of reveal.js.\n",
            "            For speaker notes to work, this must be a relative path to a local\n",
            "            copy of reveal.js: e.g., \"reveal.js\".\n",
            "            If a relative path is given, it must be a subdirectory of the\n",
            "            current directory (from which the server is run).\n",
            "            See the usage documentation\n",
            "            (https://nbconvert.readthedocs.io/en/latest/usage.html#reveal-js-html-slideshow)\n",
            "            for more details.\n",
            "    Default: ''\n",
            "    Equivalent to: [--SlidesExporter.reveal_url_prefix]\n",
            "--nbformat=<Enum>\n",
            "    The nbformat version to write.\n",
            "            Use this to downgrade notebooks.\n",
            "    Choices: any of [1, 2, 3, 4]\n",
            "    Default: 4\n",
            "    Equivalent to: [--NotebookExporter.nbformat_version]\n",
            "\n",
            "Examples\n",
            "--------\n",
            "\n",
            "    The simplest way to use nbconvert is\n",
            "\n",
            "            > jupyter nbconvert mynotebook.ipynb --to html\n",
            "\n",
            "            Options include ['asciidoc', 'custom', 'html', 'latex', 'markdown', 'notebook', 'pdf', 'python', 'qtpdf', 'qtpng', 'rst', 'script', 'slides', 'webpdf'].\n",
            "\n",
            "            > jupyter nbconvert --to latex mynotebook.ipynb\n",
            "\n",
            "            Both HTML and LaTeX support multiple output templates. LaTeX includes\n",
            "            'base', 'article' and 'report'.  HTML includes 'basic', 'lab' and\n",
            "            'classic'. You can specify the flavor of the format used.\n",
            "\n",
            "            > jupyter nbconvert --to html --template lab mynotebook.ipynb\n",
            "\n",
            "            You can also pipe the output to stdout, rather than a file\n",
            "\n",
            "            > jupyter nbconvert mynotebook.ipynb --stdout\n",
            "\n",
            "            PDF is generated via latex\n",
            "\n",
            "            > jupyter nbconvert mynotebook.ipynb --to pdf\n",
            "\n",
            "            You can get (and serve) a Reveal.js-powered slideshow\n",
            "\n",
            "            > jupyter nbconvert myslides.ipynb --to slides --post serve\n",
            "\n",
            "            Multiple notebooks can be given at the command line in a couple of\n",
            "            different ways:\n",
            "\n",
            "            > jupyter nbconvert notebook*.ipynb\n",
            "            > jupyter nbconvert notebook1.ipynb notebook2.ipynb\n",
            "\n",
            "            or you can specify the notebooks list in a config file, containing::\n",
            "\n",
            "                c.NbConvertApp.notebooks = [\"my_notebook.ipynb\"]\n",
            "\n",
            "            > jupyter nbconvert --config mycfg.py\n",
            "\n",
            "To see all available configurables, use `--help-all`.\n",
            "\n"
          ]
        }
      ],
      "source": [
        "!ipython nbconvert ch01-code-listing.ipynb --to pdf --template custom_template.tplx"
      ]
    },
    {
      "cell_type": "code",
      "execution_count": null,
      "metadata": {
        "colab": {
          "base_uri": "https://localhost:8080/"
        },
        "id": "1EJlIz2u5xax",
        "outputId": "ea889a87-49ee-405f-df34-620a2cebbe65"
      },
      "outputs": [
        {
          "name": "stdout",
          "output_type": "stream",
          "text": [
            "[TerminalIPythonApp] WARNING | Subcommand `ipython nbconvert` is deprecated and will be removed in future versions.\n",
            "[TerminalIPythonApp] WARNING | You likely want to use `jupyter nbconvert` in the future\n",
            "[NbConvertApp] WARNING | pattern 'ch01-code-listing.ipynb' matched no files\n",
            "This application is used to convert notebook files (*.ipynb)\n",
            "        to various other formats.\n",
            "\n",
            "        WARNING: THE COMMANDLINE INTERFACE MAY CHANGE IN FUTURE RELEASES.\n",
            "\n",
            "Options\n",
            "=======\n",
            "The options below are convenience aliases to configurable class-options,\n",
            "as listed in the \"Equivalent to\" description-line of the aliases.\n",
            "To see all configurable class-options for some <cmd>, use:\n",
            "    <cmd> --help-all\n",
            "\n",
            "--debug\n",
            "    set log level to logging.DEBUG (maximize logging output)\n",
            "    Equivalent to: [--Application.log_level=10]\n",
            "--show-config\n",
            "    Show the application's configuration (human-readable format)\n",
            "    Equivalent to: [--Application.show_config=True]\n",
            "--show-config-json\n",
            "    Show the application's configuration (json format)\n",
            "    Equivalent to: [--Application.show_config_json=True]\n",
            "--generate-config\n",
            "    generate default config file\n",
            "    Equivalent to: [--JupyterApp.generate_config=True]\n",
            "-y\n",
            "    Answer yes to any questions instead of prompting.\n",
            "    Equivalent to: [--JupyterApp.answer_yes=True]\n",
            "--execute\n",
            "    Execute the notebook prior to export.\n",
            "    Equivalent to: [--ExecutePreprocessor.enabled=True]\n",
            "--allow-errors\n",
            "    Continue notebook execution even if one of the cells throws an error and include the error message in the cell output (the default behaviour is to abort conversion). This flag is only relevant if '--execute' was specified, too.\n",
            "    Equivalent to: [--ExecutePreprocessor.allow_errors=True]\n",
            "--stdin\n",
            "    read a single notebook file from stdin. Write the resulting notebook with default basename 'notebook.*'\n",
            "    Equivalent to: [--NbConvertApp.from_stdin=True]\n",
            "--stdout\n",
            "    Write notebook output to stdout instead of files.\n",
            "    Equivalent to: [--NbConvertApp.writer_class=StdoutWriter]\n",
            "--inplace\n",
            "    Run nbconvert in place, overwriting the existing notebook (only\n",
            "            relevant when converting to notebook format)\n",
            "    Equivalent to: [--NbConvertApp.use_output_suffix=False --NbConvertApp.export_format=notebook --FilesWriter.build_directory=]\n",
            "--clear-output\n",
            "    Clear output of current file and save in place,\n",
            "            overwriting the existing notebook.\n",
            "    Equivalent to: [--NbConvertApp.use_output_suffix=False --NbConvertApp.export_format=notebook --FilesWriter.build_directory= --ClearOutputPreprocessor.enabled=True]\n",
            "--coalesce-streams\n",
            "    Coalesce consecutive stdout and stderr outputs into one stream (within each cell).\n",
            "    Equivalent to: [--NbConvertApp.use_output_suffix=False --NbConvertApp.export_format=notebook --FilesWriter.build_directory= --CoalesceStreamsPreprocessor.enabled=True]\n",
            "--no-prompt\n",
            "    Exclude input and output prompts from converted document.\n",
            "    Equivalent to: [--TemplateExporter.exclude_input_prompt=True --TemplateExporter.exclude_output_prompt=True]\n",
            "--no-input\n",
            "    Exclude input cells and output prompts from converted document.\n",
            "            This mode is ideal for generating code-free reports.\n",
            "    Equivalent to: [--TemplateExporter.exclude_output_prompt=True --TemplateExporter.exclude_input=True --TemplateExporter.exclude_input_prompt=True]\n",
            "--allow-chromium-download\n",
            "    Whether to allow downloading chromium if no suitable version is found on the system.\n",
            "    Equivalent to: [--WebPDFExporter.allow_chromium_download=True]\n",
            "--disable-chromium-sandbox\n",
            "    Disable chromium security sandbox when converting to PDF..\n",
            "    Equivalent to: [--WebPDFExporter.disable_sandbox=True]\n",
            "--show-input\n",
            "    Shows code input. This flag is only useful for dejavu users.\n",
            "    Equivalent to: [--TemplateExporter.exclude_input=False]\n",
            "--embed-images\n",
            "    Embed the images as base64 dataurls in the output. This flag is only useful for the HTML/WebPDF/Slides exports.\n",
            "    Equivalent to: [--HTMLExporter.embed_images=True]\n",
            "--sanitize-html\n",
            "    Whether the HTML in Markdown cells and cell outputs should be sanitized..\n",
            "    Equivalent to: [--HTMLExporter.sanitize_html=True]\n",
            "--log-level=<Enum>\n",
            "    Set the log level by value or name.\n",
            "    Choices: any of [0, 10, 20, 30, 40, 50, 'DEBUG', 'INFO', 'WARN', 'ERROR', 'CRITICAL']\n",
            "    Default: 30\n",
            "    Equivalent to: [--Application.log_level]\n",
            "--config=<Unicode>\n",
            "    Full path of a config file.\n",
            "    Default: ''\n",
            "    Equivalent to: [--JupyterApp.config_file]\n",
            "--to=<Unicode>\n",
            "    The export format to be used, either one of the built-in formats\n",
            "            ['asciidoc', 'custom', 'html', 'latex', 'markdown', 'notebook', 'pdf', 'python', 'qtpdf', 'qtpng', 'rst', 'script', 'slides', 'webpdf']\n",
            "            or a dotted object name that represents the import path for an\n",
            "            ``Exporter`` class\n",
            "    Default: ''\n",
            "    Equivalent to: [--NbConvertApp.export_format]\n",
            "--template=<Unicode>\n",
            "    Name of the template to use\n",
            "    Default: ''\n",
            "    Equivalent to: [--TemplateExporter.template_name]\n",
            "--template-file=<Unicode>\n",
            "    Name of the template file to use\n",
            "    Default: None\n",
            "    Equivalent to: [--TemplateExporter.template_file]\n",
            "--theme=<Unicode>\n",
            "    Template specific theme(e.g. the name of a JupyterLab CSS theme distributed\n",
            "    as prebuilt extension for the lab template)\n",
            "    Default: 'light'\n",
            "    Equivalent to: [--HTMLExporter.theme]\n",
            "--sanitize_html=<Bool>\n",
            "    Whether the HTML in Markdown cells and cell outputs should be sanitized.This\n",
            "    should be set to True by nbviewer or similar tools.\n",
            "    Default: False\n",
            "    Equivalent to: [--HTMLExporter.sanitize_html]\n",
            "--writer=<DottedObjectName>\n",
            "    Writer class used to write the\n",
            "                                        results of the conversion\n",
            "    Default: 'FilesWriter'\n",
            "    Equivalent to: [--NbConvertApp.writer_class]\n",
            "--post=<DottedOrNone>\n",
            "    PostProcessor class used to write the\n",
            "                                        results of the conversion\n",
            "    Default: ''\n",
            "    Equivalent to: [--NbConvertApp.postprocessor_class]\n",
            "--output=<Unicode>\n",
            "    Overwrite base name use for output files.\n",
            "                Supports pattern replacements '{notebook_name}'.\n",
            "    Default: '{notebook_name}'\n",
            "    Equivalent to: [--NbConvertApp.output_base]\n",
            "--output-dir=<Unicode>\n",
            "    Directory to write output(s) to. Defaults\n",
            "                                  to output to the directory of each notebook. To recover\n",
            "                                  previous default behaviour (outputting to the current\n",
            "                                  working directory) use . as the flag value.\n",
            "    Default: ''\n",
            "    Equivalent to: [--FilesWriter.build_directory]\n",
            "--reveal-prefix=<Unicode>\n",
            "    The URL prefix for reveal.js (version 3.x).\n",
            "            This defaults to the reveal CDN, but can be any url pointing to a copy\n",
            "            of reveal.js.\n",
            "            For speaker notes to work, this must be a relative path to a local\n",
            "            copy of reveal.js: e.g., \"reveal.js\".\n",
            "            If a relative path is given, it must be a subdirectory of the\n",
            "            current directory (from which the server is run).\n",
            "            See the usage documentation\n",
            "            (https://nbconvert.readthedocs.io/en/latest/usage.html#reveal-js-html-slideshow)\n",
            "            for more details.\n",
            "    Default: ''\n",
            "    Equivalent to: [--SlidesExporter.reveal_url_prefix]\n",
            "--nbformat=<Enum>\n",
            "    The nbformat version to write.\n",
            "            Use this to downgrade notebooks.\n",
            "    Choices: any of [1, 2, 3, 4]\n",
            "    Default: 4\n",
            "    Equivalent to: [--NotebookExporter.nbformat_version]\n",
            "\n",
            "Examples\n",
            "--------\n",
            "\n",
            "    The simplest way to use nbconvert is\n",
            "\n",
            "            > jupyter nbconvert mynotebook.ipynb --to html\n",
            "\n",
            "            Options include ['asciidoc', 'custom', 'html', 'latex', 'markdown', 'notebook', 'pdf', 'python', 'qtpdf', 'qtpng', 'rst', 'script', 'slides', 'webpdf'].\n",
            "\n",
            "            > jupyter nbconvert --to latex mynotebook.ipynb\n",
            "\n",
            "            Both HTML and LaTeX support multiple output templates. LaTeX includes\n",
            "            'base', 'article' and 'report'.  HTML includes 'basic', 'lab' and\n",
            "            'classic'. You can specify the flavor of the format used.\n",
            "\n",
            "            > jupyter nbconvert --to html --template lab mynotebook.ipynb\n",
            "\n",
            "            You can also pipe the output to stdout, rather than a file\n",
            "\n",
            "            > jupyter nbconvert mynotebook.ipynb --stdout\n",
            "\n",
            "            PDF is generated via latex\n",
            "\n",
            "            > jupyter nbconvert mynotebook.ipynb --to pdf\n",
            "\n",
            "            You can get (and serve) a Reveal.js-powered slideshow\n",
            "\n",
            "            > jupyter nbconvert myslides.ipynb --to slides --post serve\n",
            "\n",
            "            Multiple notebooks can be given at the command line in a couple of\n",
            "            different ways:\n",
            "\n",
            "            > jupyter nbconvert notebook*.ipynb\n",
            "            > jupyter nbconvert notebook1.ipynb notebook2.ipynb\n",
            "\n",
            "            or you can specify the notebooks list in a config file, containing::\n",
            "\n",
            "                c.NbConvertApp.notebooks = [\"my_notebook.ipynb\"]\n",
            "\n",
            "            > jupyter nbconvert --config mycfg.py\n",
            "\n",
            "To see all available configurables, use `--help-all`.\n",
            "\n"
          ]
        }
      ],
      "source": [
        "!ipython nbconvert ch01-code-listing.ipynb --to python"
      ]
    },
    {
      "cell_type": "markdown",
      "metadata": {
        "id": "u7uRHoj15xax"
      },
      "source": [
        "# Versions"
      ]
    },
    {
      "cell_type": "code",
      "execution_count": null,
      "metadata": {
        "colab": {
          "base_uri": "https://localhost:8080/",
          "height": 183
        },
        "id": "_IUVpATr5xax",
        "outputId": "dd5a2a39-1709-4e2e-e6fd-de3c1cd8f715"
      },
      "outputs": [
        {
          "name": "stdout",
          "output_type": "stream",
          "text": [
            "Requirement already satisfied: version_information in /usr/local/lib/python3.11/dist-packages (1.0.4)\n"
          ]
        },
        {
          "data": {
            "application/json": {
              "Software versions": [
                {
                  "module": "Python",
                  "version": "3.11.11 64bit [GCC 11.4.0]"
                },
                {
                  "module": "IPython",
                  "version": "7.34.0"
                },
                {
                  "module": "OS",
                  "version": "Linux 6.1.85+ x86_64 with glibc2.35"
                },
                {
                  "module": "numpy",
                  "version": "1.26.4"
                }
              ]
            },
            "text/html": [
              "<table><tr><th>Software</th><th>Version</th></tr><tr><td>Python</td><td>3.11.11 64bit [GCC 11.4.0]</td></tr><tr><td>IPython</td><td>7.34.0</td></tr><tr><td>OS</td><td>Linux 6.1.85+ x86\\_64 with glibc2.35</td></tr><tr><td>numpy</td><td>1.26.4</td></tr><tr><td colspan='2'>Wed Feb 12 18:12:55 2025 UTC</td></tr></table>"
            ],
            "text/latex": [
              "\\begin{tabular}{|l|l|}\\hline\n",
              "{\\bf Software} & {\\bf Version} \\\\ \\hline\\hline\n",
              "Python & 3.11.11 64bit [GCC 11.4.0] \\\\ \\hline\n",
              "IPython & 7.34.0 \\\\ \\hline\n",
              "OS & Linux 6.1.85+ x86\\_64 with glibc2.35 \\\\ \\hline\n",
              "numpy & 1.26.4 \\\\ \\hline\n",
              "\\hline \\multicolumn{2}{|l|}{Wed Feb 12 18:12:55 2025 UTC} \\\\ \\hline\n",
              "\\end{tabular}\n"
            ],
            "text/plain": [
              "Software versions\n",
              "Python 3.11.11 64bit [GCC 11.4.0]\n",
              "IPython 7.34.0\n",
              "OS Linux 6.1.85+ x86_64 with glibc2.35\n",
              "numpy 1.26.4\n",
              "Wed Feb 12 18:12:55 2025 UTC"
            ]
          },
          "execution_count": 113,
          "metadata": {},
          "output_type": "execute_result"
        }
      ],
      "source": [
        "!pip install version_information\n",
        "\n",
        "%reload_ext version_information\n",
        "%version_information numpy"
      ]
    }
  ],
  "metadata": {
    "colab": {
      "include_colab_link": true,
      "provenance": []
    },
    "kernelspec": {
      "display_name": "Python 3",
      "language": "python",
      "name": "python3"
    },
    "language_info": {
      "codemirror_mode": {
        "name": "ipython",
        "version": 3
      },
      "file_extension": ".py",
      "mimetype": "text/x-python",
      "name": "python",
      "nbconvert_exporter": "python",
      "pygments_lexer": "ipython3",
      "version": "3.12.3"
    },
    "widgets": {
      "application/vnd.jupyter.widget-state+json": {
        "11284b9fc12643d3ad81e58a8d5c6f60": {
          "model_module": "@jupyter-widgets/base",
          "model_module_version": "1.2.0",
          "model_name": "LayoutModel",
          "state": {
            "_model_module": "@jupyter-widgets/base",
            "_model_module_version": "1.2.0",
            "_model_name": "LayoutModel",
            "_view_count": null,
            "_view_module": "@jupyter-widgets/base",
            "_view_module_version": "1.2.0",
            "_view_name": "LayoutView",
            "align_content": null,
            "align_items": null,
            "align_self": null,
            "border": null,
            "bottom": null,
            "display": null,
            "flex": null,
            "flex_flow": null,
            "grid_area": null,
            "grid_auto_columns": null,
            "grid_auto_flow": null,
            "grid_auto_rows": null,
            "grid_column": null,
            "grid_gap": null,
            "grid_row": null,
            "grid_template_areas": null,
            "grid_template_columns": null,
            "grid_template_rows": null,
            "height": null,
            "justify_content": null,
            "justify_items": null,
            "left": null,
            "margin": null,
            "max_height": null,
            "max_width": null,
            "min_height": null,
            "min_width": null,
            "object_fit": null,
            "object_position": null,
            "order": null,
            "overflow": null,
            "overflow_x": null,
            "overflow_y": null,
            "padding": null,
            "right": null,
            "top": null,
            "visibility": null,
            "width": null
          }
        },
        "2ceef2981f09487c9ffc8e6a1e096640": {
          "model_module": "@jupyter-widgets/controls",
          "model_module_version": "1.5.0",
          "model_name": "FloatSliderModel",
          "state": {
            "_dom_classes": [],
            "_model_module": "@jupyter-widgets/controls",
            "_model_module_version": "1.5.0",
            "_model_name": "FloatSliderModel",
            "_view_count": null,
            "_view_module": "@jupyter-widgets/controls",
            "_view_module_version": "1.5.0",
            "_view_name": "FloatSliderView",
            "continuous_update": true,
            "description": "mu",
            "description_tooltip": null,
            "disabled": false,
            "layout": "IPY_MODEL_11284b9fc12643d3ad81e58a8d5c6f60",
            "max": 20,
            "min": 1,
            "orientation": "horizontal",
            "readout": true,
            "readout_format": ".2f",
            "step": 1,
            "style": "IPY_MODEL_d45176ed34f647649498460b69b972c4",
            "value": 1
          }
        },
        "314d7a9ef71041c4baebcc885d4addd1": {
          "model_module": "@jupyter-widgets/controls",
          "model_module_version": "1.5.0",
          "model_name": "VBoxModel",
          "state": {
            "_dom_classes": [
              "widget-interact"
            ],
            "_model_module": "@jupyter-widgets/controls",
            "_model_module_version": "1.5.0",
            "_model_name": "VBoxModel",
            "_view_count": null,
            "_view_module": "@jupyter-widgets/controls",
            "_view_module_version": "1.5.0",
            "_view_name": "VBoxView",
            "box_style": "",
            "children": [
              "IPY_MODEL_2ceef2981f09487c9ffc8e6a1e096640",
              "IPY_MODEL_a930f96c12d0464daee9b76718dc34d3"
            ],
            "layout": "IPY_MODEL_eb2a6bf6c23b4256bd3aac66b44fea6d"
          }
        },
        "a930f96c12d0464daee9b76718dc34d3": {
          "model_module": "@jupyter-widgets/output",
          "model_module_version": "1.0.0",
          "model_name": "OutputModel",
          "state": {
            "_dom_classes": [],
            "_model_module": "@jupyter-widgets/output",
            "_model_module_version": "1.0.0",
            "_model_name": "OutputModel",
            "_view_count": null,
            "_view_module": "@jupyter-widgets/output",
            "_view_module_version": "1.0.0",
            "_view_name": "OutputView",
            "layout": "IPY_MODEL_ec5e6406a3504aef85d61241782069b9",
            "msg_id": "",
            "outputs": [
              {
                "data": {
                  "image/png": "iVBORw0KGgoAAAANSUhEUgAAAiQAAAGdCAYAAAAi3mhQAAAAOnRFWHRTb2Z0d2FyZQBNYXRwbG90bGliIHZlcnNpb24zLjEwLjAsIGh0dHBzOi8vbWF0cGxvdGxpYi5vcmcvlHJYcgAAAAlwSFlzAAAPYQAAD2EBqD+naQAATCNJREFUeJzt3Xd4VGXCxuHfzKT3CiHSISIoEKSJAiItIqIIroiIwiJrAcsXdSWigBWsi4ssKNJ2XRZcV9BdFMQoAgqCQFCkSJUiAZJAep2Z74/IaCRAEpK8Sea5r2sueU/OzHlmQObhPc3idDqdiIiIiBhkNR1ARERERIVEREREjFMhEREREeNUSERERMQ4FRIRERExToVEREREjFMhEREREeNUSERERMQ4D9MBysLhcPDzzz8TGBiIxWIxHUdERETKwOl0kpmZSXR0NFbr+edAakUh+fnnn2nUqJHpGCIiIlIBhw8fpmHDhuddp1YUksDAQKD4DQUFBRlOIyIiImWRkZFBo0aNXN/j51MrCsmZ3TRBQUEqJCIiIrVMWQ630EGtIiIiYpwKiYiIiBinQiIiIiLG1YpjSMrCbrdTWFhoOoaIiAA2mw0PDw9dqkHKrE4UkqysLI4cOYLT6TQdRUREfuHn50eDBg3w8vIyHUVqgVpfSOx2O0eOHMHPz4/IyEi1cRERw5xOJwUFBZw8eZIDBw4QExNzwYtiidT6QlJYWIjT6SQyMhJfX1/TcUREBPD19cXT05OffvqJgoICfHx8TEeSGq7OVFbNjIiI1CyaFZHy0J8WERERMU6FRERERIxTIRERERHjVEhELuDw4cP06tWLNm3a0K5dO/7973+bjiQiUufU+rNsRKqah4cH06dPJzY2luTkZDp27MgNN9yAv7+/6WgiInWGZkik3Hr16sUjjzxSYllqair16tXj4MGDRjJVpQYNGhAbGwtAVFQUERERpKWlVWuG22+/nddee61atykiUp1USAwaNWoUFouFadOmlVi+bNmyWnca8wsvvMDNN99M06ZNq3W7a9asYdCgQURHR2OxWFi2bFmVbm/z5s3Y7XYaNWpUaa9Zlvfw1FNP8cILL5Cenl5p2xURqUm0y8YwHx8fXnrpJe69915CQ0Mr5TULCgqq9VLNOTk5zJ07l5UrV1bbNs/Izs6mffv2/PGPf2TIkCFVuq20tDTuuusu5syZU6mvW5b3cMUVV9CiRQveffddxo0bV6nbL6umE5ZX27YOThtYbdv6rV69ehEbG8v06dONbL80qamptG7dmo0bN7oK/4QJE/jLX/7C0KFDWbRokZFct99+O507d+bRRx81sn2pezRDYljfvn2Jiopi6tSp51wnPz+fhx56iHr16uHj40P37t3ZtGmT6+e9evVi/PjxPPLII0RERBAXF+da/uCDD/LII48QGhpK/fr1mTNnDtnZ2YwePZrAwEBatmzJJ598UmJ7K1asoHv37oSEhBAeHs6NN97Ivn37zpnv448/xtvbm6uuusq1bN26dXh6epKXl+dadvDgQSwWCz/99FO5P6dzGTBgAM8//zy33HJLhV9jw4YN9OnTh/DwcCwWS4lHRkYGUPx7MHjwYCZMmMDVV19dWfGBsr+HQYMGsXjx4krddl1zZtbRYrHg5eVFy5YtefbZZykqKirT8z/44AOee+65Kk5ZPqXNPiYkJPDaa6/xr3/9i71791bJdi80c6dZO6lsKiSG2Ww2XnzxRWbMmMGRI0dKXefPf/4z//nPf1i4cCFbtmyhZcuWxMXFlTiOYeHChXh5efHVV18xe/bsEssjIiLYuHEjDz74IPfffz9/+MMfuPrqq9myZQv9+/dn5MiR5OTkuJ6TnZ1NfHw83377LYmJiVitVm655RYcDkep+dauXUvHjh1LLEtKSqJ169YlLhe9detWQkNDadKkyVmv8eKLLxIQEHDex6FDh8r2oZbDtm3b6NWrFx06dGDt2rWsWLGCsLAw+vTpw5IlSwgKCsLpdDJq1Ch69+7NyJEjz/laVf0eunTpwsaNG8nPz6/wa7iD66+/nmPHjrFnzx4effRRpkyZwiuvvFKm54aFhREYGFjFCcvuzOzjmDFjSiwPDg5mzJgxWK1Wvv/++yrZ9pmZu5kzZ5b689/O2olUBhWSGuCWW24hNjaWyZMnn/Wz7OxsZs2axSuvvMKAAQNo06YNc+bMwdfXl7lz57rWi4mJ4eWXX6ZVq1a0atXKtbx9+/Y89dRTxMTEkJCQgI+PDxEREYwdO5aYmBgmTZpEamoq3333nes5Q4cOZciQIbRs2ZLY2FjmzZvH999/z44dO0rN/9NPPxEdHV1i2bZt2+jQoUOJZUlJSbRv377U17jvvvtISko67+P326gMDz30EEOGDOHVV1+lTZs2xMXFMXz4cLKzs7ntttsA+Oqrr1iyZAnLli0jNjaW2NjYUr8Eqvo9REdHU1BQQHJycoVfwx14e3sTFRVFkyZNuP/+++nbty8fffQRULbZxt8esP3+++/Ttm1bfH19CQ8Pp2/fvmRnZ1/wZ2Xd1kMPPcSf//xnwsLCiIqKYsqUKSXeS2mzj2cUFRXh5+fH9u3bK+NjO0tZZu40ayeVqU4eQ9KpUycjf2lHRUXx7bffVui5L730Er179+axxx4rsXzfvn0UFhZyzTXXuJZ5enrSpUsXdu7c6Vr2+xmKM9q1a+f6tc1mIzw8nLZt27qW1a9fH4ATJ064lu3Zs4dJkybxzTffkJKS4poZOXToEFdcccVZ28jNzT3rxllJSUnccccdJZZt3brVdbbK74WFhREWFlbqz6rK8ePHWbduHV9++WWJ5f7+/iUOKu7evfs5Z4d+q6rfw5mbR/52NksuzNfXl9TUVKDkbGOTJk14+eWXiYuLY+/evWf93h07dozhw4fz8ssvc8stt5CZmcnatWtxOp3n/dkZZdnWwoULiY+P55tvvmH9+vWMGjWKa665hn79+gGlzz6e8dRTT5GVlXXeQvLiiy/y4osvnvfz2bFjB40bN77wB1mKLl268MILL5Cfn4+3t3eFXkPkjDpZSJKTkzl69KjpGOXSs2dP4uLiSEhIYNSoUeV+/rmuieHp6VlibLFYSiw788X72y/cQYMG0aRJE+bMmUN0dDQOh4MrrriCgoKCUrcRERHBqVOnXGO73c727dvPmiHZsmULQ4cOLfU1qvovztJs3rwZh8Nx1qzN5s2b6dSpU7lfr6rfw5lddJGRkRV6vrtxOp0kJiaycuVKHnzwQdds44IFCxgwYAAAc+bMYdWqVcydO5fHH3+8xPOPHTtGUVERQ4YMce1mPFPmf/zxx3P+DCjzttq1a+eaGY2JieHNN98kMTHRVUhKm32E4j+js2fPZuDAgectJPfdd59rpu9cKmvWrrRdsSLlUScLSVRUVK3c7rRp04iNjS2xy6VFixauY0PO/A9fWFjIpk2bzroWSGVITU1l9+7dzJkzhx49egDFB6ieT4cOHUrsR969ezd5eXkl/qJbv349R48ePecMSVX/xVmaMyUsOzvbddzAd999x5o1a3j++efL/XpV/R62b99Ow4YNiYiIqPBruIP//e9/BAQEUFhYiMPh4I477mDKlCllnm08o3379vTp04e2bdsSFxdH//79ufXWWwkNDT3vz6DsM5u/ncGE4mve/Ha2srTZR4fDwb333sv48ePp2rUrd955J4WFhWf94wM0aye1S50sJBXdbWJa27ZtGTFiBH/9619dy/z9/bn//vt5/PHHCQsLo3Hjxrz88svk5OScdaBbZQgNDSU8PJy3336bBg0acOjQISZMmHDe55yZ2Tl16hShoaEkJSUBMGPGDB566CH27t3LQw89BHDOWZaK/sWZlZVV4iyDAwcOkJSU5Pqszqdr1674+vry+OOPM3HiRPbt28e4ceMYN25cqfvsL6Sq38PatWvp379/uV/f3Vx33XXMmjULLy8voqOj8fCo2F9zNpuNVatW8fXXX/Ppp58yY8YMJk6cyDfffEOzZs3O+7OyKm0G87ezlb+ffYTi/69SUlJ49tlnOXToEIWFhezatavEDM0ZmrWT2kQHtdYwzz777FnHK0ybNo2hQ4cycuRIrrzySvbu3cvKlSsr7bolv2W1Wlm8eDGbN2/miiuu4P/+7/8ueIZC27ZtufLKK3nvvfeA4uNH4uLi2L9/P23btmXixIk888wzBAUFlShbleHbb7+lQ4cOrt1D8fHxdOjQgUmTJrnWWbBgQakXmouMjOS9995j48aNtGvXjocffpjx48dX+xVRy/Ie8vLyWLZsGWPHjq3WbLWRv78/LVu2pHHjxiXKyG9nG884M9vYpk2bUl/LYrFwzTXX8Mwzz7B161a8vLxYunTpBX9WkW2VpkOHDiUOJj969ChPP/00M2fOxN/fn5iYGLy9vc+526aqD7TWrJ1Upjo5Q1JbLFiw4KxlTZs2Peu0Th8fH/7617+e88t89erVZV5e2qXdf3sgHhRfG+X3Z9T8dp3SXnfSpEk8/vjjjB07lm3bttG5c+ezdnv8/iDXytCrV6+z8v/egQMHuPbaa0v92Y033siNN95Y6bnKoyzvYf78+XTp0qVCMzdSrLyzjd988w2JiYn079+fevXq8c0333Dy5Elat2593p9VZFvn8vvZx4ceeogBAwYwcGDxheM8PDxo3br1OQvJxeyyKcvMnWbtpDKpkEilGDhwIHv27OHo0aNs27aNP/7xj6YjuXzyySe8+eabpmNcFE9PT2bMmGE0g6mrp1amadOm4XA4GDlyJJmZmXTq1Omcs41BQUGsWbOG6dOnk5GRQZMmTXjttdcYMGAAO3fuPOfPKrKtc/nt7OMll1zC559/ftbxLm3btq2SU3+//fZbrrvuOtc4Pj4egLvvvpsFCxa4Zu1WrFhR6dsW92RxXuifZjVARkYGwcHBpKenExQUVOJneXl5HDhwgGbNmp118JdUv+TkZBo0aMAPP/xQrqlpESnd8uXLefzxx9m+fTtWa83Zyz5r1iyWLl3Kp59+es519PeznO/7+/c0QyKVKioq6oK7H0Sk7H47+1iZN3W8WDVh1k7qFhUSEZEaripO8b9Y99xzj+kIUsfUnPk/ERERcVsqJCIiImKcComIiIgYp0IiIiIixqmQiIiIiHF1ppDoVFMRkZrl97fBEDmfWn/ar6enJxaLhZMnTxIZGVnqPUtERKT6OJ1OCgoKOHnyJFarFS8vL9ORpBao9YXEZrPRsGFDjhw5Uup9WkRExAw/Pz8aN25co64wKzVXrS8kAAEBAcTExFBYWGg6ioiIUPyPRQ8PD81aS5nViUICxX/4bTab6RgiIiJSAZpHExEREeNUSERERMQ4FRIRERExToVEREREjFMhEREREeNUSERERMQ4FRIRERExToVEREREjFMhEREREeNUSERERMQ4FRIRERExToVEREREjFMhEREREeNUSERERMQ4FRIRERExToVEREREjFMhEREREeNUSERERMQ4FRIRERExToVEREREjFMhEREREeNUSERERMQ4FRIRERExToVEREREjFMhEREREeNUSERERMQ4FRIRERExrkKFZObMmTRt2hQfHx+6du3Kxo0by/S8xYsXY7FYGDx4cEU2KyIiInVUuQvJkiVLiI+PZ/LkyWzZsoX27dsTFxfHiRMnzvu8gwcP8thjj9GjR48KhxUREZG6qdyF5PXXX2fs2LGMHj2aNm3aMHv2bPz8/Jg3b945n2O32xkxYgTPPPMMzZs3v6jAIiIiUvd4lGflgoICNm/eTEJCgmuZ1Wqlb9++rF+//pzPe/bZZ6lXrx5jxoxh7dq1F9xOfn4++fn5rnFGRkZ5YkoN4XQ6OX36NAcPHuTAgQMcPHjQ9UhLS6NRo0a0aNGixKNBgwZYrTq0SUTE3ZSrkKSkpGC326lfv36J5fXr12fXrl2lPmfdunXMnTuXpKSkMm9n6tSpPPPMM+WJJjXE/v37mT9/PsuXL2ffvn3lLpM+Pj40b96cNm3acMcdd3DjjTfi6elZRWlFRKSmKFchKa/MzExGjhzJnDlziIiIKPPzEhISiI+Pd40zMjJo1KhRVUSUSpCbm8sHH3zA3Llz+eKLLy7qtfLy8tixYwc7duzg/fffJyoqilGjRnHPPffQokWLSkosIiI1TbkKSUREBDabjePHj5dYfvz4caKios5af9++fRw8eJBBgwa5ljkcjuINe3iwe/fuUr9kvL298fb2Lk80qWZOp5MtW7Ywd+5cFi1aRHp6eomfW61WmjVrRtOmTUs8ziwLDQ3l0KFD7Nu3j/3797Nv3z7XY//+/a5ddsnJyUybNo1p06bRp08f/vSnP3HzzTfrz4eISB1jcTqdzvI8oWvXrnTp0oUZM2YAxQWjcePGjB8/ngkTJpRYNy8vj71795ZY9tRTT5GZmckbb7zBpZdeipeX1wW3mZGRQXBwMOnp6QQFBZUnrlSBjz/+mIkTJ5a6Gy4mJoYxY8YwcuRIoqOjK/T6drudzz77jDlz5vDhhx9SVFRU4ucRERGMGTOGhIQEgoODK7QNERGpeuX6/naW0+LFi53e3t7OBQsWOHfs2OH805/+5AwJCXEmJyc7nU6nc+TIkc4JEyac8/l333238+abby7XNtPT052AMz09vbxxpRIdP37cefvttzuBEg8/Pz/nqFGjnGvWrHE6HI5K3WZycrJz2rRpzpYtW5613UsuucT50UcfVer2RESk8pTn+7vcpzMMGzaMV199lUmTJhEbG0tSUhIrVqxwHeh66NAhjh07Vt6XlRrM6XQyf/58LrvsMhYvXuxa3qlTJ95++22OHTvG/Pnz6dGjBxaLpVK3Xb9+fZ544gl2795NYmIit99+u2tW7ejRo9x0000MHz78gtfBERGRmq3cu2xM0C4bc/bu3ct9991HYmKia1lYWBh/+ctfGDlyZKUXkLL46aefuPfee1m5cqVrWXh4OG+88QZ33HGHkUwiInK28nx/64IPUqrCwkJeeukl2rZtW6KMjBgxgl27dnHXXXcZ++Jv0qQJn3zyCX//+98JCwsDIDU1lTvvvJOBAwdy6NAhI7lERKTiVEjkLD/++COdO3dmwoQJ5OXlAcUl4OOPP+bdd98lMjLScEKwWCyMHDmSHTt2cNttt7mWf/LJJ1x++eXMnj2bWjD5JyIiv1AhkRK++uorunXrxrZt24Di03f/7//+j+3btzNgwADD6c5Wv359lixZwtKlS2nQoAEAWVlZ3H///YwbNw673W44oYiIlIUKibi8//779OnTh7S0NADatGnDhg0beP311wkICDCc7vwGDx7Mjh07GDt2rGvZrFmzGDJkCDk5OQaTiYhIWaiQCE6nk9dff53bbrvNdUGyfv36sX79ejp37mw4XdmFhITw9ttv8/e//x0Pj+Jr/n300Uf06dOHlJQUw+lEROR8VEjcnN1u5+GHH+bRRx91HXMxatQoli9fXmvPaBo5ciQff/wxgYGBAGzYsIGrr76affv2GU4mIiLnokLixnJycrj11ltdV90FmDJlCvPmzav1N7Tr168fa9ascR1XsmfPHrp168amTZsMJxMRkdKokLipkydP0rt3b5YtWwYU31to/vz5TJ48uc5cxyM2NpYNGzbQunVroPg99+rVi+XLlxtOJiIiv6dC4oYOHz5Mt27d+OabbwAIDAxk+fLljBo1ymywKtC4cWO++uorevToARTPCt18883MnTvXcDIREfktFRI3k5qaSv/+/V3HU1xyySWsXbuW/v37G05WdUJDQ/n000/5wx/+ABQfN3PPPffwz3/+03AyERE5Q4XEjWRnZzNw4EB27doFQMuWLdmwYQPt27c3nKzq+fj4sHjxYh555BHXslGjRvHpp5+aCyUiIi4qJG6isLCQW2+91bWbJioqik8//ZSGDRsaTlZ9rFYrr7/+Ovfeey8ARUVFDBkyRAe6iojUACokbsDhcDB69GhWrFgBQHBwMCtXrqRZs2aGk1U/i8XCzJkzueWWW4DiWaMbbriBH3/80XAyERH3pkJSxzmdTh599FHX8RI+Pj7897//pV27doaTmWOz2Vi0aBE9e/YEICUlhbi4OI4dO2Y4mYiI+1IhqeNeeuklpk+fDhTvsliyZInrjBN35uPjw4cffkjbtm0BOHjwIAMGDCA9Pd1wMhER96RCUofNnTuXhIQE1/jtt9/mpptuMpioZgkJCWHFihU0adIEgG3btjF48GDXHY5FRKT6qJDUUR9++CF/+tOfXOOpU6cyZswYg4lqpujoaFauXEl4eDgAq1ev5s4779RdgkVEqpnFeeYGJjVYRkYGwcHBpKenV/r9VZpOqHtX7Sw4vo/kdx/HWVQAQGCnmwntfc9FX4H14LSBlREPqHmfe/7Puzm++EmchcU3FwzsOIiwvvcaTlWsMj93EZHqVJ7vb82Q1DH2vCxOLn3RVUb82/QitPeYOnM5+KriHd2KyMFPgtUGQObm/5L1wxeGU4mIuA8VkjrE6XSQ+r/XKEo/DoBXg0sJH/AwFot+m8vCt3lHwvqPc43TVr5JwcmD5gKJiLgRfVPVIRkb3id3X/FFvqy+QUQOnoDFo3bftbe6Bbbvj3/bfgA4C/M5uWwajvwcw6lEROo+FZI6IvdgEqfXvvvLyELEoMfwCKpnNFNtFdbvPjzrNQegKO0IqStmUAsOtRIRqdVUSOqAoswUUv77CjgdAAR3vwPfZlcaTlV7WT29iRycgMXbH4CcXWvJ3Pxfw6lEROo2FZJazmkvJGXZNBw5xRf08mnWkeCrhxlOVft5hjYg4oZHXONTX8wl/+hOc4FEROo4FZJa7tQX88n/ufjuvbagSCIGPaqDWCuJ36XdCOoypHjgsHPyw5ew5+hKriIiVUHfXLVY9s41ZG7+qHhg8yBycAI238q9Tou7C7n2brwbXg6APTOFlP++itOhi6aJiFQ2FZJaqjDlMKkrZrjGYX3+hHeDSw0mqpssVhsRNz+B1T8EgLyDW0n/erHZUCIidZAKSS3kKMzn5LKpOAtyAfC//DoCYgcYTlV3eQSEEXnTn+GXXWHpXy0md/9mw6lEROoWFZJa6PTaf1CYeggAz4gmhMWN05VYq5hP43aE9Bz5y8hJysd/wZ6bYTSTiEhdokJSy+Qd3k7mpg+LBzbP4t0Jnj5mQ7mJoK5D8WneEQBH9mnSVs02nEhEpO5QIalFHAW5pC7/C1B8ka7QniPximhsNpQbsVishA94GKtPAAA5O9eQvWud4VQiInWDCkktcuqLea771Hg3bENgp5sNJ3I/HgFhhPW73zVO+/Rv2LNPGUwkIlI3qJDUErn7N5OV9AkAFk9vwm/4Pyy/3JlWqpdf6574XXo1AI7cDFJXztSl5UVELpIKSS1gz8si9ZO/usah143BM7SBwUTuzWKxEBY3DqtfMAC5ezaQ/cMXhlOJiNRuKiS1wKnP3sKelQqAT9MOOsW3BrD5BRMeN841TvvsLYoyUgwmEhGp3VRIaricH792/evb4u1P+ICHdIpvDeF36dX4t+kFgDM/m9QVf9WuGxGRClIhqcHsOemkrpzpGof1/RMeQZEGE8nvhfa7D1tAGAB5B7aQtW2l4UQiIrWTCkkN5XQ6SVs503UXX9+Yq/C/vLfhVPJ7Np8Awq9/yDU+9cVc15lQIiJSdiokNVTOzi/J+fFrAKy+QYTraqw1lm+LTgS06w+AsyCXlI+n43Q6DKcSEaldVEhqIHtOOmmr3nKNw/o/gM0/1GAiuZDQ3vdg+2V3Wv6h78ncstxwIhGR2kWFpAY69cV8HHmZAPhd1gP/y7obTiQXYvX2I/yGR1zj02v+TlFmqrlAIiK1jApJDZN36Huyt38GFJ9VE9bnT4YTSVn5NmlfYtfNqc/fMZxIRKT2UCGpQZz2whJn1YReeze2AO2qqU1Ceo3C6hsEQM6uteTu32w4kYhI7aBCUoNkbFxKUdoRALwatCIg9nrDiaS8bL5BhF43xjVOWzULR2G+wUQiIrWDCkkNUXjqGOlfLy4eWKy/nFWj357ayP+K3ng3ugKAotPJZGz4t+FEIiI1n77xagCn00naqtk4iwoACOx0E171mxtOJRVlsVgI7z8OrB4ApG94n8LUw4ZTiYjUbCokNUDOrnXkHSg+1sAWGEFI9xGGE8nF8oxoRFDXIcUDRxGpn87SZeVFRM5DhcQwR342pz6f4xqH9b0Xq5evwURSWYK73YZHcH0A8g99R/aO1WYDiYjUYCokhp1e+y72rDQAfFt2wTfmKsOJpLJYPX0I63efa3zq83ew52UZTCQiUnOpkBiUf2wPmZv/B4DF05uwvvfp8vB1jG+Lzvi1ugYAR046p79cYDaQiEgNpUJiiNNhJ23lm0DxcQXB19yBR3A9s6GkSoT2GYvll91wWUkryD+603AiEZGaR4XEkMytH1NwfB8AnpFNCep0s+FEUlU8AiMI6X6na5y6ciZOh91gIhGRmkeFxAB7Tjqn177rGof1H4fF5mEwkVS1wI434lmv+FTuwpMHXbvqRESkmAqJAafXvoszPxsA/7Z98WnY2nAiqWoWq43wuHGucfpXi7DnpBtMJCJSs6iQVLOCE/vJ2rYSAIuXL6E97zacSKqLd3Qr/K/oCxSf7n163T8NJxIRqTlUSKqR0+kkLXEOOB0ABF89TDfPczMh195V4gDXghMHDCcSEakZVEiqUe6P68k/9D0AHiENCOqoA1ndjUdAGMHdbiseOB2c+nyOruAqIoIKSbVxFhWQ9sVc1zi09xgsHp4GE4kpQZ1udl3BNe+n78jds8FwIhER81RIqknGpmXY048D4NMkFt+WXQ0nElMsHl6E9h7jGp/6Yi7OokKDiUREzFMhqQZFmamkr3+veGCxEtrnHl2R1c35xnTDu3E7AIpOJ5Px7YeGE4mImKVCUg1Or1mIszAPgMAOA/CKbGo2kBhnsVgI6zMWLMX/C6avX4I965ThVCIi5qiQVLH8n3eTvf1zAKw+AQR3H2E4kdQUXvWaEdA+DgBnQS6n1vzdcCIREXNUSKqQ0+kg7bO3XePg7iOw+QYZTCQ1TUiPO7F4+wOQ/f1n5CfvNZxIRMSMChWSmTNn0rRpU3x8fOjatSsbN24857offPABnTp1IiQkBH9/f2JjY/nHP/5R4cC1SfaOLyk4thsAz/DGBMYOMJxIahqbXzAh19zxy8jJqc/e1mnAIuKWyl1IlixZQnx8PJMnT2bLli20b9+euLg4Tpw4Uer6YWFhTJw4kfXr1/Pdd98xevRoRo8ezcqVKy86fE3mKMjl9Or5rnFon7G6X42UKvDKgXiENQQg/+gOcnatNZxIRKT6lbuQvP7664wdO5bRo0fTpk0bZs+ejZ+fH/PmzSt1/V69enHLLbfQunVrWrRowcMPP0y7du1Yt27dRYevyTK++Q/2rDQAfFt2wbdZB8OJpKay2DwI632Pa3zqi/k4fjkIWkTEXZSrkBQUFLB582b69u376wtYrfTt25f169df8PlOp5PExER2795Nz549z7lefn4+GRkZJR61SVFmChkblxYPrB6EXjfm/E8Qt+fbohM+zTsCYM88Sea3HxlOJCJSvcpVSFJSUrDb7dSvX7/E8vr165OcnHzO56WnpxMQEICXlxcDBw5kxowZ9OvX75zrT506leDgYNejUaNG5YlpXPq6RTiL8gEI7HADnmGXGE4ktUHYdff8ehrwhn/rbsAi4laq5SybwMBAkpKS2LRpEy+88ALx8fGsXr36nOsnJCSQnp7uehw+fLg6YlaKgpMHyfr+MwAs3v4EX3O74URSW3hGNCKgfX+g+DTg9K/+ZTiRiEj1KddRlhEREdhsNo4fP15i+fHjx4mKijrn86xWKy1btgQgNjaWnTt3MnXqVHr16lXq+t7e3nh7e5cnWo1xavX8X+/me9UfdJqvlEvINSPI/mE1zsI8MpM+IbDjINORRESqRblmSLy8vOjYsSOJiYmuZQ6Hg8TERLp161bm13E4HOTn55dn07VC7sEk8vZvBsAWGKkvEyk3W0AoQV2GFA8cdk5/udBsIBGRalLuXTbx8fHMmTOHhQsXsnPnTu6//36ys7MZPXo0AHfddRcJCQmu9adOncqqVavYv38/O3fu5LXXXuMf//gHd955Z+W9ixrA6XSUOM03pOdIrJ61c5ZHzArqcgs2/1AAcn78ukwHjIuI1HblvjDGsGHDOHnyJJMmTSI5OZnY2FhWrFjhOtD10KFDWK2/9pzs7GweeOABjhw5gq+vL5dddhnvvvsuw4YNq7x3UQNk7/iSguP7APCs1xz/y3uZDSS1ltXLl+DuI0hb+SYAjz32GOvWrdMNGUWkTrM4a8FlITMyMggODiY9PZ2goMo9JqPphOUX/RrOogKOzrkXe8ZJAOoNex7fprEX/bo1zcFpAyvttSrjc6/LnA47x+aNpzC1+IDuDz74gFtuucVwKhGR8inP97fuZVMJMjb/11VGfJp1rJNlRKqXxWojpNco1/iJJ56gsLDQXCARkSqmQnKR7LkZpK9/75eRhdDffImIXAzfFl3wbnQFAHv27GHOnDmGE4mIVB0VkouU/vUSnPnZAPi37YNXvWaGE0ldYbFYCO012jWeMmVKrbtqsYhIWamQXITC08lkbik+FsLi4U1Ij7p15pCY5x3dynUA+MmTJ3nllVcMJxIRqRoqJBfh9JcLwVEEQGDnwXgERhhOJHXRiy++iKenJwCvvfYaR48eNZxIRKTyqZBUUP6xH123ibf6BRPcdajhRFJXNW/enHHjxgGQm5vL5MmTDScSEal8KiQV4HQ6ObV6gWsccs1wrN5+5gJJnffUU08RHBwMwPz58/nhhx8MJxIRqVwqJBWQdzCJ/EPfAeAR0oCA9tcbTiR1XXh4uOsKyA6Hg4kTJxpOJCJSuVRIysnpdHD6ywWucUiPO7HYyn3BW5Fye/DBB4mOjgbgww8/1CXlRaROUSEpp5xdX7kuEe9VvwV+rXsYTiTuws/Pr8TxIxMmTKAWXGhZRKRMVEjKwWkv4vTav7vGIT3vwmLRRyjVZ/To0cTExACwZs0aVqxYYTiRiEjl0LdpOWR9v4qiU8cA8G7cFp9mVxpOJO7G09OTF154wTVOSEjA4XAYTCQiUjlUSMrIUZhH+lf/co1Drx2lu6+KEUOHDqVjx44AbNu2jSVLlhhOJCJy8VRIyihz83+xZ6UB4HtpN7yjWxlOJO7KarUydepU1/ipp56ioKDAYCIRkYunQlIG9rwsMja8XzywWAntcZfZQOL2+vXrR58+fQDYv38/77zzjuFEIiIXR4WkDDI2vI/jzA30ruiDZ0Qjw4lEKDFL8uyzz5KdnW0wjYjIxVEhuYCizBQyN39UPLB5EtL9DrOBRH7RuXNnhg4tvmXB8ePHeeONNwwnEhGpOBWSC0j/ajHOouL980FX3ohHUKThRCK/ev7557Fai/83fumll0hNTTWcSESkYlRIzqMw9QhZ330KgMXLj6BufzCcSKSkyy67jD/+8Y8AZGRkMG3aNMOJREQqRoXkPE6vfRecxdd4CO46FJtvkOFEImebPHky3t7eAMyYMYMjR44YTiQiUn4qJOeQn7yXnN3rALD6hxDY6SbDiURK17BhQx588EEA8vPzmTJlitlAIiIVoEJyDqe/XOj6dcjVt2P18jWYRuT8EhISCA4OBmD+/Pns3r3bcCIRkfJRISlF3qHvyDu4FQCP4PoEtI8znEjk/MLCwnj88ccBcDgcTJo0yXAiEZHyUSH5HafTyekvf72BXnD3EVhsngYTiZTNww8/TL169QB477332Lp1q+FEIiJlp0LyO7n7NpH/8y4APMMb49/mWsOJRMomICCAiRMnusa//bWISE2nQvIbTqeD02t+nR0J6XknFqvNYCKR8rn33ntp3LgxAJ988glr1641nEhEpGxUSH4jZ+daCk8eBMCrQQy+Md3MBhIpJ29v7xJn2Tz55JM4nU5zgUREykiF5BdOexGn173rGof0vBuLxWIwkUjFjBw5kssuuwyAdevWsWLFCsOJREQuTIXkF1nff0bRqWMA+DRph2/TWLOBRCrIw8OD5557zjWeOHEiDofDYCIRkQtTIQEchfmkf/Uv1zikx10G04hcvCFDhnDllVcCsHXrVt5//33DiUREzk+FBMjauhx7VvFNyXxbdsX7kssMJxK5OFarlRdeeME1fvrppykqKjKYSETk/Ny+kDjyc0jfcOZfjxZCeo40mkekssTFxdGzZ08AfvzxRxYuXHiBZ4iImOP2hSRj01IcuRkA+Le5Fq/IpmYDiVQSi8VSYpbkmWeeIS8vz2AiEZFzc+tCkpKSQsamZcUDq43g7iOM5hGpbN27d+eGG24A4PDhw7z11luGE4mIlM6tC8nUqVNxFuQCENCuP56hDQwnEql8v50leeGFF8jMzDSYRkSkdG5bSI4cOcLMmTMBsHh4EXz1MMOJRKpGbGwsw4YV//k+efIk06dPNxtIRKQUbltI1q5di91uByDwyhvxCIwwnEik6jz77LPYbMW3QXj11VdJTU01nEhEpCS3LSTDhw9n9+7dBLTrT9BVt5qOI1KlLr30UkaPHg1ARkYGL7/8suFEIiIluW0hAWjevDnhAx7C5htkOopIlZs0aRLe3t4AzJgxg59//tlwIhGRX7l1IRFxJ40aNeKBBx4AIDc3l+eff95wIhGRX6mQiLiRhIQEAgICAJgzZw779+83nEhEpJgKiYgbiYyMJD4+HoCioiKmTJliNpCIyC9USETcTHx8PGFhYQC8++67bN++3XAiEREVEhG3ExwcTEJCAgBOp5Onn37acCIRERUSEbc0btw4oqOjAVi2bBkbN240nEhE3J0KiYgb8vX1LTEz8uSTTxpMIyKiQiLitsaMGUPz5s0BSExMJDEx0XAiEXFnKiQibsrT05Nnn33WNX7yySdxOp0GE4mIO1MhEXFjw4cPp23btgBs3LiRjz76yHAiEXFXKiQibsxqtZa4YutTTz3luumkiEh1UiERcXODBg3iqquuAmD79u3861//MpxIRNyRComIm7NYLLz44ouu8aRJkygoKDCYSETckQqJiHDdddfRv39/AA4cOMDbb79tOJGIuBsVEhEBKDFL8txzz5GVlWUwjYi4GxUSEQGgY8eO3HbbbQCcOHGCv/zlL4YTiYg7USEREZfnnnsOm80GwCuvvEJKSorhRCLiLlRIRMTl0ksv5Z577gEgMzOTqVOnGk4kIu5ChURESpg0aRI+Pj4AvPnmmxw6dMhwIhFxByokIlJCdHQ0Dz/8MAAFBQVMmTLFbCARcQsqJCJylieeeIKQkBAAFi5cyI4dO8wGEpE6T4VERM4SGhrKhAkTAHA4HEycONFwIhGp61RIRKRUDz74INHR0QAsW7aMDRs2GE4kInWZComIlMrPz4/Jkye7xhMmTMDpdBpMJCJ1WYUKycyZM2natCk+Pj507dqVjRs3nnPdOXPm0KNHD0JDQwkNDaVv377nXV9Eao7Ro0cTExMDwJdffsnKlSsNJxKRuqrchWTJkiXEx8czefJktmzZQvv27YmLi+PEiROlrr969WqGDx/OF198wfr162nUqBH9+/fn6NGjFx1eRKqWp6cnzz//vGuckJCAw+EwmEhE6qpyF5LXX3+dsWPHMnr0aNq0acPs2bPx8/Nj3rx5pa7/z3/+kwceeIDY2Fguu+wy3nnnHRwOB4mJiRcdXkSq3q233krHjh0BSEpKYvHixYYTiUhdVK5CUlBQwObNm+nbt++vL2C10rdvX9avX1+m18jJyaGwsJCwsLBzrpOfn09GRkaJh4iYYbVaS1yx9amnniI/P99gIhGpi8pVSFJSUrDb7dSvX7/E8vr165OcnFym13jiiSeIjo4uUWp+b+rUqQQHB7sejRo1Kk9MEalk/fr1o1+/fgAcOHCAWbNmGU4kInVNtZ5lM23aNBYvXszSpUtdl6YuTUJCAunp6a7H4cOHqzGliJTmpZdecv36ueee4/Tp0+bCiEidU65CEhERgc1m4/jx4yWWHz9+nKioqPM+99VXX2XatGl8+umntGvX7rzrent7ExQUVOIhImZ16NCBO++8E4C0tDSmTZtmOJGI1CXlKiReXl507NixxAGpZw5Q7dat2zmf9/LLL/Pcc8+xYsUKOnXqVPG0ImLU888/j5eXFwDTp0/XjfdEpNKUe5dNfHw8c+bMYeHChezcuZP777+f7OxsRo8eDcBdd91FQkKCa/2XXnqJp59+mnnz5tG0aVOSk5NJTk4mKyur8t6FiFSLJk2a8NBDDwHFB59PmjTJcCIRqSvKXUiGDRvGq6++yqRJk4iNjSUpKYkVK1a4DnQ9dOgQx44dc60/a9YsCgoKuPXWW2nQoIHr8eqrr1beuxCRavPkk08SGhoKwN///ne2bdtmOJGI1AUeFXnS+PHjGT9+fKk/W716dYnxwYMHK7IJEamhQkNDmThxIo899hhOp5MnnniCFStWmI4lIrWc7mUjIuU2btw4mjRpAsDKlStZtWqV4UQiUtupkIhIufn4+PDCCy+4xn/+8591SXkRuSgqJCJSIcOHD6dDhw5A8SXlFy1aZDiRiNRmKiQiUiFWq5VXXnnFNZ44cSJ5eXkGE4lIbaZCIiIV1qdPH66//nqg+Ay7N99803AiEamtKnSWjYjUTk0nLK/01yxoMBBYCTh54qkpvHG4ITbfwErfTnU7OG2g6QgibkUzJCJyUbzqNcP/it4AOPKzSf96seFEIlIbqZCIyEUL6XEnFg9vADK3/I/C1COGE4lIbaNCIiIXzSMokqAuQ4oHDjunVs8zG0hEah0VEhGpFEFdh2ILCAMgd+9Gcg8mmQ0kIrWKComIVAqrlw8h197tGp/6/B2cDrvBRCJSm6iQiEil8b/8OryiYgAoPHmQrO90SXkRKRsVEhGpNBaLldDeY1zj02v/gSM/22AiEaktVEhEpFL5NLoCv1bdAXDkpJO+/j3DiUSkNlAhEZFKF9JrFNiKr7uY8e2HFJ5ONhtIRGo8FRIRqXSeIVEEdRpcPLAXcXr1fKN5RKTmUyERkSoR3O02rH4hAOTs/oq8w9vNBhKRGk2FRESqhNXbj5Aed7rGpz5/B6fTYTCRiNRkKiQiUmUC2vXDM7IpAAXJe8ne/oXZQCJSY6mQiEiVsVhthPYZ6xqfXrMQR0GuwUQiUlOpkIhIlfJt0h7fll0BsGelkf71EsOJRKQmUiERkSoX2nvMr6cBb1qmuwGLyFlUSESkynmGRhPUZWjxwFFE2mdv4XQ6zYYSkRpFhUREqkVwtz9gC4oEIO/gVnJ/XG84kYjUJCokIlItrJ4+hPX+9QDXtM/n4CjMM5hIRGoSFRIRqTa+l3bDp2kHAOwZJ0lf/2/DiUSkplAhEZFqY7FYCOt7L1h/OcB1438oPPWz4VQiUhOokIhItfIMb0hQ58HFA3sRpz57Wwe4iogKiYhUv+Crh2ELCAcgd/+35O7daDiRiJimQiIi1c7q5Vt8bZJfnEp8G0dhvsFEImKaComIGOF3WQ98mrQDoCj9OBnf/MdwIhExSYVERIywWCyE9r0PrDYAMr55n8LTyYZTiYgpKiQiYoxXRGMCOw4CwFlUwKnEOYYTiYgpKiQiYlTINXdg8w8FIHfvN+T8+LXhRCJiggqJiBhl9fYjtPc9rnHaqtk48nMMJhIRE1RIRMQ4v9Y98WneEQB7Vhqn1yw0nEhEqpsKiYgYZ7FYCO//ABZPbwAyt3xM/tGdhlOJSHVSIRGRGsEjuD4h3e/8ZeQkdcWbOO2FRjOJSPVRIRGRGiOw00141W8BQGHKT2RsXGo4kYhUFxUSEakxLFYbYdc/CJbiv5pOf/UvCtOOGk4lItVBhUREahTvqJYEdbq5eGAvJHXlTN18T8QNqJCISI0T3H0EtqB6AOQf+o7s7YmGE4lIVVMhEZEax+rlQ3j/B1zjU5/PxZ592lwgEalyKiQiUiP5tuiEX+trAXDkZZL2uS4rL1KXqZCISI0V1mcsVp8AAHJ2fEnu/s2GE4lIVVEhEZEay+YfQuh1Y1zj1JVv6rLyInWUComI1Gj+bfvi3bgdAPaMk5z6/B3DiUSkKqiQiEiNZrFYCB/wEBYvXwCyvvuU3H2bDKcSkcqmQiIiNZ5nSFTJXTcrZmDPzTSYSEQqmwqJiNQKAe3j8Gl2JVB8R+BTn71lOJGIVCYVEhGpFc7surF6+wOQvWM12bu/MpxKRCqLComI1BoegRGE9rvPNU5bOVMXTBOpI1RIRKRW8W/TC99LuwHgyM0g9VPd60akLlAhEZFaxWKxEN5/HFbfIAByf1xP9o7VZkOJyEVTIRGRWsfmH0LYb+91s2o2RZkpBhOJyMVSIRGRWsn/su74tfnlXjf52aR+MkO7bkRqMRUSEam1wvrehy0gDIC8A5vJ2rbCcCIRqSgVEhGptWy+gYRf/6BrfCrxHQpSDhlMJCIVpUIiIrWab4vOBMReD4CzKJ+UD1/CUZhvOJWIlJcKiYjUeqG9x+IZ0QSAwpSfOPX5HMOJRKS8VEhEpNazenoTcfMTWDy8AchKWkH2rnWGU4lIeaiQiEid4BXRmNC+97rGqStmUHg62WAiESkPFRIRqTMC2vXDr3VPAJz52aR89ApOe5HhVCJSFhUqJDNnzqRp06b4+PjQtWtXNm7ceM51f/jhB4YOHUrTpk2xWCxMnz69ollFRM7LYrEQHjcej5AoAAqO7eb02n8YTiUiZVHuQrJkyRLi4+OZPHkyW7ZsoX379sTFxXHixIlS18/JyaF58+ZMmzaNqKioiw4sInI+Vm8/Im56AqweAGR88x9y9282nEpELqTcheT1119n7NixjB49mjZt2jB79mz8/PyYN29eqet37tyZV155hdtvvx1vb++LDiwiciHeDWIIvfZu1zhl+esUZaUZTCQiF1KuQlJQUMDmzZvp27fvry9gtdK3b1/Wr19faaHy8/PJyMgo8RARKY/Azjfj27wTAI6cdFL/9xpOh91wKhE5l3IVkpSUFOx2O/Xr1y+xvH79+iQnV97R7FOnTiU4ONj1aNSoUaW9toi4B4vFSvjA//v10vI/bSP96yWGU4nIudTIs2wSEhJIT093PQ4fPmw6kojUQja/YCIGPQaW4r/q0r9aRM6ebwynEpHSlKuQREREYLPZOH78eInlx48fr9QDVr29vQkKCirxEBGpCJ/G7QjpeZdrnPK/VylM0T9yRGqachUSLy8vOnbsSGJiomuZw+EgMTGRbt26VXo4EZHKENR1KH6X9QDAWZDLiQ+ew5GXZTiViPxWuXfZxMfHM2fOHBYuXMjOnTu5//77yc7OZvTo0QDcddddJCQkuNYvKCggKSmJpKQkCgoKOHr0KElJSezdu7fy3oWIyHlYLBbCBzyMZ2RTAIpO/UzKf1/VQa4iNUi5C8mwYcN49dVXmTRpErGxsSQlJbFixQrXga6HDh3i2LFjrvV//vlnOnToQIcOHTh27BivvvoqHTp04J577qm8dyEicgFWLx8ihzyF1ScQgNz933J63SLDqUTkDI+KPGn8+PGMHz++1J+tXr26xLhp06Y4nc6KbEZEpFJ5hkQRcfMTnHhvEjgdZKxfglf95vi3usZ0NBG3VyPPshERqSq+TWMJve6PrnHq8r9QcPKguUAiAqiQiIgbCux0M/6XXweAszCPkx88jz0303AqEfemQiIibsdisRAWNx6v+i0AKDqdTMpHL+sgVxGDVEhExC1ZPb2JHDIRq18wAHkHt5L22ds65k3EEBUSEXFbHkH1iBycAFYbAFlbl5PxzfuGU4m4JxUSEXFrPo2uIHzAw67x6S8XkrX9c4OJRNyTComIuL2AK3oTcu3drnHqJ2+watUqg4lE3I8KiYgIENT1VgI6DCweOOwMGTKErVu3mg0l4kZUSERE+OXMm75/wjfmKgCysrK44YYbOHjwoNlgIm5ChURE5BcWq42IQY/jHX0ZAMnJyQwYMIC0tDTDyUTqPhUSEZHfsHp6E3nrJC699FIAdu3axU033URubq7hZCJ1mwqJiMjv2HyDStw09KuvvmLEiBEUFRUZTiZSd6mQiIiUolmzZnz88ccEBAQAsHTpUu6++27sdl3NVaQqqJCIiJzDlVdeyfvvv4+npycAixYtYvTo0SolIlVAhURE5Dzi4uJKlJJ//OMf3HPPPTgcDsPJROoWFRIRkQu46aabeO+99/Dw8ABgwYIFjB07VqVEpBKpkIiIlMHgwYNZvHgxNlvxfW/mzZvHvffeq1IiUklUSEREymjo0KH861//cpWSd955hwceeEClRKQSqJCIiJTDH/7wB/75z39itRb/9fnWW28xfvx4nE6n4WQitZsKiYhIOQ0bNox3333XVUpmzZrF+PHjNVMichFUSEREKmD48OEsXLgQi8UCwN/+9jdGjBhBfn6+4WQitZMKiYhIBd15550sXLjQNVOyePFiBg4cSEZGhuFkIrWPh+kAIiK12ciRIwkJCWHYsGHk5uaSmJhIr169+Pjjj4mKigKg6YTlhlPWHgenDTQdQQzRDImIyEUaNGgQiYmJhIWFAbB161auvvpq9uzZYziZSO2hQiIiUgm6devGunXraNy4MQAHDhzgmmuuYdOmTYaTidQOKiQiIpWkdevWfP3117Rt2xaAkydPct1115G7f7PhZCI1nwqJiEgluuSSS1izZg09e/YEIDs7mxP/eZas7z8znEykZlMhERGpZCEhIaxcuZKhQ4cWL3DYSf14OmmfvYXTXmQ2nEgNpUIiIlIFfHx8WLJkCePHj3cty9z8X44vnog965TBZCI1kwqJiEgVsdlszJgxg7DrHwRb8VUW8o/8wLGFD5N/dJfhdCI1iwqJiEgVC2wfR9QdL2ELCAfAnpVG8r8mkJm0wnAykZpDhUREpBp4R7eiwajpeDe8vHiBvYi0lW+S+slfcRYVmg0nUgOokIiIVBObfyj1b3+BwI6DXMuyvvuU5EVPUJRx0mAyEfNUSEREqpHF5kFY33sJv/FRLB5eABQc+5Gf540ne8dqnE6n4YQiZqiQiIgYEHD5dUTd+Qq2oHoAOPOzSfnvq6R89DL23EzD6USqnwqJiIghXvVb0GD0X/Frc61rWc6utRybN47cA1sMJhOpfiokIiIG2XwCiBz0OBE3/RmrTwBQfBbOifcmkbZqNo7CPMMJRaqHComISA3g37onDf74Jj5NO7iWZW75H8cWPEL+sR8NJhOpHiokIiI1hEdgBPVue5awfvdh8fAGoCjtCMn/eIxTX8zDkZ9jOKFI1VEhERGpQSwWC4FX3kiDUW/g1SCmeKHTQcbGD/j5nfvJ3rlGZ+JInaRCIiJSA3mGNyRqxCsEdx8BNk8A7FmppHz0MieWTKQw5bDhhCKVS4VERKSGstg8CLlmONFj/oZvi86u5Xk/fcfP88dzavV8HAW5BhOKVB4VEhGRGs4ztAH1bp1M5NCnsQXXL17osJPxzX/4ec59ZO9cq904UuupkIiI1BJ+LbsSPeZvBF89/He7cV4i+e/x5O7frGIitZYKiYhILWL19Cakxwiix8zEp3lH1/KC5D2c+Pdkji+aQN7h7QYTilSMComISC3kGRpNvVunEDn0aTwjm7qW5x/5geOLJnB8ydPk/7zbXECRcvIwHUBERCrGYrHg17Irvi06k7NrHafXLaIo7QgAeQe3knxwK74tuxLSYwRe9ZobTityfiokIiK1nMVixb91T/xaXUP2D6s5/dUi7OnHAcjd+w25e7/Bp0ksQZ1vxqd5RywWTY5LzaNCIiJSR1isNgLa9sG/TU+yvltF+teLsWelAZD3UxJ5PyXhEdaQoE434X95b6xePoYTi/xKNVlEpI6x2DwJ7HAD0X+aQ2jfe/EIaeD6WVHaEdI+/RtHZ43i1JcLKMpMMZhU5FeaIRERqaOsnt4EdRxEYIcbyN23iYxNy8j/5QwcR14WGRveJ2PjUvxiuhHQti8+zTpgsdoMpxZ3pUIiIlLHWaw2/GKuwi/mKvKT95L57Ydk71wLjiJw2MnZvY6c3euw+Yfif/l1+F/RB6/IJqZji5tRIRERcSPeUS3xvvFRQnqNJmvLcjK3rcCRkw6APfsUGRs/IGPjB3hFxeB/RW/821yLzTfIcGpxByokIiJuyCMgjJCeIwm+5nZy928ma3siuXs3gsMOFF9orSB5D6c+n4tvsw74xnTDr2UXbP4hZoNLnaVCIiLixiw2T9fuHHtOOtk715D9/WcUHN9XvIKjiNx9m8jdt4k0LHg3bI1fzFX4xlyFZ2i02fBSp6iQiIgIADa/YII6DiKo4yAKTh4k+/tEsnd+6Tp1GJzkH9lB/pEdnPpiHp4RTfCNuQrfZh3wjm6F5Zf764hUhAqJiIicxSuyKV69xxBy3WgKju0hZ88GcvdsoDD1sGudwpSfKEz5iYz1S7B4+uDd8HJ8mrTDp0l7vOo3N34BtqYTlhvdfm1ycNpA0xFUSERE5NwsFive0a3wjm5F6LV3U5h6hJy9G8j9cQP5P+9yrecszCPvwGbyDmwGwOoTiE/jtvg0aYdX9GV4RTbFYtNXjpyb/nSIiEiZeYY3JDj8VoK73kpRVhp5+zeTd+g78n7a9ptdO+DIyyTnx6/J+fFrACwe3njVb4FX9KV4NyguOLagSCwWi6m3IjWMComIiFSIR0AYAe36EdCuH06nk6K0I+T9tI28n74j79B3OPKyXOs6i/LJP7qD/KM7yPxlmdU/BO8Gl+IZ2QyvyCZ4RjalqKgIDw99Nbkj/a6LiMhFs1gseIY3wjO8EYFX3ojTYafgxAHyj/xA/s8/UnBsN0Wnk0s8x5F9mty9G4tPN/6F/z8eoXXr1rRt25a2bdvSpk0bYmJiaNasGV5eXtX9tqQaqZCIiEils1htxRdhi2rpWmbPSSf/2I8UHN1F/rEfyT/2I8787BLPKygoYNu2bWzbtq3EcqvVSpMmTYiJiaFly5au/zZr1oxGjRoRFKSLt9V2KiQiIlItbH7B+LXojF+LzgA4nQ6K0k9QePInCk8epODkQZpaU9m9ezd2u73Ecx0OBwcOHODAgQN8+umnZ712cHAwjRo1onHjxq7/Zm1PxRYQhs0/FJt/CFbfQONn/si5VaiQzJw5k1deeYXk5GTat2/PjBkz6NKlyznX//e//83TTz/NwYMHiYmJ4aWXXuKGG26ocGgREan9LBYrniFReIZEQUxXAH6YNpD8/Hx27drF999/z+7du9m7dy979uxhz549ZGRklPpa6enppKens3379nNv0GrD5heCzT8Em38oVv9QbAFhhPS4UwfX1gDlLiRLliwhPj6e2bNn07VrV6ZPn05cXBy7d++mXr16Z63/9ddfM3z4cKZOncqNN97IokWLGDx4MFu2bOGKK66olDchIiJ1h7e3N+3bt6d9+/YlljudTlJSUtizZ4+rpBw6dIhDhw5x+PBhDh8+TEFBwblf2GHHnpWKPSvVtcjqG0Roz5FV9VakHMpdSF5//XXGjh3L6NGjAZg9ezbLly9n3rx5TJgw4az133jjDa6//noef/xxAJ577jlWrVrFm2++yezZsy8yvoiIuAuLxUJkZCSRkZFcffXVZ/3c4XBw4sQJDh8+zKFDhxj7t5XYs0/98jiNPfsUjpzT2LNPg9MBoHvz1CDlKiQFBQVs3ryZhIQE1zKr1Urfvn1Zv359qc9Zv3498fHxJZbFxcWxbNmyc24nPz+f/Px81zg9vfhOlOeaqrsYjvycSn/NuqoyP3997mWnz90Mfe5mXOzn7ufnR6tWrWjVqhUB6xylruN0OnDkZWLPPo3TbtfvD1Xz/frb13U6nRdct1yFJCUlBbvdTv369Ussr1+/Prt27Sr1OcnJyaWun5ycXOr6AFOnTuWZZ545a3mjRo3KE1cqWfB00wnckz53M/S5m6HP3Yyq/twzMzMJDg4+7zo18iybhISEErMqDoeDtLQ0wsPDK/XAo4yMDBo1asThw4d1ylg10uduhj53M/S5m6HP3Yzff+5Op5PMzEyioy98Z+hyFZKIiAhsNhvHjx8vsfz48eNERUWV+pyoqKhyrQ/FBzR5e3uXWBYSElKeqOUSFBSkP7AG6HM3Q5+7GfrczdDnbsZvP/cLzYycUa4Tsr28vOjYsSOJiYmuZQ6Hg8TERLp161bqc7p161ZifYBVq1adc30RERFxP+XeZRMfH8/dd99Np06d6NKlC9OnTyc7O9t11s1dd93FJZdcwtSpUwF4+OGHufbaa3nttdcYOHAgixcv5ttvv+Xtt9+u3HciIiIitVa5C8mwYcM4efIkkyZNIjk5mdjYWFasWOE6cPXQoUNYrb9OvFx99dUsWrSIp556iieffJKYmBiWLVtWI65B4u3tzeTJk8/aPSRVS5+7GfrczdDnboY+dzMu5nO3OMtyLo6IiIhIFdJF/UVERMQ4FRIRERExToVEREREjFMhEREREePcupDMnDmTpk2b4uPjQ9euXdm4caPpSHXamjVrGDRoENHR0VgslvPez0gqz9SpU+ncuTOBgYHUq1ePwYMHs3v3btOx6rxZs2bRrl071wWiunXrxieffGI6lluZNm0aFouFRx55xHSUOm/KlClYLJYSj8suu6xcr+G2hWTJkiXEx8czefJktmzZQvv27YmLi+PEiROmo9VZ2dnZtG/fnpkzZ5qO4la+/PJLxo0bx4YNG1i1ahWFhYX079+f7Oxs09HqtIYNGzJt2jQ2b97Mt99+S+/evbn55pv54YcfTEdzC5s2beKtt96iXbt2pqO4jcsvv5xjx465HuvWrSvX8932tN+uXbvSuXNn3nzzTaD4irONGjXiwQcfZMKECYbT1X0Wi4WlS5cyePBg01HczsmTJ6lXrx5ffvklPXv2NB3HrYSFhfHKK68wZswY01HqtKysLK688kr+9re/8fzzzxMbG8v06dNNx6rTpkyZwrJly0hKSqrwa7jlDElBQQGbN2+mb9++rmVWq5W+ffuyfv16g8lEql56ejpQ/OUo1cNut7N48WKys7N124xqMG7cOAYOHFji73ipenv27CE6OprmzZszYsQIDh06VK7n18i7/Va1lJQU7Ha76+qyZ9SvX59du3YZSiVS9RwOB4888gjXXHNNjbhacl33/fff061bN/Ly8ggICGDp0qW0adPGdKw6bfHixWzZsoVNmzaZjuJWunbtyoIFC2jVqhXHjh3jmWeeoUePHmzfvp3AwMAyvYZbFhIRdzVu3Di2b99e7n27UjGtWrUiKSmJ9PR03n//fe6++26+/PJLlZIqcvjwYR5++GFWrVqFj4+P6ThuZcCAAa5ft2vXjq5du9KkSRPee++9Mu+idMtCEhERgc1m4/jx4yWWHz9+nKioKEOpRKrW+PHj+d///seaNWto2LCh6ThuwcvLi5YtWwLQsWNHNm3axBtvvMFbb71lOFndtHnzZk6cOMGVV17pWma321mzZg1vvvkm+fn52Gw2gwndR0hICJdeeil79+4t83Pc8hgSLy8vOnbsSGJiomuZw+EgMTFR+3elznE6nYwfP56lS5fy+eef06xZM9OR3JbD4SA/P990jDqrT58+fP/99yQlJbkenTp1YsSIESQlJamMVKOsrCz27dtHgwYNyvwct5whAYiPj+fuu++mU6dOdOnShenTp5Odnc3o0aNNR6uzsrKySrTlAwcOkJSURFhYGI0bNzaYrG4bN24cixYt4sMPPyQwMJDk5GQAgoOD8fX1NZyu7kpISGDAgAE0btyYzMxMFi1axOrVq1m5cqXpaHVWYGDgWcdG+fv7Ex4ermOmqthjjz3GoEGDaNKkCT///DOTJ0/GZrMxfPjwMr+G2xaSYcOGcfLkSSZNmkRycjKxsbGsWLHirANdpfJ8++23XHfdda5xfHw8AHfffTcLFiwwlKrumzVrFgC9evUqsXz+/PmMGjWq+gO5iRMnTnDXXXdx7NgxgoODadeuHStXrqRfv36mo4lUuiNHjjB8+HBSU1OJjIyke/fubNiwgcjIyDK/htteh0RERERqDrc8hkRERERqFhUSERERMU6FRERERIxTIRERERHjVEhERETEOBUSERERMU6FRERERIxTIRERERHjVEhERETEOBUSERERMU6FRERERIxTIRERERHj/h+k8SQbiTKTugAAAABJRU5ErkJggg==\n",
                  "text/plain": "<Figure size 640x480 with 1 Axes>"
                },
                "metadata": {},
                "output_type": "display_data"
              }
            ]
          }
        },
        "d45176ed34f647649498460b69b972c4": {
          "model_module": "@jupyter-widgets/controls",
          "model_module_version": "1.5.0",
          "model_name": "SliderStyleModel",
          "state": {
            "_model_module": "@jupyter-widgets/controls",
            "_model_module_version": "1.5.0",
            "_model_name": "SliderStyleModel",
            "_view_count": null,
            "_view_module": "@jupyter-widgets/base",
            "_view_module_version": "1.2.0",
            "_view_name": "StyleView",
            "description_width": "",
            "handle_color": null
          }
        },
        "eb2a6bf6c23b4256bd3aac66b44fea6d": {
          "model_module": "@jupyter-widgets/base",
          "model_module_version": "1.2.0",
          "model_name": "LayoutModel",
          "state": {
            "_model_module": "@jupyter-widgets/base",
            "_model_module_version": "1.2.0",
            "_model_name": "LayoutModel",
            "_view_count": null,
            "_view_module": "@jupyter-widgets/base",
            "_view_module_version": "1.2.0",
            "_view_name": "LayoutView",
            "align_content": null,
            "align_items": null,
            "align_self": null,
            "border": null,
            "bottom": null,
            "display": null,
            "flex": null,
            "flex_flow": null,
            "grid_area": null,
            "grid_auto_columns": null,
            "grid_auto_flow": null,
            "grid_auto_rows": null,
            "grid_column": null,
            "grid_gap": null,
            "grid_row": null,
            "grid_template_areas": null,
            "grid_template_columns": null,
            "grid_template_rows": null,
            "height": null,
            "justify_content": null,
            "justify_items": null,
            "left": null,
            "margin": null,
            "max_height": null,
            "max_width": null,
            "min_height": null,
            "min_width": null,
            "object_fit": null,
            "object_position": null,
            "order": null,
            "overflow": null,
            "overflow_x": null,
            "overflow_y": null,
            "padding": null,
            "right": null,
            "top": null,
            "visibility": null,
            "width": null
          }
        },
        "ec5e6406a3504aef85d61241782069b9": {
          "model_module": "@jupyter-widgets/base",
          "model_module_version": "1.2.0",
          "model_name": "LayoutModel",
          "state": {
            "_model_module": "@jupyter-widgets/base",
            "_model_module_version": "1.2.0",
            "_model_name": "LayoutModel",
            "_view_count": null,
            "_view_module": "@jupyter-widgets/base",
            "_view_module_version": "1.2.0",
            "_view_name": "LayoutView",
            "align_content": null,
            "align_items": null,
            "align_self": null,
            "border": null,
            "bottom": null,
            "display": null,
            "flex": null,
            "flex_flow": null,
            "grid_area": null,
            "grid_auto_columns": null,
            "grid_auto_flow": null,
            "grid_auto_rows": null,
            "grid_column": null,
            "grid_gap": null,
            "grid_row": null,
            "grid_template_areas": null,
            "grid_template_columns": null,
            "grid_template_rows": null,
            "height": null,
            "justify_content": null,
            "justify_items": null,
            "left": null,
            "margin": null,
            "max_height": null,
            "max_width": null,
            "min_height": null,
            "min_width": null,
            "object_fit": null,
            "object_position": null,
            "order": null,
            "overflow": null,
            "overflow_x": null,
            "overflow_y": null,
            "padding": null,
            "right": null,
            "top": null,
            "visibility": null,
            "width": null
          }
        }
      }
    }
  },
  "nbformat": 4,
  "nbformat_minor": 0
}
