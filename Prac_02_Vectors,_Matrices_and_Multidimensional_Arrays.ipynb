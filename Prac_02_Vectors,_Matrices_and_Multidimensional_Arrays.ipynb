{
  "cells": [
    {
      "cell_type": "markdown",
      "metadata": {
        "colab_type": "text",
        "id": "view-in-github"
      },
      "source": [
        "<a href=\"https://colab.research.google.com/github/JuanZapa7a/AINavalEngineering/blob/main/Prac02_Vectors%2C_Matrices_and_Multidimensional_Arrays.ipynb\" target=\"_parent\"><img src=\"https://colab.research.google.com/assets/colab-badge.svg\" alt=\"Open In Colab\"/></a>"
      ]
    },
    {
      "cell_type": "markdown",
      "metadata": {
        "collapsed": false,
        "id": "0OabS3pgrMa0",
        "pycharm": {
          "name": "#%% md\n"
        }
      },
      "source": [
        "© Robert Johansson 2019\n",
        "R. Johansson, [Numerical Python,](https://doi.org/10.1007/978-1-4842-4246-9_3)\n",
        "https://github.com/Apress/numerical-python/blob/master/ch02-code-listing.ipynb\n",
        "\n",
        "Source code listings for Numerical Python - A Practical Techniques Approach for Industry (ISBN 978-1-484205-54-9).\n",
        "\n",
        "The source code listings can be downloaded from http://www.apress.com/9781484205549"
      ]
    },
    {
      "cell_type": "markdown",
      "metadata": {
        "id": "tKDtoNOQrMa2"
      },
      "source": [
        "# Chapter 2: Vectors, matrices and multidimensional arrays"
      ]
    },
    {
      "cell_type": "markdown",
      "metadata": {
        "id": "59jBnSpzrMa2"
      },
      "source": [
        "# Vectors, Matrices, and Multidimensional Arrays\n",
        "\n",
        "Vectors, matrices, and arrays of higher dimensions are essential tools in\n",
        "numerical computing. When a computation must be repeated for a set of input\n",
        "values, it is natural and advantageous to represent the data as arrays and the\n",
        "computation in terms of array operations. Computations that are formulated this\n",
        "way are said to be vectorized. \n",
        "\n",
        "[Vectorized computing](https://www.cdslab.org/python/notes/scientific-computing/vectorization/vectorization.html) eliminates the need for\n",
        "many explicit loops over the array elements by applying batch operations on the\n",
        "array data. The result is concise and more maintainable code, and it enables\n",
        "delegating the implementation of (e.g., elementwise) array operations to more\n",
        "efficient low-level libraries. Vectorized computations can therefore be\n",
        "significantly faster than sequential element-by-element computations. This is\n",
        "particularly important in an interpreted language such as Python, where looping\n",
        "over arrays element by element entails a significant performance overhead.  \n",
        "\n",
        "In Python’s scientific computing environment, efficient data structures for\n",
        "working with arrays are provided by the `NumPy library`. The core of NumPy is\n",
        "implemented in C and provides efficient functions for manipulating and\n",
        "processing arrays. At a first glance, NumPy arrays bear some resemblance to\n",
        "Python’s list data structure. But an important difference is that while Python\n",
        "lists are generic containers of objects, `NumPy arrays are homogenous and typed\n",
        "arrays of fixed size`. \n",
        "- `Homogenous` means that all elements in the array have the\n",
        "same data type.  \n",
        "- `Fixed size` means that an array cannot be resized (without\n",
        "creating a new array).  \n",
        "\n",
        "For these and other reasons, operations and functions\n",
        "acting on NumPy arrays can be much more efficient than those using Python lists.\n",
        "In addition to the data structures for arrays, `NumPy also provides`: \n",
        "- `a large\n",
        "collection of basic operators and functions` that act on these data structures,\n",
        "- `as well as submodules with higher-level algorithms such as linear algebra and\n",
        "fast Fourier transform`.\n",
        "\n",
        "In this chapter: \n",
        "1. We first look at the `basic NumPy data structure` for arrays and\n",
        "various `methods to create` such NumPy arrays. \n",
        "2. Next we look at `operations` for\n",
        "`manipulating arrays` and for doing `computations` with arrays. \n",
        "3. The multidimensional\n",
        "data array provided by `NumPy is a foundation` for nearly all numerical libraries\n",
        "for Python.  \n",
        "4. Spending time on getting familiar with NumPy and developing an\n",
        "understanding of `how NumPy works is therefore important`.\n",
        "\n",
        "> **NumPy**: The NumPy library provides data structures for representing a rich\n",
        "> variety of arrays and methods and functions for operating on such arrays. NumPy\n",
        "> provides the numerical backend for nearly every scientific or technical library\n",
        "> for Python. It is therefore a very important part of the scientific Python\n",
        "> ecosystem. At the time of writing, the latest version of NumPy is 1.14.2. More\n",
        "> information about NumPy is available at [www.numpy.org](http://www.numpy.org).\n",
        "\n",
        "## Importing the Modules\n",
        "\n",
        "In order to use the NumPy library, we need to import it in our program. By\n",
        "convention, the numPy module imported under the `alias np`, like so:"
      ]
    },
    {
      "cell_type": "code",
      "execution_count": 236,
      "metadata": {
        "id": "hMlF8g3grMa2",
        "outputId": "d3deed47-a63b-4cac-e859-bd75415ac1d6"
      },
      "outputs": [
        {
          "name": "stdout",
          "output_type": "stream",
          "text": [
            "Requirement already satisfied: pip in /home/codespace/.python/current/lib/python3.12/site-packages (25.0.1)\n",
            "Note: you may need to restart the kernel to use updated packages.\n",
            "Requirement already satisfied: numpy in /home/codespace/.local/lib/python3.12/site-packages (2.2.0)\n",
            "Note: you may need to restart the kernel to use updated packages.\n"
          ]
        }
      ],
      "source": [
        "%pip install --upgrade pip\n",
        "%pip install numpy\n",
        "import numpy as np"
      ]
    },
    {
      "cell_type": "markdown",
      "metadata": {
        "id": "KbD-aHmrrMa3"
      },
      "source": [
        "After this, we can access functions and classes in the numpy module using the `np\n",
        "namespace`. Throughout this book, we assume that the NumPy module is imported in this way."
      ]
    },
    {
      "cell_type": "markdown",
      "metadata": {
        "id": "Yw2BM2oXrMa3"
      },
      "source": [
        "## The NumPy array object"
      ]
    },
    {
      "cell_type": "markdown",
      "metadata": {
        "id": "sKmuTGk1rMa4"
      },
      "source": [
        "The core of the NumPy library is the data structures for representing\n",
        "multidimensional arrays of homogeneous data. [`Homogeneous`](https://brainly.in/question/11853504) `refers to all elements\n",
        "in an array having the same data type`.\n",
        "\n",
        "The main data structure for\n",
        "multidimensional arrays in NumPy is the `ndarray` class. In addition to the data\n",
        "stored in the array, this data structure also contains important metadata about\n",
        "the array, such as its `shape, size, data type, and other attributes`. See Table\n",
        "2-1 for a more detailed description of these attributes. \n",
        "\n",
        "A full list of\n",
        "attributes with descriptions is available in the `ndarray` docstring, which can be\n",
        "accessed by calling `help(np.ndarray)` in the Python interpreter or `np.ndarray?` in\n",
        "an IPython console."
      ]
    },
    {
      "cell_type": "code",
      "execution_count": 353,
      "metadata": {
        "id": "Q0684zctrMa4",
        "outputId": "a109a63b-2e8e-47a2-cb00-3dc7534354cd"
      },
      "outputs": [
        {
          "name": "stdout",
          "output_type": "stream",
          "text": [
            "Help on class ndarray in module numpy:\n",
            "\n",
            "class ndarray(builtins.object)\n",
            " |  ndarray(shape, dtype=float, buffer=None, offset=0,\n",
            " |          strides=None, order=None)\n",
            " |\n",
            " |  An array object represents a multidimensional, homogeneous array\n",
            " |  of fixed-size items.  An associated data-type object describes the\n",
            " |  format of each element in the array (its byte-order, how many bytes it\n",
            " |  occupies in memory, whether it is an integer, a floating point number,\n",
            " |  or something else, etc.)\n",
            " |\n",
            " |  Arrays should be constructed using `array`, `zeros` or `empty` (refer\n",
            " |  to the See Also section below).  The parameters given here refer to\n",
            " |  a low-level method (`ndarray(...)`) for instantiating an array.\n",
            " |\n",
            " |  For more information, refer to the `numpy` module and examine the\n",
            " |  methods and attributes of an array.\n",
            " |\n",
            " |  Parameters\n",
            " |  ----------\n",
            " |  (for the __new__ method; see Notes below)\n",
            " |\n",
            " |  shape : tuple of ints\n",
            " |      Shape of created array.\n",
            " |  dtype : data-type, optional\n",
            " |      Any object that can be interpreted as a numpy data type.\n",
            " |  buffer : object exposing buffer interface, optional\n",
            " |      Used to fill the array with data.\n",
            " |  offset : int, optional\n",
            " |      Offset of array data in buffer.\n",
            " |  strides : tuple of ints, optional\n",
            " |      Strides of data in memory.\n",
            " |  order : {'C', 'F'}, optional\n",
            " |      Row-major (C-style) or column-major (Fortran-style) order.\n",
            " |\n",
            " |  Attributes\n",
            " |  ----------\n",
            " |  T : ndarray\n",
            " |      Transpose of the array.\n",
            " |  data : buffer\n",
            " |      The array's elements, in memory.\n",
            " |  dtype : dtype object\n",
            " |      Describes the format of the elements in the array.\n",
            " |  flags : dict\n",
            " |      Dictionary containing information related to memory use, e.g.,\n",
            " |      'C_CONTIGUOUS', 'OWNDATA', 'WRITEABLE', etc.\n",
            " |  flat : numpy.flatiter object\n",
            " |      Flattened version of the array as an iterator.  The iterator\n",
            " |      allows assignments, e.g., ``x.flat = 3`` (See `ndarray.flat` for\n",
            " |      assignment examples; TODO).\n",
            " |  imag : ndarray\n",
            " |      Imaginary part of the array.\n",
            " |  real : ndarray\n",
            " |      Real part of the array.\n",
            " |  size : int\n",
            " |      Number of elements in the array.\n",
            " |  itemsize : int\n",
            " |      The memory use of each array element in bytes.\n",
            " |  nbytes : int\n",
            " |      The total number of bytes required to store the array data,\n",
            " |      i.e., ``itemsize * size``.\n",
            " |  ndim : int\n",
            " |      The array's number of dimensions.\n",
            " |  shape : tuple of ints\n",
            " |      Shape of the array.\n",
            " |  strides : tuple of ints\n",
            " |      The step-size required to move from one element to the next in\n",
            " |      memory. For example, a contiguous ``(3, 4)`` array of type\n",
            " |      ``int16`` in C-order has strides ``(8, 2)``.  This implies that\n",
            " |      to move from element to element in memory requires jumps of 2 bytes.\n",
            " |      To move from row-to-row, one needs to jump 8 bytes at a time\n",
            " |      (``2 * 4``).\n",
            " |  ctypes : ctypes object\n",
            " |      Class containing properties of the array needed for interaction\n",
            " |      with ctypes.\n",
            " |  base : ndarray\n",
            " |      If the array is a view into another array, that array is its `base`\n",
            " |      (unless that array is also a view).  The `base` array is where the\n",
            " |      array data is actually stored.\n",
            " |\n",
            " |  See Also\n",
            " |  --------\n",
            " |  array : Construct an array.\n",
            " |  zeros : Create an array, each element of which is zero.\n",
            " |  empty : Create an array, but leave its allocated memory unchanged (i.e.,\n",
            " |          it contains \"garbage\").\n",
            " |  dtype : Create a data-type.\n",
            " |  numpy.typing.NDArray : An ndarray alias :term:`generic <generic type>`\n",
            " |                         w.r.t. its `dtype.type <numpy.dtype.type>`.\n",
            " |\n",
            " |  Notes\n",
            " |  -----\n",
            " |  There are two modes of creating an array using ``__new__``:\n",
            " |\n",
            " |  1. If `buffer` is None, then only `shape`, `dtype`, and `order`\n",
            " |     are used.\n",
            " |  2. If `buffer` is an object exposing the buffer interface, then\n",
            " |     all keywords are interpreted.\n",
            " |\n",
            " |  No ``__init__`` method is needed because the array is fully initialized\n",
            " |  after the ``__new__`` method.\n",
            " |\n",
            " |  Examples\n",
            " |  --------\n",
            " |  These examples illustrate the low-level `ndarray` constructor.  Refer\n",
            " |  to the `See Also` section above for easier ways of constructing an\n",
            " |  ndarray.\n",
            " |\n",
            " |  First mode, `buffer` is None:\n",
            " |\n",
            " |  >>> import numpy as np\n",
            " |  >>> np.ndarray(shape=(2,2), dtype=float, order='F')\n",
            " |  array([[0.0e+000, 0.0e+000], # random\n",
            " |         [     nan, 2.5e-323]])\n",
            " |\n",
            " |  Second mode:\n",
            " |\n",
            " |  >>> np.ndarray((2,), buffer=np.array([1,2,3]),\n",
            " |  ...            offset=np.int_().itemsize,\n",
            " |  ...            dtype=int) # offset = 1*itemsize, i.e. skip first element\n",
            " |  array([2, 3])\n",
            " |\n",
            " |  Methods defined here:\n",
            " |\n",
            " |  __abs__(self, /)\n",
            " |      abs(self)\n",
            " |\n",
            " |  __add__(self, value, /)\n",
            " |      Return self+value.\n",
            " |\n",
            " |  __and__(self, value, /)\n",
            " |      Return self&value.\n",
            " |\n",
            " |  __array__(...)\n",
            " |      a.__array__([dtype], *, copy=None)\n",
            " |\n",
            " |      For ``dtype`` parameter it returns a new reference to self if\n",
            " |      ``dtype`` is not given or it matches array's data type.\n",
            " |      A new array of provided data type is returned if ``dtype``\n",
            " |      is different from the current data type of the array.\n",
            " |      For ``copy`` parameter it returns a new reference to self if\n",
            " |      ``copy=False`` or ``copy=None`` and copying isn't enforced by ``dtype``\n",
            " |      parameter. The method returns a new array for ``copy=True``, regardless of\n",
            " |      ``dtype`` parameter.\n",
            " |\n",
            " |      A more detailed explanation of the ``__array__`` interface\n",
            " |      can be found in :ref:`dunder_array.interface`.\n",
            " |\n",
            " |  __array_finalize__(...)\n",
            " |      a.__array_finalize__(obj, /)\n",
            " |\n",
            " |      Present so subclasses can call super. Does nothing.\n",
            " |\n",
            " |  __array_function__(...)\n",
            " |\n",
            " |  __array_namespace__(...)\n",
            " |\n",
            " |  __array_ufunc__(...)\n",
            " |\n",
            " |  __array_wrap__(...)\n",
            " |      a.__array_wrap__(array[, context], /)\n",
            " |\n",
            " |      Returns a view of `array` with the same type as self.\n",
            " |\n",
            " |  __bool__(self, /)\n",
            " |      True if self else False\n",
            " |\n",
            " |  __buffer__(self, flags, /)\n",
            " |      Return a buffer object that exposes the underlying memory of the object.\n",
            " |\n",
            " |  __complex__(...)\n",
            " |\n",
            " |  __contains__(self, key, /)\n",
            " |      Return bool(key in self).\n",
            " |\n",
            " |  __copy__(...)\n",
            " |      a.__copy__()\n",
            " |\n",
            " |      Used if :func:`copy.copy` is called on an array. Returns a copy of the array.\n",
            " |\n",
            " |      Equivalent to ``a.copy(order='K')``.\n",
            " |\n",
            " |  __deepcopy__(...)\n",
            " |      a.__deepcopy__(memo, /)\n",
            " |\n",
            " |      Used if :func:`copy.deepcopy` is called on an array.\n",
            " |\n",
            " |  __delitem__(self, key, /)\n",
            " |      Delete self[key].\n",
            " |\n",
            " |  __divmod__(self, value, /)\n",
            " |      Return divmod(self, value).\n",
            " |\n",
            " |  __dlpack__(...)\n",
            " |      a.__dlpack__(*, stream=None, max_version=None, dl_device=None, copy=None)\n",
            " |\n",
            " |      DLPack Protocol: Part of the Array API.\n",
            " |\n",
            " |  __dlpack_device__(...)\n",
            " |      a.__dlpack_device__()\n",
            " |\n",
            " |      DLPack Protocol: Part of the Array API.\n",
            " |\n",
            " |  __eq__(self, value, /)\n",
            " |      Return self==value.\n",
            " |\n",
            " |  __float__(self, /)\n",
            " |      float(self)\n",
            " |\n",
            " |  __floordiv__(self, value, /)\n",
            " |      Return self//value.\n",
            " |\n",
            " |  __format__(...)\n",
            " |      Default object formatter.\n",
            " |\n",
            " |      Return str(self) if format_spec is empty. Raise TypeError otherwise.\n",
            " |\n",
            " |  __ge__(self, value, /)\n",
            " |      Return self>=value.\n",
            " |\n",
            " |  __getitem__(self, key, /)\n",
            " |      Return self[key].\n",
            " |\n",
            " |  __gt__(self, value, /)\n",
            " |      Return self>value.\n",
            " |\n",
            " |  __iadd__(self, value, /)\n",
            " |      Return self+=value.\n",
            " |\n",
            " |  __iand__(self, value, /)\n",
            " |      Return self&=value.\n",
            " |\n",
            " |  __ifloordiv__(self, value, /)\n",
            " |      Return self//=value.\n",
            " |\n",
            " |  __ilshift__(self, value, /)\n",
            " |      Return self<<=value.\n",
            " |\n",
            " |  __imatmul__(self, value, /)\n",
            " |      Return self@=value.\n",
            " |\n",
            " |  __imod__(self, value, /)\n",
            " |      Return self%=value.\n",
            " |\n",
            " |  __imul__(self, value, /)\n",
            " |      Return self*=value.\n",
            " |\n",
            " |  __index__(self, /)\n",
            " |      Return self converted to an integer, if self is suitable for use as an index into a list.\n",
            " |\n",
            " |  __int__(self, /)\n",
            " |      int(self)\n",
            " |\n",
            " |  __invert__(self, /)\n",
            " |      ~self\n",
            " |\n",
            " |  __ior__(self, value, /)\n",
            " |      Return self|=value.\n",
            " |\n",
            " |  __ipow__(self, value, /)\n",
            " |      Return self**=value.\n",
            " |\n",
            " |  __irshift__(self, value, /)\n",
            " |      Return self>>=value.\n",
            " |\n",
            " |  __isub__(self, value, /)\n",
            " |      Return self-=value.\n",
            " |\n",
            " |  __iter__(self, /)\n",
            " |      Implement iter(self).\n",
            " |\n",
            " |  __itruediv__(self, value, /)\n",
            " |      Return self/=value.\n",
            " |\n",
            " |  __ixor__(self, value, /)\n",
            " |      Return self^=value.\n",
            " |\n",
            " |  __le__(self, value, /)\n",
            " |      Return self<=value.\n",
            " |\n",
            " |  __len__(self, /)\n",
            " |      Return len(self).\n",
            " |\n",
            " |  __lshift__(self, value, /)\n",
            " |      Return self<<value.\n",
            " |\n",
            " |  __lt__(self, value, /)\n",
            " |      Return self<value.\n",
            " |\n",
            " |  __matmul__(self, value, /)\n",
            " |      Return self@value.\n",
            " |\n",
            " |  __mod__(self, value, /)\n",
            " |      Return self%value.\n",
            " |\n",
            " |  __mul__(self, value, /)\n",
            " |      Return self*value.\n",
            " |\n",
            " |  __ne__(self, value, /)\n",
            " |      Return self!=value.\n",
            " |\n",
            " |  __neg__(self, /)\n",
            " |      -self\n",
            " |\n",
            " |  __or__(self, value, /)\n",
            " |      Return self|value.\n",
            " |\n",
            " |  __pos__(self, /)\n",
            " |      +self\n",
            " |\n",
            " |  __pow__(self, value, mod=None, /)\n",
            " |      Return pow(self, value, mod).\n",
            " |\n",
            " |  __radd__(self, value, /)\n",
            " |      Return value+self.\n",
            " |\n",
            " |  __rand__(self, value, /)\n",
            " |      Return value&self.\n",
            " |\n",
            " |  __rdivmod__(self, value, /)\n",
            " |      Return divmod(value, self).\n",
            " |\n",
            " |  __reduce__(...)\n",
            " |      a.__reduce__()\n",
            " |\n",
            " |      For pickling.\n",
            " |\n",
            " |  __reduce_ex__(...)\n",
            " |      Helper for pickle.\n",
            " |\n",
            " |  __repr__(self, /)\n",
            " |      Return repr(self).\n",
            " |\n",
            " |  __rfloordiv__(self, value, /)\n",
            " |      Return value//self.\n",
            " |\n",
            " |  __rlshift__(self, value, /)\n",
            " |      Return value<<self.\n",
            " |\n",
            " |  __rmatmul__(self, value, /)\n",
            " |      Return value@self.\n",
            " |\n",
            " |  __rmod__(self, value, /)\n",
            " |      Return value%self.\n",
            " |\n",
            " |  __rmul__(self, value, /)\n",
            " |      Return value*self.\n",
            " |\n",
            " |  __ror__(self, value, /)\n",
            " |      Return value|self.\n",
            " |\n",
            " |  __rpow__(self, value, mod=None, /)\n",
            " |      Return pow(value, self, mod).\n",
            " |\n",
            " |  __rrshift__(self, value, /)\n",
            " |      Return value>>self.\n",
            " |\n",
            " |  __rshift__(self, value, /)\n",
            " |      Return self>>value.\n",
            " |\n",
            " |  __rsub__(self, value, /)\n",
            " |      Return value-self.\n",
            " |\n",
            " |  __rtruediv__(self, value, /)\n",
            " |      Return value/self.\n",
            " |\n",
            " |  __rxor__(self, value, /)\n",
            " |      Return value^self.\n",
            " |\n",
            " |  __setitem__(self, key, value, /)\n",
            " |      Set self[key] to value.\n",
            " |\n",
            " |  __setstate__(...)\n",
            " |      a.__setstate__(state, /)\n",
            " |\n",
            " |      For unpickling.\n",
            " |\n",
            " |      The `state` argument must be a sequence that contains the following\n",
            " |      elements:\n",
            " |\n",
            " |      Parameters\n",
            " |      ----------\n",
            " |      version : int\n",
            " |          optional pickle version. If omitted defaults to 0.\n",
            " |      shape : tuple\n",
            " |      dtype : data-type\n",
            " |      isFortran : bool\n",
            " |      rawdata : string or list\n",
            " |          a binary string with the data (or a list if 'a' is an object array)\n",
            " |\n",
            " |  __sizeof__(...)\n",
            " |      Size of object in memory, in bytes.\n",
            " |\n",
            " |  __str__(self, /)\n",
            " |      Return str(self).\n",
            " |\n",
            " |  __sub__(self, value, /)\n",
            " |      Return self-value.\n",
            " |\n",
            " |  __truediv__(self, value, /)\n",
            " |      Return self/value.\n",
            " |\n",
            " |  __xor__(self, value, /)\n",
            " |      Return self^value.\n",
            " |\n",
            " |  all(...)\n",
            " |      a.all(axis=None, out=None, keepdims=False, *, where=True)\n",
            " |\n",
            " |      Returns True if all elements evaluate to True.\n",
            " |\n",
            " |      Refer to `numpy.all` for full documentation.\n",
            " |\n",
            " |      See Also\n",
            " |      --------\n",
            " |      numpy.all : equivalent function\n",
            " |\n",
            " |  any(...)\n",
            " |      a.any(axis=None, out=None, keepdims=False, *, where=True)\n",
            " |\n",
            " |      Returns True if any of the elements of `a` evaluate to True.\n",
            " |\n",
            " |      Refer to `numpy.any` for full documentation.\n",
            " |\n",
            " |      See Also\n",
            " |      --------\n",
            " |      numpy.any : equivalent function\n",
            " |\n",
            " |  argmax(...)\n",
            " |      a.argmax(axis=None, out=None, *, keepdims=False)\n",
            " |\n",
            " |      Return indices of the maximum values along the given axis.\n",
            " |\n",
            " |      Refer to `numpy.argmax` for full documentation.\n",
            " |\n",
            " |      See Also\n",
            " |      --------\n",
            " |      numpy.argmax : equivalent function\n",
            " |\n",
            " |  argmin(...)\n",
            " |      a.argmin(axis=None, out=None, *, keepdims=False)\n",
            " |\n",
            " |      Return indices of the minimum values along the given axis.\n",
            " |\n",
            " |      Refer to `numpy.argmin` for detailed documentation.\n",
            " |\n",
            " |      See Also\n",
            " |      --------\n",
            " |      numpy.argmin : equivalent function\n",
            " |\n",
            " |  argpartition(...)\n",
            " |      a.argpartition(kth, axis=-1, kind='introselect', order=None)\n",
            " |\n",
            " |      Returns the indices that would partition this array.\n",
            " |\n",
            " |      Refer to `numpy.argpartition` for full documentation.\n",
            " |\n",
            " |      See Also\n",
            " |      --------\n",
            " |      numpy.argpartition : equivalent function\n",
            " |\n",
            " |  argsort(...)\n",
            " |      a.argsort(axis=-1, kind=None, order=None)\n",
            " |\n",
            " |      Returns the indices that would sort this array.\n",
            " |\n",
            " |      Refer to `numpy.argsort` for full documentation.\n",
            " |\n",
            " |      See Also\n",
            " |      --------\n",
            " |      numpy.argsort : equivalent function\n",
            " |\n",
            " |  astype(...)\n",
            " |      a.astype(dtype, order='K', casting='unsafe', subok=True, copy=True)\n",
            " |\n",
            " |      Copy of the array, cast to a specified type.\n",
            " |\n",
            " |      Parameters\n",
            " |      ----------\n",
            " |      dtype : str or dtype\n",
            " |          Typecode or data-type to which the array is cast.\n",
            " |      order : {'C', 'F', 'A', 'K'}, optional\n",
            " |          Controls the memory layout order of the result.\n",
            " |          'C' means C order, 'F' means Fortran order, 'A'\n",
            " |          means 'F' order if all the arrays are Fortran contiguous,\n",
            " |          'C' order otherwise, and 'K' means as close to the\n",
            " |          order the array elements appear in memory as possible.\n",
            " |          Default is 'K'.\n",
            " |      casting : {'no', 'equiv', 'safe', 'same_kind', 'unsafe'}, optional\n",
            " |          Controls what kind of data casting may occur. Defaults to 'unsafe'\n",
            " |          for backwards compatibility.\n",
            " |\n",
            " |          * 'no' means the data types should not be cast at all.\n",
            " |          * 'equiv' means only byte-order changes are allowed.\n",
            " |          * 'safe' means only casts which can preserve values are allowed.\n",
            " |          * 'same_kind' means only safe casts or casts within a kind,\n",
            " |            like float64 to float32, are allowed.\n",
            " |          * 'unsafe' means any data conversions may be done.\n",
            " |      subok : bool, optional\n",
            " |          If True, then sub-classes will be passed-through (default), otherwise\n",
            " |          the returned array will be forced to be a base-class array.\n",
            " |      copy : bool, optional\n",
            " |          By default, astype always returns a newly allocated array. If this\n",
            " |          is set to false, and the `dtype`, `order`, and `subok`\n",
            " |          requirements are satisfied, the input array is returned instead\n",
            " |          of a copy.\n",
            " |\n",
            " |      Returns\n",
            " |      -------\n",
            " |      arr_t : ndarray\n",
            " |          Unless `copy` is False and the other conditions for returning the input\n",
            " |          array are satisfied (see description for `copy` input parameter), `arr_t`\n",
            " |          is a new array of the same shape as the input array, with dtype, order\n",
            " |          given by `dtype`, `order`.\n",
            " |\n",
            " |      Raises\n",
            " |      ------\n",
            " |      ComplexWarning\n",
            " |          When casting from complex to float or int. To avoid this,\n",
            " |          one should use ``a.real.astype(t)``.\n",
            " |\n",
            " |      Examples\n",
            " |      --------\n",
            " |      >>> import numpy as np\n",
            " |      >>> x = np.array([1, 2, 2.5])\n",
            " |      >>> x\n",
            " |      array([1. ,  2. ,  2.5])\n",
            " |\n",
            " |      >>> x.astype(int)\n",
            " |      array([1, 2, 2])\n",
            " |\n",
            " |  byteswap(...)\n",
            " |      a.byteswap(inplace=False)\n",
            " |\n",
            " |      Swap the bytes of the array elements\n",
            " |\n",
            " |      Toggle between low-endian and big-endian data representation by\n",
            " |      returning a byteswapped array, optionally swapped in-place.\n",
            " |      Arrays of byte-strings are not swapped. The real and imaginary\n",
            " |      parts of a complex number are swapped individually.\n",
            " |\n",
            " |      Parameters\n",
            " |      ----------\n",
            " |      inplace : bool, optional\n",
            " |          If ``True``, swap bytes in-place, default is ``False``.\n",
            " |\n",
            " |      Returns\n",
            " |      -------\n",
            " |      out : ndarray\n",
            " |          The byteswapped array. If `inplace` is ``True``, this is\n",
            " |          a view to self.\n",
            " |\n",
            " |      Examples\n",
            " |      --------\n",
            " |      >>> import numpy as np\n",
            " |      >>> A = np.array([1, 256, 8755], dtype=np.int16)\n",
            " |      >>> list(map(hex, A))\n",
            " |      ['0x1', '0x100', '0x2233']\n",
            " |      >>> A.byteswap(inplace=True)\n",
            " |      array([  256,     1, 13090], dtype=int16)\n",
            " |      >>> list(map(hex, A))\n",
            " |      ['0x100', '0x1', '0x3322']\n",
            " |\n",
            " |      Arrays of byte-strings are not swapped\n",
            " |\n",
            " |      >>> A = np.array([b'ceg', b'fac'])\n",
            " |      >>> A.byteswap()\n",
            " |      array([b'ceg', b'fac'], dtype='|S3')\n",
            " |\n",
            " |      ``A.view(A.dtype.newbyteorder()).byteswap()`` produces an array with\n",
            " |      the same values but different representation in memory\n",
            " |\n",
            " |      >>> A = np.array([1, 2, 3],dtype=np.int64)\n",
            " |      >>> A.view(np.uint8)\n",
            " |      array([1, 0, 0, 0, 0, 0, 0, 0, 2, 0, 0, 0, 0, 0, 0, 0, 3, 0, 0, 0, 0, 0,\n",
            " |             0, 0], dtype=uint8)\n",
            " |      >>> A.view(A.dtype.newbyteorder()).byteswap(inplace=True)\n",
            " |      array([1, 2, 3], dtype='>i8')\n",
            " |      >>> A.view(np.uint8)\n",
            " |      array([0, 0, 0, 0, 0, 0, 0, 1, 0, 0, 0, 0, 0, 0, 0, 2, 0, 0, 0, 0, 0, 0,\n",
            " |             0, 3], dtype=uint8)\n",
            " |\n",
            " |  choose(...)\n",
            " |      a.choose(choices, out=None, mode='raise')\n",
            " |\n",
            " |      Use an index array to construct a new array from a set of choices.\n",
            " |\n",
            " |      Refer to `numpy.choose` for full documentation.\n",
            " |\n",
            " |      See Also\n",
            " |      --------\n",
            " |      numpy.choose : equivalent function\n",
            " |\n",
            " |  clip(...)\n",
            " |      a.clip(min=None, max=None, out=None, **kwargs)\n",
            " |\n",
            " |      Return an array whose values are limited to ``[min, max]``.\n",
            " |      One of max or min must be given.\n",
            " |\n",
            " |      Refer to `numpy.clip` for full documentation.\n",
            " |\n",
            " |      See Also\n",
            " |      --------\n",
            " |      numpy.clip : equivalent function\n",
            " |\n",
            " |  compress(...)\n",
            " |      a.compress(condition, axis=None, out=None)\n",
            " |\n",
            " |      Return selected slices of this array along given axis.\n",
            " |\n",
            " |      Refer to `numpy.compress` for full documentation.\n",
            " |\n",
            " |      See Also\n",
            " |      --------\n",
            " |      numpy.compress : equivalent function\n",
            " |\n",
            " |  conj(...)\n",
            " |      a.conj()\n",
            " |\n",
            " |      Complex-conjugate all elements.\n",
            " |\n",
            " |      Refer to `numpy.conjugate` for full documentation.\n",
            " |\n",
            " |      See Also\n",
            " |      --------\n",
            " |      numpy.conjugate : equivalent function\n",
            " |\n",
            " |  conjugate(...)\n",
            " |      a.conjugate()\n",
            " |\n",
            " |      Return the complex conjugate, element-wise.\n",
            " |\n",
            " |      Refer to `numpy.conjugate` for full documentation.\n",
            " |\n",
            " |      See Also\n",
            " |      --------\n",
            " |      numpy.conjugate : equivalent function\n",
            " |\n",
            " |  copy(...)\n",
            " |      a.copy(order='C')\n",
            " |\n",
            " |      Return a copy of the array.\n",
            " |\n",
            " |      Parameters\n",
            " |      ----------\n",
            " |      order : {'C', 'F', 'A', 'K'}, optional\n",
            " |          Controls the memory layout of the copy. 'C' means C-order,\n",
            " |          'F' means F-order, 'A' means 'F' if `a` is Fortran contiguous,\n",
            " |          'C' otherwise. 'K' means match the layout of `a` as closely\n",
            " |          as possible. (Note that this function and :func:`numpy.copy` are very\n",
            " |          similar but have different default values for their order=\n",
            " |          arguments, and this function always passes sub-classes through.)\n",
            " |\n",
            " |      See also\n",
            " |      --------\n",
            " |      numpy.copy : Similar function with different default behavior\n",
            " |      numpy.copyto\n",
            " |\n",
            " |      Notes\n",
            " |      -----\n",
            " |      This function is the preferred method for creating an array copy.  The\n",
            " |      function :func:`numpy.copy` is similar, but it defaults to using order 'K',\n",
            " |      and will not pass sub-classes through by default.\n",
            " |\n",
            " |      Examples\n",
            " |      --------\n",
            " |      >>> import numpy as np\n",
            " |      >>> x = np.array([[1,2,3],[4,5,6]], order='F')\n",
            " |\n",
            " |      >>> y = x.copy()\n",
            " |\n",
            " |      >>> x.fill(0)\n",
            " |\n",
            " |      >>> x\n",
            " |      array([[0, 0, 0],\n",
            " |             [0, 0, 0]])\n",
            " |\n",
            " |      >>> y\n",
            " |      array([[1, 2, 3],\n",
            " |             [4, 5, 6]])\n",
            " |\n",
            " |      >>> y.flags['C_CONTIGUOUS']\n",
            " |      True\n",
            " |\n",
            " |      For arrays containing Python objects (e.g. dtype=object),\n",
            " |      the copy is a shallow one. The new array will contain the\n",
            " |      same object which may lead to surprises if that object can\n",
            " |      be modified (is mutable):\n",
            " |\n",
            " |      >>> a = np.array([1, 'm', [2, 3, 4]], dtype=object)\n",
            " |      >>> b = a.copy()\n",
            " |      >>> b[2][0] = 10\n",
            " |      >>> a\n",
            " |      array([1, 'm', list([10, 3, 4])], dtype=object)\n",
            " |\n",
            " |      To ensure all elements within an ``object`` array are copied,\n",
            " |      use `copy.deepcopy`:\n",
            " |\n",
            " |      >>> import copy\n",
            " |      >>> a = np.array([1, 'm', [2, 3, 4]], dtype=object)\n",
            " |      >>> c = copy.deepcopy(a)\n",
            " |      >>> c[2][0] = 10\n",
            " |      >>> c\n",
            " |      array([1, 'm', list([10, 3, 4])], dtype=object)\n",
            " |      >>> a\n",
            " |      array([1, 'm', list([2, 3, 4])], dtype=object)\n",
            " |\n",
            " |  cumprod(...)\n",
            " |      a.cumprod(axis=None, dtype=None, out=None)\n",
            " |\n",
            " |      Return the cumulative product of the elements along the given axis.\n",
            " |\n",
            " |      Refer to `numpy.cumprod` for full documentation.\n",
            " |\n",
            " |      See Also\n",
            " |      --------\n",
            " |      numpy.cumprod : equivalent function\n",
            " |\n",
            " |  cumsum(...)\n",
            " |      a.cumsum(axis=None, dtype=None, out=None)\n",
            " |\n",
            " |      Return the cumulative sum of the elements along the given axis.\n",
            " |\n",
            " |      Refer to `numpy.cumsum` for full documentation.\n",
            " |\n",
            " |      See Also\n",
            " |      --------\n",
            " |      numpy.cumsum : equivalent function\n",
            " |\n",
            " |  diagonal(...)\n",
            " |      a.diagonal(offset=0, axis1=0, axis2=1)\n",
            " |\n",
            " |      Return specified diagonals. In NumPy 1.9 the returned array is a\n",
            " |      read-only view instead of a copy as in previous NumPy versions.  In\n",
            " |      a future version the read-only restriction will be removed.\n",
            " |\n",
            " |      Refer to :func:`numpy.diagonal` for full documentation.\n",
            " |\n",
            " |      See Also\n",
            " |      --------\n",
            " |      numpy.diagonal : equivalent function\n",
            " |\n",
            " |  dot(...)\n",
            " |\n",
            " |  dump(...)\n",
            " |      a.dump(file)\n",
            " |\n",
            " |      Dump a pickle of the array to the specified file.\n",
            " |      The array can be read back with pickle.load or numpy.load.\n",
            " |\n",
            " |      Parameters\n",
            " |      ----------\n",
            " |      file : str or Path\n",
            " |          A string naming the dump file.\n",
            " |\n",
            " |  dumps(...)\n",
            " |      a.dumps()\n",
            " |\n",
            " |      Returns the pickle of the array as a string.\n",
            " |      pickle.loads will convert the string back to an array.\n",
            " |\n",
            " |      Parameters\n",
            " |      ----------\n",
            " |      None\n",
            " |\n",
            " |  fill(...)\n",
            " |      a.fill(value)\n",
            " |\n",
            " |      Fill the array with a scalar value.\n",
            " |\n",
            " |      Parameters\n",
            " |      ----------\n",
            " |      value : scalar\n",
            " |          All elements of `a` will be assigned this value.\n",
            " |\n",
            " |      Examples\n",
            " |      --------\n",
            " |      >>> import numpy as np\n",
            " |      >>> a = np.array([1, 2])\n",
            " |      >>> a.fill(0)\n",
            " |      >>> a\n",
            " |      array([0, 0])\n",
            " |      >>> a = np.empty(2)\n",
            " |      >>> a.fill(1)\n",
            " |      >>> a\n",
            " |      array([1.,  1.])\n",
            " |\n",
            " |      Fill expects a scalar value and always behaves the same as assigning\n",
            " |      to a single array element.  The following is a rare example where this\n",
            " |      distinction is important:\n",
            " |\n",
            " |      >>> a = np.array([None, None], dtype=object)\n",
            " |      >>> a[0] = np.array(3)\n",
            " |      >>> a\n",
            " |      array([array(3), None], dtype=object)\n",
            " |      >>> a.fill(np.array(3))\n",
            " |      >>> a\n",
            " |      array([array(3), array(3)], dtype=object)\n",
            " |\n",
            " |      Where other forms of assignments will unpack the array being assigned:\n",
            " |\n",
            " |      >>> a[...] = np.array(3)\n",
            " |      >>> a\n",
            " |      array([3, 3], dtype=object)\n",
            " |\n",
            " |  flatten(...)\n",
            " |      a.flatten(order='C')\n",
            " |\n",
            " |      Return a copy of the array collapsed into one dimension.\n",
            " |\n",
            " |      Parameters\n",
            " |      ----------\n",
            " |      order : {'C', 'F', 'A', 'K'}, optional\n",
            " |          'C' means to flatten in row-major (C-style) order.\n",
            " |          'F' means to flatten in column-major (Fortran-\n",
            " |          style) order. 'A' means to flatten in column-major\n",
            " |          order if `a` is Fortran *contiguous* in memory,\n",
            " |          row-major order otherwise. 'K' means to flatten\n",
            " |          `a` in the order the elements occur in memory.\n",
            " |          The default is 'C'.\n",
            " |\n",
            " |      Returns\n",
            " |      -------\n",
            " |      y : ndarray\n",
            " |          A copy of the input array, flattened to one dimension.\n",
            " |\n",
            " |      See Also\n",
            " |      --------\n",
            " |      ravel : Return a flattened array.\n",
            " |      flat : A 1-D flat iterator over the array.\n",
            " |\n",
            " |      Examples\n",
            " |      --------\n",
            " |      >>> import numpy as np\n",
            " |      >>> a = np.array([[1,2], [3,4]])\n",
            " |      >>> a.flatten()\n",
            " |      array([1, 2, 3, 4])\n",
            " |      >>> a.flatten('F')\n",
            " |      array([1, 3, 2, 4])\n",
            " |\n",
            " |  getfield(...)\n",
            " |      a.getfield(dtype, offset=0)\n",
            " |\n",
            " |      Returns a field of the given array as a certain type.\n",
            " |\n",
            " |      A field is a view of the array data with a given data-type. The values in\n",
            " |      the view are determined by the given type and the offset into the current\n",
            " |      array in bytes. The offset needs to be such that the view dtype fits in the\n",
            " |      array dtype; for example an array of dtype complex128 has 16-byte elements.\n",
            " |      If taking a view with a 32-bit integer (4 bytes), the offset needs to be\n",
            " |      between 0 and 12 bytes.\n",
            " |\n",
            " |      Parameters\n",
            " |      ----------\n",
            " |      dtype : str or dtype\n",
            " |          The data type of the view. The dtype size of the view can not be larger\n",
            " |          than that of the array itself.\n",
            " |      offset : int\n",
            " |          Number of bytes to skip before beginning the element view.\n",
            " |\n",
            " |      Examples\n",
            " |      --------\n",
            " |      >>> import numpy as np\n",
            " |      >>> x = np.diag([1.+1.j]*2)\n",
            " |      >>> x[1, 1] = 2 + 4.j\n",
            " |      >>> x\n",
            " |      array([[1.+1.j,  0.+0.j],\n",
            " |             [0.+0.j,  2.+4.j]])\n",
            " |      >>> x.getfield(np.float64)\n",
            " |      array([[1.,  0.],\n",
            " |             [0.,  2.]])\n",
            " |\n",
            " |      By choosing an offset of 8 bytes we can select the complex part of the\n",
            " |      array for our view:\n",
            " |\n",
            " |      >>> x.getfield(np.float64, offset=8)\n",
            " |      array([[1.,  0.],\n",
            " |             [0.,  4.]])\n",
            " |\n",
            " |  item(...)\n",
            " |      a.item(*args)\n",
            " |\n",
            " |      Copy an element of an array to a standard Python scalar and return it.\n",
            " |\n",
            " |      Parameters\n",
            " |      ----------\n",
            " |      \\*args : Arguments (variable number and type)\n",
            " |\n",
            " |          * none: in this case, the method only works for arrays\n",
            " |            with one element (`a.size == 1`), which element is\n",
            " |            copied into a standard Python scalar object and returned.\n",
            " |\n",
            " |          * int_type: this argument is interpreted as a flat index into\n",
            " |            the array, specifying which element to copy and return.\n",
            " |\n",
            " |          * tuple of int_types: functions as does a single int_type argument,\n",
            " |            except that the argument is interpreted as an nd-index into the\n",
            " |            array.\n",
            " |\n",
            " |      Returns\n",
            " |      -------\n",
            " |      z : Standard Python scalar object\n",
            " |          A copy of the specified element of the array as a suitable\n",
            " |          Python scalar\n",
            " |\n",
            " |      Notes\n",
            " |      -----\n",
            " |      When the data type of `a` is longdouble or clongdouble, item() returns\n",
            " |      a scalar array object because there is no available Python scalar that\n",
            " |      would not lose information. Void arrays return a buffer object for item(),\n",
            " |      unless fields are defined, in which case a tuple is returned.\n",
            " |\n",
            " |      `item` is very similar to a[args], except, instead of an array scalar,\n",
            " |      a standard Python scalar is returned. This can be useful for speeding up\n",
            " |      access to elements of the array and doing arithmetic on elements of the\n",
            " |      array using Python's optimized math.\n",
            " |\n",
            " |      Examples\n",
            " |      --------\n",
            " |      >>> import numpy as np\n",
            " |      >>> np.random.seed(123)\n",
            " |      >>> x = np.random.randint(9, size=(3, 3))\n",
            " |      >>> x\n",
            " |      array([[2, 2, 6],\n",
            " |             [1, 3, 6],\n",
            " |             [1, 0, 1]])\n",
            " |      >>> x.item(3)\n",
            " |      1\n",
            " |      >>> x.item(7)\n",
            " |      0\n",
            " |      >>> x.item((0, 1))\n",
            " |      2\n",
            " |      >>> x.item((2, 2))\n",
            " |      1\n",
            " |\n",
            " |      For an array with object dtype, elements are returned as-is.\n",
            " |\n",
            " |      >>> a = np.array([np.int64(1)], dtype=object)\n",
            " |      >>> a.item() #return np.int64\n",
            " |      np.int64(1)\n",
            " |\n",
            " |  max(...)\n",
            " |      a.max(axis=None, out=None, keepdims=False, initial=<no value>, where=True)\n",
            " |\n",
            " |      Return the maximum along a given axis.\n",
            " |\n",
            " |      Refer to `numpy.amax` for full documentation.\n",
            " |\n",
            " |      See Also\n",
            " |      --------\n",
            " |      numpy.amax : equivalent function\n",
            " |\n",
            " |  mean(...)\n",
            " |      a.mean(axis=None, dtype=None, out=None, keepdims=False, *, where=True)\n",
            " |\n",
            " |      Returns the average of the array elements along given axis.\n",
            " |\n",
            " |      Refer to `numpy.mean` for full documentation.\n",
            " |\n",
            " |      See Also\n",
            " |      --------\n",
            " |      numpy.mean : equivalent function\n",
            " |\n",
            " |  min(...)\n",
            " |      a.min(axis=None, out=None, keepdims=False, initial=<no value>, where=True)\n",
            " |\n",
            " |      Return the minimum along a given axis.\n",
            " |\n",
            " |      Refer to `numpy.amin` for full documentation.\n",
            " |\n",
            " |      See Also\n",
            " |      --------\n",
            " |      numpy.amin : equivalent function\n",
            " |\n",
            " |  nonzero(...)\n",
            " |      a.nonzero()\n",
            " |\n",
            " |      Return the indices of the elements that are non-zero.\n",
            " |\n",
            " |      Refer to `numpy.nonzero` for full documentation.\n",
            " |\n",
            " |      See Also\n",
            " |      --------\n",
            " |      numpy.nonzero : equivalent function\n",
            " |\n",
            " |  partition(...)\n",
            " |      a.partition(kth, axis=-1, kind='introselect', order=None)\n",
            " |\n",
            " |      Partially sorts the elements in the array in such a way that the value of\n",
            " |      the element in k-th position is in the position it would be in a sorted\n",
            " |      array. In the output array, all elements smaller than the k-th element\n",
            " |      are located to the left of this element and all equal or greater are\n",
            " |      located to its right. The ordering of the elements in the two partitions\n",
            " |      on the either side of the k-th element in the output array is undefined.\n",
            " |\n",
            " |      Parameters\n",
            " |      ----------\n",
            " |      kth : int or sequence of ints\n",
            " |          Element index to partition by. The kth element value will be in its\n",
            " |          final sorted position and all smaller elements will be moved before it\n",
            " |          and all equal or greater elements behind it.\n",
            " |          The order of all elements in the partitions is undefined.\n",
            " |          If provided with a sequence of kth it will partition all elements\n",
            " |          indexed by kth of them into their sorted position at once.\n",
            " |\n",
            " |          .. deprecated:: 1.22.0\n",
            " |              Passing booleans as index is deprecated.\n",
            " |      axis : int, optional\n",
            " |          Axis along which to sort. Default is -1, which means sort along the\n",
            " |          last axis.\n",
            " |      kind : {'introselect'}, optional\n",
            " |          Selection algorithm. Default is 'introselect'.\n",
            " |      order : str or list of str, optional\n",
            " |          When `a` is an array with fields defined, this argument specifies\n",
            " |          which fields to compare first, second, etc. A single field can\n",
            " |          be specified as a string, and not all fields need to be specified,\n",
            " |          but unspecified fields will still be used, in the order in which\n",
            " |          they come up in the dtype, to break ties.\n",
            " |\n",
            " |      See Also\n",
            " |      --------\n",
            " |      numpy.partition : Return a partitioned copy of an array.\n",
            " |      argpartition : Indirect partition.\n",
            " |      sort : Full sort.\n",
            " |\n",
            " |      Notes\n",
            " |      -----\n",
            " |      See ``np.partition`` for notes on the different algorithms.\n",
            " |\n",
            " |      Examples\n",
            " |      --------\n",
            " |      >>> import numpy as np\n",
            " |      >>> a = np.array([3, 4, 2, 1])\n",
            " |      >>> a.partition(3)\n",
            " |      >>> a\n",
            " |      array([2, 1, 3, 4]) # may vary\n",
            " |\n",
            " |      >>> a.partition((1, 3))\n",
            " |      >>> a\n",
            " |      array([1, 2, 3, 4])\n",
            " |\n",
            " |  prod(...)\n",
            " |      a.prod(axis=None, dtype=None, out=None, keepdims=False,\n",
            " |          initial=1, where=True)\n",
            " |\n",
            " |      Return the product of the array elements over the given axis\n",
            " |\n",
            " |      Refer to `numpy.prod` for full documentation.\n",
            " |\n",
            " |      See Also\n",
            " |      --------\n",
            " |      numpy.prod : equivalent function\n",
            " |\n",
            " |  put(...)\n",
            " |      a.put(indices, values, mode='raise')\n",
            " |\n",
            " |      Set ``a.flat[n] = values[n]`` for all `n` in indices.\n",
            " |\n",
            " |      Refer to `numpy.put` for full documentation.\n",
            " |\n",
            " |      See Also\n",
            " |      --------\n",
            " |      numpy.put : equivalent function\n",
            " |\n",
            " |  ravel(...)\n",
            " |      a.ravel([order])\n",
            " |\n",
            " |      Return a flattened array.\n",
            " |\n",
            " |      Refer to `numpy.ravel` for full documentation.\n",
            " |\n",
            " |      See Also\n",
            " |      --------\n",
            " |      numpy.ravel : equivalent function\n",
            " |\n",
            " |      ndarray.flat : a flat iterator on the array.\n",
            " |\n",
            " |  repeat(...)\n",
            " |      a.repeat(repeats, axis=None)\n",
            " |\n",
            " |      Repeat elements of an array.\n",
            " |\n",
            " |      Refer to `numpy.repeat` for full documentation.\n",
            " |\n",
            " |      See Also\n",
            " |      --------\n",
            " |      numpy.repeat : equivalent function\n",
            " |\n",
            " |  reshape(...)\n",
            " |      a.reshape(shape, /, *, order='C', copy=None)\n",
            " |\n",
            " |      Returns an array containing the same data with a new shape.\n",
            " |\n",
            " |      Refer to `numpy.reshape` for full documentation.\n",
            " |\n",
            " |      See Also\n",
            " |      --------\n",
            " |      numpy.reshape : equivalent function\n",
            " |\n",
            " |      Notes\n",
            " |      -----\n",
            " |      Unlike the free function `numpy.reshape`, this method on `ndarray` allows\n",
            " |      the elements of the shape parameter to be passed in as separate arguments.\n",
            " |      For example, ``a.reshape(10, 11)`` is equivalent to\n",
            " |      ``a.reshape((10, 11))``.\n",
            " |\n",
            " |  resize(...)\n",
            " |      a.resize(new_shape, refcheck=True)\n",
            " |\n",
            " |      Change shape and size of array in-place.\n",
            " |\n",
            " |      Parameters\n",
            " |      ----------\n",
            " |      new_shape : tuple of ints, or `n` ints\n",
            " |          Shape of resized array.\n",
            " |      refcheck : bool, optional\n",
            " |          If False, reference count will not be checked. Default is True.\n",
            " |\n",
            " |      Returns\n",
            " |      -------\n",
            " |      None\n",
            " |\n",
            " |      Raises\n",
            " |      ------\n",
            " |      ValueError\n",
            " |          If `a` does not own its own data or references or views to it exist,\n",
            " |          and the data memory must be changed.\n",
            " |          PyPy only: will always raise if the data memory must be changed, since\n",
            " |          there is no reliable way to determine if references or views to it\n",
            " |          exist.\n",
            " |\n",
            " |      SystemError\n",
            " |          If the `order` keyword argument is specified. This behaviour is a\n",
            " |          bug in NumPy.\n",
            " |\n",
            " |      See Also\n",
            " |      --------\n",
            " |      resize : Return a new array with the specified shape.\n",
            " |\n",
            " |      Notes\n",
            " |      -----\n",
            " |      This reallocates space for the data area if necessary.\n",
            " |\n",
            " |      Only contiguous arrays (data elements consecutive in memory) can be\n",
            " |      resized.\n",
            " |\n",
            " |      The purpose of the reference count check is to make sure you\n",
            " |      do not use this array as a buffer for another Python object and then\n",
            " |      reallocate the memory. However, reference counts can increase in\n",
            " |      other ways so if you are sure that you have not shared the memory\n",
            " |      for this array with another Python object, then you may safely set\n",
            " |      `refcheck` to False.\n",
            " |\n",
            " |      Examples\n",
            " |      --------\n",
            " |      Shrinking an array: array is flattened (in the order that the data are\n",
            " |      stored in memory), resized, and reshaped:\n",
            " |\n",
            " |      >>> import numpy as np\n",
            " |\n",
            " |      >>> a = np.array([[0, 1], [2, 3]], order='C')\n",
            " |      >>> a.resize((2, 1))\n",
            " |      >>> a\n",
            " |      array([[0],\n",
            " |             [1]])\n",
            " |\n",
            " |      >>> a = np.array([[0, 1], [2, 3]], order='F')\n",
            " |      >>> a.resize((2, 1))\n",
            " |      >>> a\n",
            " |      array([[0],\n",
            " |             [2]])\n",
            " |\n",
            " |      Enlarging an array: as above, but missing entries are filled with zeros:\n",
            " |\n",
            " |      >>> b = np.array([[0, 1], [2, 3]])\n",
            " |      >>> b.resize(2, 3) # new_shape parameter doesn't have to be a tuple\n",
            " |      >>> b\n",
            " |      array([[0, 1, 2],\n",
            " |             [3, 0, 0]])\n",
            " |\n",
            " |      Referencing an array prevents resizing...\n",
            " |\n",
            " |      >>> c = a\n",
            " |      >>> a.resize((1, 1))\n",
            " |      Traceback (most recent call last):\n",
            " |      ...\n",
            " |      ValueError: cannot resize an array that references or is referenced ...\n",
            " |\n",
            " |      Unless `refcheck` is False:\n",
            " |\n",
            " |      >>> a.resize((1, 1), refcheck=False)\n",
            " |      >>> a\n",
            " |      array([[0]])\n",
            " |      >>> c\n",
            " |      array([[0]])\n",
            " |\n",
            " |  round(...)\n",
            " |      a.round(decimals=0, out=None)\n",
            " |\n",
            " |      Return `a` with each element rounded to the given number of decimals.\n",
            " |\n",
            " |      Refer to `numpy.around` for full documentation.\n",
            " |\n",
            " |      See Also\n",
            " |      --------\n",
            " |      numpy.around : equivalent function\n",
            " |\n",
            " |  searchsorted(...)\n",
            " |      a.searchsorted(v, side='left', sorter=None)\n",
            " |\n",
            " |      Find indices where elements of v should be inserted in a to maintain order.\n",
            " |\n",
            " |      For full documentation, see `numpy.searchsorted`\n",
            " |\n",
            " |      See Also\n",
            " |      --------\n",
            " |      numpy.searchsorted : equivalent function\n",
            " |\n",
            " |  setfield(...)\n",
            " |      a.setfield(val, dtype, offset=0)\n",
            " |\n",
            " |      Put a value into a specified place in a field defined by a data-type.\n",
            " |\n",
            " |      Place `val` into `a`'s field defined by `dtype` and beginning `offset`\n",
            " |      bytes into the field.\n",
            " |\n",
            " |      Parameters\n",
            " |      ----------\n",
            " |      val : object\n",
            " |          Value to be placed in field.\n",
            " |      dtype : dtype object\n",
            " |          Data-type of the field in which to place `val`.\n",
            " |      offset : int, optional\n",
            " |          The number of bytes into the field at which to place `val`.\n",
            " |\n",
            " |      Returns\n",
            " |      -------\n",
            " |      None\n",
            " |\n",
            " |      See Also\n",
            " |      --------\n",
            " |      getfield\n",
            " |\n",
            " |      Examples\n",
            " |      --------\n",
            " |      >>> import numpy as np\n",
            " |      >>> x = np.eye(3)\n",
            " |      >>> x.getfield(np.float64)\n",
            " |      array([[1.,  0.,  0.],\n",
            " |             [0.,  1.,  0.],\n",
            " |             [0.,  0.,  1.]])\n",
            " |      >>> x.setfield(3, np.int32)\n",
            " |      >>> x.getfield(np.int32)\n",
            " |      array([[3, 3, 3],\n",
            " |             [3, 3, 3],\n",
            " |             [3, 3, 3]], dtype=int32)\n",
            " |      >>> x\n",
            " |      array([[1.0e+000, 1.5e-323, 1.5e-323],\n",
            " |             [1.5e-323, 1.0e+000, 1.5e-323],\n",
            " |             [1.5e-323, 1.5e-323, 1.0e+000]])\n",
            " |      >>> x.setfield(np.eye(3), np.int32)\n",
            " |      >>> x\n",
            " |      array([[1.,  0.,  0.],\n",
            " |             [0.,  1.,  0.],\n",
            " |             [0.,  0.,  1.]])\n",
            " |\n",
            " |  setflags(...)\n",
            " |      a.setflags(write=None, align=None, uic=None)\n",
            " |\n",
            " |      Set array flags WRITEABLE, ALIGNED, WRITEBACKIFCOPY,\n",
            " |      respectively.\n",
            " |\n",
            " |      These Boolean-valued flags affect how numpy interprets the memory\n",
            " |      area used by `a` (see Notes below). The ALIGNED flag can only\n",
            " |      be set to True if the data is actually aligned according to the type.\n",
            " |      The WRITEBACKIFCOPY flag can never be set\n",
            " |      to True. The flag WRITEABLE can only be set to True if the array owns its\n",
            " |      own memory, or the ultimate owner of the memory exposes a writeable buffer\n",
            " |      interface, or is a string. (The exception for string is made so that\n",
            " |      unpickling can be done without copying memory.)\n",
            " |\n",
            " |      Parameters\n",
            " |      ----------\n",
            " |      write : bool, optional\n",
            " |          Describes whether or not `a` can be written to.\n",
            " |      align : bool, optional\n",
            " |          Describes whether or not `a` is aligned properly for its type.\n",
            " |      uic : bool, optional\n",
            " |          Describes whether or not `a` is a copy of another \"base\" array.\n",
            " |\n",
            " |      Notes\n",
            " |      -----\n",
            " |      Array flags provide information about how the memory area used\n",
            " |      for the array is to be interpreted. There are 7 Boolean flags\n",
            " |      in use, only three of which can be changed by the user:\n",
            " |      WRITEBACKIFCOPY, WRITEABLE, and ALIGNED.\n",
            " |\n",
            " |      WRITEABLE (W) the data area can be written to;\n",
            " |\n",
            " |      ALIGNED (A) the data and strides are aligned appropriately for the hardware\n",
            " |      (as determined by the compiler);\n",
            " |\n",
            " |      WRITEBACKIFCOPY (X) this array is a copy of some other array (referenced\n",
            " |      by .base). When the C-API function PyArray_ResolveWritebackIfCopy is\n",
            " |      called, the base array will be updated with the contents of this array.\n",
            " |\n",
            " |      All flags can be accessed using the single (upper case) letter as well\n",
            " |      as the full name.\n",
            " |\n",
            " |      Examples\n",
            " |      --------\n",
            " |      >>> import numpy as np\n",
            " |      >>> y = np.array([[3, 1, 7],\n",
            " |      ...               [2, 0, 0],\n",
            " |      ...               [8, 5, 9]])\n",
            " |      >>> y\n",
            " |      array([[3, 1, 7],\n",
            " |             [2, 0, 0],\n",
            " |             [8, 5, 9]])\n",
            " |      >>> y.flags\n",
            " |        C_CONTIGUOUS : True\n",
            " |        F_CONTIGUOUS : False\n",
            " |        OWNDATA : True\n",
            " |        WRITEABLE : True\n",
            " |        ALIGNED : True\n",
            " |        WRITEBACKIFCOPY : False\n",
            " |      >>> y.setflags(write=0, align=0)\n",
            " |      >>> y.flags\n",
            " |        C_CONTIGUOUS : True\n",
            " |        F_CONTIGUOUS : False\n",
            " |        OWNDATA : True\n",
            " |        WRITEABLE : False\n",
            " |        ALIGNED : False\n",
            " |        WRITEBACKIFCOPY : False\n",
            " |      >>> y.setflags(uic=1)\n",
            " |      Traceback (most recent call last):\n",
            " |        File \"<stdin>\", line 1, in <module>\n",
            " |      ValueError: cannot set WRITEBACKIFCOPY flag to True\n",
            " |\n",
            " |  sort(...)\n",
            " |      a.sort(axis=-1, kind=None, order=None)\n",
            " |\n",
            " |      Sort an array in-place. Refer to `numpy.sort` for full documentation.\n",
            " |\n",
            " |      Parameters\n",
            " |      ----------\n",
            " |      axis : int, optional\n",
            " |          Axis along which to sort. Default is -1, which means sort along the\n",
            " |          last axis.\n",
            " |      kind : {'quicksort', 'mergesort', 'heapsort', 'stable'}, optional\n",
            " |          Sorting algorithm. The default is 'quicksort'. Note that both 'stable'\n",
            " |          and 'mergesort' use timsort under the covers and, in general, the\n",
            " |          actual implementation will vary with datatype. The 'mergesort' option\n",
            " |          is retained for backwards compatibility.\n",
            " |      order : str or list of str, optional\n",
            " |          When `a` is an array with fields defined, this argument specifies\n",
            " |          which fields to compare first, second, etc.  A single field can\n",
            " |          be specified as a string, and not all fields need be specified,\n",
            " |          but unspecified fields will still be used, in the order in which\n",
            " |          they come up in the dtype, to break ties.\n",
            " |\n",
            " |      See Also\n",
            " |      --------\n",
            " |      numpy.sort : Return a sorted copy of an array.\n",
            " |      numpy.argsort : Indirect sort.\n",
            " |      numpy.lexsort : Indirect stable sort on multiple keys.\n",
            " |      numpy.searchsorted : Find elements in sorted array.\n",
            " |      numpy.partition: Partial sort.\n",
            " |\n",
            " |      Notes\n",
            " |      -----\n",
            " |      See `numpy.sort` for notes on the different sorting algorithms.\n",
            " |\n",
            " |      Examples\n",
            " |      --------\n",
            " |      >>> import numpy as np\n",
            " |      >>> a = np.array([[1,4], [3,1]])\n",
            " |      >>> a.sort(axis=1)\n",
            " |      >>> a\n",
            " |      array([[1, 4],\n",
            " |             [1, 3]])\n",
            " |      >>> a.sort(axis=0)\n",
            " |      >>> a\n",
            " |      array([[1, 3],\n",
            " |             [1, 4]])\n",
            " |\n",
            " |      Use the `order` keyword to specify a field to use when sorting a\n",
            " |      structured array:\n",
            " |\n",
            " |      >>> a = np.array([('a', 2), ('c', 1)], dtype=[('x', 'S1'), ('y', int)])\n",
            " |      >>> a.sort(order='y')\n",
            " |      >>> a\n",
            " |      array([(b'c', 1), (b'a', 2)],\n",
            " |            dtype=[('x', 'S1'), ('y', '<i8')])\n",
            " |\n",
            " |  squeeze(...)\n",
            " |      a.squeeze(axis=None)\n",
            " |\n",
            " |      Remove axes of length one from `a`.\n",
            " |\n",
            " |      Refer to `numpy.squeeze` for full documentation.\n",
            " |\n",
            " |      See Also\n",
            " |      --------\n",
            " |      numpy.squeeze : equivalent function\n",
            " |\n",
            " |  std(...)\n",
            " |      a.std(axis=None, dtype=None, out=None, ddof=0, keepdims=False, *, where=True)\n",
            " |\n",
            " |      Returns the standard deviation of the array elements along given axis.\n",
            " |\n",
            " |      Refer to `numpy.std` for full documentation.\n",
            " |\n",
            " |      See Also\n",
            " |      --------\n",
            " |      numpy.std : equivalent function\n",
            " |\n",
            " |  sum(...)\n",
            " |      a.sum(axis=None, dtype=None, out=None, keepdims=False, initial=0, where=True)\n",
            " |\n",
            " |      Return the sum of the array elements over the given axis.\n",
            " |\n",
            " |      Refer to `numpy.sum` for full documentation.\n",
            " |\n",
            " |      See Also\n",
            " |      --------\n",
            " |      numpy.sum : equivalent function\n",
            " |\n",
            " |  swapaxes(...)\n",
            " |      a.swapaxes(axis1, axis2)\n",
            " |\n",
            " |      Return a view of the array with `axis1` and `axis2` interchanged.\n",
            " |\n",
            " |      Refer to `numpy.swapaxes` for full documentation.\n",
            " |\n",
            " |      See Also\n",
            " |      --------\n",
            " |      numpy.swapaxes : equivalent function\n",
            " |\n",
            " |  take(...)\n",
            " |      a.take(indices, axis=None, out=None, mode='raise')\n",
            " |\n",
            " |      Return an array formed from the elements of `a` at the given indices.\n",
            " |\n",
            " |      Refer to `numpy.take` for full documentation.\n",
            " |\n",
            " |      See Also\n",
            " |      --------\n",
            " |      numpy.take : equivalent function\n",
            " |\n",
            " |  to_device(...)\n",
            " |\n",
            " |  tobytes(...)\n",
            " |      a.tobytes(order='C')\n",
            " |\n",
            " |      Construct Python bytes containing the raw data bytes in the array.\n",
            " |\n",
            " |      Constructs Python bytes showing a copy of the raw contents of\n",
            " |      data memory. The bytes object is produced in C-order by default.\n",
            " |      This behavior is controlled by the ``order`` parameter.\n",
            " |\n",
            " |      Parameters\n",
            " |      ----------\n",
            " |      order : {'C', 'F', 'A'}, optional\n",
            " |          Controls the memory layout of the bytes object. 'C' means C-order,\n",
            " |          'F' means F-order, 'A' (short for *Any*) means 'F' if `a` is\n",
            " |          Fortran contiguous, 'C' otherwise. Default is 'C'.\n",
            " |\n",
            " |      Returns\n",
            " |      -------\n",
            " |      s : bytes\n",
            " |          Python bytes exhibiting a copy of `a`'s raw data.\n",
            " |\n",
            " |      See also\n",
            " |      --------\n",
            " |      frombuffer\n",
            " |          Inverse of this operation, construct a 1-dimensional array from Python\n",
            " |          bytes.\n",
            " |\n",
            " |      Examples\n",
            " |      --------\n",
            " |      >>> import numpy as np\n",
            " |      >>> x = np.array([[0, 1], [2, 3]], dtype='<u2')\n",
            " |      >>> x.tobytes()\n",
            " |      b'\\x00\\x00\\x01\\x00\\x02\\x00\\x03\\x00'\n",
            " |      >>> x.tobytes('C') == x.tobytes()\n",
            " |      True\n",
            " |      >>> x.tobytes('F')\n",
            " |      b'\\x00\\x00\\x02\\x00\\x01\\x00\\x03\\x00'\n",
            " |\n",
            " |  tofile(...)\n",
            " |      a.tofile(fid, sep=\"\", format=\"%s\")\n",
            " |\n",
            " |      Write array to a file as text or binary (default).\n",
            " |\n",
            " |      Data is always written in 'C' order, independent of the order of `a`.\n",
            " |      The data produced by this method can be recovered using the function\n",
            " |      fromfile().\n",
            " |\n",
            " |      Parameters\n",
            " |      ----------\n",
            " |      fid : file or str or Path\n",
            " |          An open file object, or a string containing a filename.\n",
            " |      sep : str\n",
            " |          Separator between array items for text output.\n",
            " |          If \"\" (empty), a binary file is written, equivalent to\n",
            " |          ``file.write(a.tobytes())``.\n",
            " |      format : str\n",
            " |          Format string for text file output.\n",
            " |          Each entry in the array is formatted to text by first converting\n",
            " |          it to the closest Python type, and then using \"format\" % item.\n",
            " |\n",
            " |      Notes\n",
            " |      -----\n",
            " |      This is a convenience function for quick storage of array data.\n",
            " |      Information on endianness and precision is lost, so this method is not a\n",
            " |      good choice for files intended to archive data or transport data between\n",
            " |      machines with different endianness. Some of these problems can be overcome\n",
            " |      by outputting the data as text files, at the expense of speed and file\n",
            " |      size.\n",
            " |\n",
            " |      When fid is a file object, array contents are directly written to the\n",
            " |      file, bypassing the file object's ``write`` method. As a result, tofile\n",
            " |      cannot be used with files objects supporting compression (e.g., GzipFile)\n",
            " |      or file-like objects that do not support ``fileno()`` (e.g., BytesIO).\n",
            " |\n",
            " |  tolist(...)\n",
            " |      a.tolist()\n",
            " |\n",
            " |      Return the array as an ``a.ndim``-levels deep nested list of Python scalars.\n",
            " |\n",
            " |      Return a copy of the array data as a (nested) Python list.\n",
            " |      Data items are converted to the nearest compatible builtin Python type, via\n",
            " |      the `~numpy.ndarray.item` function.\n",
            " |\n",
            " |      If ``a.ndim`` is 0, then since the depth of the nested list is 0, it will\n",
            " |      not be a list at all, but a simple Python scalar.\n",
            " |\n",
            " |      Parameters\n",
            " |      ----------\n",
            " |      none\n",
            " |\n",
            " |      Returns\n",
            " |      -------\n",
            " |      y : object, or list of object, or list of list of object, or ...\n",
            " |          The possibly nested list of array elements.\n",
            " |\n",
            " |      Notes\n",
            " |      -----\n",
            " |      The array may be recreated via ``a = np.array(a.tolist())``, although this\n",
            " |      may sometimes lose precision.\n",
            " |\n",
            " |      Examples\n",
            " |      --------\n",
            " |      For a 1D array, ``a.tolist()`` is almost the same as ``list(a)``,\n",
            " |      except that ``tolist`` changes numpy scalars to Python scalars:\n",
            " |\n",
            " |      >>> import numpy as np\n",
            " |      >>> a = np.uint32([1, 2])\n",
            " |      >>> a_list = list(a)\n",
            " |      >>> a_list\n",
            " |      [np.uint32(1), np.uint32(2)]\n",
            " |      >>> type(a_list[0])\n",
            " |      <class 'numpy.uint32'>\n",
            " |      >>> a_tolist = a.tolist()\n",
            " |      >>> a_tolist\n",
            " |      [1, 2]\n",
            " |      >>> type(a_tolist[0])\n",
            " |      <class 'int'>\n",
            " |\n",
            " |      Additionally, for a 2D array, ``tolist`` applies recursively:\n",
            " |\n",
            " |      >>> a = np.array([[1, 2], [3, 4]])\n",
            " |      >>> list(a)\n",
            " |      [array([1, 2]), array([3, 4])]\n",
            " |      >>> a.tolist()\n",
            " |      [[1, 2], [3, 4]]\n",
            " |\n",
            " |      The base case for this recursion is a 0D array:\n",
            " |\n",
            " |      >>> a = np.array(1)\n",
            " |      >>> list(a)\n",
            " |      Traceback (most recent call last):\n",
            " |        ...\n",
            " |      TypeError: iteration over a 0-d array\n",
            " |      >>> a.tolist()\n",
            " |      1\n",
            " |\n",
            " |  tostring(...)\n",
            " |      a.tostring(order='C')\n",
            " |\n",
            " |      A compatibility alias for `~ndarray.tobytes`, with exactly the same\n",
            " |      behavior.\n",
            " |\n",
            " |      Despite its name, it returns :class:`bytes` not :class:`str`\\ s.\n",
            " |\n",
            " |      .. deprecated:: 1.19.0\n",
            " |\n",
            " |  trace(...)\n",
            " |      a.trace(offset=0, axis1=0, axis2=1, dtype=None, out=None)\n",
            " |\n",
            " |      Return the sum along diagonals of the array.\n",
            " |\n",
            " |      Refer to `numpy.trace` for full documentation.\n",
            " |\n",
            " |      See Also\n",
            " |      --------\n",
            " |      numpy.trace : equivalent function\n",
            " |\n",
            " |  transpose(...)\n",
            " |      a.transpose(*axes)\n",
            " |\n",
            " |      Returns a view of the array with axes transposed.\n",
            " |\n",
            " |      Refer to `numpy.transpose` for full documentation.\n",
            " |\n",
            " |      Parameters\n",
            " |      ----------\n",
            " |      axes : None, tuple of ints, or `n` ints\n",
            " |\n",
            " |       * None or no argument: reverses the order of the axes.\n",
            " |\n",
            " |       * tuple of ints: `i` in the `j`-th place in the tuple means that the\n",
            " |         array's `i`-th axis becomes the transposed array's `j`-th axis.\n",
            " |\n",
            " |       * `n` ints: same as an n-tuple of the same ints (this form is\n",
            " |         intended simply as a \"convenience\" alternative to the tuple form).\n",
            " |\n",
            " |      Returns\n",
            " |      -------\n",
            " |      p : ndarray\n",
            " |          View of the array with its axes suitably permuted.\n",
            " |\n",
            " |      See Also\n",
            " |      --------\n",
            " |      transpose : Equivalent function.\n",
            " |      ndarray.T : Array property returning the array transposed.\n",
            " |      ndarray.reshape : Give a new shape to an array without changing its data.\n",
            " |\n",
            " |      Examples\n",
            " |      --------\n",
            " |      >>> import numpy as np\n",
            " |      >>> a = np.array([[1, 2], [3, 4]])\n",
            " |      >>> a\n",
            " |      array([[1, 2],\n",
            " |             [3, 4]])\n",
            " |      >>> a.transpose()\n",
            " |      array([[1, 3],\n",
            " |             [2, 4]])\n",
            " |      >>> a.transpose((1, 0))\n",
            " |      array([[1, 3],\n",
            " |             [2, 4]])\n",
            " |      >>> a.transpose(1, 0)\n",
            " |      array([[1, 3],\n",
            " |             [2, 4]])\n",
            " |\n",
            " |      >>> a = np.array([1, 2, 3, 4])\n",
            " |      >>> a\n",
            " |      array([1, 2, 3, 4])\n",
            " |      >>> a.transpose()\n",
            " |      array([1, 2, 3, 4])\n",
            " |\n",
            " |  var(...)\n",
            " |      a.var(axis=None, dtype=None, out=None, ddof=0, keepdims=False, *, where=True)\n",
            " |\n",
            " |      Returns the variance of the array elements, along given axis.\n",
            " |\n",
            " |      Refer to `numpy.var` for full documentation.\n",
            " |\n",
            " |      See Also\n",
            " |      --------\n",
            " |      numpy.var : equivalent function\n",
            " |\n",
            " |  view(...)\n",
            " |      a.view([dtype][, type])\n",
            " |\n",
            " |      New view of array with the same data.\n",
            " |\n",
            " |      .. note::\n",
            " |          Passing None for ``dtype`` is different from omitting the parameter,\n",
            " |          since the former invokes ``dtype(None)`` which is an alias for\n",
            " |          ``dtype('float64')``.\n",
            " |\n",
            " |      Parameters\n",
            " |      ----------\n",
            " |      dtype : data-type or ndarray sub-class, optional\n",
            " |          Data-type descriptor of the returned view, e.g., float32 or int16.\n",
            " |          Omitting it results in the view having the same data-type as `a`.\n",
            " |          This argument can also be specified as an ndarray sub-class, which\n",
            " |          then specifies the type of the returned object (this is equivalent to\n",
            " |          setting the ``type`` parameter).\n",
            " |      type : Python type, optional\n",
            " |          Type of the returned view, e.g., ndarray or matrix.  Again, omission\n",
            " |          of the parameter results in type preservation.\n",
            " |\n",
            " |      Notes\n",
            " |      -----\n",
            " |      ``a.view()`` is used two different ways:\n",
            " |\n",
            " |      ``a.view(some_dtype)`` or ``a.view(dtype=some_dtype)`` constructs a view\n",
            " |      of the array's memory with a different data-type.  This can cause a\n",
            " |      reinterpretation of the bytes of memory.\n",
            " |\n",
            " |      ``a.view(ndarray_subclass)`` or ``a.view(type=ndarray_subclass)`` just\n",
            " |      returns an instance of `ndarray_subclass` that looks at the same array\n",
            " |      (same shape, dtype, etc.)  This does not cause a reinterpretation of the\n",
            " |      memory.\n",
            " |\n",
            " |      For ``a.view(some_dtype)``, if ``some_dtype`` has a different number of\n",
            " |      bytes per entry than the previous dtype (for example, converting a regular\n",
            " |      array to a structured array), then the last axis of ``a`` must be\n",
            " |      contiguous. This axis will be resized in the result.\n",
            " |\n",
            " |      .. versionchanged:: 1.23.0\n",
            " |         Only the last axis needs to be contiguous. Previously, the entire array\n",
            " |         had to be C-contiguous.\n",
            " |\n",
            " |      Examples\n",
            " |      --------\n",
            " |      >>> import numpy as np\n",
            " |      >>> x = np.array([(-1, 2)], dtype=[('a', np.int8), ('b', np.int8)])\n",
            " |\n",
            " |      Viewing array data using a different type and dtype:\n",
            " |\n",
            " |      >>> nonneg = np.dtype([(\"a\", np.uint8), (\"b\", np.uint8)])\n",
            " |      >>> y = x.view(dtype=nonneg, type=np.recarray)\n",
            " |      >>> x[\"a\"]\n",
            " |      array([-1], dtype=int8)\n",
            " |      >>> y.a\n",
            " |      array([255], dtype=uint8)\n",
            " |\n",
            " |      Creating a view on a structured array so it can be used in calculations\n",
            " |\n",
            " |      >>> x = np.array([(1, 2),(3,4)], dtype=[('a', np.int8), ('b', np.int8)])\n",
            " |      >>> xv = x.view(dtype=np.int8).reshape(-1,2)\n",
            " |      >>> xv\n",
            " |      array([[1, 2],\n",
            " |             [3, 4]], dtype=int8)\n",
            " |      >>> xv.mean(0)\n",
            " |      array([2.,  3.])\n",
            " |\n",
            " |      Making changes to the view changes the underlying array\n",
            " |\n",
            " |      >>> xv[0,1] = 20\n",
            " |      >>> x\n",
            " |      array([(1, 20), (3,  4)], dtype=[('a', 'i1'), ('b', 'i1')])\n",
            " |\n",
            " |      Using a view to convert an array to a recarray:\n",
            " |\n",
            " |      >>> z = x.view(np.recarray)\n",
            " |      >>> z.a\n",
            " |      array([1, 3], dtype=int8)\n",
            " |\n",
            " |      Views share data:\n",
            " |\n",
            " |      >>> x[0] = (9, 10)\n",
            " |      >>> z[0]\n",
            " |      np.record((9, 10), dtype=[('a', 'i1'), ('b', 'i1')])\n",
            " |\n",
            " |      Views that change the dtype size (bytes per entry) should normally be\n",
            " |      avoided on arrays defined by slices, transposes, fortran-ordering, etc.:\n",
            " |\n",
            " |      >>> x = np.array([[1, 2, 3], [4, 5, 6]], dtype=np.int16)\n",
            " |      >>> y = x[:, ::2]\n",
            " |      >>> y\n",
            " |      array([[1, 3],\n",
            " |             [4, 6]], dtype=int16)\n",
            " |      >>> y.view(dtype=[('width', np.int16), ('length', np.int16)])\n",
            " |      Traceback (most recent call last):\n",
            " |          ...\n",
            " |      ValueError: To change to a dtype of a different size, the last axis must be contiguous\n",
            " |      >>> z = y.copy()\n",
            " |      >>> z.view(dtype=[('width', np.int16), ('length', np.int16)])\n",
            " |      array([[(1, 3)],\n",
            " |             [(4, 6)]], dtype=[('width', '<i2'), ('length', '<i2')])\n",
            " |\n",
            " |      However, views that change dtype are totally fine for arrays with a\n",
            " |      contiguous last axis, even if the rest of the axes are not C-contiguous:\n",
            " |\n",
            " |      >>> x = np.arange(2 * 3 * 4, dtype=np.int8).reshape(2, 3, 4)\n",
            " |      >>> x.transpose(1, 0, 2).view(np.int16)\n",
            " |      array([[[ 256,  770],\n",
            " |              [3340, 3854]],\n",
            " |      <BLANKLINE>\n",
            " |             [[1284, 1798],\n",
            " |              [4368, 4882]],\n",
            " |      <BLANKLINE>\n",
            " |             [[2312, 2826],\n",
            " |              [5396, 5910]]], dtype=int16)\n",
            " |\n",
            " |  ----------------------------------------------------------------------\n",
            " |  Class methods defined here:\n",
            " |\n",
            " |  __class_getitem__(...) from builtins.type\n",
            " |      a.__class_getitem__(item, /)\n",
            " |\n",
            " |      Return a parametrized wrapper around the `~numpy.ndarray` type.\n",
            " |\n",
            " |      .. versionadded:: 1.22\n",
            " |\n",
            " |      Returns\n",
            " |      -------\n",
            " |      alias : types.GenericAlias\n",
            " |          A parametrized `~numpy.ndarray` type.\n",
            " |\n",
            " |      Examples\n",
            " |      --------\n",
            " |      >>> from typing import Any\n",
            " |      >>> import numpy as np\n",
            " |\n",
            " |      >>> np.ndarray[Any, np.dtype[Any]]\n",
            " |      numpy.ndarray[typing.Any, numpy.dtype[typing.Any]]\n",
            " |\n",
            " |      See Also\n",
            " |      --------\n",
            " |      :pep:`585` : Type hinting generics in standard collections.\n",
            " |      numpy.typing.NDArray : An ndarray alias :term:`generic <generic type>`\n",
            " |                          w.r.t. its `dtype.type <numpy.dtype.type>`.\n",
            " |\n",
            " |  ----------------------------------------------------------------------\n",
            " |  Static methods defined here:\n",
            " |\n",
            " |  __new__(*args, **kwargs) from builtins.type\n",
            " |      Create and return a new object.  See help(type) for accurate signature.\n",
            " |\n",
            " |  ----------------------------------------------------------------------\n",
            " |  Data descriptors defined here:\n",
            " |\n",
            " |  T\n",
            " |      View of the transposed array.\n",
            " |\n",
            " |      Same as ``self.transpose()``.\n",
            " |\n",
            " |      Examples\n",
            " |      --------\n",
            " |      >>> import numpy as np\n",
            " |      >>> a = np.array([[1, 2], [3, 4]])\n",
            " |      >>> a\n",
            " |      array([[1, 2],\n",
            " |             [3, 4]])\n",
            " |      >>> a.T\n",
            " |      array([[1, 3],\n",
            " |             [2, 4]])\n",
            " |\n",
            " |      >>> a = np.array([1, 2, 3, 4])\n",
            " |      >>> a\n",
            " |      array([1, 2, 3, 4])\n",
            " |      >>> a.T\n",
            " |      array([1, 2, 3, 4])\n",
            " |\n",
            " |      See Also\n",
            " |      --------\n",
            " |      transpose\n",
            " |\n",
            " |  __array_interface__\n",
            " |      Array protocol: Python side.\n",
            " |\n",
            " |  __array_priority__\n",
            " |      Array priority.\n",
            " |\n",
            " |  __array_struct__\n",
            " |      Array protocol: C-struct side.\n",
            " |\n",
            " |  base\n",
            " |      Base object if memory is from some other object.\n",
            " |\n",
            " |      Examples\n",
            " |      --------\n",
            " |      The base of an array that owns its memory is None:\n",
            " |\n",
            " |      >>> import numpy as np\n",
            " |      >>> x = np.array([1,2,3,4])\n",
            " |      >>> x.base is None\n",
            " |      True\n",
            " |\n",
            " |      Slicing creates a view, whose memory is shared with x:\n",
            " |\n",
            " |      >>> y = x[2:]\n",
            " |      >>> y.base is x\n",
            " |      True\n",
            " |\n",
            " |  ctypes\n",
            " |      An object to simplify the interaction of the array with the ctypes\n",
            " |      module.\n",
            " |\n",
            " |      This attribute creates an object that makes it easier to use arrays\n",
            " |      when calling shared libraries with the ctypes module. The returned\n",
            " |      object has, among others, data, shape, and strides attributes (see\n",
            " |      Notes below) which themselves return ctypes objects that can be used\n",
            " |      as arguments to a shared library.\n",
            " |\n",
            " |      Parameters\n",
            " |      ----------\n",
            " |      None\n",
            " |\n",
            " |      Returns\n",
            " |      -------\n",
            " |      c : Python object\n",
            " |          Possessing attributes data, shape, strides, etc.\n",
            " |\n",
            " |      See Also\n",
            " |      --------\n",
            " |      numpy.ctypeslib\n",
            " |\n",
            " |      Notes\n",
            " |      -----\n",
            " |      Below are the public attributes of this object which were documented\n",
            " |      in \"Guide to NumPy\" (we have omitted undocumented public attributes,\n",
            " |      as well as documented private attributes):\n",
            " |\n",
            " |      .. autoattribute:: numpy._core._internal._ctypes.data\n",
            " |          :noindex:\n",
            " |\n",
            " |      .. autoattribute:: numpy._core._internal._ctypes.shape\n",
            " |          :noindex:\n",
            " |\n",
            " |      .. autoattribute:: numpy._core._internal._ctypes.strides\n",
            " |          :noindex:\n",
            " |\n",
            " |      .. automethod:: numpy._core._internal._ctypes.data_as\n",
            " |          :noindex:\n",
            " |\n",
            " |      .. automethod:: numpy._core._internal._ctypes.shape_as\n",
            " |          :noindex:\n",
            " |\n",
            " |      .. automethod:: numpy._core._internal._ctypes.strides_as\n",
            " |          :noindex:\n",
            " |\n",
            " |      If the ctypes module is not available, then the ctypes attribute\n",
            " |      of array objects still returns something useful, but ctypes objects\n",
            " |      are not returned and errors may be raised instead. In particular,\n",
            " |      the object will still have the ``as_parameter`` attribute which will\n",
            " |      return an integer equal to the data attribute.\n",
            " |\n",
            " |      Examples\n",
            " |      --------\n",
            " |      >>> import numpy as np\n",
            " |      >>> import ctypes\n",
            " |      >>> x = np.array([[0, 1], [2, 3]], dtype=np.int32)\n",
            " |      >>> x\n",
            " |      array([[0, 1],\n",
            " |             [2, 3]], dtype=int32)\n",
            " |      >>> x.ctypes.data\n",
            " |      31962608 # may vary\n",
            " |      >>> x.ctypes.data_as(ctypes.POINTER(ctypes.c_uint32))\n",
            " |      <__main__.LP_c_uint object at 0x7ff2fc1fc200> # may vary\n",
            " |      >>> x.ctypes.data_as(ctypes.POINTER(ctypes.c_uint32)).contents\n",
            " |      c_uint(0)\n",
            " |      >>> x.ctypes.data_as(ctypes.POINTER(ctypes.c_uint64)).contents\n",
            " |      c_ulong(4294967296)\n",
            " |      >>> x.ctypes.shape\n",
            " |      <numpy._core._internal.c_long_Array_2 object at 0x7ff2fc1fce60> # may vary\n",
            " |      >>> x.ctypes.strides\n",
            " |      <numpy._core._internal.c_long_Array_2 object at 0x7ff2fc1ff320> # may vary\n",
            " |\n",
            " |  data\n",
            " |      Python buffer object pointing to the start of the array's data.\n",
            " |\n",
            " |  device\n",
            " |\n",
            " |  dtype\n",
            " |      Data-type of the array's elements.\n",
            " |\n",
            " |      .. warning::\n",
            " |\n",
            " |          Setting ``arr.dtype`` is discouraged and may be deprecated in the\n",
            " |          future.  Setting will replace the ``dtype`` without modifying the\n",
            " |          memory (see also `ndarray.view` and `ndarray.astype`).\n",
            " |\n",
            " |      Parameters\n",
            " |      ----------\n",
            " |      None\n",
            " |\n",
            " |      Returns\n",
            " |      -------\n",
            " |      d : numpy dtype object\n",
            " |\n",
            " |      See Also\n",
            " |      --------\n",
            " |      ndarray.astype : Cast the values contained in the array to a new data-type.\n",
            " |      ndarray.view : Create a view of the same data but a different data-type.\n",
            " |      numpy.dtype\n",
            " |\n",
            " |      Examples\n",
            " |      --------\n",
            " |      >>> x\n",
            " |      array([[0, 1],\n",
            " |             [2, 3]])\n",
            " |      >>> x.dtype\n",
            " |      dtype('int32')\n",
            " |      >>> type(x.dtype)\n",
            " |      <type 'numpy.dtype'>\n",
            " |\n",
            " |  flags\n",
            " |      Information about the memory layout of the array.\n",
            " |\n",
            " |      Attributes\n",
            " |      ----------\n",
            " |      C_CONTIGUOUS (C)\n",
            " |          The data is in a single, C-style contiguous segment.\n",
            " |      F_CONTIGUOUS (F)\n",
            " |          The data is in a single, Fortran-style contiguous segment.\n",
            " |      OWNDATA (O)\n",
            " |          The array owns the memory it uses or borrows it from another object.\n",
            " |      WRITEABLE (W)\n",
            " |          The data area can be written to.  Setting this to False locks\n",
            " |          the data, making it read-only.  A view (slice, etc.) inherits WRITEABLE\n",
            " |          from its base array at creation time, but a view of a writeable\n",
            " |          array may be subsequently locked while the base array remains writeable.\n",
            " |          (The opposite is not true, in that a view of a locked array may not\n",
            " |          be made writeable.  However, currently, locking a base object does not\n",
            " |          lock any views that already reference it, so under that circumstance it\n",
            " |          is possible to alter the contents of a locked array via a previously\n",
            " |          created writeable view onto it.)  Attempting to change a non-writeable\n",
            " |          array raises a RuntimeError exception.\n",
            " |      ALIGNED (A)\n",
            " |          The data and all elements are aligned appropriately for the hardware.\n",
            " |      WRITEBACKIFCOPY (X)\n",
            " |          This array is a copy of some other array. The C-API function\n",
            " |          PyArray_ResolveWritebackIfCopy must be called before deallocating\n",
            " |          to the base array will be updated with the contents of this array.\n",
            " |      FNC\n",
            " |          F_CONTIGUOUS and not C_CONTIGUOUS.\n",
            " |      FORC\n",
            " |          F_CONTIGUOUS or C_CONTIGUOUS (one-segment test).\n",
            " |      BEHAVED (B)\n",
            " |          ALIGNED and WRITEABLE.\n",
            " |      CARRAY (CA)\n",
            " |          BEHAVED and C_CONTIGUOUS.\n",
            " |      FARRAY (FA)\n",
            " |          BEHAVED and F_CONTIGUOUS and not C_CONTIGUOUS.\n",
            " |\n",
            " |      Notes\n",
            " |      -----\n",
            " |      The `flags` object can be accessed dictionary-like (as in ``a.flags['WRITEABLE']``),\n",
            " |      or by using lowercased attribute names (as in ``a.flags.writeable``). Short flag\n",
            " |      names are only supported in dictionary access.\n",
            " |\n",
            " |      Only the WRITEBACKIFCOPY, WRITEABLE, and ALIGNED flags can be\n",
            " |      changed by the user, via direct assignment to the attribute or dictionary\n",
            " |      entry, or by calling `ndarray.setflags`.\n",
            " |\n",
            " |      The array flags cannot be set arbitrarily:\n",
            " |\n",
            " |      - WRITEBACKIFCOPY can only be set ``False``.\n",
            " |      - ALIGNED can only be set ``True`` if the data is truly aligned.\n",
            " |      - WRITEABLE can only be set ``True`` if the array owns its own memory\n",
            " |        or the ultimate owner of the memory exposes a writeable buffer\n",
            " |        interface or is a string.\n",
            " |\n",
            " |      Arrays can be both C-style and Fortran-style contiguous simultaneously.\n",
            " |      This is clear for 1-dimensional arrays, but can also be true for higher\n",
            " |      dimensional arrays.\n",
            " |\n",
            " |      Even for contiguous arrays a stride for a given dimension\n",
            " |      ``arr.strides[dim]`` may be *arbitrary* if ``arr.shape[dim] == 1``\n",
            " |      or the array has no elements.\n",
            " |      It does *not* generally hold that ``self.strides[-1] == self.itemsize``\n",
            " |      for C-style contiguous arrays or ``self.strides[0] == self.itemsize`` for\n",
            " |      Fortran-style contiguous arrays is true.\n",
            " |\n",
            " |  flat\n",
            " |      A 1-D iterator over the array.\n",
            " |\n",
            " |      This is a `numpy.flatiter` instance, which acts similarly to, but is not\n",
            " |      a subclass of, Python's built-in iterator object.\n",
            " |\n",
            " |      See Also\n",
            " |      --------\n",
            " |      flatten : Return a copy of the array collapsed into one dimension.\n",
            " |\n",
            " |      flatiter\n",
            " |\n",
            " |      Examples\n",
            " |      --------\n",
            " |      >>> import numpy as np\n",
            " |      >>> x = np.arange(1, 7).reshape(2, 3)\n",
            " |      >>> x\n",
            " |      array([[1, 2, 3],\n",
            " |             [4, 5, 6]])\n",
            " |      >>> x.flat[3]\n",
            " |      4\n",
            " |      >>> x.T\n",
            " |      array([[1, 4],\n",
            " |             [2, 5],\n",
            " |             [3, 6]])\n",
            " |      >>> x.T.flat[3]\n",
            " |      5\n",
            " |      >>> type(x.flat)\n",
            " |      <class 'numpy.flatiter'>\n",
            " |\n",
            " |      An assignment example:\n",
            " |\n",
            " |      >>> x.flat = 3; x\n",
            " |      array([[3, 3, 3],\n",
            " |             [3, 3, 3]])\n",
            " |      >>> x.flat[[1,4]] = 1; x\n",
            " |      array([[3, 1, 3],\n",
            " |             [3, 1, 3]])\n",
            " |\n",
            " |  imag\n",
            " |      The imaginary part of the array.\n",
            " |\n",
            " |      Examples\n",
            " |      --------\n",
            " |      >>> import numpy as np\n",
            " |      >>> x = np.sqrt([1+0j, 0+1j])\n",
            " |      >>> x.imag\n",
            " |      array([ 0.        ,  0.70710678])\n",
            " |      >>> x.imag.dtype\n",
            " |      dtype('float64')\n",
            " |\n",
            " |  itemset\n",
            " |\n",
            " |  itemsize\n",
            " |      Length of one array element in bytes.\n",
            " |\n",
            " |      Examples\n",
            " |      --------\n",
            " |      >>> import numpy as np\n",
            " |      >>> x = np.array([1,2,3], dtype=np.float64)\n",
            " |      >>> x.itemsize\n",
            " |      8\n",
            " |      >>> x = np.array([1,2,3], dtype=np.complex128)\n",
            " |      >>> x.itemsize\n",
            " |      16\n",
            " |\n",
            " |  mT\n",
            " |      View of the matrix transposed array.\n",
            " |\n",
            " |      The matrix transpose is the transpose of the last two dimensions, even\n",
            " |      if the array is of higher dimension.\n",
            " |\n",
            " |      .. versionadded:: 2.0\n",
            " |\n",
            " |      Raises\n",
            " |      ------\n",
            " |      ValueError\n",
            " |          If the array is of dimension less than 2.\n",
            " |\n",
            " |      Examples\n",
            " |      --------\n",
            " |      >>> import numpy as np\n",
            " |      >>> a = np.array([[1, 2], [3, 4]])\n",
            " |      >>> a\n",
            " |      array([[1, 2],\n",
            " |             [3, 4]])\n",
            " |      >>> a.mT\n",
            " |      array([[1, 3],\n",
            " |             [2, 4]])\n",
            " |\n",
            " |      >>> a = np.arange(8).reshape((2, 2, 2))\n",
            " |      >>> a\n",
            " |      array([[[0, 1],\n",
            " |              [2, 3]],\n",
            " |      <BLANKLINE>\n",
            " |             [[4, 5],\n",
            " |              [6, 7]]])\n",
            " |      >>> a.mT\n",
            " |      array([[[0, 2],\n",
            " |              [1, 3]],\n",
            " |      <BLANKLINE>\n",
            " |             [[4, 6],\n",
            " |              [5, 7]]])\n",
            " |\n",
            " |  nbytes\n",
            " |      Total bytes consumed by the elements of the array.\n",
            " |\n",
            " |      Notes\n",
            " |      -----\n",
            " |      Does not include memory consumed by non-element attributes of the\n",
            " |      array object.\n",
            " |\n",
            " |      See Also\n",
            " |      --------\n",
            " |      sys.getsizeof\n",
            " |          Memory consumed by the object itself without parents in case view.\n",
            " |          This does include memory consumed by non-element attributes.\n",
            " |\n",
            " |      Examples\n",
            " |      --------\n",
            " |      >>> import numpy as np\n",
            " |      >>> x = np.zeros((3,5,2), dtype=np.complex128)\n",
            " |      >>> x.nbytes\n",
            " |      480\n",
            " |      >>> np.prod(x.shape) * x.itemsize\n",
            " |      480\n",
            " |\n",
            " |  ndim\n",
            " |      Number of array dimensions.\n",
            " |\n",
            " |      Examples\n",
            " |      --------\n",
            " |      >>> import numpy as np\n",
            " |      >>> x = np.array([1, 2, 3])\n",
            " |      >>> x.ndim\n",
            " |      1\n",
            " |      >>> y = np.zeros((2, 3, 4))\n",
            " |      >>> y.ndim\n",
            " |      3\n",
            " |\n",
            " |  newbyteorder\n",
            " |\n",
            " |  ptp\n",
            " |\n",
            " |  real\n",
            " |      The real part of the array.\n",
            " |\n",
            " |      Examples\n",
            " |      --------\n",
            " |      >>> import numpy as np\n",
            " |      >>> x = np.sqrt([1+0j, 0+1j])\n",
            " |      >>> x.real\n",
            " |      array([ 1.        ,  0.70710678])\n",
            " |      >>> x.real.dtype\n",
            " |      dtype('float64')\n",
            " |\n",
            " |      See Also\n",
            " |      --------\n",
            " |      numpy.real : equivalent function\n",
            " |\n",
            " |  shape\n",
            " |      Tuple of array dimensions.\n",
            " |\n",
            " |      The shape property is usually used to get the current shape of an array,\n",
            " |      but may also be used to reshape the array in-place by assigning a tuple of\n",
            " |      array dimensions to it.  As with `numpy.reshape`, one of the new shape\n",
            " |      dimensions can be -1, in which case its value is inferred from the size of\n",
            " |      the array and the remaining dimensions. Reshaping an array in-place will\n",
            " |      fail if a copy is required.\n",
            " |\n",
            " |      .. warning::\n",
            " |\n",
            " |          Setting ``arr.shape`` is discouraged and may be deprecated in the\n",
            " |          future.  Using `ndarray.reshape` is the preferred approach.\n",
            " |\n",
            " |      Examples\n",
            " |      --------\n",
            " |      >>> import numpy as np\n",
            " |      >>> x = np.array([1, 2, 3, 4])\n",
            " |      >>> x.shape\n",
            " |      (4,)\n",
            " |      >>> y = np.zeros((2, 3, 4))\n",
            " |      >>> y.shape\n",
            " |      (2, 3, 4)\n",
            " |      >>> y.shape = (3, 8)\n",
            " |      >>> y\n",
            " |      array([[ 0.,  0.,  0.,  0.,  0.,  0.,  0.,  0.],\n",
            " |             [ 0.,  0.,  0.,  0.,  0.,  0.,  0.,  0.],\n",
            " |             [ 0.,  0.,  0.,  0.,  0.,  0.,  0.,  0.]])\n",
            " |      >>> y.shape = (3, 6)\n",
            " |      Traceback (most recent call last):\n",
            " |        File \"<stdin>\", line 1, in <module>\n",
            " |      ValueError: total size of new array must be unchanged\n",
            " |      >>> np.zeros((4,2))[::2].shape = (-1,)\n",
            " |      Traceback (most recent call last):\n",
            " |        File \"<stdin>\", line 1, in <module>\n",
            " |      AttributeError: Incompatible shape for in-place modification. Use\n",
            " |      `.reshape()` to make a copy with the desired shape.\n",
            " |\n",
            " |      See Also\n",
            " |      --------\n",
            " |      numpy.shape : Equivalent getter function.\n",
            " |      numpy.reshape : Function similar to setting ``shape``.\n",
            " |      ndarray.reshape : Method similar to setting ``shape``.\n",
            " |\n",
            " |  size\n",
            " |      Number of elements in the array.\n",
            " |\n",
            " |      Equal to ``np.prod(a.shape)``, i.e., the product of the array's\n",
            " |      dimensions.\n",
            " |\n",
            " |      Notes\n",
            " |      -----\n",
            " |      `a.size` returns a standard arbitrary precision Python integer. This\n",
            " |      may not be the case with other methods of obtaining the same value\n",
            " |      (like the suggested ``np.prod(a.shape)``, which returns an instance\n",
            " |      of ``np.int_``), and may be relevant if the value is used further in\n",
            " |      calculations that may overflow a fixed size integer type.\n",
            " |\n",
            " |      Examples\n",
            " |      --------\n",
            " |      >>> import numpy as np\n",
            " |      >>> x = np.zeros((3, 5, 2), dtype=np.complex128)\n",
            " |      >>> x.size\n",
            " |      30\n",
            " |      >>> np.prod(x.shape)\n",
            " |      30\n",
            " |\n",
            " |  strides\n",
            " |      Tuple of bytes to step in each dimension when traversing an array.\n",
            " |\n",
            " |      The byte offset of element ``(i[0], i[1], ..., i[n])`` in an array `a`\n",
            " |      is::\n",
            " |\n",
            " |          offset = sum(np.array(i) * a.strides)\n",
            " |\n",
            " |      A more detailed explanation of strides can be found in\n",
            " |      :ref:`arrays.ndarray`.\n",
            " |\n",
            " |      .. warning::\n",
            " |\n",
            " |          Setting ``arr.strides`` is discouraged and may be deprecated in the\n",
            " |          future.  `numpy.lib.stride_tricks.as_strided` should be preferred\n",
            " |          to create a new view of the same data in a safer way.\n",
            " |\n",
            " |      Notes\n",
            " |      -----\n",
            " |      Imagine an array of 32-bit integers (each 4 bytes)::\n",
            " |\n",
            " |        x = np.array([[0, 1, 2, 3, 4],\n",
            " |                      [5, 6, 7, 8, 9]], dtype=np.int32)\n",
            " |\n",
            " |      This array is stored in memory as 40 bytes, one after the other\n",
            " |      (known as a contiguous block of memory).  The strides of an array tell\n",
            " |      us how many bytes we have to skip in memory to move to the next position\n",
            " |      along a certain axis.  For example, we have to skip 4 bytes (1 value) to\n",
            " |      move to the next column, but 20 bytes (5 values) to get to the same\n",
            " |      position in the next row.  As such, the strides for the array `x` will be\n",
            " |      ``(20, 4)``.\n",
            " |\n",
            " |      See Also\n",
            " |      --------\n",
            " |      numpy.lib.stride_tricks.as_strided\n",
            " |\n",
            " |      Examples\n",
            " |      --------\n",
            " |      >>> import numpy as np\n",
            " |      >>> y = np.reshape(np.arange(2*3*4), (2,3,4))\n",
            " |      >>> y\n",
            " |      array([[[ 0,  1,  2,  3],\n",
            " |              [ 4,  5,  6,  7],\n",
            " |              [ 8,  9, 10, 11]],\n",
            " |             [[12, 13, 14, 15],\n",
            " |              [16, 17, 18, 19],\n",
            " |              [20, 21, 22, 23]]])\n",
            " |      >>> y.strides\n",
            " |      (48, 16, 4)\n",
            " |      >>> y[1,1,1]\n",
            " |      17\n",
            " |      >>> offset=sum(y.strides * np.array((1,1,1)))\n",
            " |      >>> offset/y.itemsize\n",
            " |      17\n",
            " |\n",
            " |      >>> x = np.reshape(np.arange(5*6*7*8), (5,6,7,8)).transpose(2,3,1,0)\n",
            " |      >>> x.strides\n",
            " |      (32, 4, 224, 1344)\n",
            " |      >>> i = np.array([3,5,2,2])\n",
            " |      >>> offset = sum(i * x.strides)\n",
            " |      >>> x[3,5,2,2]\n",
            " |      813\n",
            " |      >>> offset / x.itemsize\n",
            " |      813\n",
            " |\n",
            " |  ----------------------------------------------------------------------\n",
            " |  Data and other attributes defined here:\n",
            " |\n",
            " |  __hash__ = None\n",
            "\n"
          ]
        }
      ],
      "source": [
        "help(np.ndarray)"
      ]
    },
    {
      "cell_type": "markdown",
      "metadata": {
        "id": "UljdGkfJrMa4"
      },
      "source": [
        "\n",
        "\n",
        "_**Table 2-1**_. Basic Attributes of the ndarray Class\n",
        "\n",
        "Attribute | Description\n",
        "---|---\n",
        "Shape | A tuple that contains the number of elements (i.e., the length) for each dimension (axis) of the array.\n",
        "Size | The total number elements in the array.\n",
        "Ndim | Number of dimensions (axes).\n",
        "nbytes | Number of bytes used to store the data.\n",
        "dtype | The data type of the elements in the array.\n",
        "\n",
        "The following example demonstrates how these attributes are accessed for an\n",
        "instance data of the class `ndarray`:"
      ]
    },
    {
      "cell_type": "code",
      "execution_count": 354,
      "metadata": {
        "id": "UjpYpNgVrMa4"
      },
      "outputs": [],
      "source": [
        "data = np.array([[1, 2], [3, 4], [5, 6]])"
      ]
    },
    {
      "cell_type": "code",
      "execution_count": 355,
      "metadata": {
        "id": "EMKkytAMrMa4",
        "outputId": "74026728-2e0a-487d-8158-e2745d11dcbc"
      },
      "outputs": [
        {
          "data": {
            "text/plain": [
              "numpy.ndarray"
            ]
          },
          "execution_count": 355,
          "metadata": {},
          "output_type": "execute_result"
        }
      ],
      "source": [
        "type(data)"
      ]
    },
    {
      "cell_type": "code",
      "execution_count": 356,
      "metadata": {
        "id": "jgzM7TkKrMa4",
        "outputId": "d1f6071c-0fcf-4db9-903e-a880b66b7f9f"
      },
      "outputs": [
        {
          "data": {
            "text/plain": [
              "array([[1, 2],\n",
              "       [3, 4],\n",
              "       [5, 6]])"
            ]
          },
          "execution_count": 356,
          "metadata": {},
          "output_type": "execute_result"
        }
      ],
      "source": [
        "data"
      ]
    },
    {
      "cell_type": "code",
      "execution_count": 357,
      "metadata": {
        "id": "lY8JxFYvrMa4",
        "outputId": "67fb757c-9172-4e85-85fd-3eb29c4e3a1a"
      },
      "outputs": [
        {
          "data": {
            "text/plain": [
              "2"
            ]
          },
          "execution_count": 357,
          "metadata": {},
          "output_type": "execute_result"
        }
      ],
      "source": [
        "data.ndim"
      ]
    },
    {
      "cell_type": "code",
      "execution_count": 358,
      "metadata": {
        "id": "YN3q80porMa5",
        "outputId": "77ee779f-f35f-47a3-a42c-5c2d6188647c"
      },
      "outputs": [
        {
          "data": {
            "text/plain": [
              "(3, 2)"
            ]
          },
          "execution_count": 358,
          "metadata": {},
          "output_type": "execute_result"
        }
      ],
      "source": [
        "data.shape"
      ]
    },
    {
      "cell_type": "code",
      "execution_count": 360,
      "metadata": {
        "id": "uasKIEJ4rMa5",
        "outputId": "5bade237-f2b6-4b38-8d8d-f5c1f231a99b"
      },
      "outputs": [
        {
          "data": {
            "text/plain": [
              "6"
            ]
          },
          "execution_count": 360,
          "metadata": {},
          "output_type": "execute_result"
        }
      ],
      "source": [
        "data.size"
      ]
    },
    {
      "cell_type": "code",
      "execution_count": 361,
      "metadata": {
        "id": "CmRQiP5LrMa5",
        "outputId": "ae521c8d-4684-401e-833d-386f8ecc0cd4"
      },
      "outputs": [
        {
          "data": {
            "text/plain": [
              "dtype('int64')"
            ]
          },
          "execution_count": 361,
          "metadata": {},
          "output_type": "execute_result"
        }
      ],
      "source": [
        "data.dtype"
      ]
    },
    {
      "cell_type": "code",
      "execution_count": 362,
      "metadata": {
        "id": "gUXoxnJArMa5",
        "outputId": "a7e3d84d-b66d-4c84-c163-0b2bf4515e40"
      },
      "outputs": [
        {
          "data": {
            "text/plain": [
              "48"
            ]
          },
          "execution_count": 362,
          "metadata": {},
          "output_type": "execute_result"
        }
      ],
      "source": [
        "data.nbytes"
      ]
    },
    {
      "cell_type": "markdown",
      "metadata": {
        "id": "KdOdaMlKrMa5"
      },
      "source": [
        "Here the `ndarray` instance data is created from a nested Python list using the\n",
        "function `np.array`. More ways to create ndarray instances from data and from\n",
        "rules of various kinds are introduced later in this chapter. \n",
        "In the preceding\n",
        "example, the data is: \n",
        "- a two-dimensional array (`data.ndim`) \n",
        "- of shape 3 × 2, as\n",
        "indicated by `data.shape`, \n",
        "- and in total it contains six elements (`data.size`)\n",
        "- of type `int64` (`data.dtype`)(8 bytes), \n",
        "- which amounts to a total size of 48\n",
        "bytes (6 elements x 8 bytes = 64 Bytes) (`data.nbytes`)."
      ]
    },
    {
      "cell_type": "markdown",
      "metadata": {
        "id": "Tso7HEt4rMa5"
      },
      "source": [
        "## Data types\n",
        "\n",
        "In the previous section, we encountered the dtype attribute of the `ndarray`\n",
        "object. This attribute describes the data type of each element in the array\n",
        "(`remember, since NumPy arrays are homogeneous, all elements have the same data\n",
        "type`). \n",
        "\n",
        "The basic numerical data types supported in NumPy are shown in Table 2-2.\n",
        "Nonnumerical data types, such as strings, objects, and user-defined compound\n",
        "types, are also supported.\n",
        "\n",
        "_**Table 2-2**_. Basic Numerical Data Types Available in NumPy\n",
        "\n",
        "dtype | Variants | Description\n",
        "---|---|---\n",
        "int | int8, int16, int32, int64 | Integers\n",
        "uint | uint8, uint16, uint32, uint64 | Unsigned (nonnegative) integers\n",
        "bool | Bool | Boolean (True or False)\n",
        "float | float16, float32, float64, float128 | Floating-point numbers\n",
        "complex | complex64, complex128, complex256 | Complex-valued floating-point numbers\n",
        "\n",
        "For numerical work the most important data types are int (for integers), float\n",
        "(for floating-point numbers), and `complex` (for complex floating-point numbers).\n",
        "Each of these data types comes in different sizes, such as `int32` for 32-bit\n",
        "integers, `int64` for 64-bit integers, etc. This offers more fine-grained control\n",
        "over data types than the standard Python types, which only provides one type for\n",
        "integers and one type for floats.\n",
        "\n",
        "It is usually not necessary to explicitly choose the bit size of the data type\n",
        "to work with, but it is often necessary to explicitly choose whether to use\n",
        "arrays of integers, floating- point numbers, or complex values.\n",
        "\n",
        "The following example demonstrates how to use the `dtype` attribute to generate\n",
        "arrays of integer-, float-, and complex-valued elements:"
      ]
    },
    {
      "cell_type": "code",
      "execution_count": 246,
      "metadata": {
        "id": "WeaphdtBrMa5",
        "outputId": "4481ae33-c08c-4439-e67f-070e24dd9cd4"
      },
      "outputs": [
        {
          "data": {
            "text/plain": [
              "array([1, 2, 3])"
            ]
          },
          "execution_count": 246,
          "metadata": {},
          "output_type": "execute_result"
        }
      ],
      "source": [
        "np.array([1, 2, 3], dtype=int) # or np.int64 (etc)"
      ]
    },
    {
      "cell_type": "code",
      "execution_count": 247,
      "metadata": {
        "id": "5bCvXSvFrMa6",
        "outputId": "957cf37a-2ab7-4978-9bab-783462811eb4"
      },
      "outputs": [
        {
          "data": {
            "text/plain": [
              "array([1., 2., 3.])"
            ]
          },
          "execution_count": 247,
          "metadata": {},
          "output_type": "execute_result"
        }
      ],
      "source": [
        "np.array([1, 2, 3], dtype=float) # or np.float64 (etc)"
      ]
    },
    {
      "cell_type": "code",
      "execution_count": 248,
      "metadata": {
        "id": "iyttVksorMa6",
        "outputId": "24386b33-e1d5-4080-e479-74f7dc044eef"
      },
      "outputs": [
        {
          "data": {
            "text/plain": [
              "array([1.+0.j, 2.+0.j, 3.+0.j])"
            ]
          },
          "execution_count": 248,
          "metadata": {},
          "output_type": "execute_result"
        }
      ],
      "source": [
        "np.array([1, 2, 3], dtype=complex) # or np.complex64 (etc)"
      ]
    },
    {
      "cell_type": "markdown",
      "metadata": {
        "id": "sGKHwlqDrMa6"
      },
      "source": [
        "Once a NumPy array is created, its `dtype` cannot be changed, other than by\n",
        "creating a new copy with type-casted array values. Typecasting an array is\n",
        "straightforward and can be done using either the `np.array` function:"
      ]
    },
    {
      "cell_type": "code",
      "execution_count": 249,
      "metadata": {
        "id": "O5BphUr1rMa6"
      },
      "outputs": [],
      "source": [
        "data = np.array([1, 2, 3], dtype=float)"
      ]
    },
    {
      "cell_type": "code",
      "execution_count": 250,
      "metadata": {
        "id": "DhxmD0b-rMa6",
        "outputId": "0fc9405d-e36f-49ab-8665-c97d52c95de3"
      },
      "outputs": [
        {
          "data": {
            "text/plain": [
              "array([1., 2., 3.])"
            ]
          },
          "execution_count": 250,
          "metadata": {},
          "output_type": "execute_result"
        }
      ],
      "source": [
        "data"
      ]
    },
    {
      "cell_type": "code",
      "execution_count": 251,
      "metadata": {
        "id": "10tTjyWGrMa6",
        "outputId": "5645b676-bc0a-44b3-f6f6-461ae9429822"
      },
      "outputs": [
        {
          "data": {
            "text/plain": [
              "dtype('float64')"
            ]
          },
          "execution_count": 251,
          "metadata": {},
          "output_type": "execute_result"
        }
      ],
      "source": [
        "data.dtype"
      ]
    },
    {
      "cell_type": "code",
      "execution_count": 252,
      "metadata": {
        "id": "rGmQNInIrMa6"
      },
      "outputs": [],
      "source": [
        "data = np.array(data, dtype=int)"
      ]
    },
    {
      "cell_type": "code",
      "execution_count": 253,
      "metadata": {
        "id": "ohTkorFbrMa6",
        "outputId": "2308e5b1-c668-4e78-a8b3-461b6c2e925b"
      },
      "outputs": [
        {
          "data": {
            "text/plain": [
              "dtype('int64')"
            ]
          },
          "execution_count": 253,
          "metadata": {},
          "output_type": "execute_result"
        }
      ],
      "source": [
        "data.dtype"
      ]
    },
    {
      "cell_type": "code",
      "execution_count": 254,
      "metadata": {
        "id": "w2LbaoddrMa6",
        "outputId": "2883103b-257c-4fbc-9721-76e2d516fa4e"
      },
      "outputs": [
        {
          "data": {
            "text/plain": [
              "array([1, 2, 3])"
            ]
          },
          "execution_count": 254,
          "metadata": {},
          "output_type": "execute_result"
        }
      ],
      "source": [
        "data"
      ]
    },
    {
      "cell_type": "markdown",
      "metadata": {
        "id": "LWsYhnG1rMa7"
      },
      "source": [
        "or by using the `astype` method of the ndarray class:"
      ]
    },
    {
      "cell_type": "code",
      "execution_count": 255,
      "metadata": {
        "id": "sn3_wBKmrMa7"
      },
      "outputs": [],
      "source": [
        "data = np.array([1, 2, 3], dtype=float)"
      ]
    },
    {
      "cell_type": "code",
      "execution_count": 256,
      "metadata": {
        "id": "fe5ceHOPrMa7",
        "outputId": "9a9f7bce-93a3-4e87-de88-be79dec19e0e"
      },
      "outputs": [
        {
          "data": {
            "text/plain": [
              "array([1., 2., 3.])"
            ]
          },
          "execution_count": 256,
          "metadata": {},
          "output_type": "execute_result"
        }
      ],
      "source": [
        "data"
      ]
    },
    {
      "cell_type": "code",
      "execution_count": 257,
      "metadata": {
        "id": "yhjLmDtxrMa7",
        "outputId": "ec635da2-104a-462e-c29c-11d0f1c963a0"
      },
      "outputs": [
        {
          "data": {
            "text/plain": [
              "array([1, 2, 3])"
            ]
          },
          "execution_count": 257,
          "metadata": {},
          "output_type": "execute_result"
        }
      ],
      "source": [
        "data.astype(int)"
      ]
    },
    {
      "cell_type": "markdown",
      "metadata": {
        "id": "Fb1x2WZCrMa7"
      },
      "source": [
        "When computing with NumPy arrays, the data type might get promoted from one type\n",
        "to another, if required by the operation. For example, adding float-valued and\n",
        "complex-valued arrays, the resulting array is a complex-valued array:"
      ]
    },
    {
      "cell_type": "code",
      "execution_count": 258,
      "metadata": {
        "id": "KpBh9JxprMa8"
      },
      "outputs": [],
      "source": [
        "d1 = np.array([1, 2, 3], dtype=float)"
      ]
    },
    {
      "cell_type": "code",
      "execution_count": 259,
      "metadata": {
        "id": "l0k0sIwIrMa8"
      },
      "outputs": [],
      "source": [
        "d2 = np.array([1, 2, 3], dtype=complex)"
      ]
    },
    {
      "cell_type": "code",
      "execution_count": 260,
      "metadata": {
        "id": "rbNjbt_grMa8",
        "outputId": "eccf2b4c-c01c-42de-bb05-1c4a4e3da061"
      },
      "outputs": [
        {
          "data": {
            "text/plain": [
              "array([2.+0.j, 4.+0.j, 6.+0.j])"
            ]
          },
          "execution_count": 260,
          "metadata": {},
          "output_type": "execute_result"
        }
      ],
      "source": [
        "d1 + d2"
      ]
    },
    {
      "cell_type": "code",
      "execution_count": 261,
      "metadata": {
        "id": "EwaQ7e9SrMa8",
        "outputId": "fc0b8d31-076e-4627-fc91-e5a321c041f8"
      },
      "outputs": [
        {
          "data": {
            "text/plain": [
              "dtype('complex128')"
            ]
          },
          "execution_count": 261,
          "metadata": {},
          "output_type": "execute_result"
        }
      ],
      "source": [
        "(d1 + d2).dtype"
      ]
    },
    {
      "cell_type": "markdown",
      "metadata": {
        "id": "jHA9GWuErMa8"
      },
      "source": [
        "In some cases, depending on the application and its requirements, it is\n",
        "essential to create arrays with data type appropriately set to, for example,\n",
        "`int` or `complex`. The default type is `float`. Consider the following example:"
      ]
    },
    {
      "cell_type": "code",
      "execution_count": 262,
      "metadata": {
        "id": "xQy3XI4orMa8",
        "outputId": "58d41c76-477c-42b2-c64e-bdfc52b824a3"
      },
      "outputs": [
        {
          "name": "stderr",
          "output_type": "stream",
          "text": [
            "/tmp/ipykernel_28931/208196152.py:1: RuntimeWarning: invalid value encountered in sqrt\n",
            "  np.sqrt(np.array([-1, 0, 1]))\n"
          ]
        },
        {
          "data": {
            "text/plain": [
              "array([nan,  0.,  1.])"
            ]
          },
          "execution_count": 262,
          "metadata": {},
          "output_type": "execute_result"
        }
      ],
      "source": [
        "np.sqrt(np.array([-1, 0, 1]))"
      ]
    },
    {
      "cell_type": "code",
      "execution_count": 263,
      "metadata": {
        "id": "RxJY4_k1rMa8",
        "outputId": "56881299-21a1-4702-ff91-c86fc68df947"
      },
      "outputs": [
        {
          "data": {
            "text/plain": [
              "array([0.+1.j, 0.+0.j, 1.+0.j])"
            ]
          },
          "execution_count": 263,
          "metadata": {},
          "output_type": "execute_result"
        }
      ],
      "source": [
        "np.sqrt(np.array([-1, 0, 1], dtype=complex))"
      ]
    },
    {
      "cell_type": "markdown",
      "metadata": {
        "id": "bKLGpapdrMa9"
      },
      "source": [
        "Here, using the `np.sqrt` function to compute the square root of each element in\n",
        "an array gives different results depending on the data type of the array. Only\n",
        "when the data type of the array is `complex` is the square root of (–1) resulting\n",
        "in the imaginary unit (denoted as `1j` in Python)."
      ]
    },
    {
      "cell_type": "markdown",
      "metadata": {
        "id": "sjHrHKoqrMa9"
      },
      "source": [
        "### Real and imaginary parts\n",
        "\n",
        "Regardless of the value of the `dtype` attribute, all NumPy array instances have\n",
        "the attributes `real` and `imag` for extracting the real and imaginary parts of\n",
        "the array, respectively:"
      ]
    },
    {
      "cell_type": "code",
      "execution_count": 264,
      "metadata": {
        "id": "zb1a_f6irMa9"
      },
      "outputs": [],
      "source": [
        "data = np.array([1, 2, 3], dtype=complex)"
      ]
    },
    {
      "cell_type": "code",
      "execution_count": 265,
      "metadata": {
        "id": "O7wGkcmIrMa9",
        "outputId": "1b04d748-8e43-424c-e738-7bb846771741"
      },
      "outputs": [
        {
          "data": {
            "text/plain": [
              "array([1.+0.j, 2.+0.j, 3.+0.j])"
            ]
          },
          "execution_count": 265,
          "metadata": {},
          "output_type": "execute_result"
        }
      ],
      "source": [
        "data"
      ]
    },
    {
      "cell_type": "code",
      "execution_count": 266,
      "metadata": {
        "id": "30Tz97OzrMa9",
        "outputId": "2351466d-14c1-4f97-da99-7f1639e5c58c"
      },
      "outputs": [
        {
          "data": {
            "text/plain": [
              "array([1., 2., 3.])"
            ]
          },
          "execution_count": 266,
          "metadata": {},
          "output_type": "execute_result"
        }
      ],
      "source": [
        "data.real"
      ]
    },
    {
      "cell_type": "code",
      "execution_count": 267,
      "metadata": {
        "id": "W_N1ipcTrMa9",
        "outputId": "24638020-b9bc-4f21-aaa1-9324fbe7274a"
      },
      "outputs": [
        {
          "data": {
            "text/plain": [
              "array([0., 0., 0.])"
            ]
          },
          "execution_count": 267,
          "metadata": {},
          "output_type": "execute_result"
        }
      ],
      "source": [
        "data.imag"
      ]
    },
    {
      "cell_type": "markdown",
      "metadata": {
        "id": "qchCfkOTrMa9"
      },
      "source": [
        "The same functionality is also provided by the functions `np.real` and `np.imag`,\n",
        "which also can be applied to other array-like objects, such as Python lists.\n",
        "Note that Python itself has support of complex numbers, and the `imag` and `real`\n",
        "attributes are also available for Python scalars.\n",
        "\n",
        "## Order of Array Data in Memory\n",
        "\n",
        "Multidimensional arrays are stored as contiguous data in memory. There is a\n",
        "freedom of choice in how to arrange the array elements in this memory segment.\n",
        "Consider the case of a two-dimensional array, containing rows and columns: one\n",
        "possible way to store this array as a consecutive sequence of values is to store\n",
        "the rows after each other, and another equally valid approach is to store the\n",
        "columns one after another. The former is called row-major format and the latter\n",
        "is column-major format. Whether to use row-­major or column-major is a matter of\n",
        "conventions, and row-major format is used, for example, in the C programming\n",
        "language, and Fortran uses the column-major format.  A NumPy array can be\n",
        "specified to be stored in row-major format, using the keyword argument `order=\n",
        "'C'`, and column-major format, using the keyword argument `order= 'F'`, when the\n",
        "array is created or reshaped. The default format is row-major.  The `'C'` or\n",
        "`'F'` ordering of NumPy array is particularly relevant when NumPy arrays are\n",
        "used in interfaces with software written in C and Fortran, which is often\n",
        "required when working with numerical computing with Python.\n",
        "\n",
        "Row-major and column-major ordering are special cases of strategies for mapping\n",
        "the index used to address an element, to the offset for the element in the\n",
        "array’s memory segment. In general, the NumPy array attribute `ndarray.strides`\n",
        "defines exactly how this mapping is done. The `strides` attribute is a tuple of\n",
        "the same length as the number of axes (dimensions) of the array. Each value in\n",
        "`strides` is the factor by which the index for the corresponding axis is\n",
        "multiplied when calculating the memory offset (in bytes) for a given index\n",
        "expression.\n",
        "\n",
        "For example, consider a C-order array A with shape `(2, 3)`, which corresponds to\n",
        "a two-dimensional array with two and three elements along the first and the\n",
        "second dimensions, respectively. If the data type is `int32`, then each element\n",
        "uses 4 bytes, and the total memory buffer for the array therefore uses `2 × 3 × 4\n",
        "= 24 bytes`. The strides attribute of this array is therefore `(4 × 3, 4 × 1) =\n",
        "(12, 4)`, because each increment of m in A[n, m] increases the memory offset with\n",
        "one item, or 4 bytes. Likewise, each increment of n increases the memory offset\n",
        "with three items or 12 bytes (because the second dimension of the array has\n",
        "length 3). If, on the other hand, the same array were stored in 'F' order, the\n",
        "`strides` would instead be (4, 8). Using strides to describe the mapping of array\n",
        "index to array memory offset is clever because it can be used to describe\n",
        "different mapping strategies, and many common operations on arrays, such as for\n",
        "example the transpose, can be implemented by simply changing the strides\n",
        "attribute, which can eliminate the need for moving data around in the memory.\n",
        "Operations that only require changing the `strides` attribute result in new\n",
        "`ndarray` objects that refer to the same data as the original array. Such arrays\n",
        "are called views. For efficiency, NumPy strives to create views rather than\n",
        "copies when applying operations on arrays. This is generally a good thing, but\n",
        "it is important to be aware of that some array operations result in views rather\n",
        "than new independent arrays, because modifying their data also modifies the data\n",
        "of the original array. Later in this chapter, we will see several examples of\n",
        "this behavior."
      ]
    },
    {
      "cell_type": "markdown",
      "metadata": {
        "id": "wAYB4m66rMa9"
      },
      "source": [
        "## Creating arrays\n",
        "\n",
        "In the previous section, we looked at NumPy’s basic data structure for\n",
        "representing arrays, the `ndarray` class, and we looked at the basic attributes\n",
        "of this class. In this section we focus on functions from the NumPy library that\n",
        "can be used to create `ndarray` instances.\n",
        "\n",
        "Arrays can be generated in a number of ways, depending on their properties and\n",
        "the applications they are used for. For example, as we saw in the previous\n",
        "section, one way to initialize an `ndarray` instance is to use the ``np.array``\n",
        "function on a Python list, which, for example, can be explicitly defined.\n",
        "However, this method is obviously limited to small arrays. In many situations it\n",
        "is necessary to generate arrays with elements that follow some given rule, such\n",
        "as filled with constant values, increasing integers, uniformly spaced numbers,\n",
        "random numbers, etc. In other cases we might need to create arrays from data\n",
        "stored in a file. The requirements are many and varied, and the NumPy library\n",
        "provides a comprehensive set of functions for generating arrays of various\n",
        "types. In this section we look in more detail at many of these functions. For a\n",
        "complete list, see the NumPy reference manual or the docstrings that are\n",
        "available by typing `help(np)` or using the autocompletion `np.<TAB>`. A summary\n",
        "of frequently used array-generating functions is given in Table 2-3.\n",
        "\n",
        "_**Table 2-3**_. Summary of NumPy Functions for Generating Arrays\n",
        "\n",
        "Function Name | Type of Array\n",
        "---|---\n",
        "`np.array` | Creates an array for which the elements are given by an array-like object, which, for example, can be a (nested) Python list, a tuple, an iterable sequence, or another ndarray instance.\n",
        "`np.zeros` | Creates an array with the specified dimensions and data type that is filled with zeros.\n",
        "`np.ones` | Creates an array with the specified dimensions and data type that is filled with ones.\n",
        "`np.diag` | Creates a diagonal array with specified values along the diagonal and zeros elsewhere.\n",
        "`np.arange` | Creates an array with evenly spaced values between the specified start, end, and increment values.\n",
        "`np.linspace` | Creates an array with evenly spaced values between specified start and end values, using a specified number of elements.\n",
        "`np.logspace` | Creates an array with values that are logarithmically spaced between the given start and end values.\n",
        "`np.meshgrid` | Generates coordinate matrices (and higher-dimensional coordinate arrays) from one-dimensional coordinate vectors.\n",
        "`np.fromfunction` | Creates an array and fills it with values specified by a given function, which is evaluated for each combination of indices for the given array size.\n",
        "`np.fromfile` | Creates an array with the data from a binary (or text) file. NumPy also provides a corresponding function np.tofile with which NumPy arrays can be stored to disk and later read back using `np.fromfile`.\n",
        "`np.genfromtxt`, `np.loadtxt` | Create an array from data read from a text file, for example, a comma-separated value (CSV) file. The function `np.genfromtxt` also supports data files with missing values.\n",
        "`np.random.rand` | Generates an array with random numbers that are uniformly distributed between 0 and 1. Other types of distributions are also available in the `np.random` module."
      ]
    },
    {
      "cell_type": "markdown",
      "metadata": {
        "id": "ahT49DHrrMa9"
      },
      "source": [
        "### Arrays created from lists and other array-like objects\n",
        "\n",
        "Using the `np.array` function, NumPy arrays can be constructed from explicit\n",
        "Python lists, iterable expressions, and other array-like objects (such as other\n",
        "`ndarray` instances).  For example, to create a one-dimensional array from a\n",
        "Python list, we simply pass the Python list as an argument to the `np.array`\n",
        "function:"
      ]
    },
    {
      "cell_type": "code",
      "execution_count": 268,
      "metadata": {
        "id": "DAEmGruarMa9",
        "outputId": "f7ddad31-acec-439c-ac62-7e2ed3acc74f"
      },
      "outputs": [
        {
          "data": {
            "text/plain": [
              "array([1, 2, 3, 4])"
            ]
          },
          "execution_count": 268,
          "metadata": {},
          "output_type": "execute_result"
        }
      ],
      "source": [
        "data = np.array([1, 2, 3, 4])\n",
        "data"
      ]
    },
    {
      "cell_type": "code",
      "execution_count": 269,
      "metadata": {
        "id": "vxGHKRFhrMa9",
        "outputId": "0caf2dee-d3d5-40a8-9770-9af6f3985b01"
      },
      "outputs": [
        {
          "data": {
            "text/plain": [
              "1"
            ]
          },
          "execution_count": 269,
          "metadata": {},
          "output_type": "execute_result"
        }
      ],
      "source": [
        "data.ndim"
      ]
    },
    {
      "cell_type": "code",
      "execution_count": 270,
      "metadata": {
        "id": "RihQVgj7rMa9",
        "outputId": "525c5e13-8ac9-410b-e6ec-de4d8c9f8051"
      },
      "outputs": [
        {
          "data": {
            "text/plain": [
              "(4,)"
            ]
          },
          "execution_count": 270,
          "metadata": {},
          "output_type": "execute_result"
        }
      ],
      "source": [
        "data.shape"
      ]
    },
    {
      "cell_type": "markdown",
      "metadata": {
        "id": "SyMIPOrnrMa-"
      },
      "source": [
        "To create a two-dimensional array with the same data as in the previous example,\n",
        "we can use a nested Python list:"
      ]
    },
    {
      "cell_type": "code",
      "execution_count": 271,
      "metadata": {
        "id": "inZwLkB0rMa-"
      },
      "outputs": [],
      "source": [
        "data = np.array([[1, 2], [3, 4]])"
      ]
    },
    {
      "cell_type": "code",
      "execution_count": 272,
      "metadata": {
        "id": "IUNh7R4LrMa-",
        "outputId": "8fb7c376-720f-419b-b618-e9936cbf8fc2"
      },
      "outputs": [
        {
          "data": {
            "text/plain": [
              "2"
            ]
          },
          "execution_count": 272,
          "metadata": {},
          "output_type": "execute_result"
        }
      ],
      "source": [
        "data.ndim"
      ]
    },
    {
      "cell_type": "code",
      "execution_count": 273,
      "metadata": {
        "id": "n19hlVohrMa-",
        "outputId": "447a4f5d-9437-497d-85b0-2112563a209f"
      },
      "outputs": [
        {
          "data": {
            "text/plain": [
              "(2, 2)"
            ]
          },
          "execution_count": 273,
          "metadata": {},
          "output_type": "execute_result"
        }
      ],
      "source": [
        "data.shape"
      ]
    },
    {
      "cell_type": "markdown",
      "metadata": {
        "id": "wpJGrYP0rMa-"
      },
      "source": [
        "### Arrays filled with constant values\n",
        "\n",
        "The functions `np.zeros` and `np.ones` create and return arrays filled with zeros\n",
        "and ones, respectively. They take, as first argument, an integer or a tuple that\n",
        "describes the number of elements along each dimension of the array. For example,\n",
        "to create a 2 × 3 array filled with zeros, and an array of length 4 filled with\n",
        "ones, we can use"
      ]
    },
    {
      "cell_type": "code",
      "execution_count": 274,
      "metadata": {
        "id": "img7YN6GrMa-",
        "outputId": "efc31479-637a-4f82-aae1-f8a21812b4e2"
      },
      "outputs": [
        {
          "data": {
            "text/plain": [
              "array([[0., 0., 0.],\n",
              "       [0., 0., 0.]])"
            ]
          },
          "execution_count": 274,
          "metadata": {},
          "output_type": "execute_result"
        }
      ],
      "source": [
        "np.zeros((2, 3))"
      ]
    },
    {
      "cell_type": "code",
      "execution_count": 275,
      "metadata": {
        "id": "eah0ctvprMa-",
        "outputId": "1e6a7054-31f8-44e5-cd00-7a909cea9690"
      },
      "outputs": [
        {
          "data": {
            "text/plain": [
              "array([1., 1., 1., 1.])"
            ]
          },
          "execution_count": 275,
          "metadata": {},
          "output_type": "execute_result"
        }
      ],
      "source": [
        "np.ones(4)"
      ]
    },
    {
      "cell_type": "markdown",
      "metadata": {
        "id": "TFuZqKUGrMa-"
      },
      "source": [
        "Like other array-generating functions, the `np.zeros` and `np.ones` functions\n",
        "also accept an optional keyword argument that specifies the data type for the\n",
        "elements in the array. By default, the data type is `float64`, and it can be\n",
        "changed to the required type by explicitly specifying the `dtype` argument."
      ]
    },
    {
      "cell_type": "code",
      "execution_count": 276,
      "metadata": {
        "id": "m6pqbmCOrMa-"
      },
      "outputs": [],
      "source": [
        "data = np.ones(4)"
      ]
    },
    {
      "cell_type": "code",
      "execution_count": 277,
      "metadata": {
        "id": "XBHnhJu_rMa-",
        "outputId": "30ac3a2f-23b2-4d8e-eeea-bed57d61def2"
      },
      "outputs": [
        {
          "data": {
            "text/plain": [
              "dtype('float64')"
            ]
          },
          "execution_count": 277,
          "metadata": {},
          "output_type": "execute_result"
        }
      ],
      "source": [
        "data.dtype"
      ]
    },
    {
      "cell_type": "code",
      "execution_count": 278,
      "metadata": {
        "id": "VYjXS2bDrMa-"
      },
      "outputs": [],
      "source": [
        "data = np.ones(4, dtype=np.int32)"
      ]
    },
    {
      "cell_type": "code",
      "execution_count": 279,
      "metadata": {
        "id": "TRAIup0-rMa-",
        "outputId": "a0a4e825-901d-4e47-c51d-4726a52469e3"
      },
      "outputs": [
        {
          "data": {
            "text/plain": [
              "dtype('int32')"
            ]
          },
          "execution_count": 279,
          "metadata": {},
          "output_type": "execute_result"
        }
      ],
      "source": [
        "data.dtype"
      ]
    },
    {
      "cell_type": "markdown",
      "metadata": {
        "id": "UV14VuVHrMa-"
      },
      "source": [
        "An array filled with an arbitrary constant value can be generated by first\n",
        "creating an array filled with ones and then multiplying the array with the\n",
        "desired fill value.  However, NumPy also provides the function `np.full` that\n",
        "does exactly this in one step.  The following two ways of constructing arrays\n",
        "with ten elements, which are initialized to the numerical value 5.4 in this\n",
        "example, produces the same results, but using `np.full` is slightly more\n",
        "efficient since it avoids the multiplication."
      ]
    },
    {
      "cell_type": "code",
      "execution_count": 280,
      "metadata": {
        "id": "rjGWZbOUrMa_",
        "outputId": "47d8d8f3-2bb0-456c-c0c3-de22ea288499"
      },
      "outputs": [
        {
          "data": {
            "text/plain": [
              "array([5.4, 5.4, 5.4, 5.4, 5.4, 5.4, 5.4, 5.4, 5.4, 5.4])"
            ]
          },
          "execution_count": 280,
          "metadata": {},
          "output_type": "execute_result"
        }
      ],
      "source": [
        "x1 = 5.4 * np.ones(10)\n",
        "x1"
      ]
    },
    {
      "cell_type": "code",
      "execution_count": 281,
      "metadata": {
        "id": "Z3rMVDbmrMa_",
        "outputId": "72fbf14c-76e5-456d-da76-7593d39904a0"
      },
      "outputs": [
        {
          "data": {
            "text/plain": [
              "array([5.4, 5.4, 5.4, 5.4, 5.4, 5.4, 5.4, 5.4, 5.4, 5.4])"
            ]
          },
          "execution_count": 281,
          "metadata": {},
          "output_type": "execute_result"
        }
      ],
      "source": [
        "x2 = np.full(10, 5.4)\n",
        "x2"
      ]
    },
    {
      "cell_type": "markdown",
      "metadata": {
        "id": "RzP0D_phrMa_"
      },
      "source": [
        "An already created array can also be filled with constant values using the\n",
        "`np.fill` function, which takes an array and a value as arguments, and set all\n",
        "elements in the array to the given value. The following two methods to create an\n",
        "array therefore give the same results:"
      ]
    },
    {
      "cell_type": "code",
      "execution_count": 282,
      "metadata": {
        "id": "WlFqnD01rMa_",
        "outputId": "044fc1f6-bc0e-423d-988f-7a963cbb2a6d"
      },
      "outputs": [
        {
          "data": {
            "text/plain": [
              "array([ 1. ,  2. ,  2.5,  5. , 10. ])"
            ]
          },
          "execution_count": 282,
          "metadata": {},
          "output_type": "execute_result"
        }
      ],
      "source": [
        "x1 = np.empty(5)\n",
        "x1"
      ]
    },
    {
      "cell_type": "code",
      "execution_count": 283,
      "metadata": {
        "id": "Fac_E0OprMa_"
      },
      "outputs": [],
      "source": [
        "x1.fill(3.0)"
      ]
    },
    {
      "cell_type": "code",
      "execution_count": 284,
      "metadata": {
        "id": "UubZ455QrMa_",
        "outputId": "d917528e-fb7f-44e8-e9d7-ddab7bbe85fa"
      },
      "outputs": [
        {
          "data": {
            "text/plain": [
              "array([3., 3., 3., 3., 3.])"
            ]
          },
          "execution_count": 284,
          "metadata": {},
          "output_type": "execute_result"
        }
      ],
      "source": [
        "x1"
      ]
    },
    {
      "cell_type": "code",
      "execution_count": 285,
      "metadata": {
        "id": "zxtrf_rgrMa_"
      },
      "outputs": [],
      "source": [
        "x2 = np.full(5, 3.0)"
      ]
    },
    {
      "cell_type": "code",
      "execution_count": 286,
      "metadata": {
        "id": "H6t0HQoWrMa_",
        "outputId": "f2e6cede-aa11-42ed-9b9c-1f1ec7b2d5b1"
      },
      "outputs": [
        {
          "data": {
            "text/plain": [
              "array([3., 3., 3., 3., 3.])"
            ]
          },
          "execution_count": 286,
          "metadata": {},
          "output_type": "execute_result"
        }
      ],
      "source": [
        "x2"
      ]
    },
    {
      "cell_type": "markdown",
      "metadata": {
        "id": "ce0q1Ex_rMa_"
      },
      "source": [
        "In this last example, we also used the `np.empty` function, which generates an\n",
        "array with uninitialized values, of the given size. This function should only be\n",
        "used when the initialization of all elements can be guaranteed by other means,\n",
        "such as an explicit loop over the array elements or another explicit assignment.\n",
        "This function is described in more detail later in this chapter."
      ]
    },
    {
      "cell_type": "markdown",
      "metadata": {
        "id": "R0NwD3v8rMa_"
      },
      "source": [
        "### Arrays filled with incremental sequences\n",
        "\n",
        "In numerical computing it is very common to require arrays with evenly spaced\n",
        "values between a starting value and ending value. NumPy provides two similar\n",
        "functions to create such arrays: `np.arange` and `np.linspace`. Both functions\n",
        "take three arguments, where the first two arguments are the start and end\n",
        "values. The third argument of `np.arange` is the increment, while for\n",
        "`np.linspace` it is the total number of points in the array.\n",
        "\n",
        "For example, to generate arrays with values between 1 and 10, with increment 1,\n",
        "we could use either of the following:"
      ]
    },
    {
      "cell_type": "code",
      "execution_count": 287,
      "metadata": {
        "id": "QCVn5cyUrMa_",
        "outputId": "3ba4d4dc-7d46-4005-b698-ed0b480eb423"
      },
      "outputs": [
        {
          "data": {
            "text/plain": [
              "array([0., 1., 2., 3., 4., 5., 6., 7., 8., 9.])"
            ]
          },
          "execution_count": 287,
          "metadata": {},
          "output_type": "execute_result"
        }
      ],
      "source": [
        "np.arange(0.0, 10, 1)"
      ]
    },
    {
      "cell_type": "code",
      "execution_count": 288,
      "metadata": {
        "id": "xIGca_UOrMa_",
        "outputId": "71e59ca5-fc0a-4b49-c047-8111c9004232"
      },
      "outputs": [
        {
          "data": {
            "text/plain": [
              "array([ 0.,  1.,  2.,  3.,  4.,  5.,  6.,  7.,  8.,  9., 10.])"
            ]
          },
          "execution_count": 288,
          "metadata": {},
          "output_type": "execute_result"
        }
      ],
      "source": [
        "np.linspace(0, 10, 11)"
      ]
    },
    {
      "cell_type": "markdown",
      "metadata": {
        "id": "mna92qavrMa_"
      },
      "source": [
        "However, note that `np.arange` does not include the end value (10), while by\n",
        "default `np.linspace` does (although this behavior can be changed using the\n",
        "optional endpoint keyword argument). Whether to use `np.arange` or `np.linspace`\n",
        "is mostly a matter of personal preference, but it is generally recommended to\n",
        "use `np.linspace` whenever the increment is a noninteger."
      ]
    },
    {
      "cell_type": "markdown",
      "metadata": {
        "id": "FehozX4grMa_"
      },
      "source": [
        "### Arrays filled with logarithmic sequences\n",
        "\n",
        "The function `np.logspace` is similar to `np.linspace`, but the increments between\n",
        "the elements in the array are logarithmically distributed, and the first two\n",
        "arguments, for the start and end values, are the powers of the optional base\n",
        "keyword argument (which defaults to 10). For example, to generate an array with\n",
        "logarithmically distributed values between 1 and 100, we can use"
      ]
    },
    {
      "cell_type": "code",
      "execution_count": 289,
      "metadata": {
        "id": "kDCyc01ArMbA",
        "outputId": "0b98ae8b-41be-4788-a485-eb778cd8f327"
      },
      "outputs": [
        {
          "data": {
            "text/plain": [
              "array([  1.        ,   3.16227766,  10.        ,  31.6227766 ,\n",
              "       100.        ])"
            ]
          },
          "execution_count": 289,
          "metadata": {},
          "output_type": "execute_result"
        }
      ],
      "source": [
        "np.logspace(0, 2, 5)  # 5 data points between 10**0=1 to 10**2=100"
      ]
    },
    {
      "cell_type": "markdown",
      "metadata": {
        "id": "MtosFGWxrMbA"
      },
      "source": [
        "### Mesh-grid arrays\n",
        "\n",
        "Multidimensional coordinate grids can be generated using the function\n",
        "`np.meshgrid`.  Given two one-dimensional coordinate arrays (i.e., arrays\n",
        "containing a set of coordinates along a given dimension), we can generate\n",
        "two-dimensional coordinate arrays using the `np.meshgrid` function. An\n",
        "illustration of this is given in the following example:"
      ]
    },
    {
      "cell_type": "code",
      "execution_count": 290,
      "metadata": {
        "id": "gjhLpAkMrMbA"
      },
      "outputs": [],
      "source": [
        "x = np.array([-1, 0, 1])"
      ]
    },
    {
      "cell_type": "code",
      "execution_count": 291,
      "metadata": {
        "id": "lvRWAs79rMbA"
      },
      "outputs": [],
      "source": [
        "y = np.array([-2, 0, 2])"
      ]
    },
    {
      "cell_type": "code",
      "execution_count": 292,
      "metadata": {
        "id": "bGGtOet5rMbA"
      },
      "outputs": [],
      "source": [
        "X, Y = np.meshgrid(x, y)"
      ]
    },
    {
      "cell_type": "code",
      "execution_count": 293,
      "metadata": {
        "id": "mROqlh08rMbA",
        "outputId": "05fbea16-6f9b-452e-b6be-7eebc03fdbf1"
      },
      "outputs": [
        {
          "data": {
            "text/plain": [
              "array([[-1,  0,  1],\n",
              "       [-1,  0,  1],\n",
              "       [-1,  0,  1]])"
            ]
          },
          "execution_count": 293,
          "metadata": {},
          "output_type": "execute_result"
        }
      ],
      "source": [
        "X"
      ]
    },
    {
      "cell_type": "code",
      "execution_count": 294,
      "metadata": {
        "id": "CQU4Gn3QrMbA",
        "outputId": "687a74ea-8202-4f5c-c497-d95feaf3f333"
      },
      "outputs": [
        {
          "data": {
            "text/plain": [
              "array([[-2, -2, -2],\n",
              "       [ 0,  0,  0],\n",
              "       [ 2,  2,  2]])"
            ]
          },
          "execution_count": 294,
          "metadata": {},
          "output_type": "execute_result"
        }
      ],
      "source": [
        "Y"
      ]
    },
    {
      "cell_type": "markdown",
      "metadata": {
        "id": "9rODFarHrMbA"
      },
      "source": [
        "A common use-case of the two-dimensional coordinate arrays, like $X$ and $Y$ in\n",
        "this example, is to evaluate functions over two variables $x$ and $y$. This can\n",
        "be used when plotting functions over two variables, as colormap plots and\n",
        "contour plots.  For example, to evaluate the expression $(x+y)^2$ at all\n",
        "combinations of values from the x and y arrays in the preceding section, we can\n",
        "use the two-dimensional coordinate arrays $X$ and $Y$:"
      ]
    },
    {
      "cell_type": "code",
      "execution_count": 295,
      "metadata": {
        "id": "sNe7oQOGrMbA"
      },
      "outputs": [],
      "source": [
        "Z = (X + Y) ** 2"
      ]
    },
    {
      "cell_type": "code",
      "execution_count": 296,
      "metadata": {
        "id": "fVLbqc5zrMbA",
        "outputId": "632722f3-70cc-4652-87a2-65fcc655a8db"
      },
      "outputs": [
        {
          "data": {
            "text/plain": [
              "array([[9, 4, 1],\n",
              "       [1, 0, 1],\n",
              "       [1, 4, 9]])"
            ]
          },
          "execution_count": 296,
          "metadata": {},
          "output_type": "execute_result"
        }
      ],
      "source": [
        "Z"
      ]
    },
    {
      "cell_type": "markdown",
      "metadata": {
        "id": "vMFuRg1wrMbA"
      },
      "source": [
        "It is also possible to generate higher-dimensional coordinate arrays by passing\n",
        "more arrays as argument to the `np.meshgrid` function. Alternatively, the\n",
        "functions `np.mgrid` and `np.ogrid` can also be used to generate coordinate\n",
        "arrays, using a slightly different syntax based on indexing and slice objects.\n",
        "See their docstrings or the NumPy documentation for details."
      ]
    },
    {
      "cell_type": "markdown",
      "metadata": {
        "id": "xnhAyjRsrMbA"
      },
      "source": [
        "### Creating uninitialized arrays\n",
        "\n",
        "To create an array of specific size and data type, but without initializing the\n",
        "elements in the array to any particular values, we can use the function\n",
        "`np.empty`. The advantage of using this function, for example, instead of\n",
        "`np.zeros`, which creates an array initialized with zero-valued elements, is that\n",
        "we can avoid the initiation step. If all elements are guaranteed to be\n",
        "initialized later in the code, this can save a little bit of time, especially\n",
        "when working with large arrays. To illustrate the use of the `np.empty` function,\n",
        "consider the following example:"
      ]
    },
    {
      "cell_type": "code",
      "execution_count": 297,
      "metadata": {
        "id": "xzma2JkwrMbA",
        "outputId": "9f4febf9-2684-416b-8d51-01ec19f91862"
      },
      "outputs": [
        {
          "data": {
            "text/plain": [
              "array([    nan, 0.e+000, 1.e-323])"
            ]
          },
          "execution_count": 297,
          "metadata": {},
          "output_type": "execute_result"
        }
      ],
      "source": [
        "np.empty(3, dtype=float)"
      ]
    },
    {
      "cell_type": "markdown",
      "metadata": {
        "id": "4z8bmLWIrMbA"
      },
      "source": [
        "Here we generated a new array with three elements of type float. There is no\n",
        "guarantee that the elements have any particular values, and the actual values\n",
        "will vary from time to time. For this reason it is important that all values are\n",
        "explicitly assigned before the array is used; otherwise unpredictable errors are\n",
        "likely to arise. Often the `np.zeros` function is a safer alternative to\n",
        "`np.empty`, and if the performance gain is not essential, it is better to use\n",
        "`np.zeros`, to minimize the likelihood of subtle and hard-to-reproduce bugs due\n",
        "to uninitialized values in the array returned by `np.empty`."
      ]
    },
    {
      "cell_type": "markdown",
      "metadata": {
        "id": "3hobxw4ArMbB"
      },
      "source": [
        "### Creating arrays with properties of other arrays\n",
        "\n",
        "It is often necessary to create new arrays that share properties, such as shape\n",
        "and data type, with another array. NumPy provides a family of functions for this\n",
        "purpose: `np.ones_like`, `np.zeros_like`, `np.full_like`, and `np.empty_like`. A\n",
        "typical use-case is a function that takes arrays of unspecified type and size as\n",
        "arguments and requires working arrays of the same size and type. For example, a\n",
        "boilerplate example of this situation is given in the following function:"
      ]
    },
    {
      "cell_type": "code",
      "execution_count": 298,
      "metadata": {
        "id": "H0hS6Mm1rMbB"
      },
      "outputs": [],
      "source": [
        "def f(x):\n",
        "    y = np.ones_like(x)\n",
        "    # compute with x and y\n",
        "    return y"
      ]
    },
    {
      "cell_type": "markdown",
      "metadata": {
        "id": "zhKHkkcqrMbB"
      },
      "source": [
        "At the first line of the body of this function, a new array y is created using\n",
        "`np.ones_` like, which results in an array of the same size and data type as x,\n",
        "and filled with ones."
      ]
    },
    {
      "cell_type": "markdown",
      "metadata": {
        "id": "9k6cF2yhrMbB"
      },
      "source": [
        "### Creating matrix arrays\n",
        "\n",
        "Matrices, or two-dimensional arrays, are an important case for numerical\n",
        "computing.  NumPy provides functions for generating commonly used matrices. In\n",
        "particular, the function `np.identity` generates a square matrix with ones on the\n",
        "diagonal and zeros elsewhere:"
      ]
    },
    {
      "cell_type": "code",
      "execution_count": 299,
      "metadata": {
        "id": "qJ7VYlpfrMbB",
        "outputId": "ec9835f4-4975-4f86-deb8-30240e7da393"
      },
      "outputs": [
        {
          "data": {
            "text/plain": [
              "array([[1., 0., 0., 0.],\n",
              "       [0., 1., 0., 0.],\n",
              "       [0., 0., 1., 0.],\n",
              "       [0., 0., 0., 1.]])"
            ]
          },
          "execution_count": 299,
          "metadata": {},
          "output_type": "execute_result"
        }
      ],
      "source": [
        "np.identity(4)"
      ]
    },
    {
      "cell_type": "markdown",
      "metadata": {
        "id": "nNlXWbOZrMbB"
      },
      "source": [
        "The similar function `numpy.eye` generates matrices with ones on a diagonal\n",
        "(optionally offset). This is illustrated in the following example, which\n",
        "produces matrices with nonzero diagonals above and below the diagonal,\n",
        "respectively:"
      ]
    },
    {
      "cell_type": "code",
      "execution_count": 300,
      "metadata": {
        "id": "TTAXGXZvrMbB",
        "outputId": "4b616238-298e-411a-b25b-87d6542815dc"
      },
      "outputs": [
        {
          "data": {
            "text/plain": [
              "array([[0., 1., 0.],\n",
              "       [0., 0., 1.],\n",
              "       [0., 0., 0.]])"
            ]
          },
          "execution_count": 300,
          "metadata": {},
          "output_type": "execute_result"
        }
      ],
      "source": [
        "np.eye(3, k=1)"
      ]
    },
    {
      "cell_type": "code",
      "execution_count": 301,
      "metadata": {
        "id": "VunbADwlrMbB",
        "outputId": "1e55514b-5335-42bc-be68-8354170a0e11"
      },
      "outputs": [
        {
          "data": {
            "text/plain": [
              "array([[0., 0., 0.],\n",
              "       [1., 0., 0.],\n",
              "       [0., 1., 0.]])"
            ]
          },
          "execution_count": 301,
          "metadata": {},
          "output_type": "execute_result"
        }
      ],
      "source": [
        "np.eye(3, k=-1)"
      ]
    },
    {
      "cell_type": "markdown",
      "metadata": {
        "id": "-jkJ4yQJrMbB"
      },
      "source": [
        "To construct a matrix with an arbitrary one-dimensional array on the diagonal,\n",
        "we can use the `np.diag` function (which also takes the optional keyword argument\n",
        "k to specify an offset from the diagonal), as demonstrated here:"
      ]
    },
    {
      "cell_type": "code",
      "execution_count": 302,
      "metadata": {
        "id": "1J8bCUanrMbB",
        "outputId": "54cbfe78-3f30-4610-9c48-e4ef4209cc81"
      },
      "outputs": [
        {
          "data": {
            "text/plain": [
              "array([[ 0,  0,  0,  0],\n",
              "       [ 0,  5,  0,  0],\n",
              "       [ 0,  0, 10,  0],\n",
              "       [ 0,  0,  0, 15]])"
            ]
          },
          "execution_count": 302,
          "metadata": {},
          "output_type": "execute_result"
        }
      ],
      "source": [
        "np.diag(np.arange(0, 20, 5))"
      ]
    },
    {
      "cell_type": "markdown",
      "metadata": {
        "id": "OhbJHKLkrMbB"
      },
      "source": [
        "Here we gave a third argument to the np.arange function, which specifies the\n",
        "step size in the enumeration of elements in the array returned by the function.\n",
        "The resulting array therefore contains the values [0, 5, 10, 15], which is\n",
        "inserted on the diagonal of a two-dimensional matrix by the `np.diag` function."
      ]
    },
    {
      "cell_type": "markdown",
      "metadata": {
        "id": "iS9PmljPrMbB"
      },
      "source": [
        "## Index and slicing\n",
        "\n",
        "Elements and subarrays of NumPy arrays are accessed using the standard square\n",
        "bracket notation that is also used with Python lists. Within the square bracket,\n",
        "a variety of different index formats are used for different types of element\n",
        "selection. In general, the expression within the bracket is a tuple, where each\n",
        "item in the tuple is a specification of which elements to select from each axis\n",
        "(dimension) of the array."
      ]
    },
    {
      "cell_type": "markdown",
      "metadata": {
        "id": "QBnZFpydrMbB"
      },
      "source": [
        "### One-dimensional arrays\n",
        "\n",
        "Along a single axis, integers are used to select single elements, and so-called\n",
        "slices are used to select ranges and sequences of elements. Positive integers\n",
        "are used to index elements from the beginning of the array (index starts at 0),\n",
        "and negative integers are used to index elements from the end of the array,\n",
        "where the last element is indexed with –1, the second to last element with –2,\n",
        "and so on.\n",
        "\n",
        "Slices are specified using the : notation that is also used for Python lists. In\n",
        "this notation, a range of elements can be selected using an expression like m:n,\n",
        "which selects elements starting with m and ending with n − 1 (note that the nth\n",
        "element is not included). The slice m:n can also be written more explicitly as m\n",
        ": n : 1, where the number 1 specifies that every element between m and n should\n",
        "be selected. To select every second element between m and n, use m : n : 2, and\n",
        "to select every p elements, use m : n : p, and so on. If p is negative, elements\n",
        "are returned in reversed order starting from m to n+1 (which implies that m has\n",
        "to be larger than n in this case). See Table 2-4 for a summary of indexing and\n",
        "slicing operations for NumPy arrays.\n",
        "\n",
        "_**Table 2-4**_. Examples of Array Indexing and Slicing Expressions\n",
        "\n",
        "Expression | Description\n",
        "---|---\n",
        "a[m] | Select element at index m, where m is an integer (start counting form 0).\n",
        "a[-m] | Select the n th element from the end of the list, where n is an integer. The last element in the list is addressed as –1, the second to last element as –2, and so on.\n",
        "a[m:n] | Select elements with index starting at m and ending at n − 1 (m and n are integers).\n",
        "a[:] or a[0:-1] | Select all elements in the given axis.\n",
        "a[:n] | Select elements starting with index 0 and going up to index n − 1 (integer).\n",
        "a[m:] or a[m:-1] | Select elements starting with index m (integer) and going up to the last element in the array.\n",
        "a[m:n:p] | Select elements with index m through n (exclusive), with increment p.\n",
        "a[::-1] | Select all the elements, in reverse order.\n",
        "\n",
        "The following examples demonstrate index and slicing operations for NumPy\n",
        "arrays.  To begin with, consider an array with a single axis (dimension) that\n",
        "contains a sequence of integers between 0 and 10:"
      ]
    },
    {
      "cell_type": "code",
      "execution_count": 303,
      "metadata": {
        "id": "JlaX68kWrMbB"
      },
      "outputs": [],
      "source": [
        "a = np.arange(0, 11)"
      ]
    },
    {
      "cell_type": "code",
      "execution_count": 304,
      "metadata": {
        "id": "XVpPIIzlrMbB",
        "outputId": "7fb93856-253a-44a7-a047-39de4801a509"
      },
      "outputs": [
        {
          "data": {
            "text/plain": [
              "array([ 0,  1,  2,  3,  4,  5,  6,  7,  8,  9, 10])"
            ]
          },
          "execution_count": 304,
          "metadata": {},
          "output_type": "execute_result"
        }
      ],
      "source": [
        "a"
      ]
    },
    {
      "cell_type": "markdown",
      "metadata": {
        "id": "V6gSTLPSrMbC"
      },
      "source": [
        "Note that the end value 11 is not included in the array. To select specific\n",
        "elements from this array, for example, the first, the last, and the 5th element,\n",
        "we can use integer indexing:"
      ]
    },
    {
      "cell_type": "code",
      "execution_count": 305,
      "metadata": {
        "id": "M7m5AEjIrMbC",
        "outputId": "f5bc9868-f459-4364-e3f3-2cb3bdb7cbe1"
      },
      "outputs": [
        {
          "data": {
            "text/plain": [
              "np.int64(0)"
            ]
          },
          "execution_count": 305,
          "metadata": {},
          "output_type": "execute_result"
        }
      ],
      "source": [
        "a[0]  # the first element"
      ]
    },
    {
      "cell_type": "code",
      "execution_count": 306,
      "metadata": {
        "id": "nzFPs63jrMbC",
        "outputId": "69d79804-37c3-4a10-d3d9-96968f7b99c5"
      },
      "outputs": [
        {
          "data": {
            "text/plain": [
              "np.int64(10)"
            ]
          },
          "execution_count": 306,
          "metadata": {},
          "output_type": "execute_result"
        }
      ],
      "source": [
        "a[-1] # the last element"
      ]
    },
    {
      "cell_type": "code",
      "execution_count": 307,
      "metadata": {
        "id": "m-Nix4uArMbC",
        "outputId": "5836a297-6559-4f72-ac59-40f6b4d01c4b"
      },
      "outputs": [
        {
          "data": {
            "text/plain": [
              "np.int64(4)"
            ]
          },
          "execution_count": 307,
          "metadata": {},
          "output_type": "execute_result"
        }
      ],
      "source": [
        "a[4]  # the fifth element, at index 4"
      ]
    },
    {
      "cell_type": "markdown",
      "metadata": {
        "id": "ylMxB9h2rMbC"
      },
      "source": [
        "To select a range of element, say from the second to the second-to-last element,\n",
        "selecting every element and every second element, respectively, we can use index\n",
        "slices:"
      ]
    },
    {
      "cell_type": "code",
      "execution_count": 308,
      "metadata": {
        "id": "nWFZt-NUrMbC",
        "outputId": "51209fce-c87b-4344-be9c-d8685e082100"
      },
      "outputs": [
        {
          "data": {
            "text/plain": [
              "array([1, 2, 3, 4, 5, 6, 7, 8, 9])"
            ]
          },
          "execution_count": 308,
          "metadata": {},
          "output_type": "execute_result"
        }
      ],
      "source": [
        "a[1:-1]"
      ]
    },
    {
      "cell_type": "code",
      "execution_count": 309,
      "metadata": {
        "id": "ReAhg8-wrMbC",
        "outputId": "4b917156-dfe1-49fe-e280-d24865a92a1b"
      },
      "outputs": [
        {
          "data": {
            "text/plain": [
              "array([1, 3, 5, 7, 9])"
            ]
          },
          "execution_count": 309,
          "metadata": {},
          "output_type": "execute_result"
        }
      ],
      "source": [
        "a[1:-1:2]"
      ]
    },
    {
      "cell_type": "markdown",
      "metadata": {
        "id": "rHuUI54VrMbC"
      },
      "source": [
        "To select the first five and the last five elements from an array, we can use\n",
        "the slices :5 and –5:, since if m or n is omitted in m:n, the defaults are the\n",
        "beginning and the end of the array, respectively."
      ]
    },
    {
      "cell_type": "code",
      "execution_count": 310,
      "metadata": {
        "id": "BFv03dkIrMbC",
        "outputId": "3969bebf-4d8d-4fa1-dfeb-8b872e9cfe39"
      },
      "outputs": [
        {
          "data": {
            "text/plain": [
              "array([0, 1, 2, 3, 4])"
            ]
          },
          "execution_count": 310,
          "metadata": {},
          "output_type": "execute_result"
        }
      ],
      "source": [
        "a[:5]"
      ]
    },
    {
      "cell_type": "code",
      "execution_count": 311,
      "metadata": {
        "id": "hVeeB54_rMbC",
        "outputId": "21d46cbe-9ea3-4222-98df-c69c38a002cc"
      },
      "outputs": [
        {
          "data": {
            "text/plain": [
              "array([ 6,  7,  8,  9, 10])"
            ]
          },
          "execution_count": 311,
          "metadata": {},
          "output_type": "execute_result"
        }
      ],
      "source": [
        "a[-5:]"
      ]
    },
    {
      "cell_type": "markdown",
      "metadata": {
        "id": "ddNgpxdsrMbC"
      },
      "source": [
        "To reverse the array and select only every second value, we can use the slice\n",
        "::-2, as shown in the following example:"
      ]
    },
    {
      "cell_type": "code",
      "execution_count": 312,
      "metadata": {
        "id": "RXg_kE2VrMbC",
        "outputId": "3a5012eb-8cff-49c0-9431-a9e4ab098525"
      },
      "outputs": [
        {
          "data": {
            "text/plain": [
              "array([10,  8,  6,  4,  2,  0])"
            ]
          },
          "execution_count": 312,
          "metadata": {},
          "output_type": "execute_result"
        }
      ],
      "source": [
        "a[::-2]\n"
      ]
    },
    {
      "cell_type": "markdown",
      "metadata": {
        "id": "996S5FKurMbC"
      },
      "source": [
        "## Multidimensional arrays\n",
        "\n",
        "With multidimensional arrays, element selections like those introduced in the\n",
        "previous section can be applied on each axis (dimension). The result is a\n",
        "reduced array where each element matches the given selection rules. As a\n",
        "specific example, consider the following two-dimensional array:"
      ]
    },
    {
      "cell_type": "code",
      "execution_count": 313,
      "metadata": {
        "id": "l9X-RIaYrMbD"
      },
      "outputs": [],
      "source": [
        "f = lambda m, n: n + 10 * m"
      ]
    },
    {
      "cell_type": "code",
      "execution_count": 314,
      "metadata": {
        "id": "aCskzRFvrMbD"
      },
      "outputs": [],
      "source": [
        "A = np.fromfunction(f, (6, 6), dtype=int)"
      ]
    },
    {
      "cell_type": "code",
      "execution_count": 315,
      "metadata": {
        "id": "wkCkz0GBrMbD",
        "outputId": "c2eb3e5e-f290-47e1-f0d9-c7db5c74b663"
      },
      "outputs": [
        {
          "data": {
            "text/plain": [
              "array([[ 0,  1,  2,  3,  4,  5],\n",
              "       [10, 11, 12, 13, 14, 15],\n",
              "       [20, 21, 22, 23, 24, 25],\n",
              "       [30, 31, 32, 33, 34, 35],\n",
              "       [40, 41, 42, 43, 44, 45],\n",
              "       [50, 51, 52, 53, 54, 55]])"
            ]
          },
          "execution_count": 315,
          "metadata": {},
          "output_type": "execute_result"
        }
      ],
      "source": [
        "A"
      ]
    },
    {
      "cell_type": "markdown",
      "metadata": {
        "id": "qsUzCP2MrMbD"
      },
      "source": [
        "We can extract columns and rows from this two-dimensional array using a\n",
        "combination of slice and integer indexing:"
      ]
    },
    {
      "cell_type": "code",
      "execution_count": 316,
      "metadata": {
        "id": "gBOxOiY7rMbD",
        "outputId": "73552ed3-6d5f-4ad4-a190-4110016d6632"
      },
      "outputs": [
        {
          "data": {
            "text/plain": [
              "array([ 1, 11, 21, 31, 41, 51])"
            ]
          },
          "execution_count": 316,
          "metadata": {},
          "output_type": "execute_result"
        }
      ],
      "source": [
        "A[:, 1]  # the second column"
      ]
    },
    {
      "cell_type": "code",
      "execution_count": 317,
      "metadata": {
        "id": "eJ7e5towrMbD",
        "outputId": "949643e8-62cb-480b-c39c-3be2a73795ab"
      },
      "outputs": [
        {
          "data": {
            "text/plain": [
              "array([10, 11, 12, 13, 14, 15])"
            ]
          },
          "execution_count": 317,
          "metadata": {},
          "output_type": "execute_result"
        }
      ],
      "source": [
        "A[1, :]  # the second row"
      ]
    },
    {
      "cell_type": "markdown",
      "metadata": {
        "id": "LB0FTwMCrMbD"
      },
      "source": [
        "By applying a slice on each of the array axes, we can extract subarrays\n",
        "(submatrices in this two-dimensional example):"
      ]
    },
    {
      "cell_type": "code",
      "execution_count": 318,
      "metadata": {
        "id": "Q-Y4zLHjrMbD",
        "outputId": "5b9ecc1e-5866-4f0f-ff0e-9b68b3539223"
      },
      "outputs": [
        {
          "data": {
            "text/plain": [
              "array([[ 0,  1,  2],\n",
              "       [10, 11, 12],\n",
              "       [20, 21, 22]])"
            ]
          },
          "execution_count": 318,
          "metadata": {},
          "output_type": "execute_result"
        }
      ],
      "source": [
        "A[:3, :3]  # upper half diagonal block matrix"
      ]
    },
    {
      "cell_type": "code",
      "execution_count": 319,
      "metadata": {
        "id": "boKorvj9rMbD",
        "outputId": "9a5016e0-7dfc-4a89-9861-729921913d31"
      },
      "outputs": [
        {
          "data": {
            "text/plain": [
              "array([[30, 31, 32],\n",
              "       [40, 41, 42],\n",
              "       [50, 51, 52]])"
            ]
          },
          "execution_count": 319,
          "metadata": {},
          "output_type": "execute_result"
        }
      ],
      "source": [
        "A[3:, :3]  # lower left off-diagonal block matrix"
      ]
    },
    {
      "cell_type": "markdown",
      "metadata": {
        "id": "dxTYTfPVrMbD"
      },
      "source": [
        "With element spacing other that 1, submatrices made up from nonconsecutive\n",
        "elements can be extracted:"
      ]
    },
    {
      "cell_type": "code",
      "execution_count": 320,
      "metadata": {
        "id": "GliTxOOprMbD",
        "outputId": "35b38dad-4939-4abe-ad53-09e573d632e8"
      },
      "outputs": [
        {
          "data": {
            "text/plain": [
              "array([[ 0,  2,  4],\n",
              "       [20, 22, 24],\n",
              "       [40, 42, 44]])"
            ]
          },
          "execution_count": 320,
          "metadata": {},
          "output_type": "execute_result"
        }
      ],
      "source": [
        "A[::2, ::2]  # every second element starting from 0, 0"
      ]
    },
    {
      "cell_type": "code",
      "execution_count": 321,
      "metadata": {
        "id": "AoISoC0frMbD",
        "outputId": "faa3b8a2-6230-4c66-c59a-eb67f6d234ea"
      },
      "outputs": [
        {
          "data": {
            "text/plain": [
              "array([[11, 14],\n",
              "       [31, 34],\n",
              "       [51, 54]])"
            ]
          },
          "execution_count": 321,
          "metadata": {},
          "output_type": "execute_result"
        }
      ],
      "source": [
        "A[1::2, 1::3]  # every second element starting from 1, 1"
      ]
    },
    {
      "cell_type": "markdown",
      "metadata": {
        "id": "sxTRsKI5rMbD"
      },
      "source": [
        "This ability to extract subsets of data from a multidimensional array is a\n",
        "simple but very powerful feature with many data processing applications."
      ]
    },
    {
      "cell_type": "markdown",
      "metadata": {
        "id": "2oHdB1BIrMbD"
      },
      "source": [
        "### Views\n",
        "\n",
        "Subarrays that are extracted from arrays using slice operations are alternative\n",
        "views of the same underlying array data. That is, they are arrays that refer to\n",
        "the same data in the memory as the original array, but with a different strides\n",
        "configuration. When elements in a view are assigned new values, the values of\n",
        "the original array are therefore also updated. For example,"
      ]
    },
    {
      "cell_type": "code",
      "execution_count": 322,
      "metadata": {
        "id": "GcW0P7S2rMbE"
      },
      "outputs": [],
      "source": [
        "B = A[1:5, 1:5]"
      ]
    },
    {
      "cell_type": "code",
      "execution_count": 323,
      "metadata": {
        "id": "nPf4sgCprMbE",
        "outputId": "64a3e8d5-d930-48b3-a25d-fc6ee18fe125"
      },
      "outputs": [
        {
          "data": {
            "text/plain": [
              "array([[11, 12, 13, 14],\n",
              "       [21, 22, 23, 24],\n",
              "       [31, 32, 33, 34],\n",
              "       [41, 42, 43, 44]])"
            ]
          },
          "execution_count": 323,
          "metadata": {},
          "output_type": "execute_result"
        }
      ],
      "source": [
        "B"
      ]
    },
    {
      "cell_type": "code",
      "execution_count": 324,
      "metadata": {
        "id": "zjcCnlZ5rMbE"
      },
      "outputs": [],
      "source": [
        "B[:, :] = 0"
      ]
    },
    {
      "cell_type": "code",
      "execution_count": 325,
      "metadata": {
        "id": "4V_maDmvrMbE",
        "outputId": "b86649d7-1652-44e2-a62d-b315a64ac603"
      },
      "outputs": [
        {
          "data": {
            "text/plain": [
              "array([[ 0,  1,  2,  3,  4,  5],\n",
              "       [10,  0,  0,  0,  0, 15],\n",
              "       [20,  0,  0,  0,  0, 25],\n",
              "       [30,  0,  0,  0,  0, 35],\n",
              "       [40,  0,  0,  0,  0, 45],\n",
              "       [50, 51, 52, 53, 54, 55]])"
            ]
          },
          "execution_count": 325,
          "metadata": {},
          "output_type": "execute_result"
        }
      ],
      "source": [
        "A"
      ]
    },
    {
      "cell_type": "markdown",
      "metadata": {
        "id": "49YGm5derMbE"
      },
      "source": [
        "Here, assigning new values to the elements in an array B, which is created from\n",
        "the array A, also modifies the values in A (since both arrays refer to the same\n",
        "data in the memory). The fact that extracting subarrays results in views rather\n",
        "than new independent arrays eliminates the need for copying data and improves\n",
        "performance.  When a copy rather than a view is needed, the view can be copied\n",
        "explicitly by using the copy method of the ndarray instance."
      ]
    },
    {
      "cell_type": "code",
      "execution_count": 326,
      "metadata": {
        "id": "sc6HvN92rMbE"
      },
      "outputs": [],
      "source": [
        "C = B[1:3, 1:3].copy()"
      ]
    },
    {
      "cell_type": "code",
      "execution_count": 327,
      "metadata": {
        "id": "MdhAbJWkrMbE",
        "outputId": "576d775d-d9d4-44c3-cc61-e4558261ecc7"
      },
      "outputs": [
        {
          "data": {
            "text/plain": [
              "array([[0, 0],\n",
              "       [0, 0]])"
            ]
          },
          "execution_count": 327,
          "metadata": {},
          "output_type": "execute_result"
        }
      ],
      "source": [
        "C"
      ]
    },
    {
      "cell_type": "code",
      "execution_count": 328,
      "metadata": {
        "id": "d72xXUqTrMbE"
      },
      "outputs": [],
      "source": [
        "C[:, :] = 1  # this does not affect B since C is a copy of the view B[1:3, 1:3]"
      ]
    },
    {
      "cell_type": "code",
      "execution_count": 329,
      "metadata": {
        "id": "sAnPKXJCrMbE",
        "outputId": "ef9acd31-3fac-46cd-a85c-b704e9d800a2"
      },
      "outputs": [
        {
          "data": {
            "text/plain": [
              "array([[1, 1],\n",
              "       [1, 1]])"
            ]
          },
          "execution_count": 329,
          "metadata": {},
          "output_type": "execute_result"
        }
      ],
      "source": [
        "C"
      ]
    },
    {
      "cell_type": "code",
      "execution_count": 330,
      "metadata": {
        "id": "TC0MTwFSrMbE",
        "outputId": "5b19b175-cb47-433f-8451-0b15989e7f27"
      },
      "outputs": [
        {
          "data": {
            "text/plain": [
              "array([[0, 0, 0, 0],\n",
              "       [0, 0, 0, 0],\n",
              "       [0, 0, 0, 0],\n",
              "       [0, 0, 0, 0]])"
            ]
          },
          "execution_count": 330,
          "metadata": {},
          "output_type": "execute_result"
        }
      ],
      "source": [
        "B"
      ]
    },
    {
      "cell_type": "markdown",
      "metadata": {
        "id": "yDiX-wrErMbE"
      },
      "source": [
        "In addition to the copy attribute of the ndarray class, an array can also be\n",
        "copied using the function `np.copy` or, equivalently, using the `np.array`\n",
        "function with the keyword argument copy=True."
      ]
    },
    {
      "cell_type": "markdown",
      "metadata": {
        "id": "VGTj5jGyrMbE"
      },
      "source": [
        "### Fancy indexing and Boolean-valued indexing\n",
        "\n",
        "In the previous section, we looked at indexing NumPy arrays with integers and\n",
        "slices, to extract individual elements or ranges of elements. NumPy provides\n",
        "another convenient method to index arrays, called fancy indexing. With fancy\n",
        "indexing, an array can be indexed with another NumPy array, a Python list, or a\n",
        "sequence of integers, whose values select elements in the indexed array. To\n",
        "clarify this concept, consider the following example: we first create a NumPy\n",
        "array with 11 floating-point numbers, and then index the array with another\n",
        "NumPy array (and Python list), to extract element numbers 0, 2, and 4 from the\n",
        "original array:"
      ]
    },
    {
      "cell_type": "code",
      "execution_count": 331,
      "metadata": {
        "id": "suBQ6NszrMbE"
      },
      "outputs": [],
      "source": [
        "A = np.linspace(0, 1, 11)"
      ]
    },
    {
      "cell_type": "code",
      "execution_count": 332,
      "metadata": {
        "id": "7PeFbTtlrMbE",
        "outputId": "2db1d489-8f52-4df3-e49e-5c9f5c838cb0"
      },
      "outputs": [
        {
          "data": {
            "text/plain": [
              "array([0. , 0.2, 0.4])"
            ]
          },
          "execution_count": 332,
          "metadata": {},
          "output_type": "execute_result"
        }
      ],
      "source": [
        "A[np.array([0, 2, 4])]"
      ]
    },
    {
      "cell_type": "code",
      "execution_count": 333,
      "metadata": {
        "id": "Ah2vFwJurMbF",
        "outputId": "050430bc-1a4c-408d-c921-65ec15709bc7"
      },
      "outputs": [
        {
          "data": {
            "text/plain": [
              "array([0. , 0.2, 0.4])"
            ]
          },
          "execution_count": 333,
          "metadata": {},
          "output_type": "execute_result"
        }
      ],
      "source": [
        "A[[0, 2, 4]]"
      ]
    },
    {
      "cell_type": "markdown",
      "metadata": {
        "id": "lqTXyyOfrMbF"
      },
      "source": [
        "This method of indexing can be used along each axis (dimension) of a\n",
        "multidimensional NumPy array. It requires that the elements in the array or list\n",
        "used for indexing are integers.\n",
        "\n",
        "Another variant of indexing NumPy arrays is to use Boolean-valued index arrays.\n",
        "In this case, each element (with values True or False) indicates whether or not\n",
        "to select the element from the list with the corresponding index. That is, if\n",
        "element n in the indexing array of Boolean values is True, then element n is\n",
        "selected from the indexed array. If the value is False, then element n is not\n",
        "selected. This index method is handy when filtering out elements from an array.\n",
        "For example, to select all the elements from the array A (as defined in the\n",
        "preceding section) that exceed the value 0.5, we can use the following\n",
        "combination of the comparison operator applied to a NumPy array and indexing\n",
        "using a Boolean-valued array:"
      ]
    },
    {
      "cell_type": "code",
      "execution_count": 334,
      "metadata": {
        "id": "TuEa346mrMbF",
        "outputId": "74e8fd99-ac71-4ba7-a856-490762a77c44"
      },
      "outputs": [
        {
          "data": {
            "text/plain": [
              "array([False, False, False, False, False, False,  True,  True,  True,\n",
              "        True,  True])"
            ]
          },
          "execution_count": 334,
          "metadata": {},
          "output_type": "execute_result"
        }
      ],
      "source": [
        "A > 0.5"
      ]
    },
    {
      "cell_type": "code",
      "execution_count": 335,
      "metadata": {
        "id": "xTfqWSX_rMbF",
        "outputId": "c9cacb22-65e8-4e89-cc92-5ce71f50207e"
      },
      "outputs": [
        {
          "data": {
            "text/plain": [
              "array([0.6, 0.7, 0.8, 0.9, 1. ])"
            ]
          },
          "execution_count": 335,
          "metadata": {},
          "output_type": "execute_result"
        }
      ],
      "source": [
        "A[A > 0.5]"
      ]
    },
    {
      "cell_type": "markdown",
      "metadata": {
        "id": "RoxNR9AvrMbF"
      },
      "source": [
        "Unlike arrays created by using slices, the arrays returned using fancy indexing\n",
        "and Boolean-valued indexing are not views but rather new independent arrays.\n",
        "Nonetheless, it is possible to assign values to elements selected using fancy\n",
        "indexing:"
      ]
    },
    {
      "cell_type": "code",
      "execution_count": 336,
      "metadata": {
        "id": "aGB0KfmUrMbF"
      },
      "outputs": [],
      "source": [
        "A = np.arange(10)"
      ]
    },
    {
      "cell_type": "code",
      "execution_count": 337,
      "metadata": {
        "id": "ueTBb9elrMbF",
        "outputId": "8bb91cb5-aa54-4f8c-d66a-c670629b19ca"
      },
      "outputs": [
        {
          "data": {
            "text/plain": [
              "array([0, 1, 2, 3, 4, 5, 6, 7, 8, 9])"
            ]
          },
          "execution_count": 337,
          "metadata": {},
          "output_type": "execute_result"
        }
      ],
      "source": [
        "A"
      ]
    },
    {
      "cell_type": "code",
      "execution_count": 338,
      "metadata": {
        "id": "e3nlCZporMbF"
      },
      "outputs": [],
      "source": [
        "indices = [2, 4, 6]"
      ]
    },
    {
      "cell_type": "code",
      "execution_count": 339,
      "metadata": {
        "id": "MyPAdAYsrMbF"
      },
      "outputs": [],
      "source": [
        "B = A[indices]"
      ]
    },
    {
      "cell_type": "code",
      "execution_count": 340,
      "metadata": {
        "id": "7tOsOozyrMbF"
      },
      "outputs": [],
      "source": [
        "B[0] = -1  # this does not affect A"
      ]
    },
    {
      "cell_type": "code",
      "execution_count": 341,
      "metadata": {
        "id": "6iUxRO01rMbF",
        "outputId": "71734e46-c779-4bac-ee32-c1dffd8dcb11"
      },
      "outputs": [
        {
          "data": {
            "text/plain": [
              "array([0, 1, 2, 3, 4, 5, 6, 7, 8, 9])"
            ]
          },
          "execution_count": 341,
          "metadata": {},
          "output_type": "execute_result"
        }
      ],
      "source": [
        "A"
      ]
    },
    {
      "cell_type": "code",
      "execution_count": 342,
      "metadata": {
        "id": "AcexpSyjrMbF"
      },
      "outputs": [],
      "source": [
        "A[indices] = -1"
      ]
    },
    {
      "cell_type": "code",
      "execution_count": 343,
      "metadata": {
        "id": "odyye5m9rMbF",
        "outputId": "c30b2c09-70b1-451d-f175-ea68257e72e2"
      },
      "outputs": [
        {
          "data": {
            "text/plain": [
              "array([ 0,  1, -1,  3, -1,  5, -1,  7,  8,  9])"
            ]
          },
          "execution_count": 343,
          "metadata": {},
          "output_type": "execute_result"
        }
      ],
      "source": [
        "A"
      ]
    },
    {
      "cell_type": "markdown",
      "metadata": {
        "id": "2BKBEEJarMbF"
      },
      "source": [
        "and likewise for Boolean-valued indexing:"
      ]
    },
    {
      "cell_type": "code",
      "execution_count": 344,
      "metadata": {
        "id": "7zk6BgxnrMbF"
      },
      "outputs": [],
      "source": [
        "A = np.arange(10)"
      ]
    },
    {
      "cell_type": "code",
      "execution_count": 345,
      "metadata": {
        "id": "frXzKsY8rMbG"
      },
      "outputs": [],
      "source": [
        "B = A[A > 5]"
      ]
    },
    {
      "cell_type": "code",
      "execution_count": 346,
      "metadata": {
        "id": "W9Huhw7rrMbG"
      },
      "outputs": [],
      "source": [
        "B[0] = -1  # this does not affect A"
      ]
    },
    {
      "cell_type": "code",
      "execution_count": 347,
      "metadata": {
        "id": "ZAx5xWdQrMbG",
        "outputId": "bbf5b235-44ab-4e21-90a7-4376f7874eef"
      },
      "outputs": [
        {
          "data": {
            "text/plain": [
              "array([0, 1, 2, 3, 4, 5, 6, 7, 8, 9])"
            ]
          },
          "execution_count": 347,
          "metadata": {},
          "output_type": "execute_result"
        }
      ],
      "source": [
        "A"
      ]
    },
    {
      "cell_type": "code",
      "execution_count": 348,
      "metadata": {
        "id": "rFU3b8sqrMbG"
      },
      "outputs": [],
      "source": [
        "A[A > 5] = -1"
      ]
    },
    {
      "cell_type": "code",
      "execution_count": 349,
      "metadata": {
        "id": "_Bnp3QWqrMbG",
        "outputId": "2a8f4002-dd58-4ab8-8b51-88d6b00ccfc6"
      },
      "outputs": [
        {
          "data": {
            "text/plain": [
              "array([ 0,  1,  2,  3,  4,  5, -1, -1, -1, -1])"
            ]
          },
          "execution_count": 349,
          "metadata": {},
          "output_type": "execute_result"
        }
      ],
      "source": [
        "A"
      ]
    },
    {
      "cell_type": "markdown",
      "metadata": {
        "id": "k0pE7vkCrMbG"
      },
      "source": [
        "A visual summary of different methods to index NumPy arrays is given in Figure\n",
        "2-1.  Note that each type of indexing we have discussed here can be\n",
        "independently applied to each dimension of an array."
      ]
    },
    {
      "cell_type": "code",
      "execution_count": 350,
      "metadata": {
        "id": "uAwfDGZGrMbG"
      },
      "outputs": [],
      "source": [
        "%matplotlib inline\n",
        "\n",
        "%config InlineBackend.figure_format='retina'\n",
        "\n",
        "import matplotlib as mpl\n",
        "import matplotlib.pyplot as plt\n",
        "\n",
        "import numpy as np"
      ]
    },
    {
      "cell_type": "code",
      "execution_count": 351,
      "metadata": {
        "id": "y9hcPKHQrMbG"
      },
      "outputs": [],
      "source": [
        "def show_array(shape, sel, filename=None):\n",
        "    \"\"\"Visualize indexing of arrays\"\"\"\n",
        "\n",
        "    data = np.zeros(shape)\n",
        "    exec(\"data[%s] = 1\" % sel)\n",
        "\n",
        "    fig, ax = plt.subplots(1, 1, figsize=shape)\n",
        "\n",
        "    ax.patch.set_facecolor('black')\n",
        "    ax.set_aspect('equal', 'box')\n",
        "    ax.xaxis.set_major_locator(plt.NullLocator())\n",
        "    ax.yaxis.set_major_locator(plt.NullLocator())\n",
        "\n",
        "    size = 0.97\n",
        "    for (m, n), w in np.ndenumerate(data):\n",
        "        color = '#1199ff' if w > 0 else '#eeeeee'\n",
        "        rect = plt.Rectangle([n - size / 2, m - size / 2],\n",
        "                             size, size,\n",
        "                             facecolor=color,\n",
        "                             edgecolor=color)\n",
        "        ax.add_patch(rect)\n",
        "        ax.text(m, n, \"(%d, %d)\" % (n, m), ha='center', va='center', fontsize=12)\n",
        "\n",
        "    ax.autoscale_view()\n",
        "    ax.invert_yaxis()\n",
        "\n",
        "    if sel == \":, :\":\n",
        "        ax.set_title(\"data\\n\", fontsize=12)\n",
        "    else:\n",
        "        ax.set_title(\"data[%s]\\n\" % sel, fontsize=12)\n",
        "\n",
        "    #fig.tight_layout()\n",
        "\n",
        "    if filename:\n",
        "        fig.savefig(filename + \".png\", dpi=200)\n",
        "        fig.savefig(filename + \".svg\")\n",
        "        fig.savefig(filename + \".pdf\")\n"
      ]
    },
    {
      "cell_type": "code",
      "execution_count": 352,
      "metadata": {
        "id": "h-AdyUxbrMbG",
        "outputId": "9e3d5e04-61f9-412c-baab-d33b7f4c51e4"
      },
      "outputs": [
        {
          "ename": "FileNotFoundError",
          "evalue": "[Errno 2] No such file or directory: '/workspaces/AINavalEngineering/images/array_indexing_1.png'",
          "output_type": "error",
          "traceback": [
            "\u001b[0;31m---------------------------------------------------------------------------\u001b[0m",
            "\u001b[0;31mFileNotFoundError\u001b[0m                         Traceback (most recent call last)",
            "Cell \u001b[0;32mIn[352], line 1\u001b[0m\n\u001b[0;32m----> 1\u001b[0m \u001b[43mshow_array\u001b[49m\u001b[43m(\u001b[49m\u001b[43m(\u001b[49m\u001b[38;5;241;43m4\u001b[39;49m\u001b[43m,\u001b[49m\u001b[43m \u001b[49m\u001b[38;5;241;43m4\u001b[39;49m\u001b[43m)\u001b[49m\u001b[43m,\u001b[49m\u001b[43m \u001b[49m\u001b[38;5;124;43m\"\u001b[39;49m\u001b[38;5;124;43m:, :\u001b[39;49m\u001b[38;5;124;43m\"\u001b[39;49m\u001b[43m,\u001b[49m\u001b[43m \u001b[49m\u001b[38;5;124;43m\"\u001b[39;49m\u001b[38;5;124;43mimages/array_indexing_1\u001b[39;49m\u001b[38;5;124;43m\"\u001b[39;49m\u001b[43m)\u001b[49m\n",
            "Cell \u001b[0;32mIn[351], line 35\u001b[0m, in \u001b[0;36mshow_array\u001b[0;34m(shape, sel, filename)\u001b[0m\n\u001b[1;32m     32\u001b[0m \u001b[38;5;66;03m#fig.tight_layout()\u001b[39;00m\n\u001b[1;32m     34\u001b[0m \u001b[38;5;28;01mif\u001b[39;00m filename:\n\u001b[0;32m---> 35\u001b[0m     \u001b[43mfig\u001b[49m\u001b[38;5;241;43m.\u001b[39;49m\u001b[43msavefig\u001b[49m\u001b[43m(\u001b[49m\u001b[43mfilename\u001b[49m\u001b[43m \u001b[49m\u001b[38;5;241;43m+\u001b[39;49m\u001b[43m \u001b[49m\u001b[38;5;124;43m\"\u001b[39;49m\u001b[38;5;124;43m.png\u001b[39;49m\u001b[38;5;124;43m\"\u001b[39;49m\u001b[43m,\u001b[49m\u001b[43m \u001b[49m\u001b[43mdpi\u001b[49m\u001b[38;5;241;43m=\u001b[39;49m\u001b[38;5;241;43m200\u001b[39;49m\u001b[43m)\u001b[49m\n\u001b[1;32m     36\u001b[0m     fig\u001b[38;5;241m.\u001b[39msavefig(filename \u001b[38;5;241m+\u001b[39m \u001b[38;5;124m\"\u001b[39m\u001b[38;5;124m.svg\u001b[39m\u001b[38;5;124m\"\u001b[39m)\n\u001b[1;32m     37\u001b[0m     fig\u001b[38;5;241m.\u001b[39msavefig(filename \u001b[38;5;241m+\u001b[39m \u001b[38;5;124m\"\u001b[39m\u001b[38;5;124m.pdf\u001b[39m\u001b[38;5;124m\"\u001b[39m)\n",
            "File \u001b[0;32m~/.local/lib/python3.12/site-packages/matplotlib/figure.py:3395\u001b[0m, in \u001b[0;36mFigure.savefig\u001b[0;34m(self, fname, transparent, **kwargs)\u001b[0m\n\u001b[1;32m   3393\u001b[0m     \u001b[38;5;28;01mfor\u001b[39;00m ax \u001b[38;5;129;01min\u001b[39;00m \u001b[38;5;28mself\u001b[39m\u001b[38;5;241m.\u001b[39maxes:\n\u001b[1;32m   3394\u001b[0m         _recursively_make_axes_transparent(stack, ax)\n\u001b[0;32m-> 3395\u001b[0m \u001b[38;5;28;43mself\u001b[39;49m\u001b[38;5;241;43m.\u001b[39;49m\u001b[43mcanvas\u001b[49m\u001b[38;5;241;43m.\u001b[39;49m\u001b[43mprint_figure\u001b[49m\u001b[43m(\u001b[49m\u001b[43mfname\u001b[49m\u001b[43m,\u001b[49m\u001b[43m \u001b[49m\u001b[38;5;241;43m*\u001b[39;49m\u001b[38;5;241;43m*\u001b[39;49m\u001b[43mkwargs\u001b[49m\u001b[43m)\u001b[49m\n",
            "File \u001b[0;32m~/.local/lib/python3.12/site-packages/matplotlib/backend_bases.py:2204\u001b[0m, in \u001b[0;36mFigureCanvasBase.print_figure\u001b[0;34m(self, filename, dpi, facecolor, edgecolor, orientation, format, bbox_inches, pad_inches, bbox_extra_artists, backend, **kwargs)\u001b[0m\n\u001b[1;32m   2200\u001b[0m \u001b[38;5;28;01mtry\u001b[39;00m:\n\u001b[1;32m   2201\u001b[0m     \u001b[38;5;66;03m# _get_renderer may change the figure dpi (as vector formats\u001b[39;00m\n\u001b[1;32m   2202\u001b[0m     \u001b[38;5;66;03m# force the figure dpi to 72), so we need to set it again here.\u001b[39;00m\n\u001b[1;32m   2203\u001b[0m     \u001b[38;5;28;01mwith\u001b[39;00m cbook\u001b[38;5;241m.\u001b[39m_setattr_cm(\u001b[38;5;28mself\u001b[39m\u001b[38;5;241m.\u001b[39mfigure, dpi\u001b[38;5;241m=\u001b[39mdpi):\n\u001b[0;32m-> 2204\u001b[0m         result \u001b[38;5;241m=\u001b[39m \u001b[43mprint_method\u001b[49m\u001b[43m(\u001b[49m\n\u001b[1;32m   2205\u001b[0m \u001b[43m            \u001b[49m\u001b[43mfilename\u001b[49m\u001b[43m,\u001b[49m\n\u001b[1;32m   2206\u001b[0m \u001b[43m            \u001b[49m\u001b[43mfacecolor\u001b[49m\u001b[38;5;241;43m=\u001b[39;49m\u001b[43mfacecolor\u001b[49m\u001b[43m,\u001b[49m\n\u001b[1;32m   2207\u001b[0m \u001b[43m            \u001b[49m\u001b[43medgecolor\u001b[49m\u001b[38;5;241;43m=\u001b[39;49m\u001b[43medgecolor\u001b[49m\u001b[43m,\u001b[49m\n\u001b[1;32m   2208\u001b[0m \u001b[43m            \u001b[49m\u001b[43morientation\u001b[49m\u001b[38;5;241;43m=\u001b[39;49m\u001b[43morientation\u001b[49m\u001b[43m,\u001b[49m\n\u001b[1;32m   2209\u001b[0m \u001b[43m            \u001b[49m\u001b[43mbbox_inches_restore\u001b[49m\u001b[38;5;241;43m=\u001b[39;49m\u001b[43m_bbox_inches_restore\u001b[49m\u001b[43m,\u001b[49m\n\u001b[1;32m   2210\u001b[0m \u001b[43m            \u001b[49m\u001b[38;5;241;43m*\u001b[39;49m\u001b[38;5;241;43m*\u001b[39;49m\u001b[43mkwargs\u001b[49m\u001b[43m)\u001b[49m\n\u001b[1;32m   2211\u001b[0m \u001b[38;5;28;01mfinally\u001b[39;00m:\n\u001b[1;32m   2212\u001b[0m     \u001b[38;5;28;01mif\u001b[39;00m bbox_inches \u001b[38;5;129;01mand\u001b[39;00m restore_bbox:\n",
            "File \u001b[0;32m~/.local/lib/python3.12/site-packages/matplotlib/backend_bases.py:2054\u001b[0m, in \u001b[0;36mFigureCanvasBase._switch_canvas_and_return_print_method.<locals>.<lambda>\u001b[0;34m(*args, **kwargs)\u001b[0m\n\u001b[1;32m   2050\u001b[0m     optional_kws \u001b[38;5;241m=\u001b[39m {  \u001b[38;5;66;03m# Passed by print_figure for other renderers.\u001b[39;00m\n\u001b[1;32m   2051\u001b[0m         \u001b[38;5;124m\"\u001b[39m\u001b[38;5;124mdpi\u001b[39m\u001b[38;5;124m\"\u001b[39m, \u001b[38;5;124m\"\u001b[39m\u001b[38;5;124mfacecolor\u001b[39m\u001b[38;5;124m\"\u001b[39m, \u001b[38;5;124m\"\u001b[39m\u001b[38;5;124medgecolor\u001b[39m\u001b[38;5;124m\"\u001b[39m, \u001b[38;5;124m\"\u001b[39m\u001b[38;5;124morientation\u001b[39m\u001b[38;5;124m\"\u001b[39m,\n\u001b[1;32m   2052\u001b[0m         \u001b[38;5;124m\"\u001b[39m\u001b[38;5;124mbbox_inches_restore\u001b[39m\u001b[38;5;124m\"\u001b[39m}\n\u001b[1;32m   2053\u001b[0m     skip \u001b[38;5;241m=\u001b[39m optional_kws \u001b[38;5;241m-\u001b[39m {\u001b[38;5;241m*\u001b[39minspect\u001b[38;5;241m.\u001b[39msignature(meth)\u001b[38;5;241m.\u001b[39mparameters}\n\u001b[0;32m-> 2054\u001b[0m     print_method \u001b[38;5;241m=\u001b[39m functools\u001b[38;5;241m.\u001b[39mwraps(meth)(\u001b[38;5;28;01mlambda\u001b[39;00m \u001b[38;5;241m*\u001b[39margs, \u001b[38;5;241m*\u001b[39m\u001b[38;5;241m*\u001b[39mkwargs: \u001b[43mmeth\u001b[49m\u001b[43m(\u001b[49m\n\u001b[1;32m   2055\u001b[0m \u001b[43m        \u001b[49m\u001b[38;5;241;43m*\u001b[39;49m\u001b[43margs\u001b[49m\u001b[43m,\u001b[49m\u001b[43m \u001b[49m\u001b[38;5;241;43m*\u001b[39;49m\u001b[38;5;241;43m*\u001b[39;49m\u001b[43m{\u001b[49m\u001b[43mk\u001b[49m\u001b[43m:\u001b[49m\u001b[43m \u001b[49m\u001b[43mv\u001b[49m\u001b[43m \u001b[49m\u001b[38;5;28;43;01mfor\u001b[39;49;00m\u001b[43m \u001b[49m\u001b[43mk\u001b[49m\u001b[43m,\u001b[49m\u001b[43m \u001b[49m\u001b[43mv\u001b[49m\u001b[43m \u001b[49m\u001b[38;5;129;43;01min\u001b[39;49;00m\u001b[43m \u001b[49m\u001b[43mkwargs\u001b[49m\u001b[38;5;241;43m.\u001b[39;49m\u001b[43mitems\u001b[49m\u001b[43m(\u001b[49m\u001b[43m)\u001b[49m\u001b[43m \u001b[49m\u001b[38;5;28;43;01mif\u001b[39;49;00m\u001b[43m \u001b[49m\u001b[43mk\u001b[49m\u001b[43m \u001b[49m\u001b[38;5;129;43;01mnot\u001b[39;49;00m\u001b[43m \u001b[49m\u001b[38;5;129;43;01min\u001b[39;49;00m\u001b[43m \u001b[49m\u001b[43mskip\u001b[49m\u001b[43m}\u001b[49m\u001b[43m)\u001b[49m)\n\u001b[1;32m   2056\u001b[0m \u001b[38;5;28;01melse\u001b[39;00m:  \u001b[38;5;66;03m# Let third-parties do as they see fit.\u001b[39;00m\n\u001b[1;32m   2057\u001b[0m     print_method \u001b[38;5;241m=\u001b[39m meth\n",
            "File \u001b[0;32m~/.local/lib/python3.12/site-packages/matplotlib/backends/backend_agg.py:496\u001b[0m, in \u001b[0;36mFigureCanvasAgg.print_png\u001b[0;34m(self, filename_or_obj, metadata, pil_kwargs)\u001b[0m\n\u001b[1;32m    449\u001b[0m \u001b[38;5;28;01mdef\u001b[39;00m \u001b[38;5;21mprint_png\u001b[39m(\u001b[38;5;28mself\u001b[39m, filename_or_obj, \u001b[38;5;241m*\u001b[39m, metadata\u001b[38;5;241m=\u001b[39m\u001b[38;5;28;01mNone\u001b[39;00m, pil_kwargs\u001b[38;5;241m=\u001b[39m\u001b[38;5;28;01mNone\u001b[39;00m):\n\u001b[1;32m    450\u001b[0m \u001b[38;5;250m    \u001b[39m\u001b[38;5;124;03m\"\"\"\u001b[39;00m\n\u001b[1;32m    451\u001b[0m \u001b[38;5;124;03m    Write the figure to a PNG file.\u001b[39;00m\n\u001b[1;32m    452\u001b[0m \n\u001b[0;32m   (...)\u001b[0m\n\u001b[1;32m    494\u001b[0m \u001b[38;5;124;03m        *metadata*, including the default 'Software' key.\u001b[39;00m\n\u001b[1;32m    495\u001b[0m \u001b[38;5;124;03m    \"\"\"\u001b[39;00m\n\u001b[0;32m--> 496\u001b[0m     \u001b[38;5;28;43mself\u001b[39;49m\u001b[38;5;241;43m.\u001b[39;49m\u001b[43m_print_pil\u001b[49m\u001b[43m(\u001b[49m\u001b[43mfilename_or_obj\u001b[49m\u001b[43m,\u001b[49m\u001b[43m \u001b[49m\u001b[38;5;124;43m\"\u001b[39;49m\u001b[38;5;124;43mpng\u001b[39;49m\u001b[38;5;124;43m\"\u001b[39;49m\u001b[43m,\u001b[49m\u001b[43m \u001b[49m\u001b[43mpil_kwargs\u001b[49m\u001b[43m,\u001b[49m\u001b[43m \u001b[49m\u001b[43mmetadata\u001b[49m\u001b[43m)\u001b[49m\n",
            "File \u001b[0;32m~/.local/lib/python3.12/site-packages/matplotlib/backends/backend_agg.py:445\u001b[0m, in \u001b[0;36mFigureCanvasAgg._print_pil\u001b[0;34m(self, filename_or_obj, fmt, pil_kwargs, metadata)\u001b[0m\n\u001b[1;32m    440\u001b[0m \u001b[38;5;250m\u001b[39m\u001b[38;5;124;03m\"\"\"\u001b[39;00m\n\u001b[1;32m    441\u001b[0m \u001b[38;5;124;03mDraw the canvas, then save it using `.image.imsave` (to which\u001b[39;00m\n\u001b[1;32m    442\u001b[0m \u001b[38;5;124;03m*pil_kwargs* and *metadata* are forwarded).\u001b[39;00m\n\u001b[1;32m    443\u001b[0m \u001b[38;5;124;03m\"\"\"\u001b[39;00m\n\u001b[1;32m    444\u001b[0m FigureCanvasAgg\u001b[38;5;241m.\u001b[39mdraw(\u001b[38;5;28mself\u001b[39m)\n\u001b[0;32m--> 445\u001b[0m \u001b[43mmpl\u001b[49m\u001b[38;5;241;43m.\u001b[39;49m\u001b[43mimage\u001b[49m\u001b[38;5;241;43m.\u001b[39;49m\u001b[43mimsave\u001b[49m\u001b[43m(\u001b[49m\n\u001b[1;32m    446\u001b[0m \u001b[43m    \u001b[49m\u001b[43mfilename_or_obj\u001b[49m\u001b[43m,\u001b[49m\u001b[43m \u001b[49m\u001b[38;5;28;43mself\u001b[39;49m\u001b[38;5;241;43m.\u001b[39;49m\u001b[43mbuffer_rgba\u001b[49m\u001b[43m(\u001b[49m\u001b[43m)\u001b[49m\u001b[43m,\u001b[49m\u001b[43m \u001b[49m\u001b[38;5;28;43mformat\u001b[39;49m\u001b[38;5;241;43m=\u001b[39;49m\u001b[43mfmt\u001b[49m\u001b[43m,\u001b[49m\u001b[43m \u001b[49m\u001b[43morigin\u001b[49m\u001b[38;5;241;43m=\u001b[39;49m\u001b[38;5;124;43m\"\u001b[39;49m\u001b[38;5;124;43mupper\u001b[39;49m\u001b[38;5;124;43m\"\u001b[39;49m\u001b[43m,\u001b[49m\n\u001b[1;32m    447\u001b[0m \u001b[43m    \u001b[49m\u001b[43mdpi\u001b[49m\u001b[38;5;241;43m=\u001b[39;49m\u001b[38;5;28;43mself\u001b[39;49m\u001b[38;5;241;43m.\u001b[39;49m\u001b[43mfigure\u001b[49m\u001b[38;5;241;43m.\u001b[39;49m\u001b[43mdpi\u001b[49m\u001b[43m,\u001b[49m\u001b[43m \u001b[49m\u001b[43mmetadata\u001b[49m\u001b[38;5;241;43m=\u001b[39;49m\u001b[43mmetadata\u001b[49m\u001b[43m,\u001b[49m\u001b[43m \u001b[49m\u001b[43mpil_kwargs\u001b[49m\u001b[38;5;241;43m=\u001b[39;49m\u001b[43mpil_kwargs\u001b[49m\u001b[43m)\u001b[49m\n",
            "File \u001b[0;32m~/.local/lib/python3.12/site-packages/matplotlib/image.py:1676\u001b[0m, in \u001b[0;36mimsave\u001b[0;34m(fname, arr, vmin, vmax, cmap, format, origin, dpi, metadata, pil_kwargs)\u001b[0m\n\u001b[1;32m   1674\u001b[0m pil_kwargs\u001b[38;5;241m.\u001b[39msetdefault(\u001b[38;5;124m\"\u001b[39m\u001b[38;5;124mformat\u001b[39m\u001b[38;5;124m\"\u001b[39m, \u001b[38;5;28mformat\u001b[39m)\n\u001b[1;32m   1675\u001b[0m pil_kwargs\u001b[38;5;241m.\u001b[39msetdefault(\u001b[38;5;124m\"\u001b[39m\u001b[38;5;124mdpi\u001b[39m\u001b[38;5;124m\"\u001b[39m, (dpi, dpi))\n\u001b[0;32m-> 1676\u001b[0m \u001b[43mimage\u001b[49m\u001b[38;5;241;43m.\u001b[39;49m\u001b[43msave\u001b[49m\u001b[43m(\u001b[49m\u001b[43mfname\u001b[49m\u001b[43m,\u001b[49m\u001b[43m \u001b[49m\u001b[38;5;241;43m*\u001b[39;49m\u001b[38;5;241;43m*\u001b[39;49m\u001b[43mpil_kwargs\u001b[49m\u001b[43m)\u001b[49m\n",
            "File \u001b[0;32m~/.local/lib/python3.12/site-packages/PIL/Image.py:2600\u001b[0m, in \u001b[0;36mImage.save\u001b[0;34m(self, fp, format, **params)\u001b[0m\n\u001b[1;32m   2598\u001b[0m         fp \u001b[38;5;241m=\u001b[39m builtins\u001b[38;5;241m.\u001b[39mopen(filename, \u001b[38;5;124m\"\u001b[39m\u001b[38;5;124mr+b\u001b[39m\u001b[38;5;124m\"\u001b[39m)\n\u001b[1;32m   2599\u001b[0m     \u001b[38;5;28;01melse\u001b[39;00m:\n\u001b[0;32m-> 2600\u001b[0m         fp \u001b[38;5;241m=\u001b[39m \u001b[43mbuiltins\u001b[49m\u001b[38;5;241;43m.\u001b[39;49m\u001b[43mopen\u001b[49m\u001b[43m(\u001b[49m\u001b[43mfilename\u001b[49m\u001b[43m,\u001b[49m\u001b[43m \u001b[49m\u001b[38;5;124;43m\"\u001b[39;49m\u001b[38;5;124;43mw+b\u001b[39;49m\u001b[38;5;124;43m\"\u001b[39;49m\u001b[43m)\u001b[49m\n\u001b[1;32m   2601\u001b[0m \u001b[38;5;28;01melse\u001b[39;00m:\n\u001b[1;32m   2602\u001b[0m     fp \u001b[38;5;241m=\u001b[39m cast(IO[\u001b[38;5;28mbytes\u001b[39m], fp)\n",
            "\u001b[0;31mFileNotFoundError\u001b[0m: [Errno 2] No such file or directory: '/workspaces/AINavalEngineering/images/array_indexing_1.png'"
          ]
        },
        {
          "data": {
            "image/png": "[encoded data removed]",
            "text/plain": [
              "<Figure size 400x400 with 1 Axes>"
            ]
          },
          "metadata": {
            "image/png": {
              "height": 368,
              "width": 328
            }
          },
          "output_type": "display_data"
        }
      ],
      "source": [
        "show_array((4, 4), \":, :\", \"images/array_indexing_1\")"
      ]
    },
    {
      "cell_type": "code",
      "execution_count": null,
      "metadata": {
        "id": "AtCOqpcHrMbG",
        "outputId": "1be289e7-c95a-4361-db6f-347b45dad660"
      },
      "outputs": [
        {
          "data": {
            "image/png": "[encoded data removed]",
            "text/plain": [
              "<Figure size 400x400 with 1 Axes>"
            ]
          },
          "metadata": {
            "image/png": {
              "height": 373,
              "width": 332
            }
          },
          "output_type": "display_data"
        }
      ],
      "source": [
        "show_array((4, 4), \"0\", \"images/array_indexing_2\")"
      ]
    },
    {
      "cell_type": "code",
      "execution_count": null,
      "metadata": {
        "id": "vVHSAO6yrMbG",
        "outputId": "261cefcf-509d-47e3-8e71-43c2171a23e3"
      },
      "outputs": [
        {
          "data": {
            "image/png": "[encoded data removed]",
            "text/plain": [
              "<Figure size 400x400 with 1 Axes>"
            ]
          },
          "metadata": {
            "image/png": {
              "height": 373,
              "width": 332
            }
          },
          "output_type": "display_data"
        }
      ],
      "source": [
        "show_array((4, 4), \"1, :\", \"images/array_indexing_3\")"
      ]
    },
    {
      "cell_type": "code",
      "execution_count": null,
      "metadata": {
        "id": "p62lcIJ9rMbG",
        "outputId": "43412ad4-3704-4e53-f90e-412c2c6eda9e"
      },
      "outputs": [
        {
          "data": {
            "image/png": "[encoded data removed]",
            "text/plain": [
              "<Figure size 400x400 with 1 Axes>"
            ]
          },
          "metadata": {
            "image/png": {
              "height": 373,
              "width": 332
            }
          },
          "output_type": "display_data"
        }
      ],
      "source": [
        "show_array((4, 4), \":, 2\", \"images/array_indexing_4\")"
      ]
    },
    {
      "cell_type": "code",
      "execution_count": null,
      "metadata": {
        "id": "CxaQIeF6rMbG",
        "outputId": "bf419dbd-9455-4a26-cb24-078acd7fa04b"
      },
      "outputs": [
        {
          "data": {
            "image/png": "[encoded data removed]",
            "text/plain": [
              "<Figure size 400x400 with 1 Axes>"
            ]
          },
          "metadata": {
            "image/png": {
              "height": 373,
              "width": 332
            }
          },
          "output_type": "display_data"
        }
      ],
      "source": [
        "show_array((4, 4), \"0:2, 0:2\", \"images/array_indexing_5\")"
      ]
    },
    {
      "cell_type": "code",
      "execution_count": null,
      "metadata": {
        "id": "C_zoc5A-rMbH",
        "outputId": "27f5e449-ff27-4943-d8ca-b5620cc2eb86"
      },
      "outputs": [
        {
          "data": {
            "image/png": "[encoded data removed]",
            "text/plain": [
              "<Figure size 400x400 with 1 Axes>"
            ]
          },
          "metadata": {
            "image/png": {
              "height": 373,
              "width": 332
            }
          },
          "output_type": "display_data"
        }
      ],
      "source": [
        "show_array((4, 4), \"0:2, 2:4\", \"images/array_indexing_6\")"
      ]
    },
    {
      "cell_type": "code",
      "execution_count": null,
      "metadata": {
        "id": "K9RP28zkrMbH",
        "outputId": "c1ac5ca5-f995-4b52-8ee7-c2859c161c5f"
      },
      "outputs": [
        {
          "data": {
            "image/png": "[encoded data removed]",
            "text/plain": [
              "<Figure size 400x400 with 1 Axes>"
            ]
          },
          "metadata": {
            "image/png": {
              "height": 373,
              "width": 332
            }
          },
          "output_type": "display_data"
        }
      ],
      "source": [
        "show_array((4, 4), \"::2, ::2\", \"images/array_indexing_7\")"
      ]
    },
    {
      "cell_type": "code",
      "execution_count": null,
      "metadata": {
        "id": "vfgT1TaJrMbH",
        "outputId": "1a941191-9a05-4370-edd9-82e5b8a4d43e"
      },
      "outputs": [
        {
          "data": {
            "image/png": "[encoded data removed]",
            "text/plain": [
              "<Figure size 400x400 with 1 Axes>"
            ]
          },
          "metadata": {
            "image/png": {
              "height": 373,
              "width": 332
            }
          },
          "output_type": "display_data"
        }
      ],
      "source": [
        "show_array((4, 4), \"1::2, 1::2\", \"images/array_indexing_8\")"
      ]
    },
    {
      "cell_type": "code",
      "execution_count": null,
      "metadata": {
        "id": "akndbv9rrMbH",
        "outputId": "79a41705-0f41-41a9-8d65-9557795952f4"
      },
      "outputs": [
        {
          "data": {
            "image/png": "[encoded data removed]",
            "text/plain": [
              "<Figure size 400x400 with 1 Axes>"
            ]
          },
          "metadata": {
            "image/png": {
              "height": 373,
              "width": 332
            }
          },
          "output_type": "display_data"
        }
      ],
      "source": [
        "show_array((4, 4), \":,[0,3]\", \"images/array_indexing_9\")"
      ]
    },
    {
      "cell_type": "code",
      "execution_count": null,
      "metadata": {
        "id": "pMo-NabUrMbH",
        "outputId": "c7053985-26a3-4a62-9a26-d3d0774b4e10"
      },
      "outputs": [
        {
          "data": {
            "image/png": "[encoded data removed]",
            "text/plain": [
              "<Figure size 400x400 with 1 Axes>"
            ]
          },
          "metadata": {
            "image/png": {
              "height": 373,
              "width": 332
            }
          },
          "output_type": "display_data"
        }
      ],
      "source": [
        "show_array((4, 4), \"[1,3],[0,3]\", \"images/array_indexing_10\")"
      ]
    },
    {
      "cell_type": "code",
      "execution_count": null,
      "metadata": {
        "id": "NL1Ca4X7rMbH",
        "outputId": "5638e294-55df-4d01-d281-205194d9bd81"
      },
      "outputs": [
        {
          "data": {
            "image/png": "[encoded data removed]",
            "text/plain": [
              "<Figure size 400x400 with 1 Axes>"
            ]
          },
          "metadata": {
            "image/png": {
              "height": 373,
              "width": 364
            }
          },
          "output_type": "display_data"
        }
      ],
      "source": [
        "show_array((4, 4), \":,np.array([False, True, True, False])\", \"images/array_indexing_11\")"
      ]
    },
    {
      "cell_type": "code",
      "execution_count": null,
      "metadata": {
        "id": "mbvjKUBLrMbH",
        "outputId": "1b59948d-aed5-44a8-b0f0-83f5ccdfb688"
      },
      "outputs": [
        {
          "data": {
            "image/png": "[encoded data removed]",
            "text/plain": [
              "<Figure size 400x400 with 1 Axes>"
            ]
          },
          "metadata": {
            "image/png": {
              "height": 373,
              "width": 364
            }
          },
          "output_type": "display_data"
        }
      ],
      "source": [
        "show_array((4, 4), \":,np.array([False, True, True, False])\", \"images/array_indexing_12\")"
      ]
    },
    {
      "cell_type": "code",
      "execution_count": null,
      "metadata": {
        "id": "fwPgHhl6rMbH",
        "outputId": "6f187abd-31e6-458d-e1e3-39fc567884e6"
      },
      "outputs": [
        {
          "data": {
            "image/png": "[encoded data removed]",
            "text/plain": [
              "<Figure size 400x400 with 1 Axes>"
            ]
          },
          "metadata": {
            "image/png": {
              "height": 373,
              "width": 385
            }
          },
          "output_type": "display_data"
        }
      ],
      "source": [
        "show_array((4, 4), \"1:3,np.array([False, True, True, False])\", \"images/array_indexing_12\")"
      ]
    },
    {
      "cell_type": "markdown",
      "metadata": {
        "id": "T6-pacMJrMbH"
      },
      "source": [
        "_**Figure 2-1**_. Visual summary of indexing methods for NumPy arrays. These\n",
        "diagrams represent NumPy arrays of shape (4, 4), and the highlighted elements\n",
        "are those that are selected using the indexing expression shown above the block\n",
        "representations of the arrays."
      ]
    },
    {
      "cell_type": "markdown",
      "metadata": {
        "id": "fCh2gLumrMbH"
      },
      "source": [
        "## Reshaping and resizing\n",
        "\n",
        "When working with data in array form, it is often useful to rearrange arrays and\n",
        "alter the way they are interpreted. For example, an N × N matrix array could be\n",
        "rearranged into a vector of length N2, or a set of one-dimensional arrays could\n",
        "be concatenated together or stacked next to each other to form a matrix. NumPy\n",
        "provides a rich set of functions of this type of manipulation. See Table 2-5 for\n",
        "a summary of a selection of these functions.\n",
        "\n",
        "_**Table 2-5**_. Summary of NumPy Functions for Manipulating the Dimensions and\n",
        "the Shape of Arrays\n",
        "\n",
        "Function/Method | Description\n",
        "---|---\n",
        "`np.reshape, np.ndarray.reshape`|reshape an N-dimensional array. The total number of elements must remain the same\n",
        "`np.ndarray.flatten`| Creates a copy of an N-dimensional array, and reinterpret it as a  one-dimensional array (i.e., all dimensions are collapsed into one).\n",
        "`np.ravel, np.ndarray.ravel`| Create a view (if possible, otherwise a copy) of an N-dimensional array in which it is interpreted as a one-dimensional array.\n",
        "`np.squeeze`| Removes axes with length 1.\n",
        "`np.expand_dims, np.newaxis`| Add a new axis (dimension) of length 1 to an array, where np.newaxis is used with array indexing.\n",
        "`np.transpose, np.ndarray.transpose, np.ndarray.T`| Transpose the array. The transpose operation corresponds to reversing (or more generally, permuting) the axes of the array.\n",
        "`np.hstack`| Stacks a list of arrays horizontally (along axis 1): for example, given a list of column vectors, appends the columns to form a matrix.\n",
        "`np.vstack`| Stacks a list of arrays vertically (along axis 0): for example, given a list of row vectors, appends the rows to form a matrix.\n",
        "`np.dstack`| Stacks arrays depth-wise (along axis 2).\n",
        "`np.concatenate`| Creates a new array by appending arrays after each other, along a given axis.\n",
        "`np.resize`| Resizes an array. Creates a new copy of the original array, with the requested size. If necessary, the original array will be repeated to fill up the new array.\n",
        "`np.append`| Appends an element to an array. Creates a new copy of the array.\n",
        "`np.insert`| Inserts a new element at a given position. Creates a new copy of the array.\n",
        "`np.delete`| Deletes an element at a given position. Creates a new copy of the array.\n",
        "\n",
        "Reshaping an array does not require modifying the underlying array data; it only\n",
        "changes in how the data is interpreted, by redefining the array’s strides\n",
        "attribute.  An example of this type of operation is a 2 × 2 array (matrix) that\n",
        "is reinterpreted as a 1 × 4 array (vector). In NumPy, the function np.reshape,\n",
        "or the ndarray class method reshape, can be used to reconfigure how the\n",
        "underlying data is interpreted. It takes an array and the new shape of the array\n",
        "as arguments:"
      ]
    },
    {
      "cell_type": "code",
      "execution_count": null,
      "metadata": {
        "id": "F5ZPnNNErMbH"
      },
      "outputs": [],
      "source": [
        "data = np.array([[1, 2], [3, 4]])"
      ]
    },
    {
      "cell_type": "code",
      "execution_count": null,
      "metadata": {
        "id": "aXPkz8LfrMbH",
        "outputId": "a3bbd876-b97a-4228-a78b-3a38135f92ee"
      },
      "outputs": [
        {
          "data": {
            "text/plain": [
              "array([[1, 2, 3, 4]])"
            ]
          },
          "execution_count": 132,
          "metadata": {},
          "output_type": "execute_result"
        }
      ],
      "source": [
        "np.reshape(data, (1, 4))"
      ]
    },
    {
      "cell_type": "code",
      "execution_count": null,
      "metadata": {
        "id": "zhF3rw88rMbH",
        "outputId": "733eac9c-2d70-4824-8795-e9dc72ffaf43"
      },
      "outputs": [
        {
          "data": {
            "text/plain": [
              "array([1, 2, 3, 4])"
            ]
          },
          "execution_count": 133,
          "metadata": {},
          "output_type": "execute_result"
        }
      ],
      "source": [
        "data.reshape(4)"
      ]
    },
    {
      "cell_type": "markdown",
      "metadata": {
        "id": "4As7QUXbrMbH"
      },
      "source": [
        "It is necessary that the requested new shape of the array match the number of\n",
        "elements in the original size. However, the number of axes (dimensions) does not need\n",
        "to be conserved, as illustrated in the previous example, where in the first case, the\n",
        "new array has dimension 2 and shape (1, 4), while in the second case, the new array\n",
        "has dimension 1 and shape (4,). This example also demonstrates two different ways\n",
        "of invoking the reshape operation: using the function `np.reshape` and the `ndarray`\n",
        "method `reshape`. Note that reshaping an array produces a view of the array, and if an\n",
        "independent copy of the array is needed, the view has to be copied explicitly (e.g., using\n",
        "`np.copy`).\n",
        "\n",
        "The `np.ravel` (and its corresponding `ndarray` method) is a special case of reshape,\n",
        "which collapses all dimensions of an array and returns a flattened one-dimensional\n",
        "array with a length that corresponds to the total number of elements in the original\n",
        "array. The `ndarray` method `flatten` performs the same function but returns a copy\n",
        "instead of a view."
      ]
    },
    {
      "cell_type": "code",
      "execution_count": null,
      "metadata": {
        "id": "vrvD74SarMbH"
      },
      "outputs": [],
      "source": [
        "data = np.array([[1, 2], [3, 4]])"
      ]
    },
    {
      "cell_type": "code",
      "execution_count": null,
      "metadata": {
        "id": "Jf0-BiaKrMbI",
        "outputId": "73faed1b-3327-480f-9321-a50809427510"
      },
      "outputs": [
        {
          "data": {
            "text/plain": [
              "array([[1, 2],\n",
              "       [3, 4]])"
            ]
          },
          "execution_count": 135,
          "metadata": {},
          "output_type": "execute_result"
        }
      ],
      "source": [
        "data"
      ]
    },
    {
      "cell_type": "code",
      "execution_count": null,
      "metadata": {
        "id": "he9sfLaGrMbI",
        "outputId": "e0d86496-7861-4cf3-8b3b-9ee92682153d"
      },
      "outputs": [
        {
          "data": {
            "text/plain": [
              "array([1, 2, 3, 4])"
            ]
          },
          "execution_count": 136,
          "metadata": {},
          "output_type": "execute_result"
        }
      ],
      "source": [
        "data.flatten()"
      ]
    },
    {
      "cell_type": "code",
      "execution_count": null,
      "metadata": {
        "id": "DsPMbYZ5rMbI",
        "outputId": "ce6f1c63-b38d-48a1-8970-26fb17118dc1"
      },
      "outputs": [
        {
          "data": {
            "text/plain": [
              "(4,)"
            ]
          },
          "execution_count": 137,
          "metadata": {},
          "output_type": "execute_result"
        }
      ],
      "source": [
        "data.flatten().shape"
      ]
    },
    {
      "cell_type": "markdown",
      "metadata": {
        "id": "nDnkXX3-rMbI"
      },
      "source": [
        "While `np.ravel` and `np.flatten` collapse the axes of an array into a\n",
        "one-dimensional array, it is also possible to introduce new axes into an array,\n",
        "either by using `np.reshape` or, when adding new empty axes, using indexing\n",
        "notation and the `np.newaxis` keyword at the place of a new axis. In the following\n",
        "example, the array data has one axis, so it should normally be indexed with a\n",
        "tuple with one element. However, if it is indexed with a tuple with more than\n",
        "one element, and if the extra indices in the tuple have the value `np.newaxis`,\n",
        "then the corresponding new axes are added:"
      ]
    },
    {
      "cell_type": "code",
      "execution_count": null,
      "metadata": {
        "id": "X0Eg0aVSrMbI",
        "outputId": "812d7efe-625b-4230-fdce-e5b39dc2c9f5"
      },
      "outputs": [
        {
          "data": {
            "text/plain": [
              "array([0, 1, 2, 3, 4])"
            ]
          },
          "execution_count": 138,
          "metadata": {},
          "output_type": "execute_result"
        }
      ],
      "source": [
        "data = np.arange(0, 5)\n",
        "data"
      ]
    },
    {
      "cell_type": "code",
      "execution_count": null,
      "metadata": {
        "id": "77nXwEz7rMbI",
        "outputId": "b0a8cc95-1732-4778-8a00-d8f4c1af073d"
      },
      "outputs": [
        {
          "data": {
            "text/plain": [
              "(5,)"
            ]
          },
          "execution_count": 139,
          "metadata": {},
          "output_type": "execute_result"
        }
      ],
      "source": [
        "data.shape"
      ]
    },
    {
      "cell_type": "code",
      "execution_count": null,
      "metadata": {
        "id": "gGVNAmxYrMbI",
        "outputId": "0ffc370f-dc70-4200-b1cc-f5ef1e9534b2"
      },
      "outputs": [
        {
          "data": {
            "text/plain": [
              "array([[0],\n",
              "       [1],\n",
              "       [2],\n",
              "       [3],\n",
              "       [4]])"
            ]
          },
          "execution_count": 140,
          "metadata": {},
          "output_type": "execute_result"
        }
      ],
      "source": [
        "column = data[:, np.newaxis]\n",
        "column"
      ]
    },
    {
      "cell_type": "code",
      "execution_count": null,
      "metadata": {
        "id": "rI_JUwMkrMbI",
        "outputId": "a75b7c6e-9f3b-4b7c-9c4a-fc3c5a132f00"
      },
      "outputs": [
        {
          "data": {
            "text/plain": [
              "(5, 1)"
            ]
          },
          "execution_count": 141,
          "metadata": {},
          "output_type": "execute_result"
        }
      ],
      "source": [
        "column.shape"
      ]
    },
    {
      "cell_type": "code",
      "execution_count": null,
      "metadata": {
        "id": "bALFYEblrMbI",
        "outputId": "3f7bef02-1e76-4817-ee2c-49a78dd640b7"
      },
      "outputs": [
        {
          "data": {
            "text/plain": [
              "array([[0, 1, 2, 3, 4]])"
            ]
          },
          "execution_count": 142,
          "metadata": {},
          "output_type": "execute_result"
        }
      ],
      "source": [
        "row = data[np.newaxis, :]\n",
        "row"
      ]
    },
    {
      "cell_type": "code",
      "execution_count": null,
      "metadata": {
        "id": "UgZC36verMbI",
        "outputId": "f2d70702-f050-4e2d-ab03-d78aef67db42"
      },
      "outputs": [
        {
          "data": {
            "text/plain": [
              "(1, 5)"
            ]
          },
          "execution_count": 143,
          "metadata": {},
          "output_type": "execute_result"
        }
      ],
      "source": [
        "row.shape"
      ]
    },
    {
      "cell_type": "markdown",
      "metadata": {
        "id": "GComvoyUrMbI"
      },
      "source": [
        "The function `np.expand_dims` can also be used to add new dimensions to an  array,\n",
        "and in the preceding example, the expression `data[:, np.newaxis]` is  equivalent\n",
        "to `np.expand_dims(data, axis=1)`, and `data[np.newaxis, :]` is equivalent to\n",
        "`np.expand_dims(data, axis=0)`. Here the axis argument specifies the location\n",
        "relative to the existing axes where the new axis is to be inserted.\n",
        "\n",
        "We have up to now looked at methods to rearrange arrays in ways that do not\n",
        "affect the underlying data. Earlier in this chapter, we also looked at how to\n",
        "extract subarrays using various indexing techniques. In addition to reshaping\n",
        "and selecting subarrays, it is often necessary to merge arrays into bigger\n",
        "arrays, for example, when joining separately computed or measured data series\n",
        "into a higher-dimensional array, such as a matrix. For this task, NumPy provides\n",
        "the functions `np.vstack`, for vertical stacking of, for example, rows into a\n",
        "matrix, and `np.hstack` for horizontal stacking of, for example, columns into a\n",
        "matrix. The function `np.concatenate` provides similar functionality, but it takes\n",
        "a keyword argument axis that specifies the axis along which the arrays are to be\n",
        "concatenated.\n",
        "\n",
        "The shape of the arrays passed to `np.hstack`, `np.vstack`, and `np.concatenate` is\n",
        "important to achieve the desired type of array joining. For example, consider\n",
        "the following cases: say we have one-dimensional arrays of data, and we want to\n",
        "stack them vertically to obtain a matrix where the rows are made up of the\n",
        "one-dimensional arrays.  We can use `np.vstack` to achieve this"
      ]
    },
    {
      "cell_type": "code",
      "execution_count": null,
      "metadata": {
        "id": "VuYJK8RYrMbJ",
        "outputId": "94e4eed3-fe2c-43ef-86a6-0fbaa0d7713b"
      },
      "outputs": [
        {
          "data": {
            "text/plain": [
              "array([0, 1, 2, 3, 4])"
            ]
          },
          "execution_count": 144,
          "metadata": {},
          "output_type": "execute_result"
        }
      ],
      "source": [
        "data = np.arange(5)\n",
        "data"
      ]
    },
    {
      "cell_type": "code",
      "execution_count": null,
      "metadata": {
        "id": "S_kXo1VbrMbJ",
        "outputId": "77615661-657a-4000-ba15-b72a85c7210d"
      },
      "outputs": [
        {
          "data": {
            "text/plain": [
              "(5,)"
            ]
          },
          "execution_count": 145,
          "metadata": {},
          "output_type": "execute_result"
        }
      ],
      "source": [
        "data.shape"
      ]
    },
    {
      "cell_type": "code",
      "execution_count": null,
      "metadata": {
        "id": "rg2n0YlYrMbJ",
        "outputId": "d0915abd-4d52-406f-8f67-e5714b7e7303"
      },
      "outputs": [
        {
          "data": {
            "text/plain": [
              "array([[0, 1, 2, 3, 4],\n",
              "       [0, 1, 2, 3, 4],\n",
              "       [0, 1, 2, 3, 4]])"
            ]
          },
          "execution_count": 146,
          "metadata": {},
          "output_type": "execute_result"
        }
      ],
      "source": [
        "vdata = np.vstack((data, data, data))\n",
        "vdata"
      ]
    },
    {
      "cell_type": "code",
      "execution_count": null,
      "metadata": {
        "id": "_77Y-JfjrMbJ",
        "outputId": "6020d3fe-b202-4762-8941-251eb52af4b1"
      },
      "outputs": [
        {
          "data": {
            "text/plain": [
              "(3, 5)"
            ]
          },
          "execution_count": 147,
          "metadata": {},
          "output_type": "execute_result"
        }
      ],
      "source": [
        "vdata.shape"
      ]
    },
    {
      "cell_type": "markdown",
      "metadata": {
        "id": "KyJreOOVrMbJ"
      },
      "source": [
        "If we instead want to stack the arrays horizontally, to obtain a matrix where\n",
        "the arrays are the column vectors, we might first attempt something similar\n",
        "using `np.hstack`:"
      ]
    },
    {
      "cell_type": "code",
      "execution_count": null,
      "metadata": {
        "id": "TVyKrj5FrMbJ",
        "outputId": "e6711245-5225-412b-fe43-6ecaa24cf42d"
      },
      "outputs": [
        {
          "data": {
            "text/plain": [
              "array([0, 1, 2, 3, 4])"
            ]
          },
          "execution_count": 148,
          "metadata": {},
          "output_type": "execute_result"
        }
      ],
      "source": [
        "data = np.arange(5)\n",
        "data"
      ]
    },
    {
      "cell_type": "code",
      "execution_count": null,
      "metadata": {
        "id": "4d_1xQX4rMbJ",
        "outputId": "9d4ff36c-293d-45f8-da9e-663b1faae5fe"
      },
      "outputs": [
        {
          "data": {
            "text/plain": [
              "(5,)"
            ]
          },
          "execution_count": 149,
          "metadata": {},
          "output_type": "execute_result"
        }
      ],
      "source": [
        "data.shape"
      ]
    },
    {
      "cell_type": "code",
      "execution_count": null,
      "metadata": {
        "id": "ICByerf7rMbJ",
        "outputId": "47d252f0-5290-4a58-db7d-abebcae566ba"
      },
      "outputs": [
        {
          "data": {
            "text/plain": [
              "array([0, 1, 2, 3, 4, 0, 1, 2, 3, 4, 0, 1, 2, 3, 4])"
            ]
          },
          "execution_count": 150,
          "metadata": {},
          "output_type": "execute_result"
        }
      ],
      "source": [
        "hdata = np.hstack((data, data, data))\n",
        "hdata"
      ]
    },
    {
      "cell_type": "code",
      "execution_count": null,
      "metadata": {
        "id": "l3bdoTT3rMbJ",
        "outputId": "1c18db58-a5a3-4284-fce5-27303a7a7f1c"
      },
      "outputs": [
        {
          "data": {
            "text/plain": [
              "(15,)"
            ]
          },
          "execution_count": 151,
          "metadata": {},
          "output_type": "execute_result"
        }
      ],
      "source": [
        "hdata.shape"
      ]
    },
    {
      "cell_type": "markdown",
      "metadata": {
        "id": "vE2XkTZUrMbJ"
      },
      "source": [
        "This indeed stacks the arrays horizontally, but not in the way intended here. To\n",
        "make `np.hstack` treat the input arrays as columns and stack them accordingly, we\n",
        "need to make the input arrays two-dimensional arrays of shape (1, 5) rather than\n",
        "one-dimensional arrays of shape (5,). As discussed earlier, we can insert a new\n",
        "axis by indexing with `np.newaxis`:"
      ]
    },
    {
      "cell_type": "code",
      "execution_count": null,
      "metadata": {
        "id": "GRz1BeqKrMbJ"
      },
      "outputs": [],
      "source": [
        "data = data[:, np.newaxis]"
      ]
    },
    {
      "cell_type": "code",
      "execution_count": null,
      "metadata": {
        "id": "URJiS-cgrMbJ",
        "outputId": "d4c9ff8f-c5f7-4e95-dde8-b66b12293d4a"
      },
      "outputs": [
        {
          "data": {
            "text/plain": [
              "array([[0, 0, 0],\n",
              "       [1, 1, 1],\n",
              "       [2, 2, 2],\n",
              "       [3, 3, 3],\n",
              "       [4, 4, 4]])"
            ]
          },
          "execution_count": 153,
          "metadata": {},
          "output_type": "execute_result"
        }
      ],
      "source": [
        "np.hstack((data, data, data))"
      ]
    },
    {
      "cell_type": "markdown",
      "metadata": {
        "id": "rqJ4AhnlrMbJ"
      },
      "source": [
        "The behavior of the functions for horizontal and vertical stacking, as well as\n",
        "concatenating arrays using `np.concatenate`, is clearest when the stacked arrays\n",
        "have the same number of dimensions as the final array and when the input arrays\n",
        "are stacked along an axis for which they have length 1.  \n",
        "\n",
        "The number of elements in a NumPy array cannot be changed once the array has\n",
        "been created. To insert, append, and remove elements from a NumPy array, for\n",
        "example, using the function `np.append`, `np.insert`, and `np.delete`, a new array\n",
        "must be created and the data copied to it. It may sometimes be tempting to use\n",
        "these functions to grow or shrink the size of a NumPy array, but due to the\n",
        "overhead of creating new arrays and copying the data, it is usually a good idea\n",
        "to preallocate arrays with size such that they do not later need to be resized.\n"
      ]
    },
    {
      "cell_type": "markdown",
      "metadata": {
        "id": "7ThPIXW_rMbK"
      },
      "source": [
        "## Vectorized Expressions\n",
        "\n",
        "The purpose of storing numerical data in arrays is to be able to process the\n",
        "data with concise vectorized expressions that represent batch operations that\n",
        "are applied to all elements in the arrays. Efficient use of vectorized\n",
        "expressions eliminates the need of many explicit for loops. This results in less\n",
        "verbose code, better maintainability, and higher-performing code. NumPy\n",
        "implements functions and vectorized operations corresponding to most fundamental\n",
        "mathematical functions and operators. Many of these functions and operations act\n",
        "on arrays on an elementwise basis, and binary operations require all arrays in\n",
        "an expression to be of compatible size. The meaning of compatible size is\n",
        "normally that the variables in an expression represent either scalars or arrays\n",
        "of the same size and shape. More generally, a binary operation involving two\n",
        "arrays is well defined if the arrays can be `broadcasted` into the same shape\n",
        "and size.\n",
        "\n",
        "In the case of an operation between a scalar and an array, broadcasting refers\n",
        "to the scalar being distributed and the operation applied to each element in the\n",
        "array. When an expression contains arrays of unequal sizes, the operations may\n",
        "still be well defined if the smaller of the array can be broadcasted\n",
        "(“effectively expanded”) to match the larger array according to NumPy’s\n",
        "broadcasting rule: an array can be broadcasted over another array if their axes\n",
        "on a one-by-one basis either have the same length or if either of them have\n",
        "length 1. If the number of axes of the two arrays is not equal, the array with\n",
        "fewer axes is padded with new axes of length 1 from the left until the numbers\n",
        "of dimensions of the two arrays agree.\n",
        "\n",
        "Two simple examples that illustrate array broadcasting are shown in Figure 2-2:\n",
        "a 3 × 3 matrix is added to a 1 × 3 row vector and a 3 × 1 column vector,\n",
        "respectively, and in both cases the result is a 3 × 3 matrix. However, the\n",
        "elements in the two resulting matrices are different, because the way the\n",
        "elements of the row and column vectors are broadcasted to the shape of the\n",
        "larger array is different depending on the shape of the arrays, according to\n",
        "NumPy’s broadcasting rule.\n",
        "\n",
        "![Figure 2.2](/home/juan/PycharmProjects/PycharmProjectsAorus/NumericalPython/images/fig2-2.png)\n",
        "\n",
        "_**Figure 2-2**. Visualization of broadcasting of row and column vectors into\n",
        "the shape of a matrix. The highlighted elements represent true elements of the\n",
        "arrays, while the light gray-shaded elements describe the broadcasting of the\n",
        "elements of the array of smaller size._"
      ]
    },
    {
      "cell_type": "markdown",
      "metadata": {
        "id": "ZOtn1DzRrMbK"
      },
      "source": [
        "### Arithmetic operations\n",
        "\n",
        "The standard arithmetic operations with NumPy arrays perform elementwise\n",
        "operations. Consider, for example, the addition, subtraction, multiplication,\n",
        "and division of equal-sized arrays:"
      ]
    },
    {
      "cell_type": "code",
      "execution_count": null,
      "metadata": {
        "id": "3rkJmBpXrMbK"
      },
      "outputs": [],
      "source": [
        "x = np.array([[1, 2], [3, 4]])"
      ]
    },
    {
      "cell_type": "code",
      "execution_count": null,
      "metadata": {
        "id": "yioqaeQ8rMbK"
      },
      "outputs": [],
      "source": [
        "y = np.array([[5, 6], [7, 8]])"
      ]
    },
    {
      "cell_type": "code",
      "execution_count": null,
      "metadata": {
        "id": "fU7S9ky9rMbK",
        "outputId": "4777b658-b46c-46bd-e259-f6c1bdcdde6e"
      },
      "outputs": [
        {
          "data": {
            "text/plain": [
              "array([[ 6,  8],\n",
              "       [10, 12]])"
            ]
          },
          "execution_count": 156,
          "metadata": {},
          "output_type": "execute_result"
        }
      ],
      "source": [
        "x + y"
      ]
    },
    {
      "cell_type": "code",
      "execution_count": null,
      "metadata": {
        "id": "5rIocVnGrMbK",
        "outputId": "6ee07967-462b-40a6-a73d-8bdbdb2e1102"
      },
      "outputs": [
        {
          "data": {
            "text/plain": [
              "array([[4, 4],\n",
              "       [4, 4]])"
            ]
          },
          "execution_count": 157,
          "metadata": {},
          "output_type": "execute_result"
        }
      ],
      "source": [
        "y - x"
      ]
    },
    {
      "cell_type": "code",
      "execution_count": null,
      "metadata": {
        "id": "iYCiQkmOrMbK",
        "outputId": "f50c5591-d246-4ce3-9953-9781ec613c0f"
      },
      "outputs": [
        {
          "data": {
            "text/plain": [
              "array([[ 5, 12],\n",
              "       [21, 32]])"
            ]
          },
          "execution_count": 158,
          "metadata": {},
          "output_type": "execute_result"
        }
      ],
      "source": [
        "x * y"
      ]
    },
    {
      "cell_type": "code",
      "execution_count": null,
      "metadata": {
        "id": "5LzEz6XFrMbK",
        "outputId": "094b0306-0e66-4bd0-8100-301873e5be67"
      },
      "outputs": [
        {
          "data": {
            "text/plain": [
              "array([[5.        , 3.        ],\n",
              "       [2.33333333, 2.        ]])"
            ]
          },
          "execution_count": 159,
          "metadata": {},
          "output_type": "execute_result"
        }
      ],
      "source": [
        "y / x"
      ]
    },
    {
      "cell_type": "markdown",
      "metadata": {
        "id": "SHfauUKVrMbK"
      },
      "source": [
        "In operations between scalars and arrays, the scalar value is applied to each\n",
        "element in the array, as one could expect:"
      ]
    },
    {
      "cell_type": "code",
      "execution_count": null,
      "metadata": {
        "id": "L4bLN_74rMbK",
        "outputId": "805c346e-2d36-4869-8cfc-c898614abe85"
      },
      "outputs": [
        {
          "data": {
            "text/plain": [
              "array([[2, 4],\n",
              "       [6, 8]])"
            ]
          },
          "execution_count": 160,
          "metadata": {},
          "output_type": "execute_result"
        }
      ],
      "source": [
        "x * 2"
      ]
    },
    {
      "cell_type": "code",
      "execution_count": null,
      "metadata": {
        "id": "F8jAdbNnrMbK",
        "outputId": "51986380-2808-4838-a1cc-cd25a5757b8b"
      },
      "outputs": [
        {
          "data": {
            "text/plain": [
              "array([[ 2,  4],\n",
              "       [ 8, 16]])"
            ]
          },
          "execution_count": 161,
          "metadata": {},
          "output_type": "execute_result"
        }
      ],
      "source": [
        "2 ** x"
      ]
    },
    {
      "cell_type": "code",
      "execution_count": null,
      "metadata": {
        "id": "gnLbQg7brMbK",
        "outputId": "d42c55cc-f931-4d6c-f074-017a49417888"
      },
      "outputs": [
        {
          "data": {
            "text/plain": [
              "array([[2.5, 3. ],\n",
              "       [3.5, 4. ]])"
            ]
          },
          "execution_count": 162,
          "metadata": {},
          "output_type": "execute_result"
        }
      ],
      "source": [
        "y / 2"
      ]
    },
    {
      "cell_type": "code",
      "execution_count": null,
      "metadata": {
        "id": "gtixoL5YrMbK",
        "outputId": "282e65d0-6206-4dbb-cfde-9220b5c2aa62"
      },
      "outputs": [
        {
          "data": {
            "text/plain": [
              "dtype('float64')"
            ]
          },
          "execution_count": 163,
          "metadata": {},
          "output_type": "execute_result"
        }
      ],
      "source": [
        "(y / 2).dtype"
      ]
    },
    {
      "cell_type": "markdown",
      "metadata": {
        "id": "Gee-c-eArMbL"
      },
      "source": [
        "Note that the dtype of the resulting array for an expression can be promoted if\n",
        "the computation requires it, as shown in the preceding example with division\n",
        "between an integer array and an integer scalar, which in that case resulted in\n",
        "an array with a dtype that is `np.float64`.\n",
        "\n",
        "If an arithmetic operation is performed on arrays with incompatible size or\n",
        "shape, a ValueError exception is raised:"
      ]
    },
    {
      "cell_type": "code",
      "execution_count": null,
      "metadata": {
        "id": "I3GaISwfrMbL"
      },
      "outputs": [],
      "source": [
        "x = np.array([1, 2, 3, 4]).reshape(2,2)"
      ]
    },
    {
      "cell_type": "code",
      "execution_count": null,
      "metadata": {
        "id": "jyIVLuMwrMbL"
      },
      "outputs": [],
      "source": [
        "z = np.array([1, 2, 3, 4])"
      ]
    },
    {
      "cell_type": "code",
      "execution_count": null,
      "metadata": {
        "id": "6ywu0QJOrMbL",
        "outputId": "b001110d-8ff6-4baf-efc9-31283a842a92"
      },
      "outputs": [
        {
          "ename": "ValueError",
          "evalue": "operands could not be broadcast together with shapes (2,2) (4,) ",
          "output_type": "error",
          "traceback": [
            "\u001b[0;31m---------------------------------------------------------------------------\u001b[0m",
            "\u001b[0;31mValueError\u001b[0m                                Traceback (most recent call last)",
            "Cell \u001b[0;32mIn [166], line 1\u001b[0m\n\u001b[0;32m----> 1\u001b[0m \u001b[43mx\u001b[49m\u001b[43m \u001b[49m\u001b[38;5;241;43m/\u001b[39;49m\u001b[43m \u001b[49m\u001b[43mz\u001b[49m\n",
            "\u001b[0;31mValueError\u001b[0m: operands could not be broadcast together with shapes (2,2) (4,) "
          ]
        }
      ],
      "source": [
        "x / z"
      ]
    },
    {
      "cell_type": "markdown",
      "metadata": {
        "id": "E8EiIZSyrMbL"
      },
      "source": [
        "Here the array x has shape (2, 2) and the array z has shape (4,), which cannot\n",
        "be broadcasted into a form that is compatible with (2, 2). If, on the other\n",
        "hand, z has shape (2,), (2, 1), or (1, 2), then it can broadcasted to the shape\n",
        "(2, 2) by effectively repeating the array z along the axis with length 1. Let’s\n",
        "first consider an example with an array z of shape (1, 2), where the first axis\n",
        "(axis 0) has length 1:"
      ]
    },
    {
      "cell_type": "code",
      "execution_count": null,
      "metadata": {
        "id": "96QbTiT2rMbL"
      },
      "outputs": [],
      "source": [
        "z = np.array([[2, 4]])"
      ]
    },
    {
      "cell_type": "code",
      "execution_count": null,
      "metadata": {
        "id": "KNkmS4Z6rMbL",
        "outputId": "7ba78ae1-c394-415d-e6ef-4236a1617661"
      },
      "outputs": [
        {
          "data": {
            "text/plain": [
              "array([[2, 4]])"
            ]
          },
          "execution_count": 168,
          "metadata": {},
          "output_type": "execute_result"
        }
      ],
      "source": [
        "z"
      ]
    },
    {
      "cell_type": "code",
      "execution_count": null,
      "metadata": {
        "id": "J6tZWWIhrMbL",
        "outputId": "5850cd64-c153-4603-bd4e-271a67d89d49"
      },
      "outputs": [
        {
          "data": {
            "text/plain": [
              "(1, 2)"
            ]
          },
          "execution_count": 169,
          "metadata": {},
          "output_type": "execute_result"
        }
      ],
      "source": [
        "z.shape"
      ]
    },
    {
      "cell_type": "markdown",
      "metadata": {
        "id": "APPTPY8FrMbL"
      },
      "source": [
        "Dividing the array x with array z is equivalent to dividing x with an array zz\n",
        "that is constructed by repeating (here using `np.concatenate`) the row vector z\n",
        "to obtain an array zz that has the same dimensions as x:"
      ]
    },
    {
      "cell_type": "code",
      "execution_count": null,
      "metadata": {
        "id": "9ZioqsZBrMbL",
        "outputId": "0194bd47-1074-490e-953c-bdf9817c5665"
      },
      "outputs": [
        {
          "data": {
            "text/plain": [
              "array([[0.5, 0.5],\n",
              "       [1.5, 1. ]])"
            ]
          },
          "execution_count": 170,
          "metadata": {},
          "output_type": "execute_result"
        }
      ],
      "source": [
        "x / z"
      ]
    },
    {
      "cell_type": "code",
      "execution_count": null,
      "metadata": {
        "id": "hy5jiCE8rMbL"
      },
      "outputs": [],
      "source": [
        "zz = np.concatenate([z, z], axis=0)"
      ]
    },
    {
      "cell_type": "code",
      "execution_count": null,
      "metadata": {
        "id": "B6aMS6V_rMbL",
        "outputId": "f6e7e22e-0034-4f36-c840-ceacb03b26c1"
      },
      "outputs": [
        {
          "data": {
            "text/plain": [
              "array([[2, 4],\n",
              "       [2, 4]])"
            ]
          },
          "execution_count": 172,
          "metadata": {},
          "output_type": "execute_result"
        }
      ],
      "source": [
        "zz"
      ]
    },
    {
      "cell_type": "code",
      "execution_count": null,
      "metadata": {
        "id": "5uuSVudjrMbM",
        "outputId": "85b7f3e0-ba32-4fc2-f3a8-f10ae7d1faf2"
      },
      "outputs": [
        {
          "data": {
            "text/plain": [
              "array([[0.5, 0.5],\n",
              "       [1.5, 1. ]])"
            ]
          },
          "execution_count": 173,
          "metadata": {},
          "output_type": "execute_result"
        }
      ],
      "source": [
        "x / zz"
      ]
    },
    {
      "cell_type": "markdown",
      "metadata": {
        "id": "ELv-mojirMbM"
      },
      "source": [
        "Let’s also consider the example in which the array z has shape (2, 1) and where\n",
        "the second axis (axis 1) has length 1:"
      ]
    },
    {
      "cell_type": "code",
      "execution_count": null,
      "metadata": {
        "id": "k76WwduhrMbM"
      },
      "outputs": [],
      "source": [
        "z = np.array([[2], [4]])"
      ]
    },
    {
      "cell_type": "code",
      "execution_count": null,
      "metadata": {
        "id": "k_iZjPGDrMbM",
        "outputId": "74854542-c608-404a-e381-c82d934bef32"
      },
      "outputs": [
        {
          "data": {
            "text/plain": [
              "(2, 1)"
            ]
          },
          "execution_count": 175,
          "metadata": {},
          "output_type": "execute_result"
        }
      ],
      "source": [
        "z.shape"
      ]
    },
    {
      "cell_type": "code",
      "execution_count": null,
      "metadata": {
        "id": "CPhguieRrMbM",
        "outputId": "e5c1af29-762e-45f4-e2b5-89fdb69bb73d"
      },
      "outputs": [
        {
          "data": {
            "text/plain": [
              "array([[0.5 , 1.  ],\n",
              "       [0.75, 1.  ]])"
            ]
          },
          "execution_count": 176,
          "metadata": {},
          "output_type": "execute_result"
        }
      ],
      "source": [
        "x / z"
      ]
    },
    {
      "cell_type": "code",
      "execution_count": null,
      "metadata": {
        "id": "4fFuX7EorMbM"
      },
      "outputs": [],
      "source": [
        "zz = np.concatenate([z, z], axis=1)"
      ]
    },
    {
      "cell_type": "code",
      "execution_count": null,
      "metadata": {
        "id": "XPu7EOlbrMbM",
        "outputId": "f494d439-9353-46a8-b7a7-52ad56e477b6"
      },
      "outputs": [
        {
          "data": {
            "text/plain": [
              "array([[2, 2],\n",
              "       [4, 4]])"
            ]
          },
          "execution_count": 178,
          "metadata": {},
          "output_type": "execute_result"
        }
      ],
      "source": [
        "zz"
      ]
    },
    {
      "cell_type": "code",
      "execution_count": null,
      "metadata": {
        "id": "i3c3rCAzrMbM",
        "outputId": "36497d60-0c93-424d-b747-35e8f9d21d27"
      },
      "outputs": [
        {
          "data": {
            "text/plain": [
              "array([[0.5 , 1.  ],\n",
              "       [0.75, 1.  ]])"
            ]
          },
          "execution_count": 179,
          "metadata": {},
          "output_type": "execute_result"
        }
      ],
      "source": [
        "x / zz"
      ]
    },
    {
      "cell_type": "markdown",
      "metadata": {
        "id": "UMoutIwzrMbM"
      },
      "source": [
        "In summary, these examples show how arrays with shape (1, 2) and (2, 1) are\n",
        "broadcasted to the shape (2, 2) of the array x when the operation x / z is\n",
        "performed.  In both cases, the result of the operation x / z is the same as\n",
        "first repeating the smaller array z along its axis of length 1 to obtain a new\n",
        "array zz with the same shape as x and then performing the equal-sized array\n",
        "operation x / zz. However, the implementation of the broadcasting does not\n",
        "explicitly perform this expansion and the corresponding memory copies, but it\n",
        "can be helpful to think of the array broadcasting in these terms.  \n",
        "\n",
        "A summary of the operators for arithmetic operations with NumPy arrays is given\n",
        "in Table 2-6.  These operators use the standard symbols used in Python. The\n",
        "result of an arithmetic operation with one or two arrays is a new independent\n",
        "array, with its own data in the memory. Evaluating complicated arithmetic\n",
        "expression might therefore trigger many memory allocation and copy operations,\n",
        "and when working with large arrays, this can lead to a large memory footprint\n",
        "and impact the performance negatively.  In such cases, using inplace operation\n",
        "(see Table 2-6) can reduce the memory footprint and improve performance. As an\n",
        "example of inplace operators, consider the following two statements, which have\n",
        "the same effect:"
      ]
    },
    {
      "cell_type": "code",
      "execution_count": null,
      "metadata": {
        "id": "RRREHIwgrMbM",
        "outputId": "0c988d21-adcb-4070-eb04-f40ded4be2a9"
      },
      "outputs": [
        {
          "data": {
            "text/plain": [
              "array([[ 6,  9],\n",
              "       [ 9, 12]])"
            ]
          },
          "execution_count": 180,
          "metadata": {},
          "output_type": "execute_result"
        }
      ],
      "source": [
        "x = np.array([[1, 3], [2, 4]])\n",
        "x = x + y\n",
        "x"
      ]
    },
    {
      "cell_type": "code",
      "execution_count": null,
      "metadata": {
        "id": "gYAiWrSsrMbM",
        "outputId": "04cd7223-e4e9-4126-cd45-1c5bf5e7804e"
      },
      "outputs": [
        {
          "data": {
            "text/plain": [
              "array([[ 6,  9],\n",
              "       [ 9, 12]])"
            ]
          },
          "execution_count": 181,
          "metadata": {},
          "output_type": "execute_result"
        }
      ],
      "source": [
        "x = np.array([[1, 3], [2, 4]])\n",
        "x += y\n",
        "x"
      ]
    },
    {
      "cell_type": "markdown",
      "metadata": {
        "id": "B91-j1PjrMbM"
      },
      "source": [
        "_**Table 2-6**. Operators for Elementwise Arithmetic Operation on NumPy Arrays_\n",
        "\n",
        "Operator|Operation\n",
        "---|---\n",
        "+, +=|Addition\n",
        "-, -=|subtraction\n",
        "*, *=|Multiplication\n",
        "/, /=|division\n",
        "//, //=|Integer division\n",
        "**, **=|exponentiation\n",
        "\n",
        "The two expressions have the same effect, but in the first case, x is reassigned\n",
        "to a new array, while in the second case, the values of array x are updated\n",
        "inplace. Extensive use of inplace operators tends to impair code readability,\n",
        "and inplace operators should therefore be used only when necessary."
      ]
    },
    {
      "cell_type": "markdown",
      "metadata": {
        "id": "wa-xSXERrMbN"
      },
      "source": [
        "### Elementwise functions\n",
        "\n",
        "In addition to arithmetic expressions using operators, NumPy provides vectorized\n",
        "functions for elementwise evaluation of many elementary mathematical functions\n",
        "and operations. Table 2-7 gives a summary of elementary mathematical functions\n",
        "in NumPy.`(3)` Each of these functions takes a single array (of arbitrary dimension)\n",
        "as input and returns a new array of the same shape, where for each element the\n",
        "function has been applied to the corresponding element in the input array. The\n",
        "data type of the output array is not necessarily the same as that of the input\n",
        "array.\n",
        "\n",
        "`(3)` Note that this is not a complete list of the available elementwise\n",
        "functions in NumPy. See the NumPy reference documentations for comprehensive\n",
        "lists.\n",
        "\n",
        "_**Table 2-7**_. Selection of NumPy Functions for Elementwise Elementary\n",
        "Mathematical Functions\n",
        "\n",
        "NumPy Function | Description\n",
        "---|---\n",
        "`np.cos, np.sin, np.tan` | Trigonometric functions.\n",
        "`np.arccos, np.arcsin, np.arctan` |Inverse trigonometric functions.\n",
        "`np.cosh, np.sinh, np.tanh`| hyperbolic trigonometric functions.\n",
        "`np.arccosh, np.arcsinh, np.arctanh`| Inverse hyperbolic trigonometric functions.\n",
        "`np.sqrt`|square root.\n",
        "`np.exp`|exponential.\n",
        "`np.log, np.log2, np.log10`| logarithms of base e, 2, and 10, respectively.\n",
        "\n",
        "For example, the `np.sin` function (which takes only one argument) is used to\n",
        "compute the sine function for all values in the array:"
      ]
    },
    {
      "cell_type": "code",
      "execution_count": null,
      "metadata": {
        "id": "GsZvSyuYrMbN"
      },
      "outputs": [],
      "source": [
        "x = np.linspace(-1, 1, 11)"
      ]
    },
    {
      "cell_type": "code",
      "execution_count": null,
      "metadata": {
        "id": "o7JK5rUrrMbN",
        "outputId": "2c03b392-3375-4dcf-ea5a-fe0ffd7e1d8b"
      },
      "outputs": [
        {
          "data": {
            "text/plain": [
              "array([-1. , -0.8, -0.6, -0.4, -0.2,  0. ,  0.2,  0.4,  0.6,  0.8,  1. ])"
            ]
          },
          "execution_count": 183,
          "metadata": {},
          "output_type": "execute_result"
        }
      ],
      "source": [
        "x"
      ]
    },
    {
      "cell_type": "code",
      "execution_count": null,
      "metadata": {
        "id": "bhS_4Dw3rMbN"
      },
      "outputs": [],
      "source": [
        "y = np.sin(np.pi * x)"
      ]
    },
    {
      "cell_type": "code",
      "execution_count": null,
      "metadata": {
        "id": "X3lZuaPcrMbN",
        "outputId": "1f945860-2211-4118-9938-0445ed4f6efe"
      },
      "outputs": [
        {
          "data": {
            "text/plain": [
              "array([-0.    , -0.5878, -0.9511, -0.9511, -0.5878,  0.    ,  0.5878,\n",
              "        0.9511,  0.9511,  0.5878,  0.    ])"
            ]
          },
          "execution_count": 185,
          "metadata": {},
          "output_type": "execute_result"
        }
      ],
      "source": [
        "np.round(y, decimals=4)"
      ]
    },
    {
      "cell_type": "markdown",
      "metadata": {
        "id": "fD3kluuKrMbN"
      },
      "source": [
        "Here we also used the constant `np.pi` and the function `np.round` to round the\n",
        "values of y to four decimals. Like the `np.sin` function, many of the elementary\n",
        "math functions take one input array and produce one output array. In contrast,\n",
        "many of the mathematical operator functions (Table 2-8) operates on two input\n",
        "arrays returns one array:"
      ]
    },
    {
      "cell_type": "code",
      "execution_count": null,
      "metadata": {
        "id": "A5MNJ0JhrMbN",
        "outputId": "8b1f4235-bbcc-42cc-e97e-b07c43154fc9"
      },
      "outputs": [
        {
          "data": {
            "text/plain": [
              "array([1., 1., 1., 1., 1., 1., 1., 1., 1., 1., 1.])"
            ]
          },
          "execution_count": 186,
          "metadata": {},
          "output_type": "execute_result"
        }
      ],
      "source": [
        "np.add(np.sin(x) ** 2, np.cos(x) ** 2)"
      ]
    },
    {
      "cell_type": "code",
      "execution_count": null,
      "metadata": {
        "id": "NsGZczY7rMbN",
        "outputId": "4105ad22-bde2-4504-fb59-cb176661d70c"
      },
      "outputs": [
        {
          "data": {
            "text/plain": [
              "array([1., 1., 1., 1., 1., 1., 1., 1., 1., 1., 1.])"
            ]
          },
          "execution_count": 187,
          "metadata": {},
          "output_type": "execute_result"
        }
      ],
      "source": [
        "np.sin(x) ** 2 + np.cos(x) ** 2"
      ]
    },
    {
      "cell_type": "markdown",
      "metadata": {
        "id": "ZXmq3rZtrMbN"
      },
      "source": [
        "_**Table 2-8**. Summary of NumPy Functions for Elementwise Mathematical\n",
        "Operations_\n",
        "\n",
        "NumPy Function|Description\n",
        "---|---\n",
        "`np.add, np.subtract, np.multiply, np.divide`|Addition, subtraction, multiplication, and division of two NumPy arrays.\n",
        "`np.power`|raises first input argument to the power of the second input argument (applied elementwise).\n",
        "`np.remainder`| The remainder of division.\n",
        "`np.reciprocal`|The reciprocal (inverse) of each element.\n",
        "`np.real, np.imag, np.conj`|The real part, imaginary part, and the complex conjugate of the elements in the input arrays.\n",
        "`np.sign, np.abs`| The sign and the absolute value.\n",
        "`np.floor, np.ceil, np.rint`| Convert to integer values.\n",
        "`np.round`| Rounds to a given number of decimals."
      ]
    },
    {
      "cell_type": "markdown",
      "metadata": {
        "id": "lcMrIE2prMbN"
      },
      "source": [
        "Note that in this example, np.add and the operator + are equivalent, and for\n",
        "normal use the operator should be used.\n",
        "\n",
        "Occasionally it is necessary to define new functions that operate on NumPy\n",
        "arrays on an element-by-element basis. A good way to implement such functions is\n",
        "to express it in terms of already existing NumPy operators and expressions, but\n",
        "in cases when this is not possible, the `np.vectorize` function can be a\n",
        "convenient tool. This function takes a nonvectorized function and returns a\n",
        "vectorized function. For example, consider`the following implementation of the\n",
        "Heaviside step function, which works for scalar input:"
      ]
    },
    {
      "cell_type": "code",
      "execution_count": null,
      "metadata": {
        "id": "WCAPKdD6rMbN"
      },
      "outputs": [],
      "source": [
        "def heaviside(x):\n",
        "    return 1 if x > 0 else 0"
      ]
    },
    {
      "cell_type": "code",
      "execution_count": null,
      "metadata": {
        "id": "3e1ei6HdrMbO",
        "outputId": "c6d732eb-a9df-44b5-fa26-698d742516e7"
      },
      "outputs": [
        {
          "data": {
            "text/plain": [
              "0"
            ]
          },
          "execution_count": 189,
          "metadata": {},
          "output_type": "execute_result"
        }
      ],
      "source": [
        "heaviside(-1)"
      ]
    },
    {
      "cell_type": "code",
      "execution_count": null,
      "metadata": {
        "id": "HCYsligyrMbO",
        "outputId": "0e915f8e-9dc2-4aec-9a13-97c499ab6080"
      },
      "outputs": [
        {
          "data": {
            "text/plain": [
              "1"
            ]
          },
          "execution_count": 190,
          "metadata": {},
          "output_type": "execute_result"
        }
      ],
      "source": [
        "heaviside(1.5)"
      ]
    },
    {
      "cell_type": "markdown",
      "metadata": {
        "id": "PWB5vwkPrMbO"
      },
      "source": [
        "However, unfortunately this function does not work for NumPy array input:"
      ]
    },
    {
      "cell_type": "code",
      "execution_count": null,
      "metadata": {
        "id": "oCnUCz9OrMbO"
      },
      "outputs": [],
      "source": [
        "x = np.linspace(-5, 5, 11)"
      ]
    },
    {
      "cell_type": "code",
      "execution_count": null,
      "metadata": {
        "id": "hocJAaJorMbO",
        "outputId": "f54f7853-e559-4ed4-db85-ab3920d964f0"
      },
      "outputs": [
        {
          "ename": "ValueError",
          "evalue": "The truth value of an array with more than one element is ambiguous. Use a.any() or a.all()",
          "output_type": "error",
          "traceback": [
            "\u001b[0;31m---------------------------------------------------------------------------\u001b[0m",
            "\u001b[0;31mValueError\u001b[0m                                Traceback (most recent call last)",
            "Cell \u001b[0;32mIn [192], line 1\u001b[0m\n\u001b[0;32m----> 1\u001b[0m \u001b[43mheaviside\u001b[49m\u001b[43m(\u001b[49m\u001b[43mx\u001b[49m\u001b[43m)\u001b[49m\n",
            "Cell \u001b[0;32mIn [188], line 2\u001b[0m, in \u001b[0;36mheaviside\u001b[0;34m(x)\u001b[0m\n\u001b[1;32m      1\u001b[0m \u001b[38;5;28;01mdef\u001b[39;00m \u001b[38;5;21mheaviside\u001b[39m(x):\n\u001b[0;32m----> 2\u001b[0m     \u001b[38;5;28;01mreturn\u001b[39;00m \u001b[38;5;241m1\u001b[39m \u001b[38;5;28;01mif\u001b[39;00m x \u001b[38;5;241m>\u001b[39m \u001b[38;5;241m0\u001b[39m \u001b[38;5;28;01melse\u001b[39;00m \u001b[38;5;241m0\u001b[39m\n",
            "\u001b[0;31mValueError\u001b[0m: The truth value of an array with more than one element is ambiguous. Use a.any() or a.all()"
          ]
        }
      ],
      "source": [
        "heaviside(x)"
      ]
    },
    {
      "cell_type": "markdown",
      "metadata": {
        "id": "tB4hKlkirMbO"
      },
      "source": [
        "Using `np.vectorize` the scalar Heaviside function can be converted into a\n",
        "vectorized function that works with NumPy arrays as input:"
      ]
    },
    {
      "cell_type": "code",
      "execution_count": null,
      "metadata": {
        "id": "xXD8bLp9rMbO"
      },
      "outputs": [],
      "source": [
        "heaviside = np.vectorize(heaviside)"
      ]
    },
    {
      "cell_type": "code",
      "execution_count": null,
      "metadata": {
        "id": "y32QvixCrMbO",
        "outputId": "a6ad9f3e-5db5-4178-e630-a94bb8240929"
      },
      "outputs": [
        {
          "data": {
            "text/plain": [
              "array([0, 0, 0, 0, 0, 0, 1, 1, 1, 1, 1])"
            ]
          },
          "execution_count": 194,
          "metadata": {},
          "output_type": "execute_result"
        }
      ],
      "source": [
        "heaviside(x)"
      ]
    },
    {
      "cell_type": "markdown",
      "metadata": {
        "id": "JODGjJPcrMbO"
      },
      "source": [
        "Although the function returned by `np.vectorize` works with arrays, it will be\n",
        "relatively slow since the original function must be called for each element in\n",
        "the array.  There are much better ways to implementing this particular function\n",
        "using arithmetic with Boolean-valued arrays, as discussed later in this chapter:"
      ]
    },
    {
      "cell_type": "code",
      "execution_count": null,
      "metadata": {
        "id": "QfPBFfpurMbO"
      },
      "outputs": [],
      "source": [
        "def heaviside(x):\n",
        "    return 1.0 * (x > 0)"
      ]
    },
    {
      "cell_type": "markdown",
      "metadata": {
        "id": "H1CjhXdLrMbO"
      },
      "source": [
        "Nonetheless, np.vectorize can often be a quick and convenient way to vectorize a\n",
        "function written for scalar input.\n",
        "\n",
        "In addition to NumPy’s functions for elementary mathematical function, as\n",
        "summarized in Table 2-7, there are also numerous functions in NumPy for\n",
        "mathematical operations. A summary of a selection of these functions is given in\n",
        "Table 2-8."
      ]
    },
    {
      "cell_type": "markdown",
      "metadata": {
        "id": "SDnHbNirrMbO"
      },
      "source": [
        "### Aggregate functions\n",
        "\n",
        "NumPy provides another set of functions for calculating aggregates for NumPy\n",
        "arrays, which take an array as input and by default return a scalar as output.\n",
        "For example, statistics such as averages, standard deviations, and variances of\n",
        "the values in the input array, and functions for calculating the sum and the\n",
        "product of elements in an array, are all aggregate functions.\n",
        "\n",
        "A summary of aggregate functions is given in Table 2-9. All of these functions\n",
        "are also available as methods in the ndarray class. For example, `np.mean(data)`\n",
        "and `data.mean()` in the following example are equivalent:"
      ]
    },
    {
      "cell_type": "code",
      "execution_count": null,
      "metadata": {
        "id": "vot4ncXmrMbO"
      },
      "outputs": [],
      "source": [
        "data = np.random.normal(size=(15,15))"
      ]
    },
    {
      "cell_type": "code",
      "execution_count": null,
      "metadata": {
        "id": "oDHOBeDUrMbO",
        "outputId": "d287b104-c47d-4767-f5be-f8e5c9139aa4"
      },
      "outputs": [
        {
          "data": {
            "text/plain": [
              "-0.10632972556145782"
            ]
          },
          "execution_count": 197,
          "metadata": {},
          "output_type": "execute_result"
        }
      ],
      "source": [
        "np.mean(data)"
      ]
    },
    {
      "cell_type": "code",
      "execution_count": null,
      "metadata": {
        "id": "88kCCRxKrMbP",
        "outputId": "ef3846b5-e228-4721-9f6d-0222a3bf51a0"
      },
      "outputs": [
        {
          "data": {
            "text/plain": [
              "-0.10632972556145782"
            ]
          },
          "execution_count": 198,
          "metadata": {},
          "output_type": "execute_result"
        }
      ],
      "source": [
        "data.mean()"
      ]
    },
    {
      "cell_type": "markdown",
      "metadata": {
        "id": "KtC9-TbfrMbP"
      },
      "source": [
        "_**Table 2-9**. NumPy Functions for Calculating Aggregates of NumPy Arrays_\n",
        "\n",
        "NumPy Function | Description\n",
        "---|---\n",
        "`np.mean`| The average of all values in the array.\n",
        "`np.std` | standard deviation.\n",
        "`np.var` | Variance.\n",
        "`np.sum` | sum of all elements.\n",
        "`np.prod`| Product of all elements.\n",
        "`np.cumsum`| Cumulative sum of all elements.\n",
        "`np.cumprod`| Cumulative product of all elements.\n",
        "`np.min, np.max`| The minimum/maximum value in an array.\n",
        "`np.argmin, np.argmax`| The index of the minimum/maximum value in an array.\n",
        "`np.all` | returns True if all elements in the argument array are nonzero.\n",
        "`np.any` | returns True if any of the elements in the argument array is nonzero.\n",
        "\n",
        "By default, the functions in Table 2-9 aggregate over the entire input array.\n",
        "Using the axis keyword argument with these functions, and their corresponding\n",
        "ndarray methods, it is possible to control over which axis in the array\n",
        "aggregation is carried out.  The axis argument can be an integer, which\n",
        "specifies the axis to aggregate values over.  In many cases the axis argument\n",
        "can also be a tuple of integers, which specifies multiple axes to aggregate\n",
        "over. The following example demonstrates how calling the aggregate function\n",
        "np.sum on the array of shape (5, 10, 15) reduces the dimensionality of the array\n",
        "depending on the values of the axis argument:"
      ]
    },
    {
      "cell_type": "code",
      "execution_count": null,
      "metadata": {
        "id": "4gHj9GV5rMbP"
      },
      "outputs": [],
      "source": [
        "data = np.random.normal(size=(5, 10, 15))"
      ]
    },
    {
      "cell_type": "code",
      "execution_count": null,
      "metadata": {
        "id": "eSM_UhJ0rMbP",
        "outputId": "d5d109e8-7a63-49ea-c946-278bc6a27309"
      },
      "outputs": [
        {
          "data": {
            "text/plain": [
              "(10, 15)"
            ]
          },
          "execution_count": 200,
          "metadata": {},
          "output_type": "execute_result"
        }
      ],
      "source": [
        "data.sum(axis=0).shape"
      ]
    },
    {
      "cell_type": "code",
      "execution_count": null,
      "metadata": {
        "id": "BM12u0DmrMbP",
        "outputId": "56038fe4-0cc5-4f7d-82a2-80f0d081d5ad"
      },
      "outputs": [
        {
          "data": {
            "text/plain": [
              "(10,)"
            ]
          },
          "execution_count": 201,
          "metadata": {},
          "output_type": "execute_result"
        }
      ],
      "source": [
        "data.sum(axis=(0, 2)).shape"
      ]
    },
    {
      "cell_type": "code",
      "execution_count": null,
      "metadata": {
        "id": "MsXEWLs9rMbP",
        "outputId": "b42d97f6-c483-4666-8243-466080cea6d4"
      },
      "outputs": [
        {
          "data": {
            "text/plain": [
              "12.107645789823975"
            ]
          },
          "execution_count": 202,
          "metadata": {},
          "output_type": "execute_result"
        }
      ],
      "source": [
        "data.sum()"
      ]
    },
    {
      "cell_type": "markdown",
      "metadata": {
        "id": "BQA1-MTNrMbP"
      },
      "source": [
        "A visual illustration of how aggregation over all elements, over the first axis, and over\n",
        "the second axis of a 3 × 3 array is shown in Figure 2-3. In this example, the data array is\n",
        "filled with integers between 1 and 9:"
      ]
    },
    {
      "cell_type": "code",
      "execution_count": null,
      "metadata": {
        "id": "hJouLy1prMbP"
      },
      "outputs": [],
      "source": [
        "data = np.arange(1,10).reshape(3,3)"
      ]
    },
    {
      "cell_type": "code",
      "execution_count": null,
      "metadata": {
        "id": "skhDqvdlrMbP",
        "outputId": "df3b1db2-2201-45df-c669-ec4ac390143f"
      },
      "outputs": [
        {
          "data": {
            "text/plain": [
              "array([[1, 2, 3],\n",
              "       [4, 5, 6],\n",
              "       [7, 8, 9]])"
            ]
          },
          "execution_count": 204,
          "metadata": {},
          "output_type": "execute_result"
        }
      ],
      "source": [
        "data"
      ]
    },
    {
      "cell_type": "markdown",
      "metadata": {
        "id": "3pXcvac9rMbP"
      },
      "source": [
        "![figure 2.3](/home/juan/PycharmProjects/PycharmProjectsAorus/NumericalPython/images/fig2-3.png)\n",
        "\n",
        "_**Figure 2-3**. Illustration of array aggregation functions along all axes (left), the first\n",
        "axis (center), and the second axis (right) of a two-dimensional array of shape 3 × 3_\n",
        "\n",
        "and we compute the aggregate sum of the entire array, over the axis 0, and over\n",
        "axis 1, respectively:"
      ]
    },
    {
      "cell_type": "code",
      "execution_count": null,
      "metadata": {
        "id": "CgeqX5w_rMbP",
        "outputId": "51a8e44c-847e-4c0f-b2d2-b57be8c05090"
      },
      "outputs": [
        {
          "data": {
            "text/plain": [
              "45"
            ]
          },
          "execution_count": 205,
          "metadata": {},
          "output_type": "execute_result"
        }
      ],
      "source": [
        "data.sum()"
      ]
    },
    {
      "cell_type": "code",
      "execution_count": null,
      "metadata": {
        "id": "EuyH4cj1rMbP",
        "outputId": "d4840a3e-8edc-45b6-b6f9-5a0aada97519"
      },
      "outputs": [
        {
          "data": {
            "text/plain": [
              "array([12, 15, 18])"
            ]
          },
          "execution_count": 206,
          "metadata": {},
          "output_type": "execute_result"
        }
      ],
      "source": [
        "data.sum(axis=0)"
      ]
    },
    {
      "cell_type": "code",
      "execution_count": null,
      "metadata": {
        "id": "YX53heH4rMbP",
        "outputId": "47ed35e0-62ea-4e94-dfdb-e3226c105b76"
      },
      "outputs": [
        {
          "data": {
            "text/plain": [
              "array([ 6, 15, 24])"
            ]
          },
          "execution_count": 207,
          "metadata": {},
          "output_type": "execute_result"
        }
      ],
      "source": [
        "data.sum(axis=1)"
      ]
    },
    {
      "cell_type": "markdown",
      "metadata": {
        "id": "4JDD6TY_rMbP"
      },
      "source": [
        "### Boolean arrays and conditional expressions\n",
        "\n",
        "When computing with NumPy arrays, there is often a need to compare elements in\n",
        "different arrays and perform conditional computations based on the results of\n",
        "such comparisons. Like with arithmetic operators, NumPy arrays can be used with\n",
        "the usual comparison operators, for example, >, <, >=, <=, ==, and !=, and the\n",
        "comparisons are made on an element-by-element basis. The broadcasting rules also\n",
        "apply to comparison operators, and if two operators have compatible shapes and\n",
        "sizes, the result of the comparison is a new array with Boolean values (with\n",
        "dtype as np.bool) that gives the result of the comparison for each element:"
      ]
    },
    {
      "cell_type": "code",
      "execution_count": null,
      "metadata": {
        "id": "gQfUaQhPrMbQ"
      },
      "outputs": [],
      "source": [
        "a = np.array([1, 2, 3, 4])"
      ]
    },
    {
      "cell_type": "code",
      "execution_count": null,
      "metadata": {
        "id": "n2XS1LDVrMbQ"
      },
      "outputs": [],
      "source": [
        "b = np.array([4, 3, 2, 1])"
      ]
    },
    {
      "cell_type": "code",
      "execution_count": null,
      "metadata": {
        "id": "wtP8Y2iprMbQ",
        "outputId": "59032ddd-7fe0-4896-899d-16b69b971063"
      },
      "outputs": [
        {
          "data": {
            "text/plain": [
              "array([ True,  True, False, False])"
            ]
          },
          "execution_count": 210,
          "metadata": {},
          "output_type": "execute_result"
        }
      ],
      "source": [
        "a < b"
      ]
    },
    {
      "cell_type": "markdown",
      "metadata": {
        "id": "yXKW-p-hrMbQ"
      },
      "source": [
        "To use the result of a comparison between arrays in, for example, an if\n",
        "statement, we need to aggregate the Boolean values of the resulting arrays in\n",
        "some suitable fashion, to obtain a single `True` or `False` value. A common use-case\n",
        "is to apply the `np.all` or `np.any` aggregation functions, depending on the\n",
        "situation at hand:"
      ]
    },
    {
      "cell_type": "code",
      "execution_count": null,
      "metadata": {
        "id": "E9W31jhKrMbQ",
        "outputId": "4278c273-3155-474b-cad3-c7f4d0bc87c1"
      },
      "outputs": [
        {
          "data": {
            "text/plain": [
              "False"
            ]
          },
          "execution_count": 211,
          "metadata": {},
          "output_type": "execute_result"
        }
      ],
      "source": [
        "np.all(a < b)"
      ]
    },
    {
      "cell_type": "code",
      "execution_count": null,
      "metadata": {
        "id": "OWa6Qr0KrMbQ",
        "outputId": "f159a404-5130-4133-9ea7-ebdb9c8df2c2"
      },
      "outputs": [
        {
          "data": {
            "text/plain": [
              "True"
            ]
          },
          "execution_count": 212,
          "metadata": {},
          "output_type": "execute_result"
        }
      ],
      "source": [
        "np.any(a < b)"
      ]
    },
    {
      "cell_type": "code",
      "execution_count": null,
      "metadata": {
        "id": "DSei3dv7rMbQ",
        "outputId": "6c4a9ab0-87e0-45aa-9725-06df7805bc46"
      },
      "outputs": [
        {
          "name": "stdout",
          "output_type": "stream",
          "text": [
            "Some elements in a are smaller than their corresponding elemment in b\n"
          ]
        }
      ],
      "source": [
        "if np.all(a < b):\n",
        "    print(\"All elements in a are smaller than their corresponding element in b\")\n",
        "elif np.any(a < b):\n",
        "    print(\"Some elements in a are smaller than their corresponding elemment in b\")\n",
        "else:\n",
        "    print(\"All elements in b are smaller than their corresponding element in a\")"
      ]
    },
    {
      "cell_type": "markdown",
      "metadata": {
        "id": "qOXoyEYerMbQ"
      },
      "source": [
        "The advantage of Boolean-valued arrays, however, is that they often make it possible\n",
        "to avoid conditional if statements altogether. By using Boolean-valued arrays in\n",
        "arithmetic expressions, it is possible to write conditional computations in vectorized\n",
        "form. When appearing in an arithmetic expression together with a scalar number, or\n",
        "another NumPy array with a numerical data type, a Boolean array is converted to a\n",
        "numerical- valued array with values 0 and 1 inplace of False and True, respectively."
      ]
    },
    {
      "cell_type": "code",
      "execution_count": null,
      "metadata": {
        "id": "Z2OVa2e9rMbQ"
      },
      "outputs": [],
      "source": [
        "x = np.array([-2, -1, 0, 1, 2])"
      ]
    },
    {
      "cell_type": "code",
      "execution_count": null,
      "metadata": {
        "id": "31kaViWXrMbQ",
        "outputId": "92912ace-e6a3-4107-d6c1-9f62c85a1f58"
      },
      "outputs": [
        {
          "data": {
            "text/plain": [
              "array([False, False, False,  True,  True])"
            ]
          },
          "execution_count": 215,
          "metadata": {},
          "output_type": "execute_result"
        }
      ],
      "source": [
        "x > 0"
      ]
    },
    {
      "cell_type": "code",
      "execution_count": null,
      "metadata": {
        "id": "8UWuBE7drMbQ",
        "outputId": "7c520b46-279a-4ac9-bcdb-fce1ebb93b66"
      },
      "outputs": [
        {
          "data": {
            "text/plain": [
              "array([0, 0, 0, 1, 1])"
            ]
          },
          "execution_count": 216,
          "metadata": {},
          "output_type": "execute_result"
        }
      ],
      "source": [
        "1 * (x > 0)"
      ]
    },
    {
      "cell_type": "code",
      "execution_count": null,
      "metadata": {
        "id": "P5PXKbBbrMbQ",
        "outputId": "836d77de-a3fb-4d45-f58f-b53ac859bf68"
      },
      "outputs": [
        {
          "data": {
            "text/plain": [
              "array([0, 0, 0, 1, 2])"
            ]
          },
          "execution_count": 217,
          "metadata": {},
          "output_type": "execute_result"
        }
      ],
      "source": [
        "x * (x > 0)"
      ]
    },
    {
      "cell_type": "markdown",
      "metadata": {
        "id": "pxmKwbcrrMbR"
      },
      "source": [
        "This is a useful property for conditional computing, such as when defining\n",
        "piecewise functions. For example, if we need to define a function describing a\n",
        "pulse of a given height, width, and position, we can implement this function by\n",
        "multiplying the height  (a scalar variable) with two Boolean-valued arrays for\n",
        "the spatial extension of the pulse:"
      ]
    },
    {
      "cell_type": "code",
      "execution_count": null,
      "metadata": {
        "id": "Efdz2tt5rMbR"
      },
      "outputs": [],
      "source": [
        "def pulse(x, position, height, width):\n",
        "    return height * (x >= position) * (x <= (position + width))"
      ]
    },
    {
      "cell_type": "code",
      "execution_count": null,
      "metadata": {
        "id": "74ryAo6KrMbR"
      },
      "outputs": [],
      "source": [
        "x = np.linspace(-5, 5, 11)"
      ]
    },
    {
      "cell_type": "code",
      "execution_count": null,
      "metadata": {
        "id": "5ev1ez0-rMbR",
        "outputId": "7ce352c9-bc65-42c1-f574-99caf0a2ba03"
      },
      "outputs": [
        {
          "data": {
            "text/plain": [
              "array([0, 0, 0, 1, 1, 1, 1, 1, 1, 0, 0])"
            ]
          },
          "execution_count": 220,
          "metadata": {},
          "output_type": "execute_result"
        }
      ],
      "source": [
        "pulse(x, position=-2, height=1, width=5)"
      ]
    },
    {
      "cell_type": "code",
      "execution_count": null,
      "metadata": {
        "id": "iLEwfuWTrMbR",
        "outputId": "65330d2f-9b77-4abe-c8a5-9f2164b1aa4a"
      },
      "outputs": [
        {
          "data": {
            "text/plain": [
              "array([0, 0, 0, 0, 0, 0, 1, 1, 1, 1, 1])"
            ]
          },
          "execution_count": 221,
          "metadata": {},
          "output_type": "execute_result"
        }
      ],
      "source": [
        "pulse(x, position=1, height=1, width=5)"
      ]
    },
    {
      "cell_type": "markdown",
      "metadata": {
        "id": "9vvFPedjrMbR"
      },
      "source": [
        "In this example, the expression `(x >= position) * (x <= (position + width))` is a\n",
        "multiplication of two Boolean-valued arrays, and for this case the\n",
        "multiplication operator acts as an elementwise AND operator. The function pulse\n",
        "could also be implemented using NumPy’s function for elementwise AND operations,\n",
        "`np.logical_and`:"
      ]
    },
    {
      "cell_type": "code",
      "execution_count": null,
      "metadata": {
        "id": "gSRg_c8trMbR"
      },
      "outputs": [],
      "source": [
        "def pulse(x, position, height, width):\n",
        "    return height * np.logical_and(x >= position, x <= (position + width))"
      ]
    },
    {
      "cell_type": "markdown",
      "metadata": {
        "id": "aLui_rcorMbR"
      },
      "source": [
        "There are also functions for other logical operations, such as NOT, OR, and XOR,\n",
        "and functions for selectively picking values from different arrays depending on\n",
        "a  given condition `np.where`, a list of conditions `np.select`, and an array of\n",
        "indices `np.choose`. See Table 2-10 for a summary of such functions, and the\n",
        "following examples demonstrate the basic usage of some of these functions. The\n",
        "`np.where` function selects elements from two arrays (second and third arguments),\n",
        "given a Boolean-valued array condition (the first argument). For elements where\n",
        "the condition is True, the corresponding values from the array given as second\n",
        "argument are selected, and if the condition is False, elements from the third\n",
        "argument array are selected:"
      ]
    },
    {
      "cell_type": "code",
      "execution_count": null,
      "metadata": {
        "id": "-fCXIWH2rMbR"
      },
      "outputs": [],
      "source": [
        "x = np.linspace(-4, 4, 9)"
      ]
    },
    {
      "cell_type": "code",
      "execution_count": null,
      "metadata": {
        "id": "r8DDuGzTrMbR",
        "outputId": "b2225adc-f458-4144-b480-36d04c6f8541"
      },
      "outputs": [
        {
          "data": {
            "text/plain": [
              "array([16.,  9.,  4.,  1.,  0.,  1.,  8., 27., 64.])"
            ]
          },
          "execution_count": 224,
          "metadata": {},
          "output_type": "execute_result"
        }
      ],
      "source": [
        "np.where(x < 0, x**2, x**3)"
      ]
    },
    {
      "cell_type": "markdown",
      "metadata": {
        "id": "gmM8SehTrMbR"
      },
      "source": [
        "_**Table 2-10**. NumPy Functions for Conditional and Logical Expressions_\n",
        "\n",
        "Function  | Description\n",
        "---|---\n",
        "`np.where`| Chooses values from two arrays depending on the value of a condition array.\n",
        "`np.choose`| Chooses values from a list of arrays depending on the values of a given index array.\n",
        "`np.select` | Chooses values from a list of arrays depending on a list of conditions.\n",
        "`np.nonzero`| returns an array with indices of nonzero elements.\n",
        "`np.logical_and`| Performs an elementwise ANd operation.\n",
        "`np.logical_or, np.logical_xor`| elementwise or/Xor operations.\n",
        "`np.logical_not`| elementwise NoT operation (inverting)."
      ]
    },
    {
      "cell_type": "markdown",
      "metadata": {
        "id": "6W-ZUJP5rMbR"
      },
      "source": [
        "The `np.select` function works similarly, but instead of a Boolean-valued\n",
        "condition array, it expects a list of Boolean-valued condition arrays and a\n",
        "corresponding list of value arrays:"
      ]
    },
    {
      "cell_type": "code",
      "execution_count": null,
      "metadata": {
        "id": "tAm0WSY5rMbR",
        "outputId": "4d73af9d-8f52-4ec4-c681-f51e35130156"
      },
      "outputs": [
        {
          "data": {
            "text/plain": [
              "array([ 16.,   9.,   4.,  -1.,   0.,   1.,  16.,  81., 256.])"
            ]
          },
          "execution_count": 225,
          "metadata": {},
          "output_type": "execute_result"
        }
      ],
      "source": [
        "np.select([x < -1, x < 2, x >= 2],\n",
        "          [x**2  , x**3 , x**4])"
      ]
    },
    {
      "cell_type": "markdown",
      "metadata": {
        "id": "gRpfXIprrMbS"
      },
      "source": [
        "The `np.choose` takes as a first argument a list or an array with indices that\n",
        "determine from which array in a given list of arrays an element is picked from:"
      ]
    },
    {
      "cell_type": "code",
      "execution_count": null,
      "metadata": {
        "id": "USBFCQvirMbS",
        "outputId": "b1bb2ac2-df87-44f0-a642-c6e77a7f5533"
      },
      "outputs": [
        {
          "data": {
            "text/plain": [
              "array([ 16.,   9.,   4.,  -1.,   0.,   1.,  16.,  81., 256.])"
            ]
          },
          "execution_count": 226,
          "metadata": {},
          "output_type": "execute_result"
        }
      ],
      "source": [
        "np.choose([0, 0, 0, 1, 1, 1, 2, 2, 2],\n",
        "          [x**2,    x**3,    x**4])"
      ]
    },
    {
      "cell_type": "markdown",
      "metadata": {
        "id": "nNyr32TarMbS"
      },
      "source": [
        "The function `np.nonzero` returns a tuple of indices that can be used to index\n",
        "the array (e.g., the one that the condition was based on). This has the same\n",
        "results as indexing the array directly with `abs(x) > 2`, but it uses fancy\n",
        "indexing with the indices returned by `np.nonzero` rather than Boolean-valued\n",
        "array indexing."
      ]
    },
    {
      "cell_type": "code",
      "execution_count": null,
      "metadata": {
        "id": "E8ZPu_iZrMbS",
        "outputId": "03aa9327-d8b4-44f7-ae58-7710f6cfb1ae"
      },
      "outputs": [
        {
          "data": {
            "text/plain": [
              "array([-4., -3.,  3.,  4.])"
            ]
          },
          "execution_count": 227,
          "metadata": {},
          "output_type": "execute_result"
        }
      ],
      "source": [
        "x[abs(x) > 2]"
      ]
    },
    {
      "cell_type": "code",
      "execution_count": null,
      "metadata": {
        "id": "l9vft5UOrMbS",
        "outputId": "50f553d5-fe1e-442f-c759-70a1e1857a40"
      },
      "outputs": [
        {
          "data": {
            "text/plain": [
              "(array([0, 1, 7, 8]),)"
            ]
          },
          "execution_count": 228,
          "metadata": {},
          "output_type": "execute_result"
        }
      ],
      "source": [
        "np.nonzero(abs(x) > 2)"
      ]
    },
    {
      "cell_type": "code",
      "execution_count": null,
      "metadata": {
        "id": "aG3XDklwrMbS",
        "outputId": "8043f5af-a416-4b5b-d2a5-1539b41afd69"
      },
      "outputs": [
        {
          "data": {
            "text/plain": [
              "array([-4., -3.,  3.,  4.])"
            ]
          },
          "execution_count": 229,
          "metadata": {},
          "output_type": "execute_result"
        }
      ],
      "source": [
        "x[np.nonzero(abs(x) > 2)]"
      ]
    },
    {
      "cell_type": "markdown",
      "metadata": {
        "id": "1xftP7rorMbS"
      },
      "source": [
        "# Set operations\n",
        "\n",
        "The Python language provides a convenient set data structure for managing\n",
        "unordered collections of unique objects. The NumPy array class `ndarray` can also\n",
        "be used to describe such sets, and NumPy contains functions for operating on\n",
        "sets stored as NumPy arrays. These functions are summarized in Table 2-11. Using\n",
        "NumPy arrays to describe and operate on sets allows expressing certain\n",
        "operations in vectorized form.  For example, testing if the values in a NumPy\n",
        "array are included in a set can be done using the `np.in1d` function, which tests\n",
        "for the existence of each element of its first argument in the array passed as\n",
        "the second argument. To see how this works, consider the following example:\n",
        "first, to ensure that a NumPy array is a proper set, we can use the `np.unique`\n",
        "function, which returns a new array with unique values:"
      ]
    },
    {
      "cell_type": "code",
      "execution_count": null,
      "metadata": {
        "id": "a3tU8d5BrMbS"
      },
      "outputs": [],
      "source": [
        "a = np.unique([1,2,3,3])"
      ]
    },
    {
      "cell_type": "code",
      "execution_count": null,
      "metadata": {
        "id": "cbmRh_KurMbS"
      },
      "outputs": [],
      "source": [
        "b = np.unique([2,3,4,4,5,6,5])"
      ]
    },
    {
      "cell_type": "code",
      "execution_count": null,
      "metadata": {
        "id": "Vy7sDkd1rMbS",
        "outputId": "eebb00b2-c0dd-49c5-bcde-155b90e5064b"
      },
      "outputs": [
        {
          "data": {
            "text/plain": [
              "array([False,  True,  True])"
            ]
          },
          "execution_count": 232,
          "metadata": {},
          "output_type": "execute_result"
        }
      ],
      "source": [
        "np.in1d(a, b)"
      ]
    },
    {
      "cell_type": "markdown",
      "metadata": {
        "id": "TV-rEc33rMbS"
      },
      "source": [
        "_**Table 2-11**. NumPy Functions for Operating on Sets_\n",
        "\n",
        "Function | Description\n",
        "---|---\n",
        "`np.unique`| Creates a new array with unique elements, where each value only appears once.\n",
        "`np.in1d`| Tests for the existence of an array of elements in another array.\n",
        "`np.intersect1d`| Returns an array with elements that are contained in two given arrays.\n",
        "`np.setdiff1d`| Returns an array with elements that are contained in one, but not the other, of two given arrays.\n",
        "`np.union1d`| Returns an array with elements that are contained in either, or both, of two given arrays.\n",
        "\n",
        "Here, the existence of each element in a in the set b was tested, and the result\n",
        "is a Boolean-valued array. Note that we can use the in keyword to test for the\n",
        "existence of single elements in a set represented as NumPy array:"
      ]
    },
    {
      "cell_type": "code",
      "execution_count": null,
      "metadata": {
        "id": "TBweDoiwrMbS",
        "outputId": "f37e655a-2fc3-43b3-9bd7-095a6fdd76da"
      },
      "outputs": [
        {
          "data": {
            "text/plain": [
              "True"
            ]
          },
          "execution_count": 233,
          "metadata": {},
          "output_type": "execute_result"
        }
      ],
      "source": [
        "1 in a"
      ]
    },
    {
      "cell_type": "code",
      "execution_count": null,
      "metadata": {
        "id": "Z3-jSvKFrMbT",
        "outputId": "bfeeb246-959a-4431-a850-047a53c5771e"
      },
      "outputs": [
        {
          "data": {
            "text/plain": [
              "False"
            ]
          },
          "execution_count": 234,
          "metadata": {},
          "output_type": "execute_result"
        }
      ],
      "source": [
        "1 in b"
      ]
    },
    {
      "cell_type": "markdown",
      "metadata": {
        "id": "xqQpQvm1rMbT"
      },
      "source": [
        "To test if a is a subset of b, we can use the `np.in1d`, as in the previous\n",
        "example, together with the aggregation function `np.all` (or the corresponding\n",
        "ndarray method):"
      ]
    },
    {
      "cell_type": "code",
      "execution_count": null,
      "metadata": {
        "id": "qPShI58jrMbT",
        "outputId": "d8625039-389d-40ae-f4c5-4fd4fb5e4628"
      },
      "outputs": [
        {
          "data": {
            "text/plain": [
              "False"
            ]
          },
          "execution_count": 235,
          "metadata": {},
          "output_type": "execute_result"
        }
      ],
      "source": [
        "np.all(np.in1d(a, b))"
      ]
    },
    {
      "cell_type": "markdown",
      "metadata": {
        "id": "VsBlxa0srMbT"
      },
      "source": [
        "The standard set operations union (the set of elements included in either or\n",
        "both sets), intersection (elements included in both sets), and difference\n",
        "(elements included in one of the sets but not the other) are provided by\n",
        "`np.union1d`, `np.intersect1d`, and `np.setdiff1d`, respectively:"
      ]
    },
    {
      "cell_type": "code",
      "execution_count": null,
      "metadata": {
        "id": "oNtWInnirMbT",
        "outputId": "9a9205a0-600e-4527-8124-b7913071f3f4"
      },
      "outputs": [
        {
          "data": {
            "text/plain": [
              "array([1, 2, 3, 4, 5, 6])"
            ]
          },
          "execution_count": 236,
          "metadata": {},
          "output_type": "execute_result"
        }
      ],
      "source": [
        "np.union1d(a, b)"
      ]
    },
    {
      "cell_type": "code",
      "execution_count": null,
      "metadata": {
        "id": "CO--J-4ErMbT",
        "outputId": "21cf6d05-2080-435a-f94e-20ab5359f125"
      },
      "outputs": [
        {
          "data": {
            "text/plain": [
              "array([2, 3])"
            ]
          },
          "execution_count": 237,
          "metadata": {},
          "output_type": "execute_result"
        }
      ],
      "source": [
        "np.intersect1d(a, b)"
      ]
    },
    {
      "cell_type": "code",
      "execution_count": null,
      "metadata": {
        "id": "4myNE_DUrMbT",
        "outputId": "5ad1d34d-577d-4a5a-9f2c-02d22a09ca9a"
      },
      "outputs": [
        {
          "data": {
            "text/plain": [
              "array([1])"
            ]
          },
          "execution_count": 238,
          "metadata": {},
          "output_type": "execute_result"
        }
      ],
      "source": [
        "np.setdiff1d(a, b)"
      ]
    },
    {
      "cell_type": "code",
      "execution_count": null,
      "metadata": {
        "id": "jmplr8O_rMbT",
        "outputId": "302d2491-b401-40d0-e369-e2e0ee78f173"
      },
      "outputs": [
        {
          "data": {
            "text/plain": [
              "array([4, 5, 6])"
            ]
          },
          "execution_count": 239,
          "metadata": {},
          "output_type": "execute_result"
        }
      ],
      "source": [
        "np.setdiff1d(b, a)"
      ]
    },
    {
      "cell_type": "markdown",
      "metadata": {
        "id": "m9HOPRKWrMbT"
      },
      "source": [
        "### Operations on arrays\n",
        "\n",
        "In addition to elementwise and aggregation functions, some operations act on\n",
        "arrays as a whole and produce a transformed array of the same size. An example\n",
        "of this type of operation is the transpose, which flips the order of the axes of\n",
        "an array. For the special case of a two-dimensional array, i.e., a matrix, the\n",
        "transpose simply exchanges rows and columns:"
      ]
    },
    {
      "cell_type": "code",
      "execution_count": null,
      "metadata": {
        "id": "xoJb0ibarMbT"
      },
      "outputs": [],
      "source": [
        "data = np.arange(9).reshape(3, 3)"
      ]
    },
    {
      "cell_type": "code",
      "execution_count": null,
      "metadata": {
        "id": "DSJfjobUrMbT",
        "outputId": "3da9a613-e61c-4be4-b800-04a967e12d08"
      },
      "outputs": [
        {
          "data": {
            "text/plain": [
              "array([[0, 1, 2],\n",
              "       [3, 4, 5],\n",
              "       [6, 7, 8]])"
            ]
          },
          "execution_count": 241,
          "metadata": {},
          "output_type": "execute_result"
        }
      ],
      "source": [
        "data"
      ]
    },
    {
      "cell_type": "code",
      "execution_count": null,
      "metadata": {
        "id": "Wp40os6brMbT",
        "outputId": "7e286342-a027-48b0-d62e-78e232d0a04a"
      },
      "outputs": [
        {
          "data": {
            "text/plain": [
              "array([[0, 3, 6],\n",
              "       [1, 4, 7],\n",
              "       [2, 5, 8]])"
            ]
          },
          "execution_count": 242,
          "metadata": {},
          "output_type": "execute_result"
        }
      ],
      "source": [
        "np.transpose(data)"
      ]
    },
    {
      "cell_type": "markdown",
      "metadata": {
        "id": "SU4qZZZDrMbU"
      },
      "source": [
        "The transpose function `np.transpose` also exists as a method in `ndarray` and as\n",
        "the special method name `ndarray.T`. For an arbitrary N-dimensional array, the\n",
        "transpose operation reverses all the axes, as can be seen from the following\n",
        "example (note that the shape attribute is used here to display the number of\n",
        "values along each axis of the array) :"
      ]
    },
    {
      "cell_type": "code",
      "execution_count": null,
      "metadata": {
        "id": "FfGtYEHLrMbU"
      },
      "outputs": [],
      "source": [
        "data = np.random.randn(1, 2, 3, 4, 5)"
      ]
    },
    {
      "cell_type": "code",
      "execution_count": null,
      "metadata": {
        "id": "l7ilab34rMbU",
        "outputId": "cae09619-5db7-4fa6-cbdf-cd4a1cea0830"
      },
      "outputs": [
        {
          "data": {
            "text/plain": [
              "(1, 2, 3, 4, 5)"
            ]
          },
          "execution_count": 244,
          "metadata": {},
          "output_type": "execute_result"
        }
      ],
      "source": [
        "data.shape"
      ]
    },
    {
      "cell_type": "code",
      "execution_count": null,
      "metadata": {
        "id": "tTJLo2CXrMbU",
        "outputId": "f3cb31a6-6509-469b-a34f-330825980cf3"
      },
      "outputs": [
        {
          "data": {
            "text/plain": [
              "(5, 4, 3, 2, 1)"
            ]
          },
          "execution_count": 245,
          "metadata": {},
          "output_type": "execute_result"
        }
      ],
      "source": [
        "data.T.shape"
      ]
    },
    {
      "cell_type": "markdown",
      "metadata": {
        "id": "XULQZwhwrMbU"
      },
      "source": [
        "The `np.fliplr` (flip left-right) and `np.flipud` (flip up-down) functions perform\n",
        "operations that are similar to the transpose: they reshuffle the elements of an array so\n",
        "that the elements in rows (`np.fliplr`) or columns (`np.flipud`) are reversed, and the\n",
        "shape of the output array is the same as the input. The `np.rot90` function rotates the\n",
        "elements in the first two axes in an array by 90 degrees, and like the transpose function,\n",
        "it can change the shape of the array. Table 2-12 gives a summary of NumPy functions for\n",
        "common array operations.\n",
        "\n",
        "_**Table 2-12**. Summary of NumPy Functions for Array Operations_\n",
        "\n",
        "Function | Description\n",
        "---|---\n",
        "`np.transpose,np.ndarray.transpose, np.ndarray.T`| The transpose (reverse axes) of an array.\n",
        "`np.fliplr/np.flipud`| Reverse the elements in each row/column.\n",
        "`np.rot90`| Rotates the elements along the first two axes by 90 degrees.\n",
        "`np.sort, np.ndarray.sort`| sort the elements of an array along a given specified axis (which default to the last axis of the array). The np.ndarray method sort performs the sorting in place, modifying the input array."
      ]
    },
    {
      "cell_type": "markdown",
      "metadata": {
        "id": "3xgamsjGrMbU"
      },
      "source": [
        "## Matrix and vector operations\n",
        "\n",
        "We have so far discussed general N-dimensional arrays. One of the main\n",
        "applications of such arrays is to represent the mathematical concepts of\n",
        "vectors, matrices, and tensors, and in this use-case, we also frequently need to\n",
        "calculate vector and matrix operations such as scalar (inner) products, dot\n",
        "(matrix) products, and tensor (outer) products. A summary of NumPy’s functions\n",
        "for matrix operations is given in Table 2-13.\n",
        "\n",
        "_**Table 2-13**. Summary of NumPy Functions for Matrix Operations_\n",
        "NumPy Function | Description\n",
        "---|---\n",
        "`np.dot` | Matrix multiplication (dot product) between two given arrays representing vectors, arrays, or tensors.\n",
        "`np.inner`| scalar multiplication (inner product) between two arrays representing vectors.\n",
        "`np.cross`| The cross product between two arrays that represent vectors.\n",
        "`np.tensordot`| dot product along specified axes of multidimensional arrays.\n",
        "`np.outer`| outer product (tensor product of vectors) between two arrays representing vectors.\n",
        "`np.kron`| Kronecker product (tensor product of matrices) between arrays representing matrices and higher-dimensional arrays.\n",
        "`np.einsum`| evaluates einstein’s summation convention for multidimensional arrays.\n",
        "\n",
        "In NumPy, the * operator is used for elementwise multiplication. For two\n",
        "two-dimensional arrays A and B, the expression A * B therefore does not compute\n",
        "a matrix product (in contrast to many other computing environments). Currently\n",
        "there is no operator for denoting matrix multiplication,`(4)` and instead the\n",
        "NumPy function `np.dot` is used for this purpose. There is also a corresponding\n",
        "method in the ndarray class. To compute the product of two matrices A and B, of\n",
        "size N × M and M × P, which results in a matrix of size N × P, we can use:\n",
        "\n",
        "`(4)` Python recently adopted the @ symbol for denoting matrix multiplication,\n",
        "and as of Python 3.5, this operator is now available. However, at the time of\n",
        "writing, this operator is still not widely used. See\n",
        "http://legacy.python.org/dev/peps/pep-0465 for details."
      ]
    },
    {
      "cell_type": "code",
      "execution_count": null,
      "metadata": {
        "id": "3jtibkLSrMbU"
      },
      "outputs": [],
      "source": [
        "A = np.arange(1, 7).reshape(2, 3)"
      ]
    },
    {
      "cell_type": "code",
      "execution_count": null,
      "metadata": {
        "id": "itNjOX9WrMbU",
        "outputId": "7ab8a257-cdd4-4d78-8a82-5dbefab3265c"
      },
      "outputs": [
        {
          "data": {
            "text/plain": [
              "array([[1, 2, 3],\n",
              "       [4, 5, 6]])"
            ]
          },
          "execution_count": 247,
          "metadata": {},
          "output_type": "execute_result"
        }
      ],
      "source": [
        "A"
      ]
    },
    {
      "cell_type": "code",
      "execution_count": null,
      "metadata": {
        "id": "EicTzsvZrMbU"
      },
      "outputs": [],
      "source": [
        "B = np.arange(1, 7).reshape(3, 2)"
      ]
    },
    {
      "cell_type": "code",
      "execution_count": null,
      "metadata": {
        "id": "bcj8hJxsrMbU",
        "outputId": "8817fa00-7feb-4b1f-f0fb-906894fc7818"
      },
      "outputs": [
        {
          "data": {
            "text/plain": [
              "array([[1, 2],\n",
              "       [3, 4],\n",
              "       [5, 6]])"
            ]
          },
          "execution_count": 249,
          "metadata": {},
          "output_type": "execute_result"
        }
      ],
      "source": [
        "B"
      ]
    },
    {
      "cell_type": "code",
      "execution_count": null,
      "metadata": {
        "id": "Pv-VBbJlrMbU",
        "outputId": "ae198583-d277-470d-df13-b3aaff298b54"
      },
      "outputs": [
        {
          "data": {
            "text/plain": [
              "array([[22, 28],\n",
              "       [49, 64]])"
            ]
          },
          "execution_count": 250,
          "metadata": {},
          "output_type": "execute_result"
        }
      ],
      "source": [
        "np.dot(A, B)"
      ]
    },
    {
      "cell_type": "code",
      "execution_count": null,
      "metadata": {
        "id": "2wAaz-UYrMbV",
        "outputId": "be5bd326-190d-4166-a635-4b23dd3d10cd"
      },
      "outputs": [
        {
          "data": {
            "text/plain": [
              "array([[ 9, 12, 15],\n",
              "       [19, 26, 33],\n",
              "       [29, 40, 51]])"
            ]
          },
          "execution_count": 251,
          "metadata": {},
          "output_type": "execute_result"
        }
      ],
      "source": [
        "np.dot(B, A)"
      ]
    },
    {
      "cell_type": "markdown",
      "metadata": {
        "id": "nNFNb_8RrMbV"
      },
      "source": [
        "The `np.dot` function can also be used for matrix-vector multiplication (i.e.,\n",
        "multiplication of a two-dimensional array, which represents a matrix, with a\n",
        "one-dimensional array representing a vector). For example,"
      ]
    },
    {
      "cell_type": "code",
      "execution_count": null,
      "metadata": {
        "id": "OemrFplHrMbV"
      },
      "outputs": [],
      "source": [
        "A = np.arange(9).reshape(3, 3)"
      ]
    },
    {
      "cell_type": "code",
      "execution_count": null,
      "metadata": {
        "id": "zZuGGkyqrMbV",
        "outputId": "979182b4-f0e4-48e4-8056-d85c1760fa67"
      },
      "outputs": [
        {
          "data": {
            "text/plain": [
              "array([[0, 1, 2],\n",
              "       [3, 4, 5],\n",
              "       [6, 7, 8]])"
            ]
          },
          "execution_count": 293,
          "metadata": {},
          "output_type": "execute_result"
        }
      ],
      "source": [
        "A"
      ]
    },
    {
      "cell_type": "code",
      "execution_count": null,
      "metadata": {
        "id": "8tyJiR3UrMbV"
      },
      "outputs": [],
      "source": [
        "x = np.arange(3)"
      ]
    },
    {
      "cell_type": "code",
      "execution_count": null,
      "metadata": {
        "id": "ZkBWmWBbrMbV",
        "outputId": "9fb31280-a235-40c2-a42c-cc7b8834ecfe"
      },
      "outputs": [
        {
          "data": {
            "text/plain": [
              "array([0, 1, 2])"
            ]
          },
          "execution_count": 295,
          "metadata": {},
          "output_type": "execute_result"
        }
      ],
      "source": [
        "x"
      ]
    },
    {
      "cell_type": "code",
      "execution_count": null,
      "metadata": {
        "id": "Vz8cNYwjrMbV",
        "outputId": "6448de80-421c-4fc7-8295-4715caa5be7a"
      },
      "outputs": [
        {
          "data": {
            "text/plain": [
              "array([ 5, 14, 23])"
            ]
          },
          "execution_count": 296,
          "metadata": {},
          "output_type": "execute_result"
        }
      ],
      "source": [
        "np.dot(A, x)"
      ]
    },
    {
      "cell_type": "markdown",
      "metadata": {
        "id": "rUIXXGQmrMbV"
      },
      "source": [
        "In this example, x can be either a two-dimensional array of shape (1, 3) or a\n",
        "one-dimensional array with shape (3,). In addition to the function np.dot,\n",
        "there is also a corresponding method dot in ndarray, which can be used as in the\n",
        "following example:"
      ]
    },
    {
      "cell_type": "code",
      "execution_count": null,
      "metadata": {
        "id": "uiIgl3uvrMbV",
        "outputId": "8e005d21-5926-49c6-a2cc-1bcc86d3c876"
      },
      "outputs": [
        {
          "data": {
            "text/plain": [
              "array([ 5, 14, 23])"
            ]
          },
          "execution_count": 297,
          "metadata": {},
          "output_type": "execute_result"
        }
      ],
      "source": [
        "A.dot(x) # (3,3) dot (3,) A-rows * x.col (x is a vertical vector)"
      ]
    },
    {
      "cell_type": "code",
      "execution_count": null,
      "metadata": {
        "id": "w4oQ4Ak_rMbV",
        "outputId": "ba97c7bf-fe98-4fc5-9b64-72f6038b639e"
      },
      "outputs": [
        {
          "data": {
            "text/plain": [
              "array([15, 18, 21])"
            ]
          },
          "execution_count": 298,
          "metadata": {},
          "output_type": "execute_result"
        }
      ],
      "source": [
        "x.dot(A) # (3,) dot (3,3) x-row * A.col (x is a horizontal vector)"
      ]
    },
    {
      "cell_type": "code",
      "execution_count": null,
      "metadata": {
        "id": "uGkHbMpOrMbV",
        "outputId": "2283dfa1-1008-4604-f75c-c4ed74c34710"
      },
      "outputs": [
        {
          "data": {
            "text/plain": [
              "array([ 5, 14, 23])"
            ]
          },
          "execution_count": 300,
          "metadata": {},
          "output_type": "execute_result"
        }
      ],
      "source": [
        "x.reshape(3,1) #column array\n",
        "A.dot(x)"
      ]
    },
    {
      "cell_type": "code",
      "execution_count": null,
      "metadata": {
        "id": "Jc9u0dPyrMbW",
        "outputId": "68614c16-3529-4660-995b-eff89fcd1364"
      },
      "outputs": [
        {
          "data": {
            "text/plain": [
              "array([15, 18, 21])"
            ]
          },
          "execution_count": 301,
          "metadata": {},
          "output_type": "execute_result"
        }
      ],
      "source": [
        "x.reshape(1,3) #row array\n",
        "x.dot(A)"
      ]
    },
    {
      "cell_type": "markdown",
      "metadata": {
        "id": "EoMGFWFArMbW"
      },
      "source": [
        "Unfortunately, nontrivial matrix multiplication expressions can often become\n",
        "complex and hard to read when using either `np.dot` or `np.ndarray.dot`. For\n",
        "example, even a relatively simple matrix expression like the one for a\n",
        "similarity transform, A′ = BAB−1, must be represented with relatively cryptic\n",
        "nested expressions, `5` such as either\n",
        "\n",
        "`5` With the new infix matrix multiplication operator, this same expression can be expressed as the\n",
        "considerably more readable: `Ap = B @ A @ np.linalg.inv(B)`."
      ]
    },
    {
      "cell_type": "code",
      "execution_count": null,
      "metadata": {
        "id": "QeyVpnD0rMbW"
      },
      "outputs": [],
      "source": [
        "A = np.random.rand(3,3)\n",
        "B = np.random.rand(3,3)"
      ]
    },
    {
      "cell_type": "code",
      "execution_count": null,
      "metadata": {
        "id": "18TfPkEwrMbW"
      },
      "outputs": [],
      "source": [
        "Ap = np.dot(B, np.dot(A, np.linalg.inv(B)))"
      ]
    },
    {
      "cell_type": "markdown",
      "metadata": {
        "id": "QgerFntorMbW"
      },
      "source": [
        "or"
      ]
    },
    {
      "cell_type": "code",
      "execution_count": null,
      "metadata": {
        "id": "upzdjDPnrMbW"
      },
      "outputs": [],
      "source": [
        "Ap = B.dot(A.dot(np.linalg.inv(B)))"
      ]
    },
    {
      "cell_type": "markdown",
      "metadata": {
        "id": "5yzuSIDzrMbW"
      },
      "source": [
        "To improve this situation, NumPy provides an alternative data structure to\n",
        "`ndarray` named `matrix`, for which expressions like A * B are implemented as\n",
        "matrix multiplication. It also provides some convenient special attributes, like\n",
        "`matrix.I` for the inverse matrix and `matrix.H` for the complex conjugate\n",
        "transpose of a matrix. Using instances of this `matrix` class, one can therefore\n",
        "use the vastly more readable expression:"
      ]
    },
    {
      "cell_type": "code",
      "execution_count": null,
      "metadata": {
        "id": "tT6HG9jOrMbW"
      },
      "outputs": [],
      "source": [
        "A = np.matrix(A)"
      ]
    },
    {
      "cell_type": "code",
      "execution_count": null,
      "metadata": {
        "id": "1HRorXu8rMbW"
      },
      "outputs": [],
      "source": [
        "B = np.matrix(B)"
      ]
    },
    {
      "cell_type": "code",
      "execution_count": null,
      "metadata": {
        "id": "2GcfBc0IrMbW"
      },
      "outputs": [],
      "source": [
        "Ap = B * A * B.I"
      ]
    },
    {
      "cell_type": "markdown",
      "metadata": {
        "id": "6_FryXPErMbW"
      },
      "source": [
        "This may seem like a practical compromise, but unfortunately using the `matrix`\n",
        "class does have a few disadvantages, and its use is therefore often discouraged.\n",
        "The main objection against using `matrix` is that expression like A * B is then\n",
        "context dependent: that is, it is not immediately clear if A * B denotes\n",
        "elementwise or matrix multiplication, because it depends on the type of A and B,\n",
        "and this creates another code-readability problem. This can be a particularly\n",
        "relevant issue if A and B are user-supplied arguments to a function, in which\n",
        "case it would be necessary to cast all input arrays explicitly to matrix\n",
        "instances, using, for example, `np.asmatrix` or the function `np.matrix` (since\n",
        "there would be no guarantee that the user calls the function with arguments of\n",
        "type matrix rather than ndarray). The `np.asmatrix` function creates a view of\n",
        "the original array in the form of an `np.matrix` instance. This does not add\n",
        "much in computational costs, but explicitly casting arrays back and forth\n",
        "between `ndarray` and `matrix` offset much of the benefits of the improved\n",
        "readability of matrix expressions. A related issue is that some functions that\n",
        "operate on arrays and matrices might not respect the type of the input and may\n",
        "return an ndarray even though it was called with an input argument of type\n",
        "matrix. This way, a matrix of type matrix might be unintentionally converted to\n",
        "ndarray, which in turn would change the behavior of expressions like  A * B.\n",
        "This type of behavior is not likely to occur when using NumPy’s array and matrix\n",
        "functions, but it is not unlikely to happen when using functions from other\n",
        "packages.  However, in spite of all the arguments for not using matrix matrices\n",
        "too extensively, personally I think that using matrix class instances for\n",
        "complicated matrix expressions is an important use-case, and in these cases, it\n",
        "might be a good idea to explicitly cast arrays to matrices before the\n",
        "computation and explicitly cast the result back to the ndarray type, following\n",
        "the pattern:"
      ]
    },
    {
      "cell_type": "code",
      "execution_count": null,
      "metadata": {
        "id": "EW00I_RIrMbW"
      },
      "outputs": [],
      "source": [
        "A = np.asmatrix(A)"
      ]
    },
    {
      "cell_type": "code",
      "execution_count": null,
      "metadata": {
        "id": "j9J20isArMbX"
      },
      "outputs": [],
      "source": [
        "B = np.asmatrix(B)"
      ]
    },
    {
      "cell_type": "code",
      "execution_count": null,
      "metadata": {
        "id": "NGGtbOJ-rMbX"
      },
      "outputs": [],
      "source": [
        "Ap = B * A * B.I"
      ]
    },
    {
      "cell_type": "code",
      "execution_count": null,
      "metadata": {
        "id": "zudKoZtQrMbX"
      },
      "outputs": [],
      "source": [
        "Ap = np.asarray(Ap)"
      ]
    },
    {
      "cell_type": "markdown",
      "metadata": {
        "id": "xGPuHAv8rMbX"
      },
      "source": [
        "The inner product (scalar product) between two arrays representing vectors can be\n",
        "computed using the `np.inner` function:"
      ]
    },
    {
      "cell_type": "code",
      "execution_count": null,
      "metadata": {
        "id": "4bfMhMSwrMbX",
        "outputId": "a7196e56-d688-46ee-b2b2-d4b90bfb383a"
      },
      "outputs": [
        {
          "data": {
            "text/plain": [
              "5"
            ]
          },
          "execution_count": 269,
          "metadata": {},
          "output_type": "execute_result"
        }
      ],
      "source": [
        "np.inner(x, x)"
      ]
    },
    {
      "cell_type": "markdown",
      "metadata": {
        "id": "e7Ylw1vbrMbX"
      },
      "source": [
        "or, equivalently, using `np.dot`:"
      ]
    },
    {
      "cell_type": "code",
      "execution_count": null,
      "metadata": {
        "id": "6uRQCabFrMbX",
        "outputId": "6e93fd46-fac2-4550-8cda-7dd7d63dffd4"
      },
      "outputs": [
        {
          "data": {
            "text/plain": [
              "5"
            ]
          },
          "execution_count": 270,
          "metadata": {},
          "output_type": "execute_result"
        }
      ],
      "source": [
        "np.dot(x, x)"
      ]
    },
    {
      "cell_type": "markdown",
      "metadata": {
        "id": "-exLzP28rMbX"
      },
      "source": [
        "The main difference is that np.inner expects two input arguments with the same\n",
        "dimension, while `np.dot` can take input vectors of shape 1 × N and N × 1,\n",
        "respectively:"
      ]
    },
    {
      "cell_type": "code",
      "execution_count": null,
      "metadata": {
        "id": "VWXPiNGtrMbX"
      },
      "outputs": [],
      "source": [
        "y = x[:, np.newaxis]"
      ]
    },
    {
      "cell_type": "code",
      "execution_count": null,
      "metadata": {
        "id": "bC1-L3YprMbX",
        "outputId": "017f96de-27db-4dfd-b9ce-c21a9a7053d9"
      },
      "outputs": [
        {
          "data": {
            "text/plain": [
              "array([[0],\n",
              "       [1],\n",
              "       [2]])"
            ]
          },
          "execution_count": 272,
          "metadata": {},
          "output_type": "execute_result"
        }
      ],
      "source": [
        "y"
      ]
    },
    {
      "cell_type": "code",
      "execution_count": null,
      "metadata": {
        "id": "LpqQQ9QqrMbX",
        "outputId": "57db817f-a986-4cfb-dad5-831a2d0a2532"
      },
      "outputs": [
        {
          "data": {
            "text/plain": [
              "array([[5]])"
            ]
          },
          "execution_count": 273,
          "metadata": {},
          "output_type": "execute_result"
        }
      ],
      "source": [
        "np.dot(y.T, y)"
      ]
    },
    {
      "cell_type": "markdown",
      "metadata": {
        "id": "C5eIQ5HrrMbY"
      },
      "source": [
        "While the inner product maps two vectors to a scalar, the outer product performs\n",
        "the complementary operation of mapping two vectors to a matrix."
      ]
    },
    {
      "cell_type": "code",
      "execution_count": null,
      "metadata": {
        "id": "xsn_I0qarMbY"
      },
      "outputs": [],
      "source": [
        "x = np.array([1, 2, 3])"
      ]
    },
    {
      "cell_type": "code",
      "execution_count": null,
      "metadata": {
        "id": "mpAPsE-WrMbY",
        "outputId": "3900a5fa-a069-43a4-adca-c6a308ae6e6a"
      },
      "outputs": [
        {
          "data": {
            "text/plain": [
              "array([[1, 2, 3],\n",
              "       [2, 4, 6],\n",
              "       [3, 6, 9]])"
            ]
          },
          "execution_count": 275,
          "metadata": {},
          "output_type": "execute_result"
        }
      ],
      "source": [
        "np.outer(x, x)"
      ]
    },
    {
      "cell_type": "markdown",
      "metadata": {
        "id": "a-4wvUEWrMbY"
      },
      "source": [
        "The outer product can also be calculated using the Kronecker product using the\n",
        "function `np.kron`, which, however, in contrast to np.outer, produces an output\n",
        "array of shape (M*P, N*Q) if the input arrays have shapes (M, N) and (P, Q),\n",
        "respectively. Thus, for the case of two one-dimensional arrays of length M and\n",
        "P, the resulting array has shape (M*P,) :"
      ]
    },
    {
      "cell_type": "code",
      "execution_count": null,
      "metadata": {
        "id": "8w-bovQDrMbY",
        "outputId": "440b67bb-1a58-4ddf-d806-df75d8a4f8b9"
      },
      "outputs": [
        {
          "data": {
            "text/plain": [
              "array([1, 2, 3, 2, 4, 6, 3, 6, 9])"
            ]
          },
          "execution_count": 276,
          "metadata": {},
          "output_type": "execute_result"
        }
      ],
      "source": [
        "np.kron(x, x)"
      ]
    },
    {
      "cell_type": "markdown",
      "metadata": {
        "id": "mk-PPO86rMbY"
      },
      "source": [
        "To obtain the result that corresponds to `np.outer(x, x)`, the input array x must\n",
        "be expanded to shape (N, 1) and (1, N), in the first and second argument to\n",
        "np.kron, respectively:"
      ]
    },
    {
      "cell_type": "code",
      "execution_count": null,
      "metadata": {
        "id": "Fv4hQjl9rMbY",
        "outputId": "77cdaf6e-7202-4bde-a96c-23f016040047"
      },
      "outputs": [
        {
          "data": {
            "text/plain": [
              "array([[1, 2, 3],\n",
              "       [2, 4, 6],\n",
              "       [3, 6, 9]])"
            ]
          },
          "execution_count": 277,
          "metadata": {},
          "output_type": "execute_result"
        }
      ],
      "source": [
        "np.kron(x[:, np.newaxis], x[np.newaxis, :])"
      ]
    },
    {
      "cell_type": "markdown",
      "metadata": {
        "id": "m_LiyraNrMbY"
      },
      "source": [
        "In general, while the `np.outer` function is primarily intended for vectors as\n",
        "input, the `np.kron` function can be used for computing tensor products of arrays\n",
        "of arbitrary dimension (but both inputs must have the same number of axes). For\n",
        "example, to compute the tensor product of two 2 × 2 matrices, we can use:"
      ]
    },
    {
      "cell_type": "code",
      "execution_count": null,
      "metadata": {
        "id": "sO6vVPHDrMbY",
        "outputId": "fb42b61a-afa0-4e86-ee68-9e8bf5032d22"
      },
      "outputs": [
        {
          "data": {
            "text/plain": [
              "array([[1., 0., 1., 0.],\n",
              "       [0., 1., 0., 1.],\n",
              "       [1., 0., 1., 0.],\n",
              "       [0., 1., 0., 1.]])"
            ]
          },
          "execution_count": 278,
          "metadata": {},
          "output_type": "execute_result"
        }
      ],
      "source": [
        "np.kron(np.ones((2,2)), np.identity(2))"
      ]
    },
    {
      "cell_type": "code",
      "execution_count": null,
      "metadata": {
        "id": "Lz5K_9dUrMbY",
        "outputId": "cc676127-dedc-4e1e-b94d-32c8eb109f8e"
      },
      "outputs": [
        {
          "data": {
            "text/plain": [
              "array([[1., 1., 0., 0.],\n",
              "       [1., 1., 0., 0.],\n",
              "       [0., 0., 1., 1.],\n",
              "       [0., 0., 1., 1.]])"
            ]
          },
          "execution_count": 279,
          "metadata": {},
          "output_type": "execute_result"
        }
      ],
      "source": [
        "np.kron(np.identity(2), np.ones((2,2)))"
      ]
    },
    {
      "cell_type": "markdown",
      "metadata": {
        "id": "9AwxHPg2rMbY"
      },
      "source": [
        "When working with multidimensional arrays, it is often possible to express\n",
        "common array operations concisely using Einstein’s summation convention, in\n",
        "which an implicit summation is assumed over each index that occurs multiple\n",
        "times in an expression. For example, the scalar product between two vectors x\n",
        "and y is compactly expressed as $x_ny_n$, and the matrix multiplication of two\n",
        "matrices A and B is expressed as $A_{mk}B_{kn}$. NumPy provides the function\n",
        "np.einsum for carrying out Einstein summations. Its first argument is an index\n",
        "expression, followed by an arbitrary number of arrays that are included in the\n",
        "expression.  The index expression is a string with comma-separated indices,\n",
        "where each comma separates the indices of each array. Each array can have any\n",
        "number of indices.  For example, the scalar product expression xnyn can be\n",
        "evaluated with `np.einsum` using the index expression \"n,n\", that is using\n",
        "`np.einsum(\"n,n\", x, y)`:"
      ]
    },
    {
      "cell_type": "code",
      "execution_count": null,
      "metadata": {
        "id": "ZYetOA4yrMbY"
      },
      "outputs": [],
      "source": [
        "x = np.array([1, 2, 3, 4])"
      ]
    },
    {
      "cell_type": "code",
      "execution_count": null,
      "metadata": {
        "id": "AvQ0GUlQrMbZ"
      },
      "outputs": [],
      "source": [
        "y = np.array([5, 6, 7, 8])"
      ]
    },
    {
      "cell_type": "code",
      "execution_count": null,
      "metadata": {
        "id": "cxP_MFJsrMbZ",
        "outputId": "729eba9b-c26d-4dad-ddd2-a0ba8c8f1df8"
      },
      "outputs": [
        {
          "data": {
            "text/plain": [
              "70"
            ]
          },
          "execution_count": 282,
          "metadata": {},
          "output_type": "execute_result"
        }
      ],
      "source": [
        "np.einsum(\"n,n\", x, y)"
      ]
    },
    {
      "cell_type": "code",
      "execution_count": null,
      "metadata": {
        "id": "9Mojv-8NrMbZ",
        "outputId": "bf57e6fc-2416-4951-f8e9-1d0c56d1a514"
      },
      "outputs": [
        {
          "data": {
            "text/plain": [
              "70"
            ]
          },
          "execution_count": 283,
          "metadata": {},
          "output_type": "execute_result"
        }
      ],
      "source": [
        "np.inner(x, y)"
      ]
    },
    {
      "cell_type": "markdown",
      "metadata": {
        "id": "18lGaRqnrMbZ"
      },
      "source": [
        "Similarly, the matrix multiplication $A_{mk}B_{kn}$ can be evaluated using `np.einsum` and\n",
        "the index expression \"mk,kn\":"
      ]
    },
    {
      "cell_type": "code",
      "execution_count": null,
      "metadata": {
        "id": "PFfsVW0GrMbZ"
      },
      "outputs": [],
      "source": [
        "A = np.arange(9).reshape(3, 3)"
      ]
    },
    {
      "cell_type": "code",
      "execution_count": null,
      "metadata": {
        "id": "vS5HXNLnrMbZ"
      },
      "outputs": [],
      "source": [
        "B = A.T"
      ]
    },
    {
      "cell_type": "code",
      "execution_count": null,
      "metadata": {
        "id": "tL-3qutIrMbZ",
        "outputId": "fac83d20-2901-492a-a8d0-d1d9401c88ae"
      },
      "outputs": [
        {
          "data": {
            "text/plain": [
              "array([[  5,  14,  23],\n",
              "       [ 14,  50,  86],\n",
              "       [ 23,  86, 149]])"
            ]
          },
          "execution_count": 286,
          "metadata": {},
          "output_type": "execute_result"
        }
      ],
      "source": [
        "np.einsum(\"mk,kn\", A, B)"
      ]
    },
    {
      "cell_type": "code",
      "execution_count": null,
      "metadata": {
        "id": "o8TzhrM_rMbZ",
        "outputId": "8945b174-893d-4617-aa3f-e378a0db460c"
      },
      "outputs": [
        {
          "data": {
            "text/plain": [
              "True"
            ]
          },
          "execution_count": 287,
          "metadata": {},
          "output_type": "execute_result"
        }
      ],
      "source": [
        "np.alltrue(np.einsum(\"mk,kn\", A, B) == np.dot(A, B))"
      ]
    },
    {
      "cell_type": "markdown",
      "metadata": {
        "id": "wBe6p1dYrMbZ"
      },
      "source": [
        "The Einstein summation convention can be particularly convenient when dealing\n",
        "with multidimensional arrays, since the index expression that defines the\n",
        "operation makes it explicit which operation is carried out and along which axes\n",
        "it is performed.  An equivalent computation using, for example, `np.tensordot`\n",
        "might require giving the axes along which the dot product is to be evaluated.\n",
        "\n",
        "## Summary\n",
        "\n",
        "In this chapter we have given a brief introduction to array-based programming with\n",
        "the NumPy library that can serve as a reference for the following chapters in this book.\n",
        "NumPy is a core library for computing with Python that provides a foundation for\n",
        "nearly all computational libraries for Python. Familiarity with the NumPy library and\n",
        "its usage patterns is a fundamental skill for using Python for scientific and technical\n",
        "computing. Here we started with introducing NumPy’s data structure for N-dimensional\n",
        "arrays – the `ndarray` object – and we continued by discussing functions for creating\n",
        "and manipulating arrays, including indexing and slicing for extracting elements from\n",
        "arrays. We also discussed functions and operators for performing computations with\n",
        "`ndarray` objects, with an emphasis on vectorized expressions and operators for efficient\n",
        "computation with arrays. Throughout the rest of this book, we will see examples\n",
        "of higher-level libraries for specific fields in scientific computing that use the array\n",
        "framework provided by NumPy.\n",
        "\n",
        "## Further Reading\n",
        "\n",
        "The NumPy library is the topic of several books, including the _Guide to NumPy_,\n",
        "by the creator of the NumPy T. Oliphant, available for free online at\n",
        "http://web.mit.edu/dvp/Public/numpybook.pdf, and a series of books by Ivan\n",
        "Idris: _Numpy Beginner’s Guide_ (2015), _NumPy Cookbook_ (2012), and _Learning NumPy\n",
        "Array_ (2014). NumPy is also covered in fair detail in McKinney (2013).\n",
        "\n",
        "## References\n",
        "\n",
        "Idris, I. [_Learning NumPy Array_](https://libgen.rocks/ads.php?md5=d2814a7fc86c846a847e081d65237e47). Mumbai: Packt, 2014.\n",
        "\n",
        "—. [_Numpy Beginner’s Guide. 3rd_](https://libgen.rocks/ads.php?md5=9b47d755b4977c212b78c245b6f77aaf). Mumbai: Packt, 2015.\n",
        "\n",
        "—. [_NumPy Cookbook_](https://libgen.rocks/ads.php?md5=2d66a23838614f9ea6ff9fc35bb99e83). Mumbai: Packt, 2012.\n",
        "\n",
        "McKinney, Wes. [_Python for Data Analysis_](https://libgen.rocks/ads.php?md5=0bdd395624039da5521032cbe93730fe). Sebastopol: O’Reilly, 2013."
      ]
    },
    {
      "cell_type": "markdown",
      "metadata": {
        "id": "po-PeR8srMbZ"
      },
      "source": [
        "# Versions"
      ]
    },
    {
      "cell_type": "code",
      "execution_count": null,
      "metadata": {
        "id": "UqW4H-J3rMba",
        "outputId": "c31a5f6e-2fb9-485b-e986-fc21573fa447"
      },
      "outputs": [
        {
          "data": {
            "application/json": {
              "Software versions": [
                {
                  "module": "Python",
                  "version": "3.10.4 64bit [GCC 11.2.0]"
                },
                {
                  "module": "IPython",
                  "version": "8.5.0"
                },
                {
                  "module": "OS",
                  "version": "Linux 5.15.0 47 generic x86_64 with glibc2.35"
                },
                {
                  "module": "numpy",
                  "version": "1.23.2"
                }
              ]
            },
            "text/html": [
              "<table><tr><th>Software</th><th>Version</th></tr><tr><td>Python</td><td>3.10.4 64bit [GCC 11.2.0]</td></tr><tr><td>IPython</td><td>8.5.0</td></tr><tr><td>OS</td><td>Linux 5.15.0 47 generic x86\\_64 with glibc2.35</td></tr><tr><td>numpy</td><td>1.23.2</td></tr><tr><td colspan='2'>Tue Oct 04 09:20:03 2022 CEST</td></tr></table>"
            ],
            "text/latex": [
              "\\begin{tabular}{|l|l|}\\hline\n",
              "{\\bf Software} & {\\bf Version} \\\\ \\hline\\hline\n",
              "Python & 3.10.4 64bit [GCC 11.2.0] \\\\ \\hline\n",
              "IPython & 8.5.0 \\\\ \\hline\n",
              "OS & Linux 5.15.0 47 generic x86\\_64 with glibc2.35 \\\\ \\hline\n",
              "numpy & 1.23.2 \\\\ \\hline\n",
              "\\hline \\multicolumn{2}{|l|}{Tue Oct 04 09:20:03 2022 CEST} \\\\ \\hline\n",
              "\\end{tabular}\n"
            ],
            "text/plain": [
              "Software versions\n",
              "Python 3.10.4 64bit [GCC 11.2.0]\n",
              "IPython 8.5.0\n",
              "OS Linux 5.15.0 47 generic x86_64 with glibc2.35\n",
              "numpy 1.23.2\n",
              "Tue Oct 04 09:20:03 2022 CEST"
            ]
          },
          "execution_count": 288,
          "metadata": {},
          "output_type": "execute_result"
        }
      ],
      "source": [
        "%reload_ext version_information\n",
        "%version_information numpy"
      ]
    }
  ],
  "metadata": {
    "colab": {
      "include_colab_link": true,
      "provenance": []
    },
    "kernelspec": {
      "display_name": "Python 3",
      "language": "python",
      "name": "python3"
    },
    "language_info": {
      "codemirror_mode": {
        "name": "ipython",
        "version": 3
      },
      "file_extension": ".py",
      "mimetype": "text/x-python",
      "name": "python",
      "nbconvert_exporter": "python",
      "pygments_lexer": "ipython3",
      "version": "3.12.1"
    }
  },
  "nbformat": 4,
  "nbformat_minor": 0
}
